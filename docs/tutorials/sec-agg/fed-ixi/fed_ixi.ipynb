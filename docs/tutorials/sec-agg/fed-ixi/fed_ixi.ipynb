{
 "cells": [
  {
   "cell_type": "markdown",
   "id": "cfe6588e",
   "metadata": {},
   "source": [
    "## Install dependencies\n",
    "\n",
    "If you haven't done so already, install the additional dependencies required by the flamby datasets/features that you intend on using. \n",
    "\n",
    "You may check out which dependencies are needed by each dataset directly from Flamby's `setup.py` [file](https://github.com/owkin/FLamby/blob/main/setup.py#L42). In our case we'll be using the federated IXI and federated heart disease datasets, hence we'll need wget, monai and nibabel. "
   ]
  },
  {
   "cell_type": "markdown",
   "id": "44236f15",
   "metadata": {},
   "source": [
    "You need to download the FLamby dataset that we will use. For licensing reasons, these are not included directly in the FLamby installation.\n",
    "\n",
    "To download the fed_heart dataset in `${FEDBIOMED_DIR}/data` (where `${FEDBIOMED_DIR}` is the base directory of Fed-BioMed): \n",
    "\n",
    "1. `source ${FEDBIOMED_DIR}/scripts/fedbiomed_environment node`<br>\n",
    "2. `pip install wget`<br>\n",
    "3. `python ${FEDBIOMED_DIR}docs/tutorials/sec-agg/fed-ixi/download_fead_ixi.py --output-folder ${FEDBIOMED_DIR}/data`"
   ]
  },
  {
   "cell_type": "code",
   "execution_count": 1,
   "id": "9c5ad6a8",
   "metadata": {},
   "outputs": [
    {
     "name": "stdout",
     "output_type": "stream",
     "text": [
      "Requirement already satisfied: wget in /workspaces/miniconda3/envs/fedbiomed-researcher/lib/python3.10/site-packages (3.2)\r\n",
      "Requirement already satisfied: nibabel in /workspaces/miniconda3/envs/fedbiomed-researcher/lib/python3.10/site-packages (5.2.1)\r\n",
      "Requirement already satisfied: numpy>=1.20 in /workspaces/miniconda3/envs/fedbiomed-researcher/lib/python3.10/site-packages (from nibabel) (1.26.4)\r\n",
      "Requirement already satisfied: packaging>=17 in /workspaces/miniconda3/envs/fedbiomed-researcher/lib/python3.10/site-packages (from nibabel) (23.2)\r\n"
     ]
    }
   ],
   "source": [
    "! pip install wget nibabel  # monai comes already packaged within fed-biomed"
   ]
  },
  {
   "cell_type": "code",
   "execution_count": 2,
   "id": "66f6a456",
   "metadata": {
    "pycharm": {
     "name": "#%%\n"
    }
   },
   "outputs": [],
   "source": [
    "from fedbiomed.common.training_plans import TorchTrainingPlan\n",
    "from flamby.datasets.fed_ixi import Baseline, BaselineLoss, Optimizer\n",
    "from fedbiomed.common.data import FlambyDataset, DataManager\n",
    "from torch.utils.data import DataLoader\n",
    "import numpy as np\n",
    "\n",
    "import os\n",
    "FEDBIOMED_DIR = os.getenv('FEDBIOMED_DIR')\n",
    "\n",
    "\n",
    "from flamby.datasets.fed_ixi import FedIXITiny\n",
    "DATASET_TEST_PATH = f\"{FEDBIOMED_DIR}/data\"\n",
    "\n",
    "\n",
    "class MyTrainingPlan(TorchTrainingPlan):\n",
    "    def init_model(self, model_args):\n",
    "        return Baseline()\n",
    "\n",
    "    def init_optimizer(self, optimizer_args):\n",
    "        return Optimizer(self.model().parameters(), lr=optimizer_args[\"lr\"])\n",
    "\n",
    "    def init_dependencies(self):\n",
    "        return [\"from flamby.datasets.fed_ixi import Baseline, BaselineLoss, Optimizer\",\n",
    "                \"from fedbiomed.common.data import FlambyDataset, DataManager\"]\n",
    "\n",
    "    def training_step(self, data, target):\n",
    "        output = self.model().forward(data)\n",
    "        return BaselineLoss().forward(output, target)\n",
    "\n",
    "    def training_data(self):\n",
    "        dataset = FlambyDataset()\n",
    "        loader_arguments = { 'shuffle': True}\n",
    "        return DataManager(dataset, **loader_arguments)"
   ]
  },
  {
   "cell_type": "code",
   "execution_count": 3,
   "id": "fe6a7ac0",
   "metadata": {},
   "outputs": [
    {
     "data": {
      "text/plain": [
       "246156"
      ]
     },
     "execution_count": 3,
     "metadata": {},
     "output_type": "execute_result"
    }
   ],
   "source": [
    "def count_parameters(model):\n",
    "    return sum(p.numel() for p in model.parameters())\n",
    "count_parameters(Baseline())"
   ]
  },
  {
   "cell_type": "code",
   "execution_count": 4,
   "id": "295f23c4",
   "metadata": {},
   "outputs": [],
   "source": [
    "batch_size = 2\n",
    "num_updates = 10\n",
    "num_rounds = 75"
   ]
  },
  {
   "cell_type": "code",
   "execution_count": 5,
   "id": "fad92d03",
   "metadata": {
    "pycharm": {
     "name": "#%%\n"
    }
   },
   "outputs": [],
   "source": [
    "model_args = {}\n",
    "\n",
    "training_args = {\n",
    "    'loader_args': { 'batch_size': batch_size, },\n",
    "    'optimizer_args': {\n",
    "        \"lr\" : 1e-3\n",
    "    },\n",
    "    'num_updates': num_updates,\n",
    "    'dry_run': False,\n",
    "    'batch_maxnum': 2, # Fast pass for development : only use ( batch_maxnum * batch_size ) samples\n",
    "    'random_seed':42,\n",
    "    'log_interval': 10,\n",
    "    'share_persistent_buffers': False,\n",
    "}"
   ]
  },
  {
   "cell_type": "code",
   "execution_count": 6,
   "id": "4849b3d0",
   "metadata": {},
   "outputs": [],
   "source": [
    "from fedbiomed.researcher.federated_workflows import Experiment\n",
    "from fedbiomed.researcher.aggregators.fedavg import FedAverage\n",
    "from fedbiomed.researcher.secagg import SecureAggregation\n",
    "\n",
    "tags =  ['flixi']"
   ]
  },
  {
   "cell_type": "code",
   "execution_count": 7,
   "id": "1a93c59b",
   "metadata": {
    "pycharm": {
     "name": "#%%\n"
    }
   },
   "outputs": [
    {
     "data": {
      "text/plain": [
       "2024-05-27 15:35:03,550 fedbiomed INFO - Starting researcher service..."
      ]
     },
     "metadata": {},
     "output_type": "display_data"
    },
    {
     "data": {
      "text/plain": [
       "2024-05-27 15:35:03,552 fedbiomed INFO - Waiting 3s for nodes to connect..."
      ]
     },
     "metadata": {},
     "output_type": "display_data"
    },
    {
     "data": {
      "text/plain": [
       "2024-05-27 15:35:03,846 fedbiomed DEBUG - Node: NODE_7849b47e-12fc-4062-a85a-706aa967e395 polling for the tasks"
      ]
     },
     "metadata": {},
     "output_type": "display_data"
    },
    {
     "data": {
      "text/plain": [
       "2024-05-27 15:35:04,730 fedbiomed DEBUG - Node: NODE_1ab3470a-b961-4de6-a454-237155e67b4c polling for the tasks"
      ]
     },
     "metadata": {},
     "output_type": "display_data"
    },
    {
     "data": {
      "text/plain": [
       "2024-05-27 15:35:04,731 fedbiomed DEBUG - Node: NODE_efae9061-c6e3-4c90-87eb-ba8775edd565 polling for the tasks"
      ]
     },
     "metadata": {},
     "output_type": "display_data"
    },
    {
     "data": {
      "text/plain": [
       "2024-05-27 15:35:06,559 fedbiomed INFO - Updating training data. This action will update FederatedDataset, and the nodes that will participate to the experiment."
      ]
     },
     "metadata": {},
     "output_type": "display_data"
    },
    {
     "data": {
      "text/plain": [
       "2024-05-27 15:35:06,572 fedbiomed DEBUG - Node: NODE_efae9061-c6e3-4c90-87eb-ba8775edd565 polling for the tasks"
      ]
     },
     "metadata": {},
     "output_type": "display_data"
    },
    {
     "data": {
      "text/plain": [
       "2024-05-27 15:35:06,573 fedbiomed DEBUG - Node: NODE_7849b47e-12fc-4062-a85a-706aa967e395 polling for the tasks"
      ]
     },
     "metadata": {},
     "output_type": "display_data"
    },
    {
     "data": {
      "text/plain": [
       "2024-05-27 15:35:06,574 fedbiomed DEBUG - Node: NODE_1ab3470a-b961-4de6-a454-237155e67b4c polling for the tasks"
      ]
     },
     "metadata": {},
     "output_type": "display_data"
    },
    {
     "data": {
      "text/plain": [
       "2024-05-27 15:35:06,579 fedbiomed INFO - Node selected for training -> NODE_7849b47e-12fc-4062-a85a-706aa967e395"
      ]
     },
     "metadata": {},
     "output_type": "display_data"
    },
    {
     "data": {
      "text/plain": [
       "2024-05-27 15:35:06,580 fedbiomed INFO - Node selected for training -> NODE_1ab3470a-b961-4de6-a454-237155e67b4c"
      ]
     },
     "metadata": {},
     "output_type": "display_data"
    },
    {
     "data": {
      "text/plain": [
       "2024-05-27 15:35:06,581 fedbiomed INFO - Node selected for training -> NODE_efae9061-c6e3-4c90-87eb-ba8775edd565"
      ]
     },
     "metadata": {},
     "output_type": "display_data"
    },
    {
     "data": {
      "text/plain": [
       "2024-05-27 15:35:06,584 fedbiomed DEBUG - Model file has been saved: /workspaces/Projects/fedbiomed/var/experiments/Experiment_0082/model_dc67a4ff-2565-4902-84a5-f64aef8378f8.py"
      ]
     },
     "metadata": {},
     "output_type": "display_data"
    },
    {
     "name": "stderr",
     "output_type": "stream",
     "text": [
      "Secure RNG turned off. This is perfectly fine for experimentation as it allows for much faster training performance, but remember to turn it on and retrain one last time before production with ``secure_mode`` turned on.\n"
     ]
    },
    {
     "data": {
      "text/plain": [
       "True"
      ]
     },
     "execution_count": 7,
     "metadata": {},
     "output_type": "execute_result"
    }
   ],
   "source": [
    "exp_no_sec_agg = Experiment(tags=tags,\n",
    "                 training_plan_class=MyTrainingPlan,\n",
    "                 training_args=training_args,\n",
    "                 model_args=model_args,\n",
    "                 round_limit=num_rounds,\n",
    "                 aggregator=FedAverage())\n",
    "exp_no_sec_agg.set_retain_full_history(True)"
   ]
  },
  {
   "cell_type": "code",
   "execution_count": null,
   "id": "793631ab",
   "metadata": {
    "pycharm": {
     "name": "#%%\n"
    }
   },
   "outputs": [
    {
     "data": {
      "text/plain": [
       "2024-05-27 15:35:06,608 fedbiomed INFO - Sampled nodes in round 0 ['NODE_7849b47e-12fc-4062-a85a-706aa967e395', 'NODE_1ab3470a-b961-4de6-a454-237155e67b4c', 'NODE_efae9061-c6e3-4c90-87eb-ba8775edd565']"
      ]
     },
     "metadata": {},
     "output_type": "display_data"
    },
    {
     "data": {
      "text/plain": [
       "2024-05-27 15:35:06,611 fedbiomed INFO - \u001b[1mSending request\u001b[0m \n",
       "\t\t\t\t\t\u001b[1m To\u001b[0m: NODE_7849b47e-12fc-4062-a85a-706aa967e395 \n",
       "\t\t\t\t\t\u001b[1m Request: \u001b[0m: TRAIN\n",
       " -----------------------------------------------------------------"
      ]
     },
     "metadata": {},
     "output_type": "display_data"
    },
    {
     "data": {
      "text/plain": [
       "2024-05-27 15:35:06,611 fedbiomed INFO - \u001b[1mSending request\u001b[0m \n",
       "\t\t\t\t\t\u001b[1m To\u001b[0m: NODE_1ab3470a-b961-4de6-a454-237155e67b4c \n",
       "\t\t\t\t\t\u001b[1m Request: \u001b[0m: TRAIN\n",
       " -----------------------------------------------------------------"
      ]
     },
     "metadata": {},
     "output_type": "display_data"
    },
    {
     "data": {
      "text/plain": [
       "2024-05-27 15:35:06,613 fedbiomed INFO - \u001b[1mSending request\u001b[0m \n",
       "\t\t\t\t\t\u001b[1m To\u001b[0m: NODE_efae9061-c6e3-4c90-87eb-ba8775edd565 \n",
       "\t\t\t\t\t\u001b[1m Request: \u001b[0m: TRAIN\n",
       " -----------------------------------------------------------------"
      ]
     },
     "metadata": {},
     "output_type": "display_data"
    },
    {
     "data": {
      "text/plain": [
       "2024-05-27 15:35:06,636 fedbiomed DEBUG - Node: NODE_7849b47e-12fc-4062-a85a-706aa967e395 polling for the tasks"
      ]
     },
     "metadata": {},
     "output_type": "display_data"
    },
    {
     "data": {
      "text/plain": [
       "2024-05-27 15:35:06,640 fedbiomed DEBUG - Node: NODE_1ab3470a-b961-4de6-a454-237155e67b4c polling for the tasks"
      ]
     },
     "metadata": {},
     "output_type": "display_data"
    },
    {
     "data": {
      "text/plain": [
       "2024-05-27 15:35:06,645 fedbiomed DEBUG - Node: NODE_efae9061-c6e3-4c90-87eb-ba8775edd565 polling for the tasks"
      ]
     },
     "metadata": {},
     "output_type": "display_data"
    },
    {
     "data": {
      "text/plain": [
       "2024-05-27 15:35:06,765 fedbiomed INFO - \u001b[1mWARNING\u001b[0m\n",
       "\t\t\t\t\t\u001b[1m NODE\u001b[0m NODE_efae9061-c6e3-4c90-87eb-ba8775edd565\n",
       "\t\t\t\t\t\u001b[1m MESSAGE:\u001b[0m Both batch_maxnum and num_updates specified. batch_maxnum will be ignored.\u001b[0m\n",
       "-----------------------------------------------------------------"
      ]
     },
     "metadata": {},
     "output_type": "display_data"
    },
    {
     "data": {
      "text/plain": [
       "2024-05-27 15:35:06,819 fedbiomed INFO - \u001b[1mWARNING\u001b[0m\n",
       "\t\t\t\t\t\u001b[1m NODE\u001b[0m NODE_1ab3470a-b961-4de6-a454-237155e67b4c\n",
       "\t\t\t\t\t\u001b[1m MESSAGE:\u001b[0m Both batch_maxnum and num_updates specified. batch_maxnum will be ignored.\u001b[0m\n",
       "-----------------------------------------------------------------"
      ]
     },
     "metadata": {},
     "output_type": "display_data"
    },
    {
     "data": {
      "text/plain": [
       "2024-05-27 15:35:06,838 fedbiomed INFO - \u001b[1mWARNING\u001b[0m\n",
       "\t\t\t\t\t\u001b[1m NODE\u001b[0m NODE_7849b47e-12fc-4062-a85a-706aa967e395\n",
       "\t\t\t\t\t\u001b[1m MESSAGE:\u001b[0m Both batch_maxnum and num_updates specified. batch_maxnum will be ignored.\u001b[0m\n",
       "-----------------------------------------------------------------"
      ]
     },
     "metadata": {},
     "output_type": "display_data"
    },
    {
     "data": {
      "text/plain": [
       "2024-05-27 15:35:13,409 fedbiomed INFO - \u001b[1mTRAINING\u001b[0m \n",
       "\t\t\t\t\t NODE_ID: NODE_1ab3470a-b961-4de6-a454-237155e67b4c \n",
       "\t\t\t\t\t Round 1 | Iteration: 1/10 (10%) | Samples: 2/20\n",
       " \t\t\t\t\t Loss: \u001b[1m0.558466\u001b[0m \n",
       "\t\t\t\t\t ---------"
      ]
     },
     "metadata": {},
     "output_type": "display_data"
    },
    {
     "data": {
      "text/plain": [
       "2024-05-27 15:35:14,205 fedbiomed INFO - \u001b[1mTRAINING\u001b[0m \n",
       "\t\t\t\t\t NODE_ID: NODE_efae9061-c6e3-4c90-87eb-ba8775edd565 \n",
       "\t\t\t\t\t Round 1 | Iteration: 1/10 (10%) | Samples: 2/20\n",
       " \t\t\t\t\t Loss: \u001b[1m0.544607\u001b[0m \n",
       "\t\t\t\t\t ---------"
      ]
     },
     "metadata": {},
     "output_type": "display_data"
    },
    {
     "data": {
      "text/plain": [
       "2024-05-27 15:35:16,279 fedbiomed INFO - \u001b[1mTRAINING\u001b[0m \n",
       "\t\t\t\t\t NODE_ID: NODE_7849b47e-12fc-4062-a85a-706aa967e395 \n",
       "\t\t\t\t\t Round 1 | Iteration: 1/10 (10%) | Samples: 2/20\n",
       " \t\t\t\t\t Loss: \u001b[1m0.540522\u001b[0m \n",
       "\t\t\t\t\t ---------"
      ]
     },
     "metadata": {},
     "output_type": "display_data"
    },
    {
     "data": {
      "text/plain": [
       "2024-05-27 15:36:10,361 fedbiomed INFO - \u001b[1mTRAINING\u001b[0m \n",
       "\t\t\t\t\t NODE_ID: NODE_1ab3470a-b961-4de6-a454-237155e67b4c \n",
       "\t\t\t\t\t Round 1 | Iteration: 10/10 (100%) | Samples: 20/20\n",
       " \t\t\t\t\t Loss: \u001b[1m0.246937\u001b[0m \n",
       "\t\t\t\t\t ---------"
      ]
     },
     "metadata": {},
     "output_type": "display_data"
    },
    {
     "data": {
      "text/plain": [
       "2024-05-27 15:36:12,715 fedbiomed INFO - \u001b[1mTRAINING\u001b[0m \n",
       "\t\t\t\t\t NODE_ID: NODE_7849b47e-12fc-4062-a85a-706aa967e395 \n",
       "\t\t\t\t\t Round 1 | Iteration: 10/10 (100%) | Samples: 20/20\n",
       " \t\t\t\t\t Loss: \u001b[1m0.255100\u001b[0m \n",
       "\t\t\t\t\t ---------"
      ]
     },
     "metadata": {},
     "output_type": "display_data"
    },
    {
     "data": {
      "text/plain": [
       "2024-05-27 15:36:12,944 fedbiomed INFO - \u001b[1mTRAINING\u001b[0m \n",
       "\t\t\t\t\t NODE_ID: NODE_efae9061-c6e3-4c90-87eb-ba8775edd565 \n",
       "\t\t\t\t\t Round 1 | Iteration: 10/10 (100%) | Samples: 20/20\n",
       " \t\t\t\t\t Loss: \u001b[1m0.254484\u001b[0m \n",
       "\t\t\t\t\t ---------"
      ]
     },
     "metadata": {},
     "output_type": "display_data"
    },
    {
     "data": {
      "text/plain": [
       "2024-05-27 15:36:12,990 fedbiomed INFO - Nodes that successfully reply in round 0 ['NODE_7849b47e-12fc-4062-a85a-706aa967e395', 'NODE_1ab3470a-b961-4de6-a454-237155e67b4c', 'NODE_efae9061-c6e3-4c90-87eb-ba8775edd565']"
      ]
     },
     "metadata": {},
     "output_type": "display_data"
    },
    {
     "data": {
      "text/plain": [
       "2024-05-27 15:36:13,004 fedbiomed INFO - Sampled nodes in round 1 ['NODE_7849b47e-12fc-4062-a85a-706aa967e395', 'NODE_1ab3470a-b961-4de6-a454-237155e67b4c', 'NODE_efae9061-c6e3-4c90-87eb-ba8775edd565']"
      ]
     },
     "metadata": {},
     "output_type": "display_data"
    },
    {
     "data": {
      "text/plain": [
       "2024-05-27 15:36:13,007 fedbiomed INFO - \u001b[1mSending request\u001b[0m \n",
       "\t\t\t\t\t\u001b[1m To\u001b[0m: NODE_7849b47e-12fc-4062-a85a-706aa967e395 \n",
       "\t\t\t\t\t\u001b[1m Request: \u001b[0m: TRAIN\n",
       " -----------------------------------------------------------------"
      ]
     },
     "metadata": {},
     "output_type": "display_data"
    },
    {
     "data": {
      "text/plain": [
       "2024-05-27 15:36:13,008 fedbiomed INFO - \u001b[1mSending request\u001b[0m \n",
       "\t\t\t\t\t\u001b[1m To\u001b[0m: NODE_1ab3470a-b961-4de6-a454-237155e67b4c \n",
       "\t\t\t\t\t\u001b[1m Request: \u001b[0m: TRAIN\n",
       " -----------------------------------------------------------------"
      ]
     },
     "metadata": {},
     "output_type": "display_data"
    },
    {
     "data": {
      "text/plain": [
       "2024-05-27 15:36:13,009 fedbiomed INFO - \u001b[1mSending request\u001b[0m \n",
       "\t\t\t\t\t\u001b[1m To\u001b[0m: NODE_efae9061-c6e3-4c90-87eb-ba8775edd565 \n",
       "\t\t\t\t\t\u001b[1m Request: \u001b[0m: TRAIN\n",
       " -----------------------------------------------------------------"
      ]
     },
     "metadata": {},
     "output_type": "display_data"
    },
    {
     "data": {
      "text/plain": [
       "2024-05-27 15:36:13,038 fedbiomed DEBUG - Node: NODE_7849b47e-12fc-4062-a85a-706aa967e395 polling for the tasks"
      ]
     },
     "metadata": {},
     "output_type": "display_data"
    },
    {
     "data": {
      "text/plain": [
       "2024-05-27 15:36:13,044 fedbiomed DEBUG - Node: NODE_1ab3470a-b961-4de6-a454-237155e67b4c polling for the tasks"
      ]
     },
     "metadata": {},
     "output_type": "display_data"
    },
    {
     "data": {
      "text/plain": [
       "2024-05-27 15:36:13,048 fedbiomed DEBUG - Node: NODE_efae9061-c6e3-4c90-87eb-ba8775edd565 polling for the tasks"
      ]
     },
     "metadata": {},
     "output_type": "display_data"
    },
    {
     "data": {
      "text/plain": [
       "2024-05-27 15:36:13,168 fedbiomed INFO - \u001b[1mWARNING\u001b[0m\n",
       "\t\t\t\t\t\u001b[1m NODE\u001b[0m NODE_7849b47e-12fc-4062-a85a-706aa967e395\n",
       "\t\t\t\t\t\u001b[1m MESSAGE:\u001b[0m Both batch_maxnum and num_updates specified. batch_maxnum will be ignored.\u001b[0m\n",
       "-----------------------------------------------------------------"
      ]
     },
     "metadata": {},
     "output_type": "display_data"
    },
    {
     "data": {
      "text/plain": [
       "2024-05-27 15:36:13,180 fedbiomed INFO - \u001b[1mWARNING\u001b[0m\n",
       "\t\t\t\t\t\u001b[1m NODE\u001b[0m NODE_efae9061-c6e3-4c90-87eb-ba8775edd565\n",
       "\t\t\t\t\t\u001b[1m MESSAGE:\u001b[0m Both batch_maxnum and num_updates specified. batch_maxnum will be ignored.\u001b[0m\n",
       "-----------------------------------------------------------------"
      ]
     },
     "metadata": {},
     "output_type": "display_data"
    },
    {
     "data": {
      "text/plain": [
       "2024-05-27 15:36:13,199 fedbiomed INFO - \u001b[1mWARNING\u001b[0m\n",
       "\t\t\t\t\t\u001b[1m NODE\u001b[0m NODE_1ab3470a-b961-4de6-a454-237155e67b4c\n",
       "\t\t\t\t\t\u001b[1m MESSAGE:\u001b[0m Both batch_maxnum and num_updates specified. batch_maxnum will be ignored.\u001b[0m\n",
       "-----------------------------------------------------------------"
      ]
     },
     "metadata": {},
     "output_type": "display_data"
    },
    {
     "data": {
      "text/plain": [
       "2024-05-27 15:36:21,421 fedbiomed INFO - \u001b[1mTRAINING\u001b[0m \n",
       "\t\t\t\t\t NODE_ID: NODE_efae9061-c6e3-4c90-87eb-ba8775edd565 \n",
       "\t\t\t\t\t Round 2 | Iteration: 1/10 (10%) | Samples: 2/20\n",
       " \t\t\t\t\t Loss: \u001b[1m0.261658\u001b[0m \n",
       "\t\t\t\t\t ---------"
      ]
     },
     "metadata": {},
     "output_type": "display_data"
    },
    {
     "data": {
      "text/plain": [
       "2024-05-27 15:36:21,935 fedbiomed INFO - \u001b[1mTRAINING\u001b[0m \n",
       "\t\t\t\t\t NODE_ID: NODE_7849b47e-12fc-4062-a85a-706aa967e395 \n",
       "\t\t\t\t\t Round 2 | Iteration: 1/10 (10%) | Samples: 2/20\n",
       " \t\t\t\t\t Loss: \u001b[1m0.256751\u001b[0m \n",
       "\t\t\t\t\t ---------"
      ]
     },
     "metadata": {},
     "output_type": "display_data"
    },
    {
     "data": {
      "text/plain": [
       "2024-05-27 15:36:23,564 fedbiomed INFO - \u001b[1mTRAINING\u001b[0m \n",
       "\t\t\t\t\t NODE_ID: NODE_1ab3470a-b961-4de6-a454-237155e67b4c \n",
       "\t\t\t\t\t Round 2 | Iteration: 1/10 (10%) | Samples: 2/20\n",
       " \t\t\t\t\t Loss: \u001b[1m0.256497\u001b[0m \n",
       "\t\t\t\t\t ---------"
      ]
     },
     "metadata": {},
     "output_type": "display_data"
    },
    {
     "data": {
      "text/plain": [
       "2024-05-27 15:37:16,250 fedbiomed INFO - \u001b[1mTRAINING\u001b[0m \n",
       "\t\t\t\t\t NODE_ID: NODE_1ab3470a-b961-4de6-a454-237155e67b4c \n",
       "\t\t\t\t\t Round 2 | Iteration: 10/10 (100%) | Samples: 20/20\n",
       " \t\t\t\t\t Loss: \u001b[1m0.227862\u001b[0m \n",
       "\t\t\t\t\t ---------"
      ]
     },
     "metadata": {},
     "output_type": "display_data"
    },
    {
     "data": {
      "text/plain": [
       "2024-05-27 15:37:19,306 fedbiomed INFO - \u001b[1mTRAINING\u001b[0m \n",
       "\t\t\t\t\t NODE_ID: NODE_7849b47e-12fc-4062-a85a-706aa967e395 \n",
       "\t\t\t\t\t Round 2 | Iteration: 10/10 (100%) | Samples: 20/20\n",
       " \t\t\t\t\t Loss: \u001b[1m0.239552\u001b[0m \n",
       "\t\t\t\t\t ---------"
      ]
     },
     "metadata": {},
     "output_type": "display_data"
    },
    {
     "data": {
      "text/plain": [
       "2024-05-27 15:37:19,404 fedbiomed INFO - \u001b[1mTRAINING\u001b[0m \n",
       "\t\t\t\t\t NODE_ID: NODE_efae9061-c6e3-4c90-87eb-ba8775edd565 \n",
       "\t\t\t\t\t Round 2 | Iteration: 10/10 (100%) | Samples: 20/20\n",
       " \t\t\t\t\t Loss: \u001b[1m0.238835\u001b[0m \n",
       "\t\t\t\t\t ---------"
      ]
     },
     "metadata": {},
     "output_type": "display_data"
    },
    {
     "data": {
      "text/plain": [
       "2024-05-27 15:37:19,465 fedbiomed INFO - Nodes that successfully reply in round 1 ['NODE_7849b47e-12fc-4062-a85a-706aa967e395', 'NODE_1ab3470a-b961-4de6-a454-237155e67b4c', 'NODE_efae9061-c6e3-4c90-87eb-ba8775edd565']"
      ]
     },
     "metadata": {},
     "output_type": "display_data"
    },
    {
     "data": {
      "text/plain": [
       "2024-05-27 15:37:19,477 fedbiomed INFO - Sampled nodes in round 2 ['NODE_7849b47e-12fc-4062-a85a-706aa967e395', 'NODE_1ab3470a-b961-4de6-a454-237155e67b4c', 'NODE_efae9061-c6e3-4c90-87eb-ba8775edd565']"
      ]
     },
     "metadata": {},
     "output_type": "display_data"
    },
    {
     "data": {
      "text/plain": [
       "2024-05-27 15:37:19,479 fedbiomed INFO - \u001b[1mSending request\u001b[0m \n",
       "\t\t\t\t\t\u001b[1m To\u001b[0m: NODE_7849b47e-12fc-4062-a85a-706aa967e395 \n",
       "\t\t\t\t\t\u001b[1m Request: \u001b[0m: TRAIN\n",
       " -----------------------------------------------------------------"
      ]
     },
     "metadata": {},
     "output_type": "display_data"
    },
    {
     "data": {
      "text/plain": [
       "2024-05-27 15:37:19,480 fedbiomed INFO - \u001b[1mSending request\u001b[0m \n",
       "\t\t\t\t\t\u001b[1m To\u001b[0m: NODE_1ab3470a-b961-4de6-a454-237155e67b4c \n",
       "\t\t\t\t\t\u001b[1m Request: \u001b[0m: TRAIN\n",
       " -----------------------------------------------------------------"
      ]
     },
     "metadata": {},
     "output_type": "display_data"
    },
    {
     "data": {
      "text/plain": [
       "2024-05-27 15:37:19,481 fedbiomed INFO - \u001b[1mSending request\u001b[0m \n",
       "\t\t\t\t\t\u001b[1m To\u001b[0m: NODE_efae9061-c6e3-4c90-87eb-ba8775edd565 \n",
       "\t\t\t\t\t\u001b[1m Request: \u001b[0m: TRAIN\n",
       " -----------------------------------------------------------------"
      ]
     },
     "metadata": {},
     "output_type": "display_data"
    },
    {
     "data": {
      "text/plain": [
       "2024-05-27 15:37:19,512 fedbiomed DEBUG - Node: NODE_7849b47e-12fc-4062-a85a-706aa967e395 polling for the tasks"
      ]
     },
     "metadata": {},
     "output_type": "display_data"
    },
    {
     "data": {
      "text/plain": [
       "2024-05-27 15:37:19,516 fedbiomed DEBUG - Node: NODE_1ab3470a-b961-4de6-a454-237155e67b4c polling for the tasks"
      ]
     },
     "metadata": {},
     "output_type": "display_data"
    },
    {
     "data": {
      "text/plain": [
       "2024-05-27 15:37:19,520 fedbiomed DEBUG - Node: NODE_efae9061-c6e3-4c90-87eb-ba8775edd565 polling for the tasks"
      ]
     },
     "metadata": {},
     "output_type": "display_data"
    },
    {
     "data": {
      "text/plain": [
       "2024-05-27 15:37:19,671 fedbiomed INFO - \u001b[1mWARNING\u001b[0m\n",
       "\t\t\t\t\t\u001b[1m NODE\u001b[0m NODE_7849b47e-12fc-4062-a85a-706aa967e395\n",
       "\t\t\t\t\t\u001b[1m MESSAGE:\u001b[0m Both batch_maxnum and num_updates specified. batch_maxnum will be ignored.\u001b[0m\n",
       "-----------------------------------------------------------------"
      ]
     },
     "metadata": {},
     "output_type": "display_data"
    },
    {
     "data": {
      "text/plain": [
       "2024-05-27 15:37:19,699 fedbiomed INFO - \u001b[1mWARNING\u001b[0m\n",
       "\t\t\t\t\t\u001b[1m NODE\u001b[0m NODE_efae9061-c6e3-4c90-87eb-ba8775edd565\n",
       "\t\t\t\t\t\u001b[1m MESSAGE:\u001b[0m Both batch_maxnum and num_updates specified. batch_maxnum will be ignored.\u001b[0m\n",
       "-----------------------------------------------------------------"
      ]
     },
     "metadata": {},
     "output_type": "display_data"
    },
    {
     "data": {
      "text/plain": [
       "2024-05-27 15:37:19,718 fedbiomed INFO - \u001b[1mWARNING\u001b[0m\n",
       "\t\t\t\t\t\u001b[1m NODE\u001b[0m NODE_1ab3470a-b961-4de6-a454-237155e67b4c\n",
       "\t\t\t\t\t\u001b[1m MESSAGE:\u001b[0m Both batch_maxnum and num_updates specified. batch_maxnum will be ignored.\u001b[0m\n",
       "-----------------------------------------------------------------"
      ]
     },
     "metadata": {},
     "output_type": "display_data"
    },
    {
     "data": {
      "text/plain": [
       "2024-05-27 15:37:28,294 fedbiomed INFO - \u001b[1mTRAINING\u001b[0m \n",
       "\t\t\t\t\t NODE_ID: NODE_7849b47e-12fc-4062-a85a-706aa967e395 \n",
       "\t\t\t\t\t Round 3 | Iteration: 1/10 (10%) | Samples: 2/20\n",
       " \t\t\t\t\t Loss: \u001b[1m0.240779\u001b[0m \n",
       "\t\t\t\t\t ---------"
      ]
     },
     "metadata": {},
     "output_type": "display_data"
    },
    {
     "data": {
      "text/plain": [
       "2024-05-27 15:37:28,839 fedbiomed INFO - \u001b[1mTRAINING\u001b[0m \n",
       "\t\t\t\t\t NODE_ID: NODE_1ab3470a-b961-4de6-a454-237155e67b4c \n",
       "\t\t\t\t\t Round 3 | Iteration: 1/10 (10%) | Samples: 2/20\n",
       " \t\t\t\t\t Loss: \u001b[1m0.233208\u001b[0m \n",
       "\t\t\t\t\t ---------"
      ]
     },
     "metadata": {},
     "output_type": "display_data"
    },
    {
     "data": {
      "text/plain": [
       "2024-05-27 15:37:29,897 fedbiomed INFO - \u001b[1mTRAINING\u001b[0m \n",
       "\t\t\t\t\t NODE_ID: NODE_efae9061-c6e3-4c90-87eb-ba8775edd565 \n",
       "\t\t\t\t\t Round 3 | Iteration: 1/10 (10%) | Samples: 2/20\n",
       " \t\t\t\t\t Loss: \u001b[1m0.242702\u001b[0m \n",
       "\t\t\t\t\t ---------"
      ]
     },
     "metadata": {},
     "output_type": "display_data"
    }
   ],
   "source": [
    "exp_no_sec_agg.run()"
   ]
  },
  {
   "cell_type": "code",
   "execution_count": null,
   "id": "2e04e6d9",
   "metadata": {},
   "outputs": [],
   "source": [
    "def print_training_rounds(exp, num_rounds):\n",
    "    # List the training rounds\n",
    "    print(\"\\nList the training rounds:\", exp.training_replies().keys())\n",
    "\n",
    "    # Iterate over each training round and print details for each node\n",
    "    print(\"\\nList the nodes for the last training round and their timings:\")\n",
    "    for rnd in range(num_rounds):\n",
    "        round_data = exp.training_replies()[rnd]\n",
    "        for r in round_data.values():\n",
    "            print(\"\\t- {id} :\\\n",
    "            \\n\\t\\trtime_training={rtraining:.2f} seconds\\\n",
    "            \\n\\t\\tptime_training={ptraining:.2f} seconds\\\n",
    "            \\n\\t\\ttime_encrypt={time_encrypt:.2f} seconds\\\n",
    "            \\n\\t\\tptxt_model_size={ptxt_model_size:.2f} MB\\\n",
    "            \\n\\t\\tctxt_model_size={ctxt_model_size:.2f} MB\\\n",
    "            \\n\\t\\trtime_total={rtotal:.2f} seconds\".format(\n",
    "                id=r['node_id'],\n",
    "                rtraining=r['timing']['rtime_training'],\n",
    "                ptraining=r['timing']['ptime_training'],\n",
    "                time_encrypt=r['timing']['time_encrypt'],\n",
    "                ptxt_model_size=r['communication']['ptxt_model_size'],\n",
    "                ctxt_model_size=r['communication']['ctxt_model_size'],\n",
    "                rtotal=r['timing']['rtime_total']\n",
    "            ))\n",
    "        print('\\n')"
   ]
  },
  {
   "cell_type": "code",
   "execution_count": null,
   "id": "a4e2557e",
   "metadata": {},
   "outputs": [],
   "source": [
    "print_training_rounds(exp_no_sec_agg, num_rounds=40)"
   ]
  },
  {
   "cell_type": "code",
   "execution_count": null,
   "id": "4d4cc750",
   "metadata": {},
   "outputs": [],
   "source": [
    "import numpy as np\n",
    "import torch\n",
    "from torch.utils.data import DataLoader\n",
    "\n",
    "def metric(y_true, y_pred):\n",
    "    \"\"\"\n",
    "    Soft Dice coefficient\n",
    "    \"\"\"\n",
    "    SPATIAL_DIMENSIONS = (2, 3, 4)\n",
    "    intersection = (y_pred * y_true).sum(axis=SPATIAL_DIMENSIONS)\n",
    "    union = (0.5 * (y_pred + y_true)).sum(axis=SPATIAL_DIMENSIONS)\n",
    "    dice = intersection / (union + 1.0e-7)\n",
    "    # If both inputs are empty the dice coefficient should be equal to 1\n",
    "    dice[union == 0] = 1\n",
    "    return np.mean(dice)\n",
    "\n",
    "def test_soft_dice(net, test_loader):\n",
    "    \"\"\"Test the network: measure Soft Dice coefficient on the test set.\"\"\"\n",
    "\n",
    "    # Freeze normalization layers\n",
    "    net.eval()\n",
    "\n",
    "    all_y_pred = []\n",
    "    all_targets = []\n",
    "\n",
    "    # Iterate over the batches\n",
    "    for data, target in test_loader:\n",
    "        # Accumulate the ground truth labels\n",
    "        all_targets.append(target.numpy())\n",
    "\n",
    "        output = net(data).detach().numpy()\n",
    "        all_y_pred.append(output)\n",
    "\n",
    "    # Convert lists to numpy arrays for metric computation\n",
    "    all_y_pred = np.concatenate(all_y_pred, axis=0)\n",
    "    all_targets = np.concatenate(all_targets, axis=0)\n",
    "\n",
    "    # Compute the Soft Dice coefficient\n",
    "    dice_coefficient = metric(all_targets, all_y_pred)\n",
    "    print(f\"Test Soft Dice coefficient: {dice_coefficient:.4f}\")"
   ]
  },
  {
   "cell_type": "code",
   "execution_count": null,
   "id": "c5209261",
   "metadata": {},
   "outputs": [],
   "source": [
    "test_dataset = FedIXITiny(center=0,pooled=True, train=False, data_path=DATASET_TEST_PATH)\n",
    "test_dataloader = DataLoader(test_dataset, batch_size=256, shuffle=False)"
   ]
  },
  {
   "cell_type": "code",
   "execution_count": null,
   "id": "5f6ea347",
   "metadata": {},
   "outputs": [],
   "source": [
    "def evaluate_model(exp, num_rounds, test_dataloader):\n",
    "    for r in range(num_rounds):\n",
    "        fed_model = exp.training_plan().model()\n",
    "        fed_model.load_state_dict(exp.aggregated_params()[r]['params'])\n",
    "        test_soft_dice(fed_model, test_dataloader)\n",
    "\n"
   ]
  },
  {
   "cell_type": "code",
   "execution_count": null,
   "id": "22e5d19f",
   "metadata": {},
   "outputs": [],
   "source": [
    "evaluate_model(exp_no_sec_agg, num_rounds, test_dataloader)"
   ]
  },
  {
   "cell_type": "code",
   "execution_count": null,
   "id": "a340c546",
   "metadata": {},
   "outputs": [],
   "source": [
    "# CLIPPING_RANGE: int = 10\n",
    "# TARGET_RANGE: int = 2**20\n",
    "# WEIGHT_RANGE: int = 2**8\n",
    "# There is some layer which has 10 has value, then max num of samples <2**8    \n",
    "exp_sec_agg_lom = Experiment(tags=tags,\n",
    "                 training_plan_class=MyTrainingPlan,\n",
    "                 training_args=training_args,\n",
    "                 model_args=model_args,\n",
    "                 round_limit=num_rounds,\n",
    "                 aggregator=FedAverage(),\n",
    "                 secagg=SecureAggregation(active=True, scheme='flamingo'))\n",
    "exp_sec_agg_lom.set_retain_full_history(True)"
   ]
  },
  {
   "cell_type": "code",
   "execution_count": null,
   "id": "9b7bc923",
   "metadata": {
    "scrolled": true
   },
   "outputs": [],
   "source": [
    "exp_sec_agg_lom.run()"
   ]
  },
  {
   "cell_type": "code",
   "execution_count": null,
   "id": "60e852ff",
   "metadata": {},
   "outputs": [],
   "source": [
    "print_training_rounds(exp_sec_agg_lom, num_rounds=num_rounds)"
   ]
  },
  {
   "cell_type": "code",
   "execution_count": null,
   "id": "de6cd435",
   "metadata": {},
   "outputs": [],
   "source": [
    "evaluate_model(exp=exp_sec_agg_lom, num_rounds=num_rounds, test_dataloader=test_dataloader)"
   ]
  },
  {
   "cell_type": "code",
   "execution_count": null,
   "id": "4dcaaa10",
   "metadata": {},
   "outputs": [],
   "source": [
    "\n",
    "exp_sec_agg_jls = Experiment(tags=tags,\n",
    "                 training_plan_class=MyTrainingPlan,\n",
    "                 training_args=training_args,\n",
    "                 model_args=model_args,\n",
    "                 round_limit=num_rounds,\n",
    "                 aggregator=FedAverage(),\n",
    "                 secagg=SecureAggregation(active=True, scheme='jls'))\n",
    "exp_sec_agg_jls.set_retain_full_history(True)"
   ]
  },
  {
   "cell_type": "code",
   "execution_count": null,
   "id": "6a35f098",
   "metadata": {},
   "outputs": [],
   "source": [
    "exp_sec_agg_jls.run()"
   ]
  },
  {
   "cell_type": "code",
   "execution_count": null,
   "id": "1f86d7fc",
   "metadata": {},
   "outputs": [],
   "source": [
    "print_training_rounds(exp_sec_agg_jls, num_rounds=num_rounds)"
   ]
  },
  {
   "cell_type": "code",
   "execution_count": null,
   "id": "3d0da120",
   "metadata": {},
   "outputs": [],
   "source": [
    "evaluate_model(exp=exp_sec_agg_jls, num_rounds=num_rounds, test_dataloader=test_dataloader)"
   ]
  },
  {
   "cell_type": "code",
   "execution_count": null,
   "id": "57574315",
   "metadata": {},
   "outputs": [],
   "source": []
  }
 ],
 "metadata": {
  "kernelspec": {
   "display_name": "Python 3 (ipykernel)",
   "language": "python",
   "name": "python3"
  },
  "language_info": {
   "codemirror_mode": {
    "name": "ipython",
    "version": 3
   },
   "file_extension": ".py",
   "mimetype": "text/x-python",
   "name": "python",
   "nbconvert_exporter": "python",
   "pygments_lexer": "ipython3",
   "version": "3.10.14"
  }
 },
 "nbformat": 4,
 "nbformat_minor": 5
}
