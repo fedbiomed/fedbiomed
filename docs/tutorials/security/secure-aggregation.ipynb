{
 "cells": [
  {
   "cell_type": "markdown",
   "metadata": {},
   "source": [
    "# Training with Secure Aggregation\n",
    "Secure aggregation is one of the security feature that is provided by Fed-BioMed. Please refer to [secure aggregation user guide](../../../user-guide/secagg/introduction) for more information regarding the methods and techniques that are used. This tutorial gives an example of secure aggregation usage in Fed-BioMed."
   ]
  },
  {
   "cell_type": "markdown",
   "metadata": {},
   "source": [
    "## Setting up the nodes\n",
    "\n",
    "During the tutorial, nodes and researcher will be launched locally using single clone of Fed-BioMed. However, it is also possible to execute notebook cells when the components are configured remotely by respecting following instruction.\n",
    "\n",
    "\n",
    "### Configuring/Installing Element for Secure Aggregation\n",
    "\n",
    "Fed-BioMed provides two secure aggregation schemes: LOM and Joye-Libert. While LOM doesn't require configuration or extra installation. Joye-Libert depends on third-party modules and certificate configuration after a basic installation of Fed-BioMed.\n",
    "\n",
    "You can follow the detailed instructions for configuring [Fed-BioMed instance for secure aggregation](../../../user-guide/secagg/configuration.md) or apply following shortened instructions for a basic setup for Joye-Libert. \n",
    "\n",
    "#### 1. Create node and researcher instances\n",
    "\n",
    "##### 1.1 Create nodes\n",
    "\n",
    "It is mandatory to have at least two nodes for the experiment that requires secure aggregation. Please execute following commands to create two nodes.\n",
    "\n",
    "Node 1:\n",
    "```shell\n",
    "${FEDBIOMED_DIR}/scripts/fedbiomed_run configuration create --component NODE  --name config-n1.ini\n",
    "```\n",
    "\n",
    "Node 2:\n",
    "\n",
    "```shell\n",
    "${FEDBIOMED_DIR}/scripts/fedbiomed_run configuration create --component NODE  --name config-n2.ini\n",
    "```\n",
    "\n",
    "##### 1.2 Create researcher\n",
    "\n",
    "Please run the command below to create researcher component.\n",
    "\n",
    "```shell\n",
    "${FEDBIOMED_DIR}/scripts/fedbiomed_run configuration create --component researcher  \n",
    "\n",
    "```\n",
    "\n",
    "\n",
    "Please follow these instructions if you activate Joye-Libert secure aggregation:\n",
    "Joye-Libert configuration requires to know the participating Fed-BioMed components in advance. Therefore, each component that will participate in the training should be created before starting them. Afterwards, participating components can be registered in every other component.\n",
    "\n",
    "#### 2. Add dataset and start nodes\n",
    "\n",
    "The next step will be adding/deploying MNIST dataset in the nodes and starting them. For this step you can follow the instructions for [adding dataset](../../../user-guide/nodes/deploying-datasets) into nodes to add MNIST dataset. After the datasets are deployed you can start the nodes and researcher.\n",
    "\n",
    "#### 3. Optional: Joye-Libert Configuration\n",
    "\n",
    "#####  3.1 Install and configure\n",
    "\n",
    "Fed-BioMed uses [MP-SPDZ](https://github.com/data61/MP-SPDZ) for MPC that is needed for Joye-Libert. Therefore, please make sure that MP-SPDZ are installed and configured for Fed-BioMed by running following command.\n",
    "\n",
    "\n",
    "```\n",
    "${FEDBIOMED_DIR}/scripts/fedbiomed_configure_secagg node\n",
    "```\n",
    "\n",
    "<div class=\"Note\">\n",
    "    <p>Since node and researcher will be run in the same machine, single configuration for MP-SDPZ will be enough</p>\n",
    "</div>\n",
    "\n",
    "\n",
    "##### 3.2. Registering participating Fed-BioMed instances\n",
    "\n",
    "Normally, as it is mentioned in [secure aggregation configuration](../../../user-guide/secagg/configuration) each participating instance should register network credentials of others such as IP, port and SSL certificate. however, since this example will be run on single clone of Fed-BioMed, registration process can be done automaticity by running following command.\n",
    "\n",
    "```\n",
    "${FEDBIOMED_DIR}/scripts/fedbiomed_run certificate-dev-setup\n",
    "```"
   ]
  },
  {
   "cell_type": "markdown",
   "metadata": {},
   "source": [
    "### Define an experiment model and parameters\""
   ]
  },
  {
   "cell_type": "markdown",
   "metadata": {},
   "source": [
    "Declare a torch training plan MyTrainingPlan class to send for training on the node"
   ]
  },
  {
   "cell_type": "code",
   "execution_count": null,
   "metadata": {},
   "outputs": [],
   "source": [
    "import torch\n",
    "import torch.nn as nn\n",
    "from fedbiomed.common.training_plans import TorchTrainingPlan\n",
    "from fedbiomed.common.data import DataManager\n",
    "from torchvision import datasets, transforms\n",
    "\n",
    "\n",
    "# Here we define the model to be used. \n",
    "# You can use any class name (here 'Net')\n",
    "class MyTrainingPlan(TorchTrainingPlan):\n",
    "    \n",
    "    # Defines and return model \n",
    "    def init_model(self, model_args):\n",
    "        return self.Net(model_args = model_args)\n",
    "    \n",
    "    # Defines and return optimizer\n",
    "    def init_optimizer(self, optimizer_args):\n",
    "        return torch.optim.Adam(self.model().parameters(), lr = optimizer_args[\"lr\"])\n",
    "    \n",
    "    # Declares and return dependencies\n",
    "    def init_dependencies(self):\n",
    "        deps = [\"from torchvision import datasets, transforms\"]\n",
    "        return deps\n",
    "    \n",
    "    class Net(nn.Module):\n",
    "        def __init__(self, model_args):\n",
    "            super().__init__()\n",
    "            self.conv1 = nn.Conv2d(1, 32, 3, 1)\n",
    "            self.conv2 = nn.Conv2d(32, 64, 3, 1)\n",
    "            self.dropout1 = nn.Dropout(0.25)\n",
    "            self.dropout2 = nn.Dropout(0.5)\n",
    "            self.fc1 = nn.Linear(9216, 128)\n",
    "            self.fc2 = nn.Linear(128, 10)\n",
    "\n",
    "        def forward(self, x):\n",
    "            x = self.conv1(x)\n",
    "            x = F.relu(x)\n",
    "            x = self.conv2(x)\n",
    "            x = F.relu(x)\n",
    "            x = F.max_pool2d(x, 2)\n",
    "            x = self.dropout1(x)\n",
    "            x = torch.flatten(x, 1)\n",
    "            x = self.fc1(x)\n",
    "            x = F.relu(x)\n",
    "            x = self.dropout2(x)\n",
    "            x = self.fc2(x)\n",
    "\n",
    "\n",
    "            output = F.log_softmax(x, dim=1)\n",
    "            return output\n",
    "\n",
    "    def training_data(self):\n",
    "        # Custom torch Dataloader for MNIST data\n",
    "        transform = transforms.Compose([transforms.ToTensor(),\n",
    "        transforms.Normalize((0.1307,), (0.3081,))])\n",
    "        dataset1 = datasets.MNIST(self.dataset_path, train=True, download=False, transform=transform)\n",
    "        train_kwargs = { 'shuffle': True}\n",
    "        return DataManager(dataset=dataset1, **train_kwargs)\n",
    "    \n",
    "    def training_step(self, data, target):\n",
    "        output = self.model().forward(data)\n",
    "        loss   = torch.nn.functional.nll_loss(output, target)\n",
    "        return loss\n"
   ]
  },
  {
   "cell_type": "code",
   "execution_count": null,
   "metadata": {
    "pycharm": {
     "name": "#%%\n"
    }
   },
   "outputs": [],
   "source": [
    "model_args = {}\n",
    "\n",
    "training_args = {\n",
    "    'loader_args': { 'batch_size': 48, }, \n",
    "    'optimizer_args': {\n",
    "        \"lr\" : 1e-3\n",
    "    },\n",
    "    'epochs': 1, \n",
    "    'dry_run': False,  \n",
    "    'batch_maxnum': 100 # Fast pass for development : only use ( batch_maxnum * batch_size ) samples\n",
    "}"
   ]
  },
  {
   "cell_type": "markdown",
   "metadata": {},
   "source": [
    "### Declare and run the experiment"
   ]
  },
  {
   "cell_type": "markdown",
   "metadata": {},
   "source": [
    "Fed-BioMed uses Low-Overhead Masking (LOM) as the default secure aggregation scheme. If you followed the configuration steps to use Joye-Libert instead of LOM you can change secure aggregation by declaring the secure scheme as `SecaggSchemes.JOYE_LIBERT`.\n",
    "\n",
    "```python\n",
    "from fedbiomed.researcher.secagg import SecureAggregation, SecureAggregationSchemes\n",
    "exp = Experiment(\n",
    "        ...\n",
    "        secagg = SecureAggregation(scheme=SecaggSchemes.JOYE_LIBERT)\n",
    "        ...    \n",
    ")\n",
    "\n",
    "```\n",
    "\n",
    "The example below will run LOM by default."
   ]
  },
  {
   "cell_type": "code",
   "execution_count": null,
   "metadata": {
    "pycharm": {
     "name": "#%%\n"
    },
    "scrolled": false
   },
   "outputs": [],
   "source": [
    "from fedbiomed.researcher.federated_workflows import Experiment\n",
    "from fedbiomed.researcher.aggregators.fedavg import FedAverage\n",
    "from fedbiomed.researcher.secagg import SecureAggregation, SecureAggregationSchemes\n",
    "tags =  ['#MNIST', '#dataset']\n",
    "rounds = 2\n",
    "\n",
    "exp = Experiment(tags=tags,\n",
    "                 model_args=model_args,\n",
    "                 training_plan_class=MyTrainingPlan,\n",
    "                 training_args=training_args,\n",
    "                 round_limit=rounds,\n",
    "                 aggregator=FedAverage(),\n",
    "                 node_selection_strategy=None,\n",
    "                 secagg=SecureAggregation(), # or secagg=True\n",
    "                 # secagg=SecureAggregation(scheme=SecureAggregationSchemes.JOYE_LIBERT),\n",
    "                 save_breakpoints=True\n",
    "                )"
   ]
  },
  {
   "cell_type": "markdown",
   "metadata": {},
   "source": [
    "### Access secure aggregation context"
   ]
  },
  {
   "cell_type": "markdown",
   "metadata": {},
   "source": [
    "Please use the attribute `secagg` to verify secure aggregation is set as active"
   ]
  },
  {
   "cell_type": "code",
   "execution_count": null,
   "metadata": {
    "scrolled": true
   },
   "outputs": [],
   "source": [
    "print(\"Is using secagg: \", exp.secagg.active)"
   ]
  },
  {
   "cell_type": "markdown",
   "metadata": {},
   "source": [
    "It is also possible to check secure aggregation context using `secagg` attribute. Since secure aggregation context negotiation will occur during experiment run, context and id should be `None` at this point."
   ]
  },
  {
   "cell_type": "code",
   "execution_count": null,
   "metadata": {
    "scrolled": true
   },
   "outputs": [],
   "source": [
    "print(\"Active: \", exp.secagg.active)\n",
    "if exp.secagg.scheme == SecureAggregationSchemes.JOYE_LIBERT:\n",
    "    print(\"Secagg Biprime \", exp.secagg.biprime)\n",
    "    print(\"Secagg Servkey \", exp.secagg.servkey)\n",
    "else:\n",
    "    print(\"Secagg context\", exp.secagg.dh)"
   ]
  },
  {
   "cell_type": "markdown",
   "metadata": {},
   "source": [
    "Run the experiment, using secure aggregation. Secure aggregation context will be created before the first training round, and it is going to be updated before each round when new nodes are added or removed to the experiment."
   ]
  },
  {
   "cell_type": "code",
   "execution_count": null,
   "metadata": {},
   "outputs": [],
   "source": [
    "exp.run(increase=True)"
   ]
  },
  {
   "cell_type": "markdown",
   "metadata": {},
   "source": [
    "Save trained model to file"
   ]
  },
  {
   "cell_type": "code",
   "execution_count": null,
   "metadata": {},
   "outputs": [],
   "source": [
    "exp.training_plan().export_model('./trained_model')"
   ]
  },
  {
   "cell_type": "markdown",
   "metadata": {},
   "source": [
    "Display context after running one round of training. \n",
    "\n",
    "<div class=\"admonition note\"> <p class=\"admonition-title\">Context types</p> \n",
    "    <p>In the Joye-Libert scheme, the context refers to the keys that will be used for aggregation. However, in LOM, there is no need for an aggregation key since the sum of masked inputs directly results in the aggregation of the inputs. Therefore, the context in LOM reflects the setup status of each participating node, ensuring that they have successfully created their keying material.</p>\n",
    "</div>"
   ]
  },
  {
   "cell_type": "code",
   "execution_count": null,
   "metadata": {},
   "outputs": [],
   "source": [
    "print(\"Active: \", exp.secagg.active)\n",
    "if exp.secagg.scheme == SecureAggregationSchemes.JOYE_LIBERT:\n",
    "    print(\"Secagg Biprime context: \", exp.secagg.biprime.context)\n",
    "    print(\"Secagg Servkey context: \", exp.secagg.servkey.context)\n",
    "else:\n",
    "    print(\"Secagg context\", exp.secagg.dh.context)"
   ]
  },
  {
   "cell_type": "markdown",
   "metadata": {},
   "source": [
    "#### Change in experiment triggers re-creation of secure aggregation context\n",
    "\n",
    "The changes like adding new node to the experiment will trigger automatic secure aggregation re-setup for the next round.  "
   ]
  },
  {
   "cell_type": "code",
   "execution_count": null,
   "metadata": {},
   "outputs": [],
   "source": [
    "# sends new dataset search request\n",
    "\n",
    "exp.set_training_data(None, True)\n"
   ]
  },
  {
   "cell_type": "code",
   "execution_count": null,
   "metadata": {},
   "outputs": [],
   "source": [
    "exp.run_once(increase=True)"
   ]
  },
  {
   "cell_type": "markdown",
   "metadata": {},
   "source": [
    "### Changing arguments of secure aggregation"
   ]
  },
  {
   "cell_type": "markdown",
   "metadata": {},
   "source": [
    "Setting `secagg` argument `True` in `Experiment` creates a default `SecureAggregation` instance. Additionally, It is also possible to create `SecureAggregation` instance and pass it as an argument. Here are the arguments that can be set for the `SecureAggregation`\n",
    "\n",
    "- `active`: `True` if the round will use secure aggregation. Default is `True`\n",
    "- `clipping_range`: Clipping range that is going be use for quantization of model parameters, which means model weights will be bounded in range [-clipping_range, clipping_range]. Default clipping range is `3`. However, some models can have model weights greater than `3`. If clipping range is exceeded during the encryption on the nodes, `Experiment` will log a warning message. In such cases, you can provide a higher clipping range through the argument `clipping_range`.\n"
   ]
  },
  {
   "cell_type": "code",
   "execution_count": null,
   "metadata": {},
   "outputs": [],
   "source": [
    "from fedbiomed.researcher.secagg import SecureAggregation\n",
    "secagg = SecureAggregation(\n",
    "    active=True, \n",
    "    clipping_range=100,\n",
    "    # scheme = SecureAggregationSchemes.JOYE_LIBERT, # If secagg scheme Joye-Libert since the beginning of the tutorial\n",
    "    \n",
    ")\n",
    "exp.set_secagg(secagg=secagg)\n"
   ]
  },
  {
   "cell_type": "code",
   "execution_count": null,
   "metadata": {},
   "outputs": [],
   "source": [
    "exp.run_once(increase=True)"
   ]
  },
  {
   "cell_type": "markdown",
   "metadata": {},
   "source": [
    "### Load experiment from a breakpoint\n",
    "\n",
    "Once a breakpoint is loaded if the context is already existing there won't be context setup. "
   ]
  },
  {
   "cell_type": "code",
   "execution_count": null,
   "metadata": {
    "scrolled": false
   },
   "outputs": [],
   "source": [
    "loaded_exp = Experiment.load_breakpoint()\n",
    "loaded_exp.info()"
   ]
  },
  {
   "cell_type": "code",
   "execution_count": null,
   "metadata": {},
   "outputs": [],
   "source": [
    "print(\"Active: \", exp.secagg.active)\n",
    "if exp.secagg.scheme == SecureAggregationSchemes.JOYE_LIBERT:\n",
    "    print(\"Secagg Biprime context: \", exp.secagg.biprime.context)\n",
    "    print(\"Secagg Servkey context: \", exp.secagg.servkey.context)\n",
    "else:\n",
    "    print(\"Secagg context\", exp.secagg.dh.context)"
   ]
  },
  {
   "cell_type": "code",
   "execution_count": null,
   "metadata": {
    "pycharm": {
     "name": "#%%\n"
    },
    "scrolled": true
   },
   "outputs": [],
   "source": [
    "loaded_exp.run_once(increase=True)"
   ]
  },
  {
   "cell_type": "code",
   "execution_count": null,
   "metadata": {},
   "outputs": [],
   "source": []
  }
 ],
 "metadata": {
  "kernelspec": {
   "display_name": "Python 3 (ipykernel)",
   "language": "python",
   "name": "python3"
  },
  "language_info": {
   "codemirror_mode": {
    "name": "ipython",
    "version": 3
   },
   "file_extension": ".py",
   "mimetype": "text/x-python",
   "name": "python",
   "nbconvert_exporter": "python",
   "pygments_lexer": "ipython3",
   "version": "3.10.14"
  }
 },
 "nbformat": 4,
 "nbformat_minor": 4
}
