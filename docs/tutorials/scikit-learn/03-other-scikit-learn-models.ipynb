{
 "cells": [
  {
   "cell_type": "markdown",
   "id": "aeed78cb",
   "metadata": {},
   "source": [
    "# Implementing other Scikit Learn models for Federated Learning\n",
    "\n",
    "In this tutorial, you will learn how to define and run any Scikit Learn Supervised and Unsupervised model, as well as Data reduction methods, in Fed-BioMed.\n",
    "\n",
    "## 1. Introduction\n",
    "\n",
    "Like in previous tutorials with Pytorch, you can implement custom Scikit Learn models in Fed-BioMed. In this tutorial, we are summarizing all the steps to set up a Scikit Learn model in Fed-BioMed."
   ]
  },
  {
   "cell_type": "markdown",
   "id": "c5ba2cae",
   "metadata": {},
   "source": [
    "### **Current [Scikit-Learn](https://scikit-learn.org/stable/) Methods implemented in Fed-BioMed**\n",
    "\n",
    "<br>\n",
    "\n",
    " - **Classifiers**: \n",
    "    - [SGDClassifier](https://scikit-learn.org/stable/modules/generated/sklearn.linear_model.SGDClassifier.html)\n",
    "    - [Perceptron](https://scikit-learn.org/stable/modules/generated/sklearn.linear_model.Perceptron.html)\n",
    "\n",
    "<br>\n",
    "\n",
    "- **Regressor**:\n",
    "    - [SGDRegressor](https://scikit-learn.org/stable/modules/generated/sklearn.linear_model.SGDRegressor.html)\n",
    "\n",
    "<br>\n",
    "\n",
    "- **Clustering**:\n",
    "    - *Coming Soon*!\n",
    "\n",
    "Check out our [User Guide](../../../user-guide/researcher/training-plan) for further information about Scikit Learn models available in Fed-BioMed."
   ]
  },
  {
   "cell_type": "markdown",
   "id": "aef49533",
   "metadata": {},
   "source": [
    "## 2. Scikit-Learn training plan\n",
    "\n",
    "As you could have seen in the previous tutorials concerning Scikit-Learn, you should define a \"Scikit-Learn training plan\". We provide here a template to create a TrainingPlan for Scikit Learn. As for PyTorch training plan, every Scikit-Learn Training Plan class should be inherited from one of the `\"FedPerceptron\", \"FedSGDRegressor\", \"FedSGDClassifier\"` classes."
   ]
  },
  {
   "cell_type": "markdown",
   "id": "4dbb6746",
   "metadata": {},
   "source": [
    "### Training Plan for supervised Learning (Regressor and Classifier)\n",
    "\n",
    "<br>\n",
    "\n",
    "A template of a Supervised Learning algorithm for Scikit-Learn models. Each supported SkLearn model can be imported from the module `fedbiomed.common.training_plan`. Currently Fed-BioMed support following SkLearn models ` \"FedPerceptron\", \"FedSGDRegressor\", \"FedSGDClassifier\"`."
   ]
  },
  {
   "cell_type": "code",
   "execution_count": null,
   "id": "a271ba9b",
   "metadata": {},
   "outputs": [],
   "source": [
    "from fedbiomed.common.training_plans import FedSGDRegressor, FedPerceptron, FedSGDClassifier\n",
    "\n",
    "SelectedTrainingPlan = FedPerceptron\n",
    "\n",
    "\n",
    "class SkLearnTrainingPlan(SelectedTrainingPlan):\n",
    "    def init_dependencies(self):\n",
    "        # The method for declaring dependencies that are used generally in this training plan.\n",
    "        # E.g, `import numpy as np`should be added dependency array if it is used in the training_data method.\n",
    "        deps= [\"import numpy as np\",\n",
    "               \"import pandas as pd\"]\n",
    "        return deps\n",
    "\n",
    "    def training_data(self):\n",
    "        # Define here how data are handled and /or shuffled\n",
    "        # First you need to instantiate the dataset. This will be typically something like\n",
    "        # raw_dataset = pd.read_csv(self.dataset_path)\n",
    "        # X = raw_dataset[feature_columns]\n",
    "        # y = raw_dataset[target_column(s)]\n",
    "\n",
    "        return DataManager(dataset=X.values, target=y.values,  shuffle=True, drop_last=False)"
   ]
  },
  {
   "cell_type": "markdown",
   "id": "d26edb6f",
   "metadata": {},
   "source": []
  },
  {
   "cell_type": "markdown",
   "id": "cd8a2d7a",
   "metadata": {},
   "source": [
    "Training a Scikit Learn model is pretty similar to training a Pytorch model. \n",
    "The only difference is the selection of model hyperparameters (contained in `model_args`) and training parameters (in `training_args`). Initializing the class `Experiment` will allow the `Researcher` to search for active nodes tagged with defined tags.\n"
   ]
  },
  {
   "cell_type": "code",
   "execution_count": null,
   "id": "9b525dfb",
   "metadata": {},
   "outputs": [],
   "source": [
    "from fedbiomed.researcher.experiment import Experiment\n",
    "\n",
    "tags =  ['#MNIST', '#dataset']\n",
    "\n",
    "# select nodes participating to this experiment\n",
    "exp = Experiment(tags=tags,\n",
    "                 model_args=model_args,\n",
    "                 training_plan_class=SkLearnTrainingPlan,\n",
    "                 training_args=training_args,\n",
    "                 round_limit=rounds,\n",
    "                 aggregator=FedAverage(),\n",
    "                 node_selection_strategy=None)"
   ]
  },
  {
   "cell_type": "markdown",
   "id": "7fa1754b",
   "metadata": {},
   "source": [
    "<br>\n",
    "\n",
    "### 3.1 Arguments for model definition and model training:\n",
    "\n",
    "* `tags`: a list containing tags that will be used for finding models. Same as for PyTorch models.\n",
    "* `model_args`: a Python dictionary containing all arguments related to the model (ie all Scikit Learn model parameters). In addition, it MUST include the following fields:\n",
    "\n",
    "    - `n_features`: number of features in the dataset\n",
    "    - `n_classes`: number of classes (for classification or clustering algorithms only, ignored if a Regression algorithm is used).\n",
    "<br>\n",
    "\n",
    "* `training_plan_class`: the Scikit-Learn training Plan class. Same as for Pytorch models.\n",
    "\n",
    "* `training_args`: a dictionary containing training parameter. For the moment, it contains the following entries:\n",
    "    - `epochs`: the number of epoch to be performed locally (ie on each node).\n",
    "<br>\n",
    "\n",
    "* `round_limit`: the number of rounds (ie global aggregations) to be performed. Same as for PyTorch models.\n",
    "* `aggregator`: the aggregation strategy, here Federated Average. More information on [User Guide/Aggregators](../../../user-guide/researcher/aggregation). Same as for PyTorch models.\n",
    "* `node_selection_startegy`: how to select/sample nodes among all available nodes. Same as for Pytorch models.\n",
    "\n",
    "<br>\n",
    "\n",
    "### 3.2 Training the model\n",
    "\n",
    "Calling the `run` method from `Experiment` will train the Federated Model.\n"
   ]
  },
  {
   "cell_type": "code",
   "execution_count": null,
   "id": "88e8ec34",
   "metadata": {},
   "outputs": [],
   "source": [
    "\n",
    "exp.run()"
   ]
  },
  {
   "cell_type": "markdown",
   "id": "4ade34a5",
   "metadata": {},
   "source": [
    "### 3.3 Retrieve model weigths for each Federated round.\n",
    "\n",
    "The history of each round is accessed via `aggregated_params()` attribute of `Experiment` class. In fact, aggregated model at each round is contained in a dictionary, where each key corresponds to  a specific round. Each key is mapping an aggregated model obtained through the round.\n",
    "\n",
    "To extract all the history, enter :"
   ]
  },
  {
   "cell_type": "code",
   "execution_count": null,
   "id": "93a1eef6",
   "metadata": {
    "lines_to_next_cell": 0
   },
   "outputs": [],
   "source": [
    "exp.aggregated_params()"
   ]
  },
  {
   "cell_type": "markdown",
   "id": "d0feb7a4",
   "metadata": {},
   "source": [
    "<br>\n",
    "<br>\n",
    "\n",
    "**More algorithms** from Scikit-Learn are coming soon ! Stay Tuned !"
   ]
  }
 ],
 "metadata": {
  "jupytext": {
   "cell_metadata_filter": "-all",
   "notebook_metadata_filter": "-all",
   "text_representation": {
    "extension": ".md",
    "format_name": "markdown"
   }
  },
  "kernelspec": {
   "display_name": "Python 3 (ipykernel)",
   "language": "python",
   "name": "python3"
  },
  "language_info": {
   "codemirror_mode": {
    "name": "ipython",
    "version": 3
   },
   "file_extension": ".py",
   "mimetype": "text/x-python",
   "name": "python",
   "nbconvert_exporter": "python",
   "pygments_lexer": "ipython3",
   "version": "3.9.13"
  }
 },
 "nbformat": 4,
 "nbformat_minor": 5
}