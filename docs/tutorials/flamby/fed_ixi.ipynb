{
 "cells": [
  {
   "cell_type": "markdown",
   "id": "99b1c6a5",
   "metadata": {},
   "source": [
    "# FLamby integration in Fed-BioMed\n",
    "\n",
    "This notebook showcases some examples of the integration between [FLamby](https://github.com/owkin/FLamby) and Fed-BioMed.\n",
    "\n",
    "For a thorough understanding, please visit the Tutorials section of our [documentation](../../../getting-started/what-is-fedbiomed/).\n",
    "\n",
    "This tutorial assumes that you know and understand the basics of Fed-BioMed, that you have already set up the network component, and are familiar with flow of adding data through the node CLI interface.\n",
    "For an introduction to Fed-BioMed, please follow our PyTorch MNIST [tutorial](../../pytorch/01_PyTorch_MNIST_Single_Node_Tutorial/).\n",
    "\n",
    "## Downloading FLamby datasets\n",
    "\n",
    "Before using FLamby, you need to [download the FLamby datasets](https://github.com/owkin/FLamby/blob/main/flamby/datasets/fed_heart_disease/README.md#download-and-preprocessing-instructions) that you plan to use. For licensing reasons, these are not including directly in the FLamby installation.\n",
    "\n",
    "To download the `fed_ixi` dataset in `${FEDBIOMED_DIR}/data`, follow [FLamby download instructions](https://github.com/owkin/FLamby/blob/main/flamby/datasets/fed_ixi/README.md#download). In a nutshell:\n",
    "* execute on the **researcher**\n",
    "```bash\n",
    "source ${FEDBIOMED_DIR}/scripts/fedbiomed_environment researcher\n",
    "pip install nibabel\n",
    "```\n",
    "* then execute on each **node** (where `${FEDBIOMED_DIR}` is the base directory of Fed-BioMed):\n",
    "```bash\n",
    "source ${FEDBIOMED_DIR}/scripts/fedbiomed_environment node\n",
    "pip install nibabel\n",
    "python $(find $CONDA_PREFIX -path */fed_ixi/dataset_creation_scripts/download.py) -o ${FEDBIOMED_DIR}/data\n",
    "```\n",
    "\n",
    "To download the `fed_heart_disease` dataset in `${FEDBIOMED_DIR}/data`, follow [FLamby download instructions](https://github.com/owkin/FLamby/blob/main/flamby/datasets/fed_heart_disease/README.md#download-and-preprocessing-instructions). In a nutshell:\n",
    "* execute on the **researcher**\n",
    "```bash\n",
    "source ${FEDBIOMED_DIR}/scripts/fedbiomed_environment researcher\n",
    "pip install wget\n",
    "```\n",
    "* then execute on each **node** (where `${FEDBIOMED_DIR}` is the base directory of Fed-BioMed):\n",
    "```bash\n",
    "source ${FEDBIOMED_DIR}/scripts/fedbiomed_environment node\n",
    "pip install wget\n",
    "python $(find $CONDA_PREFIX -path */fed_heart_disease/dataset_creation_scripts/download.py) --output-folder ${FEDBIOMED_DIR}/data\n",
    "```\n"
   ]
  },
  {
   "cell_type": "markdown",
   "id": "cfe6588e",
   "metadata": {},
   "source": [
    "## Install dependencies\n",
    "\n",
    "If you haven't done so already, install the additional dependencies required by the flamby datasets/features that you intend on using. \n",
    "\n",
    "You may check out which dependencies are needed by each dataset directly from Flamby's `setup.py` [file](https://github.com/owkin/FLamby/blob/main/setup.py#L42). In our case we'll be using the federated IXI and federated heart disease datasets, hence we'll need wget, monai and nibabel. "
   ]
  },
  {
   "cell_type": "code",
   "execution_count": 1,
   "id": "9c5ad6a8",
   "metadata": {},
   "outputs": [
    {
     "name": "stdout",
     "output_type": "stream",
     "text": [
      "Collecting wget\n",
      "  Using cached wget-3.2-py3-none-any.whl\n",
      "Collecting nibabel\n",
      "  Using cached nibabel-5.2.1-py3-none-any.whl.metadata (8.8 kB)\n",
      "Requirement already satisfied: numpy>=1.20 in /workspaces/miniconda3/envs/fedbiomed-researcher/lib/python3.10/site-packages (from nibabel) (1.26.4)\n",
      "Requirement already satisfied: packaging>=17 in /workspaces/miniconda3/envs/fedbiomed-researcher/lib/python3.10/site-packages (from nibabel) (23.2)\n",
      "Using cached nibabel-5.2.1-py3-none-any.whl (3.3 MB)\n",
      "Installing collected packages: wget, nibabel\n",
      "Successfully installed nibabel-5.2.1 wget-3.2\n"
     ]
    }
   ],
   "source": [
    "! pip install wget nibabel  # monai comes already packaged within fed-biomed"
   ]
  },
  {
   "cell_type": "markdown",
   "id": "75da2a74",
   "metadata": {
    "pycharm": {
     "name": "#%% md\n"
    }
   },
   "source": [
    "## Running a FLamby experiment in a federated setting with Fed-BioMed\n",
    "\n",
    "Before running a federated experiment, we need to add a FLamby dataset to a node.\n",
    "From a terminal, `cd` to the Fed-BioMed root installation directory and run\n",
    "\n",
    "```bash\n",
    "  ./scripts/fedbiomed_run node dataset add\n",
    " ```\n",
    "\n",
    "Then follow these instructions:\n",
    "   * Select option 6 (`flamby`) when prompted about the data type\n",
    "   * type any name for the database (suggested `flamby-ixi`), press <kbd>Enter</kbd> to continue\n",
    "   * type `flixi` when prompted for tags, press <kbd>Enter</kbd> to continue\n",
    "   * type any description (suggested `flamby-ixi`), press <kbd>Enter</kbd> to continue\n",
    "   * select option 3 (`fed_ixi`) when prompted for the FLamby dataset to be configured\n",
    "   * type a number in the given range, press <kbd>Enter</kbd> to continue\n",
    "   * type any description for the data loading plan (suggested `flamby-ixi-dlp`), press <kbd>Enter</kbd> to continue\n",
    "\n",
    "\n",
    "Optionally, repeat the instructions above for the `fed_heart_disease` dataset, using `flheart` for tags.\n",
    "\n",
    "Finally, start the node with\n",
    "\n",
    "```bash\n",
    "  ./scripts/fedbiomed_run node start\n",
    " ```\n"
   ]
  },
  {
   "cell_type": "markdown",
   "id": "be586433",
   "metadata": {
    "pycharm": {
     "name": "#%% md\n"
    }
   },
   "source": [
    "## Basic example: Fed-IXI\n",
    "\n",
    "The first example will use the model, optimizer and loss function provided by FLamby for the [IXI](https://github.com/owkin/FLamby/tree/main/flamby/datasets/fed_ixi) dataset.\n",
    "\n",
    "The instructions for using FLamby are:\n",
    "\n",
    "- define a `TorchTrainingPlan`\n",
    "- in the `training_data` function, instantiate a `FlambyDataset`\n",
    "- make sure to include the necessary dependencies in the `init_dependencies` function\n"
   ]
  },
  {
   "cell_type": "code",
   "execution_count": 2,
   "id": "66f6a456",
   "metadata": {
    "pycharm": {
     "name": "#%%\n"
    }
   },
   "outputs": [],
   "source": [
    "from fedbiomed.common.training_plans import TorchTrainingPlan\n",
    "from flamby.datasets.fed_ixi import Baseline, BaselineLoss, Optimizer\n",
    "from fedbiomed.common.data import FlambyDataset, DataManager\n",
    "\n",
    "\n",
    "class MyTrainingPlan(TorchTrainingPlan):\n",
    "    def init_model(self, model_args):\n",
    "        return Baseline()\n",
    "\n",
    "    def init_optimizer(self, optimizer_args):\n",
    "        return Optimizer(self.model().parameters(), lr=optimizer_args[\"lr\"])\n",
    "\n",
    "    def init_dependencies(self):\n",
    "        return [\"from flamby.datasets.fed_ixi import Baseline, BaselineLoss, Optimizer\",\n",
    "                \"from fedbiomed.common.data import FlambyDataset, DataManager\"]\n",
    "\n",
    "    def training_step(self, data, target):\n",
    "        output = self.model().forward(data)\n",
    "        return BaselineLoss().forward(output, target)\n",
    "\n",
    "    def training_data(self):\n",
    "        dataset = FlambyDataset()\n",
    "        loader_arguments = { 'shuffle': True}\n",
    "        return DataManager(dataset, **loader_arguments)"
   ]
  },
  {
   "cell_type": "code",
   "execution_count": 3,
   "id": "fad92d03",
   "metadata": {
    "pycharm": {
     "name": "#%%\n"
    }
   },
   "outputs": [],
   "source": [
    "model_args = {}\n",
    "\n",
    "training_args = {\n",
    "    'loader_args': { 'batch_size': 8, },\n",
    "    'optimizer_args': {\n",
    "        \"lr\" : 1e-3\n",
    "    },\n",
    "    'epochs': 1,\n",
    "    'dry_run': False,\n",
    "    'batch_maxnum': 2 # Fast pass for development : only use ( batch_maxnum * batch_size ) samples\n",
    "}"
   ]
  },
  {
   "cell_type": "code",
   "execution_count": 5,
   "id": "1a93c59b",
   "metadata": {
    "pycharm": {
     "name": "#%%\n"
    }
   },
   "outputs": [
    {
     "data": {
      "text/plain": [
       "2024-05-24 21:13:56,315 fedbiomed INFO - Updating training data. This action will update FederatedDataset, and the nodes that will participate to the experiment."
      ]
     },
     "metadata": {},
     "output_type": "display_data"
    },
    {
     "data": {
      "text/plain": [
       "2024-05-24 21:13:56,322 fedbiomed DEBUG - Node: NODE_7849b47e-12fc-4062-a85a-706aa967e395 polling for the tasks"
      ]
     },
     "metadata": {},
     "output_type": "display_data"
    },
    {
     "data": {
      "text/plain": [
       "2024-05-24 21:13:56,325 fedbiomed DEBUG - Node: NODE_efae9061-c6e3-4c90-87eb-ba8775edd565 polling for the tasks"
      ]
     },
     "metadata": {},
     "output_type": "display_data"
    },
    {
     "data": {
      "text/plain": [
       "2024-05-24 21:13:56,327 fedbiomed DEBUG - Node: NODE_1ab3470a-b961-4de6-a454-237155e67b4c polling for the tasks"
      ]
     },
     "metadata": {},
     "output_type": "display_data"
    },
    {
     "data": {
      "text/plain": [
       "2024-05-24 21:13:56,330 fedbiomed INFO - Node selected for training -> NODE_7849b47e-12fc-4062-a85a-706aa967e395"
      ]
     },
     "metadata": {},
     "output_type": "display_data"
    },
    {
     "data": {
      "text/plain": [
       "2024-05-24 21:13:56,331 fedbiomed INFO - Node selected for training -> NODE_1ab3470a-b961-4de6-a454-237155e67b4c"
      ]
     },
     "metadata": {},
     "output_type": "display_data"
    },
    {
     "data": {
      "text/plain": [
       "2024-05-24 21:13:56,332 fedbiomed INFO - Node selected for training -> NODE_efae9061-c6e3-4c90-87eb-ba8775edd565"
      ]
     },
     "metadata": {},
     "output_type": "display_data"
    },
    {
     "data": {
      "text/plain": [
       "2024-05-24 21:13:56,334 fedbiomed DEBUG - Model file has been saved: /workspaces/Projects/fedbiomed/var/experiments/Experiment_0033/model_8bac2645-fa8d-4b4d-af5b-ded985597eb0.py"
      ]
     },
     "metadata": {},
     "output_type": "display_data"
    }
   ],
   "source": [
    "from fedbiomed.researcher.federated_workflows import Experiment\n",
    "from fedbiomed.researcher.aggregators.fedavg import FedAverage\n",
    "from fedbiomed.researcher.secagg import SecureAggregation\n",
    "\n",
    "tags =  ['flixi']\n",
    "rounds = 3\n",
    "\n",
    "exp_sec_agg_lom = Experiment(tags=tags,\n",
    "                 model_args=model_args,\n",
    "                 training_plan_class=MyTrainingPlan,\n",
    "                 training_args=training_args,\n",
    "                 round_limit=rounds,\n",
    "                 aggregator=FedAverage(),\n",
    "                secagg=SecureAggregation(active=True, scheme='flamingo'),\n",
    "                 # or custom SecureAggregation(active=<bool>, clipping_range=<int>)\n",
    "                  tensorboard=True,\n",
    "                 node_selection_strategy=None)"
   ]
  },
  {
   "cell_type": "code",
   "execution_count": 12,
   "id": "793631ab",
   "metadata": {
    "pycharm": {
     "name": "#%%\n"
    }
   },
   "outputs": [
    {
     "data": {
      "text/plain": [
       "2024-05-24 21:15:18,592 fedbiomed INFO - Sampled nodes in round 0 ['NODE_7849b47e-12fc-4062-a85a-706aa967e395', 'NODE_1ab3470a-b961-4de6-a454-237155e67b4c', 'NODE_efae9061-c6e3-4c90-87eb-ba8775edd565']"
      ]
     },
     "metadata": {},
     "output_type": "display_data"
    },
    {
     "data": {
      "text/plain": [
       "2024-05-24 21:15:18,598 fedbiomed INFO - \u001b[1mSending request\u001b[0m \n",
       "\t\t\t\t\t\u001b[1m To\u001b[0m: NODE_7849b47e-12fc-4062-a85a-706aa967e395 \n",
       "\t\t\t\t\t\u001b[1m Request: \u001b[0m: TRAIN\n",
       " -----------------------------------------------------------------"
      ]
     },
     "metadata": {},
     "output_type": "display_data"
    },
    {
     "data": {
      "text/plain": [
       "2024-05-24 21:15:18,599 fedbiomed INFO - \u001b[1mSending request\u001b[0m \n",
       "\t\t\t\t\t\u001b[1m To\u001b[0m: NODE_1ab3470a-b961-4de6-a454-237155e67b4c \n",
       "\t\t\t\t\t\u001b[1m Request: \u001b[0m: TRAIN\n",
       " -----------------------------------------------------------------"
      ]
     },
     "metadata": {},
     "output_type": "display_data"
    },
    {
     "data": {
      "text/plain": [
       "2024-05-24 21:15:18,601 fedbiomed INFO - \u001b[1mSending request\u001b[0m \n",
       "\t\t\t\t\t\u001b[1m To\u001b[0m: NODE_efae9061-c6e3-4c90-87eb-ba8775edd565 \n",
       "\t\t\t\t\t\u001b[1m Request: \u001b[0m: TRAIN\n",
       " -----------------------------------------------------------------"
      ]
     },
     "metadata": {},
     "output_type": "display_data"
    },
    {
     "data": {
      "text/plain": [
       "2024-05-24 21:15:18,643 fedbiomed DEBUG - Node: NODE_7849b47e-12fc-4062-a85a-706aa967e395 polling for the tasks"
      ]
     },
     "metadata": {},
     "output_type": "display_data"
    },
    {
     "data": {
      "text/plain": [
       "2024-05-24 21:15:18,650 fedbiomed DEBUG - Node: NODE_1ab3470a-b961-4de6-a454-237155e67b4c polling for the tasks"
      ]
     },
     "metadata": {},
     "output_type": "display_data"
    },
    {
     "data": {
      "text/plain": [
       "2024-05-24 21:15:18,655 fedbiomed DEBUG - Node: NODE_efae9061-c6e3-4c90-87eb-ba8775edd565 polling for the tasks"
      ]
     },
     "metadata": {},
     "output_type": "display_data"
    },
    {
     "data": {
      "text/plain": [
       "2024-05-24 21:15:31,567 fedbiomed INFO - \u001b[1mTRAINING\u001b[0m \n",
       "\t\t\t\t\t NODE_ID: NODE_1ab3470a-b961-4de6-a454-237155e67b4c \n",
       "\t\t\t\t\t Round 1 Epoch: 1 | Iteration: 1/2 (50%) | Samples: 8/16\n",
       " \t\t\t\t\t Loss: \u001b[1m0.573911\u001b[0m \n",
       "\t\t\t\t\t ---------"
      ]
     },
     "metadata": {},
     "output_type": "display_data"
    },
    {
     "data": {
      "text/plain": [
       "2024-05-24 21:15:31,580 fedbiomed INFO - \u001b[1mTRAINING\u001b[0m \n",
       "\t\t\t\t\t NODE_ID: NODE_efae9061-c6e3-4c90-87eb-ba8775edd565 \n",
       "\t\t\t\t\t Round 1 Epoch: 1 | Iteration: 1/2 (50%) | Samples: 8/16\n",
       " \t\t\t\t\t Loss: \u001b[1m0.577581\u001b[0m \n",
       "\t\t\t\t\t ---------"
      ]
     },
     "metadata": {},
     "output_type": "display_data"
    },
    {
     "data": {
      "text/plain": [
       "2024-05-24 21:15:32,156 fedbiomed INFO - \u001b[1mTRAINING\u001b[0m \n",
       "\t\t\t\t\t NODE_ID: NODE_7849b47e-12fc-4062-a85a-706aa967e395 \n",
       "\t\t\t\t\t Round 1 Epoch: 1 | Iteration: 1/2 (50%) | Samples: 8/16\n",
       " \t\t\t\t\t Loss: \u001b[1m0.584661\u001b[0m \n",
       "\t\t\t\t\t ---------"
      ]
     },
     "metadata": {},
     "output_type": "display_data"
    },
    {
     "data": {
      "text/plain": [
       "2024-05-24 21:15:44,954 fedbiomed INFO - \u001b[1mTRAINING\u001b[0m \n",
       "\t\t\t\t\t NODE_ID: NODE_1ab3470a-b961-4de6-a454-237155e67b4c \n",
       "\t\t\t\t\t Round 1 Epoch: 1 | Iteration: 2/2 (100%) | Samples: 16/16\n",
       " \t\t\t\t\t Loss: \u001b[1m0.456971\u001b[0m \n",
       "\t\t\t\t\t ---------"
      ]
     },
     "metadata": {},
     "output_type": "display_data"
    },
    {
     "data": {
      "text/plain": [
       "2024-05-24 21:15:45,172 fedbiomed INFO - \u001b[1mINFO\u001b[0m\n",
       "\t\t\t\t\t\u001b[1m NODE\u001b[0m NODE_1ab3470a-b961-4de6-a454-237155e67b4c\n",
       "\t\t\t\t\t\u001b[1m MESSAGE:\u001b[0m Encrypting model parameters. This process can take some time depending on model size.\u001b[0m\n",
       "-----------------------------------------------------------------"
      ]
     },
     "metadata": {},
     "output_type": "display_data"
    },
    {
     "data": {
      "text/plain": [
       "2024-05-24 21:15:45,665 fedbiomed INFO - \u001b[1mTRAINING\u001b[0m \n",
       "\t\t\t\t\t NODE_ID: NODE_7849b47e-12fc-4062-a85a-706aa967e395 \n",
       "\t\t\t\t\t Round 1 Epoch: 1 | Iteration: 2/2 (100%) | Samples: 16/16\n",
       " \t\t\t\t\t Loss: \u001b[1m0.500065\u001b[0m \n",
       "\t\t\t\t\t ---------"
      ]
     },
     "metadata": {},
     "output_type": "display_data"
    },
    {
     "data": {
      "text/plain": [
       "2024-05-24 21:15:45,742 fedbiomed INFO - \u001b[1mTRAINING\u001b[0m \n",
       "\t\t\t\t\t NODE_ID: NODE_efae9061-c6e3-4c90-87eb-ba8775edd565 \n",
       "\t\t\t\t\t Round 1 Epoch: 1 | Iteration: 2/2 (100%) | Samples: 16/16\n",
       " \t\t\t\t\t Loss: \u001b[1m0.481161\u001b[0m \n",
       "\t\t\t\t\t ---------"
      ]
     },
     "metadata": {},
     "output_type": "display_data"
    },
    {
     "data": {
      "text/plain": [
       "2024-05-24 21:15:45,838 fedbiomed INFO - \u001b[1mINFO\u001b[0m\n",
       "\t\t\t\t\t\u001b[1m NODE\u001b[0m NODE_7849b47e-12fc-4062-a85a-706aa967e395\n",
       "\t\t\t\t\t\u001b[1m MESSAGE:\u001b[0m Encrypting model parameters. This process can take some time depending on model size.\u001b[0m\n",
       "-----------------------------------------------------------------"
      ]
     },
     "metadata": {},
     "output_type": "display_data"
    },
    {
     "data": {
      "text/plain": [
       "2024-05-24 21:15:45,881 fedbiomed INFO - \u001b[1mINFO\u001b[0m\n",
       "\t\t\t\t\t\u001b[1m NODE\u001b[0m NODE_efae9061-c6e3-4c90-87eb-ba8775edd565\n",
       "\t\t\t\t\t\u001b[1m MESSAGE:\u001b[0m Encrypting model parameters. This process can take some time depending on model size.\u001b[0m\n",
       "-----------------------------------------------------------------"
      ]
     },
     "metadata": {},
     "output_type": "display_data"
    },
    {
     "data": {
      "text/plain": [
       "2024-05-24 21:15:45,946 fedbiomed INFO - \u001b[1mINFO\u001b[0m\n",
       "\t\t\t\t\t\u001b[1m NODE\u001b[0m NODE_1ab3470a-b961-4de6-a454-237155e67b4c\n",
       "\t\t\t\t\t\u001b[1m MESSAGE:\u001b[0m Encryption is completed!\u001b[0m\n",
       "-----------------------------------------------------------------"
      ]
     },
     "metadata": {},
     "output_type": "display_data"
    },
    {
     "data": {
      "text/plain": [
       "2024-05-24 21:15:45,948 fedbiomed INFO - \u001b[1mINFO\u001b[0m\n",
       "\t\t\t\t\t\u001b[1m NODE\u001b[0m NODE_1ab3470a-b961-4de6-a454-237155e67b4c\n",
       "\t\t\t\t\t\u001b[1m MESSAGE:\u001b[0m Sample size: 145\u001b[0m\n",
       "-----------------------------------------------------------------"
      ]
     },
     "metadata": {},
     "output_type": "display_data"
    },
    {
     "data": {
      "text/plain": [
       "2024-05-24 21:15:46,367 fedbiomed INFO - \u001b[1mINFO\u001b[0m\n",
       "\t\t\t\t\t\u001b[1m NODE\u001b[0m NODE_7849b47e-12fc-4062-a85a-706aa967e395\n",
       "\t\t\t\t\t\u001b[1m MESSAGE:\u001b[0m Encryption is completed!\u001b[0m\n",
       "-----------------------------------------------------------------"
      ]
     },
     "metadata": {},
     "output_type": "display_data"
    },
    {
     "data": {
      "text/plain": [
       "2024-05-24 21:15:46,369 fedbiomed INFO - \u001b[1mINFO\u001b[0m\n",
       "\t\t\t\t\t\u001b[1m NODE\u001b[0m NODE_7849b47e-12fc-4062-a85a-706aa967e395\n",
       "\t\t\t\t\t\u001b[1m MESSAGE:\u001b[0m Sample size: 59\u001b[0m\n",
       "-----------------------------------------------------------------"
      ]
     },
     "metadata": {},
     "output_type": "display_data"
    },
    {
     "data": {
      "text/plain": [
       "2024-05-24 21:15:46,434 fedbiomed INFO - \u001b[1mINFO\u001b[0m\n",
       "\t\t\t\t\t\u001b[1m NODE\u001b[0m NODE_efae9061-c6e3-4c90-87eb-ba8775edd565\n",
       "\t\t\t\t\t\u001b[1m MESSAGE:\u001b[0m Encryption is completed!\u001b[0m\n",
       "-----------------------------------------------------------------"
      ]
     },
     "metadata": {},
     "output_type": "display_data"
    },
    {
     "data": {
      "text/plain": [
       "2024-05-24 21:15:46,436 fedbiomed INFO - \u001b[1mINFO\u001b[0m\n",
       "\t\t\t\t\t\u001b[1m NODE\u001b[0m NODE_efae9061-c6e3-4c90-87eb-ba8775edd565\n",
       "\t\t\t\t\t\u001b[1m MESSAGE:\u001b[0m Sample size: 249\u001b[0m\n",
       "-----------------------------------------------------------------"
      ]
     },
     "metadata": {},
     "output_type": "display_data"
    },
    {
     "data": {
      "text/plain": [
       "2024-05-24 21:15:46,532 fedbiomed INFO - Nodes that successfully reply in round 0 ['NODE_7849b47e-12fc-4062-a85a-706aa967e395', 'NODE_1ab3470a-b961-4de6-a454-237155e67b4c', 'NODE_efae9061-c6e3-4c90-87eb-ba8775edd565']"
      ]
     },
     "metadata": {},
     "output_type": "display_data"
    },
    {
     "data": {
      "text/plain": [
       "2024-05-24 21:15:46,550 fedbiomed INFO - Aggregating encrypted parameters. This process may take some time depending on model size."
      ]
     },
     "metadata": {},
     "output_type": "display_data"
    },
    {
     "name": "stderr",
     "output_type": "stream",
     "text": [
      "IOPub data rate exceeded.\n",
      "The notebook server will temporarily stop sending output\n",
      "to the client in order to avoid crashing it.\n",
      "To change this limit, set the config variable\n",
      "`--NotebookApp.iopub_data_rate_limit`.\n",
      "\n",
      "Current values:\n",
      "NotebookApp.iopub_data_rate_limit=1000000.0 (bytes/sec)\n",
      "NotebookApp.rate_limit_window=3.0 (secs)\n",
      "\n"
     ]
    },
    {
     "data": {
      "text/plain": [
       "2024-05-24 21:15:46,789 fedbiomed INFO - Aggregating parameters from 3 nodes."
      ]
     },
     "metadata": {},
     "output_type": "display_data"
    },
    {
     "data": {
      "text/plain": [
       "2024-05-24 21:15:47,069 fedbiomed DEBUG - Aggregation is completed in 0.43 seconds."
      ]
     },
     "metadata": {},
     "output_type": "display_data"
    },
    {
     "data": {
      "text/plain": [
       "2024-05-24 21:15:47,142 fedbiomed INFO - Sampled nodes in round 1 ['NODE_7849b47e-12fc-4062-a85a-706aa967e395', 'NODE_1ab3470a-b961-4de6-a454-237155e67b4c', 'NODE_efae9061-c6e3-4c90-87eb-ba8775edd565']"
      ]
     },
     "metadata": {},
     "output_type": "display_data"
    },
    {
     "data": {
      "text/plain": [
       "2024-05-24 21:15:47,145 fedbiomed INFO - \u001b[1mSending request\u001b[0m \n",
       "\t\t\t\t\t\u001b[1m To\u001b[0m: NODE_7849b47e-12fc-4062-a85a-706aa967e395 \n",
       "\t\t\t\t\t\u001b[1m Request: \u001b[0m: TRAIN\n",
       " -----------------------------------------------------------------"
      ]
     },
     "metadata": {},
     "output_type": "display_data"
    },
    {
     "data": {
      "text/plain": [
       "2024-05-24 21:15:47,145 fedbiomed INFO - \u001b[1mSending request\u001b[0m \n",
       "\t\t\t\t\t\u001b[1m To\u001b[0m: NODE_1ab3470a-b961-4de6-a454-237155e67b4c \n",
       "\t\t\t\t\t\u001b[1m Request: \u001b[0m: TRAIN\n",
       " -----------------------------------------------------------------"
      ]
     },
     "metadata": {},
     "output_type": "display_data"
    },
    {
     "data": {
      "text/plain": [
       "2024-05-24 21:15:47,146 fedbiomed INFO - \u001b[1mSending request\u001b[0m \n",
       "\t\t\t\t\t\u001b[1m To\u001b[0m: NODE_efae9061-c6e3-4c90-87eb-ba8775edd565 \n",
       "\t\t\t\t\t\u001b[1m Request: \u001b[0m: TRAIN\n",
       " -----------------------------------------------------------------"
      ]
     },
     "metadata": {},
     "output_type": "display_data"
    },
    {
     "data": {
      "text/plain": [
       "2024-05-24 21:15:47,186 fedbiomed DEBUG - Node: NODE_7849b47e-12fc-4062-a85a-706aa967e395 polling for the tasks"
      ]
     },
     "metadata": {},
     "output_type": "display_data"
    },
    {
     "data": {
      "text/plain": [
       "2024-05-24 21:15:47,188 fedbiomed DEBUG - Node: NODE_1ab3470a-b961-4de6-a454-237155e67b4c polling for the tasks"
      ]
     },
     "metadata": {},
     "output_type": "display_data"
    },
    {
     "data": {
      "text/plain": [
       "2024-05-24 21:15:47,197 fedbiomed DEBUG - Node: NODE_efae9061-c6e3-4c90-87eb-ba8775edd565 polling for the tasks"
      ]
     },
     "metadata": {},
     "output_type": "display_data"
    },
    {
     "data": {
      "text/plain": [
       "2024-05-24 21:15:59,723 fedbiomed INFO - \u001b[1mTRAINING\u001b[0m \n",
       "\t\t\t\t\t NODE_ID: NODE_efae9061-c6e3-4c90-87eb-ba8775edd565 \n",
       "\t\t\t\t\t Round 2 Epoch: 1 | Iteration: 1/2 (50%) | Samples: 8/16\n",
       " \t\t\t\t\t Loss: \u001b[1m0.401054\u001b[0m \n",
       "\t\t\t\t\t ---------"
      ]
     },
     "metadata": {},
     "output_type": "display_data"
    },
    {
     "data": {
      "text/plain": [
       "2024-05-24 21:15:59,976 fedbiomed INFO - \u001b[1mTRAINING\u001b[0m \n",
       "\t\t\t\t\t NODE_ID: NODE_7849b47e-12fc-4062-a85a-706aa967e395 \n",
       "\t\t\t\t\t Round 2 Epoch: 1 | Iteration: 1/2 (50%) | Samples: 8/16\n",
       " \t\t\t\t\t Loss: \u001b[1m0.428876\u001b[0m \n",
       "\t\t\t\t\t ---------"
      ]
     },
     "metadata": {},
     "output_type": "display_data"
    },
    {
     "data": {
      "text/plain": [
       "2024-05-24 21:16:03,997 fedbiomed INFO - \u001b[1mTRAINING\u001b[0m \n",
       "\t\t\t\t\t NODE_ID: NODE_1ab3470a-b961-4de6-a454-237155e67b4c \n",
       "\t\t\t\t\t Round 2 Epoch: 1 | Iteration: 1/2 (50%) | Samples: 8/16\n",
       " \t\t\t\t\t Loss: \u001b[1m0.391320\u001b[0m \n",
       "\t\t\t\t\t ---------"
      ]
     },
     "metadata": {},
     "output_type": "display_data"
    },
    {
     "data": {
      "text/plain": [
       "2024-05-24 21:16:12,446 fedbiomed INFO - \u001b[1mTRAINING\u001b[0m \n",
       "\t\t\t\t\t NODE_ID: NODE_7849b47e-12fc-4062-a85a-706aa967e395 \n",
       "\t\t\t\t\t Round 2 Epoch: 1 | Iteration: 2/2 (100%) | Samples: 16/16\n",
       " \t\t\t\t\t Loss: \u001b[1m0.407542\u001b[0m \n",
       "\t\t\t\t\t ---------"
      ]
     },
     "metadata": {},
     "output_type": "display_data"
    },
    {
     "data": {
      "text/plain": [
       "2024-05-24 21:16:12,656 fedbiomed INFO - \u001b[1mINFO\u001b[0m\n",
       "\t\t\t\t\t\u001b[1m NODE\u001b[0m NODE_7849b47e-12fc-4062-a85a-706aa967e395\n",
       "\t\t\t\t\t\u001b[1m MESSAGE:\u001b[0m Encrypting model parameters. This process can take some time depending on model size.\u001b[0m\n",
       "-----------------------------------------------------------------"
      ]
     },
     "metadata": {},
     "output_type": "display_data"
    },
    {
     "data": {
      "text/plain": [
       "2024-05-24 21:16:13,654 fedbiomed INFO - \u001b[1mINFO\u001b[0m\n",
       "\t\t\t\t\t\u001b[1m NODE\u001b[0m NODE_7849b47e-12fc-4062-a85a-706aa967e395\n",
       "\t\t\t\t\t\u001b[1m MESSAGE:\u001b[0m Encryption is completed!\u001b[0m\n",
       "-----------------------------------------------------------------"
      ]
     },
     "metadata": {},
     "output_type": "display_data"
    },
    {
     "data": {
      "text/plain": [
       "2024-05-24 21:16:13,660 fedbiomed INFO - \u001b[1mINFO\u001b[0m\n",
       "\t\t\t\t\t\u001b[1m NODE\u001b[0m NODE_7849b47e-12fc-4062-a85a-706aa967e395\n",
       "\t\t\t\t\t\u001b[1m MESSAGE:\u001b[0m Sample size: 59\u001b[0m\n",
       "-----------------------------------------------------------------"
      ]
     },
     "metadata": {},
     "output_type": "display_data"
    },
    {
     "data": {
      "text/plain": [
       "2024-05-24 21:16:15,105 fedbiomed INFO - \u001b[1mTRAINING\u001b[0m \n",
       "\t\t\t\t\t NODE_ID: NODE_efae9061-c6e3-4c90-87eb-ba8775edd565 \n",
       "\t\t\t\t\t Round 2 Epoch: 1 | Iteration: 2/2 (100%) | Samples: 16/16\n",
       " \t\t\t\t\t Loss: \u001b[1m0.375354\u001b[0m \n",
       "\t\t\t\t\t ---------"
      ]
     },
     "metadata": {},
     "output_type": "display_data"
    },
    {
     "data": {
      "text/plain": [
       "2024-05-24 21:16:15,279 fedbiomed INFO - \u001b[1mINFO\u001b[0m\n",
       "\t\t\t\t\t\u001b[1m NODE\u001b[0m NODE_efae9061-c6e3-4c90-87eb-ba8775edd565\n",
       "\t\t\t\t\t\u001b[1m MESSAGE:\u001b[0m Encrypting model parameters. This process can take some time depending on model size.\u001b[0m\n",
       "-----------------------------------------------------------------"
      ]
     },
     "metadata": {},
     "output_type": "display_data"
    },
    {
     "data": {
      "text/plain": [
       "2024-05-24 21:16:15,777 fedbiomed INFO - \u001b[1mTRAINING\u001b[0m \n",
       "\t\t\t\t\t NODE_ID: NODE_1ab3470a-b961-4de6-a454-237155e67b4c \n",
       "\t\t\t\t\t Round 2 Epoch: 1 | Iteration: 2/2 (100%) | Samples: 16/16\n",
       " \t\t\t\t\t Loss: \u001b[1m0.352688\u001b[0m \n",
       "\t\t\t\t\t ---------"
      ]
     },
     "metadata": {},
     "output_type": "display_data"
    },
    {
     "data": {
      "text/plain": [
       "2024-05-24 21:16:15,889 fedbiomed INFO - \u001b[1mINFO\u001b[0m\n",
       "\t\t\t\t\t\u001b[1m NODE\u001b[0m NODE_efae9061-c6e3-4c90-87eb-ba8775edd565\n",
       "\t\t\t\t\t\u001b[1m MESSAGE:\u001b[0m Encryption is completed!\u001b[0m\n",
       "-----------------------------------------------------------------"
      ]
     },
     "metadata": {},
     "output_type": "display_data"
    },
    {
     "data": {
      "text/plain": [
       "2024-05-24 21:16:15,891 fedbiomed INFO - \u001b[1mINFO\u001b[0m\n",
       "\t\t\t\t\t\u001b[1m NODE\u001b[0m NODE_efae9061-c6e3-4c90-87eb-ba8775edd565\n",
       "\t\t\t\t\t\u001b[1m MESSAGE:\u001b[0m Sample size: 249\u001b[0m\n",
       "-----------------------------------------------------------------"
      ]
     },
     "metadata": {},
     "output_type": "display_data"
    },
    {
     "data": {
      "text/plain": [
       "2024-05-24 21:16:15,908 fedbiomed INFO - \u001b[1mINFO\u001b[0m\n",
       "\t\t\t\t\t\u001b[1m NODE\u001b[0m NODE_1ab3470a-b961-4de6-a454-237155e67b4c\n",
       "\t\t\t\t\t\u001b[1m MESSAGE:\u001b[0m Encrypting model parameters. This process can take some time depending on model size.\u001b[0m\n",
       "-----------------------------------------------------------------"
      ]
     },
     "metadata": {},
     "output_type": "display_data"
    },
    {
     "data": {
      "text/plain": [
       "2024-05-24 21:16:16,426 fedbiomed INFO - \u001b[1mINFO\u001b[0m\n",
       "\t\t\t\t\t\u001b[1m NODE\u001b[0m NODE_1ab3470a-b961-4de6-a454-237155e67b4c\n",
       "\t\t\t\t\t\u001b[1m MESSAGE:\u001b[0m Encryption is completed!\u001b[0m\n",
       "-----------------------------------------------------------------"
      ]
     },
     "metadata": {},
     "output_type": "display_data"
    },
    {
     "data": {
      "text/plain": [
       "2024-05-24 21:16:16,427 fedbiomed INFO - \u001b[1mINFO\u001b[0m\n",
       "\t\t\t\t\t\u001b[1m NODE\u001b[0m NODE_1ab3470a-b961-4de6-a454-237155e67b4c\n",
       "\t\t\t\t\t\u001b[1m MESSAGE:\u001b[0m Sample size: 145\u001b[0m\n",
       "-----------------------------------------------------------------"
      ]
     },
     "metadata": {},
     "output_type": "display_data"
    },
    {
     "data": {
      "text/plain": [
       "2024-05-24 21:16:16,530 fedbiomed INFO - Nodes that successfully reply in round 1 ['NODE_7849b47e-12fc-4062-a85a-706aa967e395', 'NODE_1ab3470a-b961-4de6-a454-237155e67b4c', 'NODE_efae9061-c6e3-4c90-87eb-ba8775edd565']"
      ]
     },
     "metadata": {},
     "output_type": "display_data"
    },
    {
     "data": {
      "text/plain": [
       "2024-05-24 21:16:16,549 fedbiomed INFO - Aggregating encrypted parameters. This process may take some time depending on model size."
      ]
     },
     "metadata": {},
     "output_type": "display_data"
    },
    {
     "name": "stderr",
     "output_type": "stream",
     "text": [
      "IOPub data rate exceeded.\n",
      "The notebook server will temporarily stop sending output\n",
      "to the client in order to avoid crashing it.\n",
      "To change this limit, set the config variable\n",
      "`--NotebookApp.iopub_data_rate_limit`.\n",
      "\n",
      "Current values:\n",
      "NotebookApp.iopub_data_rate_limit=1000000.0 (bytes/sec)\n",
      "NotebookApp.rate_limit_window=3.0 (secs)\n",
      "\n"
     ]
    },
    {
     "data": {
      "text/plain": [
       "2024-05-24 21:16:16,806 fedbiomed INFO - Aggregating parameters from 3 nodes."
      ]
     },
     "metadata": {},
     "output_type": "display_data"
    },
    {
     "data": {
      "text/plain": [
       "2024-05-24 21:16:17,097 fedbiomed DEBUG - Aggregation is completed in 0.45 seconds."
      ]
     },
     "metadata": {},
     "output_type": "display_data"
    },
    {
     "data": {
      "text/plain": [
       "2024-05-24 21:16:17,174 fedbiomed INFO - Sampled nodes in round 2 ['NODE_7849b47e-12fc-4062-a85a-706aa967e395', 'NODE_1ab3470a-b961-4de6-a454-237155e67b4c', 'NODE_efae9061-c6e3-4c90-87eb-ba8775edd565']"
      ]
     },
     "metadata": {},
     "output_type": "display_data"
    },
    {
     "data": {
      "text/plain": [
       "2024-05-24 21:16:17,177 fedbiomed INFO - \u001b[1mSending request\u001b[0m \n",
       "\t\t\t\t\t\u001b[1m To\u001b[0m: NODE_7849b47e-12fc-4062-a85a-706aa967e395 \n",
       "\t\t\t\t\t\u001b[1m Request: \u001b[0m: TRAIN\n",
       " -----------------------------------------------------------------"
      ]
     },
     "metadata": {},
     "output_type": "display_data"
    },
    {
     "data": {
      "text/plain": [
       "2024-05-24 21:16:17,177 fedbiomed INFO - \u001b[1mSending request\u001b[0m \n",
       "\t\t\t\t\t\u001b[1m To\u001b[0m: NODE_1ab3470a-b961-4de6-a454-237155e67b4c \n",
       "\t\t\t\t\t\u001b[1m Request: \u001b[0m: TRAIN\n",
       " -----------------------------------------------------------------"
      ]
     },
     "metadata": {},
     "output_type": "display_data"
    },
    {
     "data": {
      "text/plain": [
       "2024-05-24 21:16:17,178 fedbiomed INFO - \u001b[1mSending request\u001b[0m \n",
       "\t\t\t\t\t\u001b[1m To\u001b[0m: NODE_efae9061-c6e3-4c90-87eb-ba8775edd565 \n",
       "\t\t\t\t\t\u001b[1m Request: \u001b[0m: TRAIN\n",
       " -----------------------------------------------------------------"
      ]
     },
     "metadata": {},
     "output_type": "display_data"
    },
    {
     "data": {
      "text/plain": [
       "2024-05-24 21:16:17,213 fedbiomed DEBUG - Node: NODE_7849b47e-12fc-4062-a85a-706aa967e395 polling for the tasks"
      ]
     },
     "metadata": {},
     "output_type": "display_data"
    },
    {
     "data": {
      "text/plain": [
       "2024-05-24 21:16:17,219 fedbiomed DEBUG - Node: NODE_1ab3470a-b961-4de6-a454-237155e67b4c polling for the tasks"
      ]
     },
     "metadata": {},
     "output_type": "display_data"
    },
    {
     "data": {
      "text/plain": [
       "2024-05-24 21:16:17,224 fedbiomed DEBUG - Node: NODE_efae9061-c6e3-4c90-87eb-ba8775edd565 polling for the tasks"
      ]
     },
     "metadata": {},
     "output_type": "display_data"
    },
    {
     "data": {
      "text/plain": [
       "2024-05-24 21:16:31,824 fedbiomed INFO - \u001b[1mTRAINING\u001b[0m \n",
       "\t\t\t\t\t NODE_ID: NODE_7849b47e-12fc-4062-a85a-706aa967e395 \n",
       "\t\t\t\t\t Round 3 Epoch: 1 | Iteration: 1/2 (50%) | Samples: 8/16\n",
       " \t\t\t\t\t Loss: \u001b[1m0.377120\u001b[0m \n",
       "\t\t\t\t\t ---------"
      ]
     },
     "metadata": {},
     "output_type": "display_data"
    },
    {
     "data": {
      "text/plain": [
       "2024-05-24 21:16:33,055 fedbiomed INFO - \u001b[1mTRAINING\u001b[0m \n",
       "\t\t\t\t\t NODE_ID: NODE_1ab3470a-b961-4de6-a454-237155e67b4c \n",
       "\t\t\t\t\t Round 3 Epoch: 1 | Iteration: 1/2 (50%) | Samples: 8/16\n",
       " \t\t\t\t\t Loss: \u001b[1m0.340377\u001b[0m \n",
       "\t\t\t\t\t ---------"
      ]
     },
     "metadata": {},
     "output_type": "display_data"
    },
    {
     "data": {
      "text/plain": [
       "2024-05-24 21:16:33,075 fedbiomed INFO - \u001b[1mTRAINING\u001b[0m \n",
       "\t\t\t\t\t NODE_ID: NODE_efae9061-c6e3-4c90-87eb-ba8775edd565 \n",
       "\t\t\t\t\t Round 3 Epoch: 1 | Iteration: 1/2 (50%) | Samples: 8/16\n",
       " \t\t\t\t\t Loss: \u001b[1m0.351597\u001b[0m \n",
       "\t\t\t\t\t ---------"
      ]
     },
     "metadata": {},
     "output_type": "display_data"
    },
    {
     "data": {
      "text/plain": [
       "2024-05-24 21:16:45,040 fedbiomed INFO - \u001b[1mTRAINING\u001b[0m \n",
       "\t\t\t\t\t NODE_ID: NODE_7849b47e-12fc-4062-a85a-706aa967e395 \n",
       "\t\t\t\t\t Round 3 Epoch: 1 | Iteration: 2/2 (100%) | Samples: 16/16\n",
       " \t\t\t\t\t Loss: \u001b[1m0.370892\u001b[0m \n",
       "\t\t\t\t\t ---------"
      ]
     },
     "metadata": {},
     "output_type": "display_data"
    },
    {
     "data": {
      "text/plain": [
       "2024-05-24 21:16:45,288 fedbiomed INFO - \u001b[1mINFO\u001b[0m\n",
       "\t\t\t\t\t\u001b[1m NODE\u001b[0m NODE_7849b47e-12fc-4062-a85a-706aa967e395\n",
       "\t\t\t\t\t\u001b[1m MESSAGE:\u001b[0m Encrypting model parameters. This process can take some time depending on model size.\u001b[0m\n",
       "-----------------------------------------------------------------"
      ]
     },
     "metadata": {},
     "output_type": "display_data"
    },
    {
     "data": {
      "text/plain": [
       "2024-05-24 21:16:46,304 fedbiomed INFO - \u001b[1mINFO\u001b[0m\n",
       "\t\t\t\t\t\u001b[1m NODE\u001b[0m NODE_7849b47e-12fc-4062-a85a-706aa967e395\n",
       "\t\t\t\t\t\u001b[1m MESSAGE:\u001b[0m Encryption is completed!\u001b[0m\n",
       "-----------------------------------------------------------------"
      ]
     },
     "metadata": {},
     "output_type": "display_data"
    },
    {
     "data": {
      "text/plain": [
       "2024-05-24 21:16:46,306 fedbiomed INFO - \u001b[1mINFO\u001b[0m\n",
       "\t\t\t\t\t\u001b[1m NODE\u001b[0m NODE_7849b47e-12fc-4062-a85a-706aa967e395\n",
       "\t\t\t\t\t\u001b[1m MESSAGE:\u001b[0m Sample size: 59\u001b[0m\n",
       "-----------------------------------------------------------------"
      ]
     },
     "metadata": {},
     "output_type": "display_data"
    },
    {
     "data": {
      "text/plain": [
       "2024-05-24 21:16:46,830 fedbiomed INFO - \u001b[1mTRAINING\u001b[0m \n",
       "\t\t\t\t\t NODE_ID: NODE_1ab3470a-b961-4de6-a454-237155e67b4c \n",
       "\t\t\t\t\t Round 3 Epoch: 1 | Iteration: 2/2 (100%) | Samples: 16/16\n",
       " \t\t\t\t\t Loss: \u001b[1m0.378961\u001b[0m \n",
       "\t\t\t\t\t ---------"
      ]
     },
     "metadata": {},
     "output_type": "display_data"
    },
    {
     "data": {
      "text/plain": [
       "2024-05-24 21:16:47,065 fedbiomed INFO - \u001b[1mINFO\u001b[0m\n",
       "\t\t\t\t\t\u001b[1m NODE\u001b[0m NODE_1ab3470a-b961-4de6-a454-237155e67b4c\n",
       "\t\t\t\t\t\u001b[1m MESSAGE:\u001b[0m Encrypting model parameters. This process can take some time depending on model size.\u001b[0m\n",
       "-----------------------------------------------------------------"
      ]
     },
     "metadata": {},
     "output_type": "display_data"
    },
    {
     "data": {
      "text/plain": [
       "2024-05-24 21:16:47,739 fedbiomed INFO - \u001b[1mINFO\u001b[0m\n",
       "\t\t\t\t\t\u001b[1m NODE\u001b[0m NODE_1ab3470a-b961-4de6-a454-237155e67b4c\n",
       "\t\t\t\t\t\u001b[1m MESSAGE:\u001b[0m Encryption is completed!\u001b[0m\n",
       "-----------------------------------------------------------------"
      ]
     },
     "metadata": {},
     "output_type": "display_data"
    },
    {
     "data": {
      "text/plain": [
       "2024-05-24 21:16:47,742 fedbiomed INFO - \u001b[1mINFO\u001b[0m\n",
       "\t\t\t\t\t\u001b[1m NODE\u001b[0m NODE_1ab3470a-b961-4de6-a454-237155e67b4c\n",
       "\t\t\t\t\t\u001b[1m MESSAGE:\u001b[0m Sample size: 145\u001b[0m\n",
       "-----------------------------------------------------------------"
      ]
     },
     "metadata": {},
     "output_type": "display_data"
    },
    {
     "data": {
      "text/plain": [
       "2024-05-24 21:16:47,960 fedbiomed INFO - \u001b[1mTRAINING\u001b[0m \n",
       "\t\t\t\t\t NODE_ID: NODE_efae9061-c6e3-4c90-87eb-ba8775edd565 \n",
       "\t\t\t\t\t Round 3 Epoch: 1 | Iteration: 2/2 (100%) | Samples: 16/16\n",
       " \t\t\t\t\t Loss: \u001b[1m0.402836\u001b[0m \n",
       "\t\t\t\t\t ---------"
      ]
     },
     "metadata": {},
     "output_type": "display_data"
    },
    {
     "data": {
      "text/plain": [
       "2024-05-24 21:16:48,080 fedbiomed INFO - \u001b[1mINFO\u001b[0m\n",
       "\t\t\t\t\t\u001b[1m NODE\u001b[0m NODE_efae9061-c6e3-4c90-87eb-ba8775edd565\n",
       "\t\t\t\t\t\u001b[1m MESSAGE:\u001b[0m Encrypting model parameters. This process can take some time depending on model size.\u001b[0m\n",
       "-----------------------------------------------------------------"
      ]
     },
     "metadata": {},
     "output_type": "display_data"
    },
    {
     "data": {
      "text/plain": [
       "2024-05-24 21:16:48,579 fedbiomed INFO - \u001b[1mINFO\u001b[0m\n",
       "\t\t\t\t\t\u001b[1m NODE\u001b[0m NODE_efae9061-c6e3-4c90-87eb-ba8775edd565\n",
       "\t\t\t\t\t\u001b[1m MESSAGE:\u001b[0m Encryption is completed!\u001b[0m\n",
       "-----------------------------------------------------------------"
      ]
     },
     "metadata": {},
     "output_type": "display_data"
    },
    {
     "data": {
      "text/plain": [
       "2024-05-24 21:16:48,581 fedbiomed INFO - \u001b[1mINFO\u001b[0m\n",
       "\t\t\t\t\t\u001b[1m NODE\u001b[0m NODE_efae9061-c6e3-4c90-87eb-ba8775edd565\n",
       "\t\t\t\t\t\u001b[1m MESSAGE:\u001b[0m Sample size: 249\u001b[0m\n",
       "-----------------------------------------------------------------"
      ]
     },
     "metadata": {},
     "output_type": "display_data"
    },
    {
     "data": {
      "text/plain": [
       "2024-05-24 21:16:48,689 fedbiomed INFO - Nodes that successfully reply in round 2 ['NODE_7849b47e-12fc-4062-a85a-706aa967e395', 'NODE_1ab3470a-b961-4de6-a454-237155e67b4c', 'NODE_efae9061-c6e3-4c90-87eb-ba8775edd565']"
      ]
     },
     "metadata": {},
     "output_type": "display_data"
    },
    {
     "data": {
      "text/plain": [
       "2024-05-24 21:16:48,705 fedbiomed INFO - Aggregating encrypted parameters. This process may take some time depending on model size."
      ]
     },
     "metadata": {},
     "output_type": "display_data"
    },
    {
     "name": "stderr",
     "output_type": "stream",
     "text": [
      "IOPub data rate exceeded.\n",
      "The notebook server will temporarily stop sending output\n",
      "to the client in order to avoid crashing it.\n",
      "To change this limit, set the config variable\n",
      "`--NotebookApp.iopub_data_rate_limit`.\n",
      "\n",
      "Current values:\n",
      "NotebookApp.iopub_data_rate_limit=1000000.0 (bytes/sec)\n",
      "NotebookApp.rate_limit_window=3.0 (secs)\n",
      "\n"
     ]
    },
    {
     "data": {
      "text/plain": [
       "2024-05-24 21:16:48,962 fedbiomed INFO - Aggregating parameters from 3 nodes."
      ]
     },
     "metadata": {},
     "output_type": "display_data"
    },
    {
     "data": {
      "text/plain": [
       "2024-05-24 21:16:49,244 fedbiomed DEBUG - Aggregation is completed in 0.44 seconds."
      ]
     },
     "metadata": {},
     "output_type": "display_data"
    },
    {
     "data": {
      "text/plain": [
       "3"
      ]
     },
     "execution_count": 12,
     "metadata": {},
     "output_type": "execute_result"
    }
   ],
   "source": [
    "exp_sec_agg_lom.run()"
   ]
  },
  {
   "cell_type": "code",
   "execution_count": 15,
   "id": "2e04e6d9",
   "metadata": {},
   "outputs": [
    {
     "name": "stdout",
     "output_type": "stream",
     "text": [
      "\n",
      "List the training rounds :  dict_keys([0, 1, 2])\n",
      "\n",
      "List the nodes for the last training round and their timings : \n",
      "\t- NODE_7849b47e-12fc-4062-a85a-706aa967e395 :        \n",
      "\t\trtime_training=26.88 seconds        \n",
      "\t\tptime_training=70.82 seconds        \n",
      "\t\ttime_encrypt=0.44 seconds        \n",
      "\t\tptxt_model_size=15.06 MB        \n",
      "\t\tctxt_model_size=16.94 MB        \n",
      "\t\trtime_total=27.87 seconds\n",
      "\t- NODE_1ab3470a-b961-4de6-a454-237155e67b4c :        \n",
      "\t\trtime_training=26.20 seconds        \n",
      "\t\tptime_training=68.51 seconds        \n",
      "\t\ttime_encrypt=0.62 seconds        \n",
      "\t\tptxt_model_size=15.06 MB        \n",
      "\t\tctxt_model_size=18.35 MB        \n",
      "\t\trtime_total=27.87 seconds\n",
      "\t- NODE_efae9061-c6e3-4c90-87eb-ba8775edd565 :        \n",
      "\t\trtime_training=26.94 seconds        \n",
      "\t\tptime_training=70.61 seconds        \n",
      "\t\ttime_encrypt=0.43 seconds        \n",
      "\t\tptxt_model_size=15.06 MB        \n",
      "\t\tctxt_model_size=18.35 MB        \n",
      "\t\trtime_total=27.87 seconds\n",
      "\n",
      "\n",
      "\t- NODE_7849b47e-12fc-4062-a85a-706aa967e395 :        \n",
      "\t\trtime_training=25.17 seconds        \n",
      "\t\tptime_training=67.78 seconds        \n",
      "\t\ttime_encrypt=0.76 seconds        \n",
      "\t\tptxt_model_size=15.06 MB        \n",
      "\t\tctxt_model_size=16.94 MB        \n",
      "\t\trtime_total=29.32 seconds\n",
      "\t- NODE_1ab3470a-b961-4de6-a454-237155e67b4c :        \n",
      "\t\trtime_training=28.51 seconds        \n",
      "\t\tptime_training=74.02 seconds        \n",
      "\t\ttime_encrypt=0.42 seconds        \n",
      "\t\tptxt_model_size=15.06 MB        \n",
      "\t\tctxt_model_size=18.35 MB        \n",
      "\t\trtime_total=29.32 seconds\n",
      "\t- NODE_efae9061-c6e3-4c90-87eb-ba8775edd565 :        \n",
      "\t\trtime_training=27.84 seconds        \n",
      "\t\tptime_training=74.68 seconds        \n",
      "\t\ttime_encrypt=0.51 seconds        \n",
      "\t\tptxt_model_size=15.06 MB        \n",
      "\t\tctxt_model_size=18.35 MB        \n",
      "\t\trtime_total=29.32 seconds\n",
      "\n",
      "\n",
      "\t- NODE_7849b47e-12fc-4062-a85a-706aa967e395 :        \n",
      "\t\trtime_training=27.76 seconds        \n",
      "\t\tptime_training=71.30 seconds        \n",
      "\t\ttime_encrypt=0.80 seconds        \n",
      "\t\tptxt_model_size=15.06 MB        \n",
      "\t\tctxt_model_size=16.94 MB        \n",
      "\t\trtime_total=31.45 seconds\n",
      "\t- NODE_1ab3470a-b961-4de6-a454-237155e67b4c :        \n",
      "\t\trtime_training=29.54 seconds        \n",
      "\t\tptime_training=76.63 seconds        \n",
      "\t\ttime_encrypt=0.56 seconds        \n",
      "\t\tptxt_model_size=15.06 MB        \n",
      "\t\tctxt_model_size=18.35 MB        \n",
      "\t\trtime_total=31.45 seconds\n",
      "\t- NODE_efae9061-c6e3-4c90-87eb-ba8775edd565 :        \n",
      "\t\trtime_training=30.65 seconds        \n",
      "\t\tptime_training=79.31 seconds        \n",
      "\t\ttime_encrypt=0.42 seconds        \n",
      "\t\tptxt_model_size=15.06 MB        \n",
      "\t\tctxt_model_size=18.35 MB        \n",
      "\t\trtime_total=31.45 seconds\n",
      "\n",
      "\n"
     ]
    }
   ],
   "source": [
    "print(\"\\nList the training rounds : \", exp_sec_agg_lom.training_replies().keys())\n",
    "\n",
    "print(\"\\nList the nodes for the last training round and their timings : \")\n",
    "for rnd in range(3):\n",
    "    round_data = exp_sec_agg_lom.training_replies()[rnd]\n",
    "    for r in round_data.values():\n",
    "        print(\"\\t- {id} :\\\n",
    "        \\n\\t\\trtime_training={rtraining:.2f} seconds\\\n",
    "        \\n\\t\\tptime_training={ptraining:.2f} seconds\\\n",
    "        \\n\\t\\ttime_encrypt={time_encrypt:.2f} seconds\\\n",
    "        \\n\\t\\tptxt_model_size={ptxt_model_size:.2f} MB\\\n",
    "        \\n\\t\\tctxt_model_size={ctxt_model_size:.2f} MB\\\n",
    "        \\n\\t\\trtime_total={rtotal:.2f} seconds\".format(id = r['node_id'],\n",
    "            rtraining = r['timing']['rtime_training'],\n",
    "            ptraining = r['timing']['ptime_training'],\n",
    "            time_encrypt = r['timing']['time_encrypt'],\n",
    "            ptxt_model_size = r['communication']['ptxt_model_size'],\n",
    "            ctxt_model_size = r['communication']['ctxt_model_size'],\n",
    "            rtotal = r['timing']['rtime_total'],))\n",
    "    print('\\n')"
   ]
  },
  {
   "cell_type": "code",
   "execution_count": 20,
   "id": "c5209261",
   "metadata": {},
   "outputs": [
    {
     "data": {
      "text/plain": [
       "2024-05-24 21:20:24,361 fedbiomed INFO - Updating training data. This action will update FederatedDataset, and the nodes that will participate to the experiment."
      ]
     },
     "metadata": {},
     "output_type": "display_data"
    },
    {
     "data": {
      "text/plain": [
       "2024-05-24 21:20:24,367 fedbiomed DEBUG - Node: NODE_7849b47e-12fc-4062-a85a-706aa967e395 polling for the tasks"
      ]
     },
     "metadata": {},
     "output_type": "display_data"
    },
    {
     "data": {
      "text/plain": [
       "2024-05-24 21:20:24,370 fedbiomed DEBUG - Node: NODE_1ab3470a-b961-4de6-a454-237155e67b4c polling for the tasks"
      ]
     },
     "metadata": {},
     "output_type": "display_data"
    },
    {
     "data": {
      "text/plain": [
       "2024-05-24 21:20:24,372 fedbiomed DEBUG - Node: NODE_efae9061-c6e3-4c90-87eb-ba8775edd565 polling for the tasks"
      ]
     },
     "metadata": {},
     "output_type": "display_data"
    },
    {
     "data": {
      "text/plain": [
       "2024-05-24 21:20:24,376 fedbiomed INFO - Node selected for training -> NODE_7849b47e-12fc-4062-a85a-706aa967e395"
      ]
     },
     "metadata": {},
     "output_type": "display_data"
    },
    {
     "data": {
      "text/plain": [
       "2024-05-24 21:20:24,377 fedbiomed INFO - Node selected for training -> NODE_1ab3470a-b961-4de6-a454-237155e67b4c"
      ]
     },
     "metadata": {},
     "output_type": "display_data"
    },
    {
     "data": {
      "text/plain": [
       "2024-05-24 21:20:24,377 fedbiomed INFO - Node selected for training -> NODE_efae9061-c6e3-4c90-87eb-ba8775edd565"
      ]
     },
     "metadata": {},
     "output_type": "display_data"
    },
    {
     "data": {
      "text/plain": [
       "2024-05-24 21:20:24,380 fedbiomed DEBUG - Model file has been saved: /workspaces/Projects/fedbiomed/var/experiments/Experiment_0036/model_77d992e8-479a-4bca-b052-b5abd55417ae.py"
      ]
     },
     "metadata": {},
     "output_type": "display_data"
    }
   ],
   "source": [
    "exp_sec_agg_jls = Experiment(tags=tags,\n",
    "                 model_args=model_args,\n",
    "                 training_plan_class=MyTrainingPlan,\n",
    "                 training_args=training_args,\n",
    "                 round_limit=rounds,\n",
    "                 aggregator=FedAverage(),\n",
    "                secagg=SecureAggregation(active=True, scheme='jls'),\n",
    "                 # or custom SecureAggregation(active=<bool>, clipping_range=<int>)\n",
    "                  tensorboard=True,\n",
    "                 node_selection_strategy=None)"
   ]
  },
  {
   "cell_type": "code",
   "execution_count": 21,
   "id": "e0bae108",
   "metadata": {},
   "outputs": [
    {
     "data": {
      "text/plain": [
       "2024-05-24 21:20:25,203 fedbiomed DEBUG - Secagg context for default_biprime0 is already existing on researcher researcher_id='RESEARCHER_596f170d-96d8-417a-8ddf-9bdb1cf7d52b'"
      ]
     },
     "metadata": {},
     "output_type": "display_data"
    },
    {
     "data": {
      "text/plain": [
       "2024-05-24 21:20:25,209 fedbiomed DEBUG - Node: NODE_1ab3470a-b961-4de6-a454-237155e67b4c polling for the tasks"
      ]
     },
     "metadata": {},
     "output_type": "display_data"
    },
    {
     "data": {
      "text/plain": [
       "2024-05-24 21:20:25,211 fedbiomed DEBUG - Node: NODE_7849b47e-12fc-4062-a85a-706aa967e395 polling for the tasks"
      ]
     },
     "metadata": {},
     "output_type": "display_data"
    },
    {
     "data": {
      "text/plain": [
       "2024-05-24 21:20:25,213 fedbiomed DEBUG - Node: NODE_efae9061-c6e3-4c90-87eb-ba8775edd565 polling for the tasks"
      ]
     },
     "metadata": {},
     "output_type": "display_data"
    },
    {
     "data": {
      "text/plain": [
       "2024-05-24 21:20:25,225 fedbiomed DEBUG - Node: NODE_7849b47e-12fc-4062-a85a-706aa967e395 polling for the tasks"
      ]
     },
     "metadata": {},
     "output_type": "display_data"
    },
    {
     "data": {
      "text/plain": [
       "2024-05-24 21:20:25,228 fedbiomed DEBUG - Node: NODE_1ab3470a-b961-4de6-a454-237155e67b4c polling for the tasks"
      ]
     },
     "metadata": {},
     "output_type": "display_data"
    },
    {
     "data": {
      "text/plain": [
       "2024-05-24 21:20:25,230 fedbiomed DEBUG - Node: NODE_efae9061-c6e3-4c90-87eb-ba8775edd565 polling for the tasks"
      ]
     },
     "metadata": {},
     "output_type": "display_data"
    },
    {
     "data": {
      "text/plain": [
       "2024-05-24 21:20:27,759 fedbiomed DEBUG - MPC protocol output: \n",
       "\t\t\t\t\t\t \u001b[1;32mCloning MP-SPDZ into the MPC working directory ...\u001b[0m\n",
       "\t\t\t\t\t\t\n",
       "\t\t\t\t\t\tDoing /workspaces/Projects/fedbiomed/var/tmp/MPC/RESEARCHER_596f170d-96d8-417a-8ddf-9bdb1cf7d52b/5181cdd6-14b6-4c89-afb8-b0fdbd51ea82/MP-SPDZ/Player-Data\n",
       "\t\t\t\t\t\t\u001b[1;32mCompiling 'server_key'...\u001b[0m\n",
       "\t\t\t\t\t\t\n",
       "\t\t\t\t\t\t\u001b[1;32mCompilation is successful!\u001b[0m\n",
       "\t\t\t\t\t\t##########################################################################\n",
       "\t\t\t\t\t\tDefault bit length: 2048\n",
       "\t\t\t\t\t\tDefault security parameter: 40\n",
       "\t\t\t\t\t\tCompiling: server_key from compile_func\n",
       "\t\t\t\t\t\tWriting to /workspaces/Projects/fedbiomed/var/tmp/MPC/RESEARCHER_596f170d-96d8-417a-8ddf-9bdb1cf7d52b/5181cdd6-14b6-4c89-afb8-b0fdbd51ea82/MP-SPDZ/Programs/Schedules/server_key.sch\n",
       "\t\t\t\t\t\tWriting to /workspaces/Projects/fedbiomed/var/tmp/MPC/RESEARCHER_596f170d-96d8-417a-8ddf-9bdb1cf7d52b/5181cdd6-14b6-4c89-afb8-b0fdbd51ea82/MP-SPDZ/Programs/Bytecode/server_key-0.bc\n",
       "\t\t\t\t\t\tProgram requires at most:\n",
       "\t\t\t\t\t\t         inf integer inputs from player 0\n",
       "\t\t\t\t\t\t           1 virtual machine rounds\n",
       "\t\t\t\t\t\t##########################################################################\n",
       "\t\t\t\t\t\t\n",
       "\t\t\t\t\t\t\n",
       "\t\t\t\t\t\t\u001b[1;33mExecution info:\u001b[0m\n",
       "\t\t\t\t\t\t\u001b[1;33m---------------------------------------\u001b[0m\n",
       "\t\t\t\t\t\t\u001b[1mParty no          :\u001b[0m 0\n",
       "\t\t\t\t\t\t\u001b[1mNumber of parties :\u001b[0m 4\n",
       "\t\t\t\t\t\t\u001b[1mAssigned IPs      :\u001b[0m /workspaces/Projects/fedbiomed/var/tmp/MPC/RESEARCHER_596f170d-96d8-417a-8ddf-9bdb1cf7d52b/5181cdd6-14b6-4c89-afb8-b0fdbd51ea82/ip_addresses\n",
       "\t\t\t\t\t\t\u001b[1mOutput file       :\u001b[0m /workspaces/Projects/fedbiomed/var/tmp/MPC/RESEARCHER_596f170d-96d8-417a-8ddf-9bdb1cf7d52b/5181cdd6-14b6-4c89-afb8-b0fdbd51ea82/Output-P0-0\n",
       "\t\t\t\t\t\t\u001b[1;32mExecuting protocol 'shamir-party'...\u001b[0m\n",
       "\t\t\t\t\t\t\u001b[1mPress CTRL+C to stop\u001b[0m\n",
       "\t\t\t\t\t\tUsing security parameter 40\n",
       "\t\t\t\t\t\tThe following benchmarks are including preprocessing (offline phase).\n",
       "\t\t\t\t\t\tTime = 0.00223978 seconds \n",
       "\t\t\t\t\t\tData sent = 0 MB in ~6 rounds (party 0)\n",
       "\t\t\t\t\t\tGlobal data sent = 0.002376 MB (all parties)\n",
       "\t\t\t\t\t\t"
      ]
     },
     "metadata": {},
     "output_type": "display_data"
    },
    {
     "data": {
      "text/plain": [
       "2024-05-24 21:20:27,768 fedbiomed DEBUG - Server key successfully created for researcher_id='RESEARCHER_596f170d-96d8-417a-8ddf-9bdb1cf7d52b' secagg_id='secagg_9c45d4b6-28f2-42a7-9228-df1f2851a8e9'"
      ]
     },
     "metadata": {},
     "output_type": "display_data"
    },
    {
     "data": {
      "text/plain": [
       "2024-05-24 21:20:27,771 fedbiomed INFO - Sampled nodes in round 0 ['NODE_7849b47e-12fc-4062-a85a-706aa967e395', 'NODE_1ab3470a-b961-4de6-a454-237155e67b4c', 'NODE_efae9061-c6e3-4c90-87eb-ba8775edd565']"
      ]
     },
     "metadata": {},
     "output_type": "display_data"
    },
    {
     "data": {
      "text/plain": [
       "2024-05-24 21:20:27,774 fedbiomed INFO - \u001b[1mSending request\u001b[0m \n",
       "\t\t\t\t\t\u001b[1m To\u001b[0m: NODE_7849b47e-12fc-4062-a85a-706aa967e395 \n",
       "\t\t\t\t\t\u001b[1m Request: \u001b[0m: TRAIN\n",
       " -----------------------------------------------------------------"
      ]
     },
     "metadata": {},
     "output_type": "display_data"
    },
    {
     "data": {
      "text/plain": [
       "2024-05-24 21:20:27,775 fedbiomed INFO - \u001b[1mSending request\u001b[0m \n",
       "\t\t\t\t\t\u001b[1m To\u001b[0m: NODE_1ab3470a-b961-4de6-a454-237155e67b4c \n",
       "\t\t\t\t\t\u001b[1m Request: \u001b[0m: TRAIN\n",
       " -----------------------------------------------------------------"
      ]
     },
     "metadata": {},
     "output_type": "display_data"
    },
    {
     "data": {
      "text/plain": [
       "2024-05-24 21:20:27,776 fedbiomed INFO - \u001b[1mSending request\u001b[0m \n",
       "\t\t\t\t\t\u001b[1m To\u001b[0m: NODE_efae9061-c6e3-4c90-87eb-ba8775edd565 \n",
       "\t\t\t\t\t\u001b[1m Request: \u001b[0m: TRAIN\n",
       " -----------------------------------------------------------------"
      ]
     },
     "metadata": {},
     "output_type": "display_data"
    },
    {
     "data": {
      "text/plain": [
       "2024-05-24 21:20:27,814 fedbiomed DEBUG - Node: NODE_1ab3470a-b961-4de6-a454-237155e67b4c polling for the tasks"
      ]
     },
     "metadata": {},
     "output_type": "display_data"
    },
    {
     "data": {
      "text/plain": [
       "2024-05-24 21:20:27,816 fedbiomed DEBUG - Node: NODE_7849b47e-12fc-4062-a85a-706aa967e395 polling for the tasks"
      ]
     },
     "metadata": {},
     "output_type": "display_data"
    },
    {
     "data": {
      "text/plain": [
       "2024-05-24 21:20:27,826 fedbiomed DEBUG - Node: NODE_efae9061-c6e3-4c90-87eb-ba8775edd565 polling for the tasks"
      ]
     },
     "metadata": {},
     "output_type": "display_data"
    },
    {
     "data": {
      "text/plain": [
       "2024-05-24 21:20:39,083 fedbiomed INFO - \u001b[1mTRAINING\u001b[0m \n",
       "\t\t\t\t\t NODE_ID: NODE_7849b47e-12fc-4062-a85a-706aa967e395 \n",
       "\t\t\t\t\t Round 1 Epoch: 1 | Iteration: 1/2 (50%) | Samples: 8/16\n",
       " \t\t\t\t\t Loss: \u001b[1m0.502098\u001b[0m \n",
       "\t\t\t\t\t ---------"
      ]
     },
     "metadata": {},
     "output_type": "display_data"
    },
    {
     "data": {
      "text/plain": [
       "2024-05-24 21:20:40,131 fedbiomed INFO - \u001b[1mTRAINING\u001b[0m \n",
       "\t\t\t\t\t NODE_ID: NODE_1ab3470a-b961-4de6-a454-237155e67b4c \n",
       "\t\t\t\t\t Round 1 Epoch: 1 | Iteration: 1/2 (50%) | Samples: 8/16\n",
       " \t\t\t\t\t Loss: \u001b[1m0.526610\u001b[0m \n",
       "\t\t\t\t\t ---------"
      ]
     },
     "metadata": {},
     "output_type": "display_data"
    },
    {
     "data": {
      "text/plain": [
       "2024-05-24 21:20:42,213 fedbiomed INFO - \u001b[1mTRAINING\u001b[0m \n",
       "\t\t\t\t\t NODE_ID: NODE_efae9061-c6e3-4c90-87eb-ba8775edd565 \n",
       "\t\t\t\t\t Round 1 Epoch: 1 | Iteration: 1/2 (50%) | Samples: 8/16\n",
       " \t\t\t\t\t Loss: \u001b[1m0.505772\u001b[0m \n",
       "\t\t\t\t\t ---------"
      ]
     },
     "metadata": {},
     "output_type": "display_data"
    },
    {
     "data": {
      "text/plain": [
       "2024-05-24 21:20:53,223 fedbiomed INFO - \u001b[1mTRAINING\u001b[0m \n",
       "\t\t\t\t\t NODE_ID: NODE_7849b47e-12fc-4062-a85a-706aa967e395 \n",
       "\t\t\t\t\t Round 1 Epoch: 1 | Iteration: 2/2 (100%) | Samples: 16/16\n",
       " \t\t\t\t\t Loss: \u001b[1m0.344358\u001b[0m \n",
       "\t\t\t\t\t ---------"
      ]
     },
     "metadata": {},
     "output_type": "display_data"
    },
    {
     "data": {
      "text/plain": [
       "2024-05-24 21:20:53,451 fedbiomed INFO - \u001b[1mINFO\u001b[0m\n",
       "\t\t\t\t\t\u001b[1m NODE\u001b[0m NODE_7849b47e-12fc-4062-a85a-706aa967e395\n",
       "\t\t\t\t\t\u001b[1m MESSAGE:\u001b[0m Encrypting model parameters. This process can take some time depending on model size.\u001b[0m\n",
       "-----------------------------------------------------------------"
      ]
     },
     "metadata": {},
     "output_type": "display_data"
    },
    {
     "data": {
      "text/plain": [
       "2024-05-24 21:20:53,842 fedbiomed INFO - \u001b[1mTRAINING\u001b[0m \n",
       "\t\t\t\t\t NODE_ID: NODE_1ab3470a-b961-4de6-a454-237155e67b4c \n",
       "\t\t\t\t\t Round 1 Epoch: 1 | Iteration: 2/2 (100%) | Samples: 16/16\n",
       " \t\t\t\t\t Loss: \u001b[1m0.327622\u001b[0m \n",
       "\t\t\t\t\t ---------"
      ]
     },
     "metadata": {},
     "output_type": "display_data"
    },
    {
     "data": {
      "text/plain": [
       "2024-05-24 21:20:54,035 fedbiomed INFO - \u001b[1mINFO\u001b[0m\n",
       "\t\t\t\t\t\u001b[1m NODE\u001b[0m NODE_1ab3470a-b961-4de6-a454-237155e67b4c\n",
       "\t\t\t\t\t\u001b[1m MESSAGE:\u001b[0m Encrypting model parameters. This process can take some time depending on model size.\u001b[0m\n",
       "-----------------------------------------------------------------"
      ]
     },
     "metadata": {},
     "output_type": "display_data"
    },
    {
     "data": {
      "text/plain": [
       "2024-05-24 21:20:55,253 fedbiomed INFO - \u001b[1mTRAINING\u001b[0m \n",
       "\t\t\t\t\t NODE_ID: NODE_efae9061-c6e3-4c90-87eb-ba8775edd565 \n",
       "\t\t\t\t\t Round 1 Epoch: 1 | Iteration: 2/2 (100%) | Samples: 16/16\n",
       " \t\t\t\t\t Loss: \u001b[1m0.336254\u001b[0m \n",
       "\t\t\t\t\t ---------"
      ]
     },
     "metadata": {},
     "output_type": "display_data"
    },
    {
     "data": {
      "text/plain": [
       "2024-05-24 21:20:55,382 fedbiomed INFO - \u001b[1mINFO\u001b[0m\n",
       "\t\t\t\t\t\u001b[1m NODE\u001b[0m NODE_efae9061-c6e3-4c90-87eb-ba8775edd565\n",
       "\t\t\t\t\t\u001b[1m MESSAGE:\u001b[0m Encrypting model parameters. This process can take some time depending on model size.\u001b[0m\n",
       "-----------------------------------------------------------------"
      ]
     },
     "metadata": {},
     "output_type": "display_data"
    },
    {
     "data": {
      "text/plain": [
       "2024-05-24 21:21:42,955 fedbiomed INFO - \u001b[1mINFO\u001b[0m\n",
       "\t\t\t\t\t\u001b[1m NODE\u001b[0m NODE_7849b47e-12fc-4062-a85a-706aa967e395\n",
       "\t\t\t\t\t\u001b[1m MESSAGE:\u001b[0m Encryption is completed!\u001b[0m\n",
       "-----------------------------------------------------------------"
      ]
     },
     "metadata": {},
     "output_type": "display_data"
    },
    {
     "data": {
      "text/plain": [
       "2024-05-24 21:21:42,957 fedbiomed INFO - \u001b[1mINFO\u001b[0m\n",
       "\t\t\t\t\t\u001b[1m NODE\u001b[0m NODE_7849b47e-12fc-4062-a85a-706aa967e395\n",
       "\t\t\t\t\t\u001b[1m MESSAGE:\u001b[0m Sample size: 59\u001b[0m\n",
       "-----------------------------------------------------------------"
      ]
     },
     "metadata": {},
     "output_type": "display_data"
    },
    {
     "data": {
      "text/plain": [
       "2024-05-24 21:21:43,263 fedbiomed INFO - \u001b[1mINFO\u001b[0m\n",
       "\t\t\t\t\t\u001b[1m NODE\u001b[0m NODE_1ab3470a-b961-4de6-a454-237155e67b4c\n",
       "\t\t\t\t\t\u001b[1m MESSAGE:\u001b[0m Encryption is completed!\u001b[0m\n",
       "-----------------------------------------------------------------"
      ]
     },
     "metadata": {},
     "output_type": "display_data"
    },
    {
     "data": {
      "text/plain": [
       "2024-05-24 21:21:43,265 fedbiomed INFO - \u001b[1mINFO\u001b[0m\n",
       "\t\t\t\t\t\u001b[1m NODE\u001b[0m NODE_1ab3470a-b961-4de6-a454-237155e67b4c\n",
       "\t\t\t\t\t\u001b[1m MESSAGE:\u001b[0m Sample size: 145\u001b[0m\n",
       "-----------------------------------------------------------------"
      ]
     },
     "metadata": {},
     "output_type": "display_data"
    },
    {
     "data": {
      "text/plain": [
       "2024-05-24 21:21:44,295 fedbiomed INFO - \u001b[1mINFO\u001b[0m\n",
       "\t\t\t\t\t\u001b[1m NODE\u001b[0m NODE_efae9061-c6e3-4c90-87eb-ba8775edd565\n",
       "\t\t\t\t\t\u001b[1m MESSAGE:\u001b[0m Encryption is completed!\u001b[0m\n",
       "-----------------------------------------------------------------"
      ]
     },
     "metadata": {},
     "output_type": "display_data"
    },
    {
     "data": {
      "text/plain": [
       "2024-05-24 21:21:44,296 fedbiomed INFO - \u001b[1mINFO\u001b[0m\n",
       "\t\t\t\t\t\u001b[1m NODE\u001b[0m NODE_efae9061-c6e3-4c90-87eb-ba8775edd565\n",
       "\t\t\t\t\t\u001b[1m MESSAGE:\u001b[0m Sample size: 249\u001b[0m\n",
       "-----------------------------------------------------------------"
      ]
     },
     "metadata": {},
     "output_type": "display_data"
    },
    {
     "data": {
      "text/plain": [
       "2024-05-24 21:21:44,400 fedbiomed INFO - Nodes that successfully reply in round 0 ['NODE_7849b47e-12fc-4062-a85a-706aa967e395', 'NODE_1ab3470a-b961-4de6-a454-237155e67b4c', 'NODE_efae9061-c6e3-4c90-87eb-ba8775edd565']"
      ]
     },
     "metadata": {},
     "output_type": "display_data"
    },
    {
     "data": {
      "text/plain": [
       "2024-05-24 21:21:44,416 fedbiomed INFO - Aggregating encrypted parameters. This process may take some time depending on model size."
      ]
     },
     "metadata": {},
     "output_type": "display_data"
    },
    {
     "data": {
      "text/plain": [
       "2024-05-24 21:22:26,249 fedbiomed INFO - Aggregating 3 parameters from 3 nodes."
      ]
     },
     "metadata": {},
     "output_type": "display_data"
    },
    {
     "data": {
      "text/plain": [
       "2024-05-24 21:22:26,414 fedbiomed DEBUG - Aggregation is completed in 41.92 seconds."
      ]
     },
     "metadata": {},
     "output_type": "display_data"
    },
    {
     "data": {
      "text/plain": [
       "2024-05-24 21:22:26,481 fedbiomed INFO - Sampled nodes in round 1 ['NODE_7849b47e-12fc-4062-a85a-706aa967e395', 'NODE_1ab3470a-b961-4de6-a454-237155e67b4c', 'NODE_efae9061-c6e3-4c90-87eb-ba8775edd565']"
      ]
     },
     "metadata": {},
     "output_type": "display_data"
    },
    {
     "data": {
      "text/plain": [
       "2024-05-24 21:22:26,483 fedbiomed INFO - \u001b[1mSending request\u001b[0m \n",
       "\t\t\t\t\t\u001b[1m To\u001b[0m: NODE_7849b47e-12fc-4062-a85a-706aa967e395 \n",
       "\t\t\t\t\t\u001b[1m Request: \u001b[0m: TRAIN\n",
       " -----------------------------------------------------------------"
      ]
     },
     "metadata": {},
     "output_type": "display_data"
    },
    {
     "data": {
      "text/plain": [
       "2024-05-24 21:22:26,484 fedbiomed INFO - \u001b[1mSending request\u001b[0m \n",
       "\t\t\t\t\t\u001b[1m To\u001b[0m: NODE_1ab3470a-b961-4de6-a454-237155e67b4c \n",
       "\t\t\t\t\t\u001b[1m Request: \u001b[0m: TRAIN\n",
       " -----------------------------------------------------------------"
      ]
     },
     "metadata": {},
     "output_type": "display_data"
    },
    {
     "data": {
      "text/plain": [
       "2024-05-24 21:22:26,485 fedbiomed INFO - \u001b[1mSending request\u001b[0m \n",
       "\t\t\t\t\t\u001b[1m To\u001b[0m: NODE_efae9061-c6e3-4c90-87eb-ba8775edd565 \n",
       "\t\t\t\t\t\u001b[1m Request: \u001b[0m: TRAIN\n",
       " -----------------------------------------------------------------"
      ]
     },
     "metadata": {},
     "output_type": "display_data"
    },
    {
     "data": {
      "text/plain": [
       "2024-05-24 21:22:26,515 fedbiomed DEBUG - Node: NODE_7849b47e-12fc-4062-a85a-706aa967e395 polling for the tasks"
      ]
     },
     "metadata": {},
     "output_type": "display_data"
    },
    {
     "data": {
      "text/plain": [
       "2024-05-24 21:22:26,520 fedbiomed DEBUG - Node: NODE_1ab3470a-b961-4de6-a454-237155e67b4c polling for the tasks"
      ]
     },
     "metadata": {},
     "output_type": "display_data"
    },
    {
     "data": {
      "text/plain": [
       "2024-05-24 21:22:26,527 fedbiomed DEBUG - Node: NODE_efae9061-c6e3-4c90-87eb-ba8775edd565 polling for the tasks"
      ]
     },
     "metadata": {},
     "output_type": "display_data"
    },
    {
     "data": {
      "text/plain": [
       "2024-05-24 21:22:39,225 fedbiomed INFO - \u001b[1mTRAINING\u001b[0m \n",
       "\t\t\t\t\t NODE_ID: NODE_1ab3470a-b961-4de6-a454-237155e67b4c \n",
       "\t\t\t\t\t Round 2 Epoch: 1 | Iteration: 1/2 (50%) | Samples: 8/16\n",
       " \t\t\t\t\t Loss: \u001b[1m0.276116\u001b[0m \n",
       "\t\t\t\t\t ---------"
      ]
     },
     "metadata": {},
     "output_type": "display_data"
    },
    {
     "data": {
      "text/plain": [
       "2024-05-24 21:22:41,924 fedbiomed INFO - \u001b[1mTRAINING\u001b[0m \n",
       "\t\t\t\t\t NODE_ID: NODE_efae9061-c6e3-4c90-87eb-ba8775edd565 \n",
       "\t\t\t\t\t Round 2 Epoch: 1 | Iteration: 1/2 (50%) | Samples: 8/16\n",
       " \t\t\t\t\t Loss: \u001b[1m0.284016\u001b[0m \n",
       "\t\t\t\t\t ---------"
      ]
     },
     "metadata": {},
     "output_type": "display_data"
    },
    {
     "data": {
      "text/plain": [
       "2024-05-24 21:22:42,749 fedbiomed INFO - \u001b[1mTRAINING\u001b[0m \n",
       "\t\t\t\t\t NODE_ID: NODE_7849b47e-12fc-4062-a85a-706aa967e395 \n",
       "\t\t\t\t\t Round 2 Epoch: 1 | Iteration: 1/2 (50%) | Samples: 8/16\n",
       " \t\t\t\t\t Loss: \u001b[1m0.293876\u001b[0m \n",
       "\t\t\t\t\t ---------"
      ]
     },
     "metadata": {},
     "output_type": "display_data"
    },
    {
     "data": {
      "text/plain": [
       "2024-05-24 21:22:51,230 fedbiomed INFO - \u001b[1mTRAINING\u001b[0m \n",
       "\t\t\t\t\t NODE_ID: NODE_1ab3470a-b961-4de6-a454-237155e67b4c \n",
       "\t\t\t\t\t Round 2 Epoch: 1 | Iteration: 2/2 (100%) | Samples: 16/16\n",
       " \t\t\t\t\t Loss: \u001b[1m0.418970\u001b[0m \n",
       "\t\t\t\t\t ---------"
      ]
     },
     "metadata": {},
     "output_type": "display_data"
    },
    {
     "data": {
      "text/plain": [
       "2024-05-24 21:22:51,431 fedbiomed INFO - \u001b[1mINFO\u001b[0m\n",
       "\t\t\t\t\t\u001b[1m NODE\u001b[0m NODE_1ab3470a-b961-4de6-a454-237155e67b4c\n",
       "\t\t\t\t\t\u001b[1m MESSAGE:\u001b[0m Encrypting model parameters. This process can take some time depending on model size.\u001b[0m\n",
       "-----------------------------------------------------------------"
      ]
     },
     "metadata": {},
     "output_type": "display_data"
    },
    {
     "data": {
      "text/plain": [
       "2024-05-24 21:22:56,640 fedbiomed INFO - \u001b[1mTRAINING\u001b[0m \n",
       "\t\t\t\t\t NODE_ID: NODE_7849b47e-12fc-4062-a85a-706aa967e395 \n",
       "\t\t\t\t\t Round 2 Epoch: 1 | Iteration: 2/2 (100%) | Samples: 16/16\n",
       " \t\t\t\t\t Loss: \u001b[1m0.574338\u001b[0m \n",
       "\t\t\t\t\t ---------"
      ]
     },
     "metadata": {},
     "output_type": "display_data"
    },
    {
     "data": {
      "text/plain": [
       "2024-05-24 21:22:56,880 fedbiomed INFO - \u001b[1mINFO\u001b[0m\n",
       "\t\t\t\t\t\u001b[1m NODE\u001b[0m NODE_7849b47e-12fc-4062-a85a-706aa967e395\n",
       "\t\t\t\t\t\u001b[1m MESSAGE:\u001b[0m Encrypting model parameters. This process can take some time depending on model size.\u001b[0m\n",
       "-----------------------------------------------------------------"
      ]
     },
     "metadata": {},
     "output_type": "display_data"
    },
    {
     "data": {
      "text/plain": [
       "2024-05-24 21:22:57,318 fedbiomed INFO - \u001b[1mTRAINING\u001b[0m \n",
       "\t\t\t\t\t NODE_ID: NODE_efae9061-c6e3-4c90-87eb-ba8775edd565 \n",
       "\t\t\t\t\t Round 2 Epoch: 1 | Iteration: 2/2 (100%) | Samples: 16/16\n",
       " \t\t\t\t\t Loss: \u001b[1m0.417872\u001b[0m \n",
       "\t\t\t\t\t ---------"
      ]
     },
     "metadata": {},
     "output_type": "display_data"
    },
    {
     "data": {
      "text/plain": [
       "2024-05-24 21:22:57,578 fedbiomed INFO - \u001b[1mINFO\u001b[0m\n",
       "\t\t\t\t\t\u001b[1m NODE\u001b[0m NODE_efae9061-c6e3-4c90-87eb-ba8775edd565\n",
       "\t\t\t\t\t\u001b[1m MESSAGE:\u001b[0m Encrypting model parameters. This process can take some time depending on model size.\u001b[0m\n",
       "-----------------------------------------------------------------"
      ]
     },
     "metadata": {},
     "output_type": "display_data"
    },
    {
     "data": {
      "text/plain": [
       "2024-05-24 21:24:07,963 fedbiomed INFO - \u001b[1mINFO\u001b[0m\n",
       "\t\t\t\t\t\u001b[1m NODE\u001b[0m NODE_1ab3470a-b961-4de6-a454-237155e67b4c\n",
       "\t\t\t\t\t\u001b[1m MESSAGE:\u001b[0m Encryption is completed!\u001b[0m\n",
       "-----------------------------------------------------------------"
      ]
     },
     "metadata": {},
     "output_type": "display_data"
    },
    {
     "data": {
      "text/plain": [
       "2024-05-24 21:24:07,965 fedbiomed INFO - \u001b[1mINFO\u001b[0m\n",
       "\t\t\t\t\t\u001b[1m NODE\u001b[0m NODE_1ab3470a-b961-4de6-a454-237155e67b4c\n",
       "\t\t\t\t\t\u001b[1m MESSAGE:\u001b[0m Sample size: 145\u001b[0m\n",
       "-----------------------------------------------------------------"
      ]
     },
     "metadata": {},
     "output_type": "display_data"
    },
    {
     "data": {
      "text/plain": [
       "2024-05-24 21:24:11,622 fedbiomed INFO - \u001b[1mINFO\u001b[0m\n",
       "\t\t\t\t\t\u001b[1m NODE\u001b[0m NODE_7849b47e-12fc-4062-a85a-706aa967e395\n",
       "\t\t\t\t\t\u001b[1m MESSAGE:\u001b[0m Encryption is completed!\u001b[0m\n",
       "-----------------------------------------------------------------"
      ]
     },
     "metadata": {},
     "output_type": "display_data"
    },
    {
     "data": {
      "text/plain": [
       "2024-05-24 21:24:11,626 fedbiomed INFO - \u001b[1mINFO\u001b[0m\n",
       "\t\t\t\t\t\u001b[1m NODE\u001b[0m NODE_7849b47e-12fc-4062-a85a-706aa967e395\n",
       "\t\t\t\t\t\u001b[1m MESSAGE:\u001b[0m Sample size: 59\u001b[0m\n",
       "-----------------------------------------------------------------"
      ]
     },
     "metadata": {},
     "output_type": "display_data"
    },
    {
     "data": {
      "text/plain": [
       "2024-05-24 21:24:12,858 fedbiomed INFO - \u001b[1mINFO\u001b[0m\n",
       "\t\t\t\t\t\u001b[1m NODE\u001b[0m NODE_efae9061-c6e3-4c90-87eb-ba8775edd565\n",
       "\t\t\t\t\t\u001b[1m MESSAGE:\u001b[0m Encryption is completed!\u001b[0m\n",
       "-----------------------------------------------------------------"
      ]
     },
     "metadata": {},
     "output_type": "display_data"
    },
    {
     "data": {
      "text/plain": [
       "2024-05-24 21:24:12,859 fedbiomed INFO - \u001b[1mINFO\u001b[0m\n",
       "\t\t\t\t\t\u001b[1m NODE\u001b[0m NODE_efae9061-c6e3-4c90-87eb-ba8775edd565\n",
       "\t\t\t\t\t\u001b[1m MESSAGE:\u001b[0m Sample size: 249\u001b[0m\n",
       "-----------------------------------------------------------------"
      ]
     },
     "metadata": {},
     "output_type": "display_data"
    },
    {
     "data": {
      "text/plain": [
       "2024-05-24 21:24:12,981 fedbiomed INFO - Nodes that successfully reply in round 1 ['NODE_7849b47e-12fc-4062-a85a-706aa967e395', 'NODE_1ab3470a-b961-4de6-a454-237155e67b4c', 'NODE_efae9061-c6e3-4c90-87eb-ba8775edd565']"
      ]
     },
     "metadata": {},
     "output_type": "display_data"
    },
    {
     "data": {
      "text/plain": [
       "2024-05-24 21:24:12,999 fedbiomed INFO - Aggregating encrypted parameters. This process may take some time depending on model size."
      ]
     },
     "metadata": {},
     "output_type": "display_data"
    },
    {
     "data": {
      "text/plain": [
       "2024-05-24 21:25:02,269 fedbiomed INFO - Aggregating 3 parameters from 3 nodes."
      ]
     },
     "metadata": {},
     "output_type": "display_data"
    },
    {
     "data": {
      "text/plain": [
       "2024-05-24 21:25:02,452 fedbiomed DEBUG - Aggregation is completed in 49.32 seconds."
      ]
     },
     "metadata": {},
     "output_type": "display_data"
    },
    {
     "data": {
      "text/plain": [
       "2024-05-24 21:25:02,526 fedbiomed INFO - Sampled nodes in round 2 ['NODE_7849b47e-12fc-4062-a85a-706aa967e395', 'NODE_1ab3470a-b961-4de6-a454-237155e67b4c', 'NODE_efae9061-c6e3-4c90-87eb-ba8775edd565']"
      ]
     },
     "metadata": {},
     "output_type": "display_data"
    },
    {
     "data": {
      "text/plain": [
       "2024-05-24 21:25:02,528 fedbiomed INFO - \u001b[1mSending request\u001b[0m \n",
       "\t\t\t\t\t\u001b[1m To\u001b[0m: NODE_7849b47e-12fc-4062-a85a-706aa967e395 \n",
       "\t\t\t\t\t\u001b[1m Request: \u001b[0m: TRAIN\n",
       " -----------------------------------------------------------------"
      ]
     },
     "metadata": {},
     "output_type": "display_data"
    },
    {
     "data": {
      "text/plain": [
       "2024-05-24 21:25:02,529 fedbiomed INFO - \u001b[1mSending request\u001b[0m \n",
       "\t\t\t\t\t\u001b[1m To\u001b[0m: NODE_1ab3470a-b961-4de6-a454-237155e67b4c \n",
       "\t\t\t\t\t\u001b[1m Request: \u001b[0m: TRAIN\n",
       " -----------------------------------------------------------------"
      ]
     },
     "metadata": {},
     "output_type": "display_data"
    },
    {
     "data": {
      "text/plain": [
       "2024-05-24 21:25:02,530 fedbiomed INFO - \u001b[1mSending request\u001b[0m \n",
       "\t\t\t\t\t\u001b[1m To\u001b[0m: NODE_efae9061-c6e3-4c90-87eb-ba8775edd565 \n",
       "\t\t\t\t\t\u001b[1m Request: \u001b[0m: TRAIN\n",
       " -----------------------------------------------------------------"
      ]
     },
     "metadata": {},
     "output_type": "display_data"
    },
    {
     "data": {
      "text/plain": [
       "2024-05-24 21:25:02,561 fedbiomed DEBUG - Node: NODE_7849b47e-12fc-4062-a85a-706aa967e395 polling for the tasks"
      ]
     },
     "metadata": {},
     "output_type": "display_data"
    },
    {
     "data": {
      "text/plain": [
       "2024-05-24 21:25:02,565 fedbiomed DEBUG - Node: NODE_1ab3470a-b961-4de6-a454-237155e67b4c polling for the tasks"
      ]
     },
     "metadata": {},
     "output_type": "display_data"
    },
    {
     "data": {
      "text/plain": [
       "2024-05-24 21:25:02,569 fedbiomed DEBUG - Node: NODE_efae9061-c6e3-4c90-87eb-ba8775edd565 polling for the tasks"
      ]
     },
     "metadata": {},
     "output_type": "display_data"
    },
    {
     "data": {
      "text/plain": [
       "2024-05-24 21:25:30,011 fedbiomed INFO - \u001b[1mTRAINING\u001b[0m \n",
       "\t\t\t\t\t NODE_ID: NODE_1ab3470a-b961-4de6-a454-237155e67b4c \n",
       "\t\t\t\t\t Round 3 Epoch: 1 | Iteration: 1/2 (50%) | Samples: 8/16\n",
       " \t\t\t\t\t Loss: \u001b[1m0.264096\u001b[0m \n",
       "\t\t\t\t\t ---------"
      ]
     },
     "metadata": {},
     "output_type": "display_data"
    },
    {
     "data": {
      "text/plain": [
       "2024-05-24 21:25:31,698 fedbiomed INFO - \u001b[1mTRAINING\u001b[0m \n",
       "\t\t\t\t\t NODE_ID: NODE_7849b47e-12fc-4062-a85a-706aa967e395 \n",
       "\t\t\t\t\t Round 3 Epoch: 1 | Iteration: 1/2 (50%) | Samples: 8/16\n",
       " \t\t\t\t\t Loss: \u001b[1m0.286149\u001b[0m \n",
       "\t\t\t\t\t ---------"
      ]
     },
     "metadata": {},
     "output_type": "display_data"
    },
    {
     "data": {
      "text/plain": [
       "2024-05-24 21:25:34,122 fedbiomed INFO - \u001b[1mTRAINING\u001b[0m \n",
       "\t\t\t\t\t NODE_ID: NODE_efae9061-c6e3-4c90-87eb-ba8775edd565 \n",
       "\t\t\t\t\t Round 3 Epoch: 1 | Iteration: 1/2 (50%) | Samples: 8/16\n",
       " \t\t\t\t\t Loss: \u001b[1m0.268798\u001b[0m \n",
       "\t\t\t\t\t ---------"
      ]
     },
     "metadata": {},
     "output_type": "display_data"
    },
    {
     "data": {
      "text/plain": [
       "2024-05-24 21:26:00,255 fedbiomed INFO - \u001b[1mTRAINING\u001b[0m \n",
       "\t\t\t\t\t NODE_ID: NODE_7849b47e-12fc-4062-a85a-706aa967e395 \n",
       "\t\t\t\t\t Round 3 Epoch: 1 | Iteration: 2/2 (100%) | Samples: 16/16\n",
       " \t\t\t\t\t Loss: \u001b[1m0.379797\u001b[0m \n",
       "\t\t\t\t\t ---------"
      ]
     },
     "metadata": {},
     "output_type": "display_data"
    },
    {
     "data": {
      "text/plain": [
       "2024-05-24 21:26:00,389 fedbiomed INFO - \u001b[1mTRAINING\u001b[0m \n",
       "\t\t\t\t\t NODE_ID: NODE_1ab3470a-b961-4de6-a454-237155e67b4c \n",
       "\t\t\t\t\t Round 3 Epoch: 1 | Iteration: 2/2 (100%) | Samples: 16/16\n",
       " \t\t\t\t\t Loss: \u001b[1m0.522520\u001b[0m \n",
       "\t\t\t\t\t ---------"
      ]
     },
     "metadata": {},
     "output_type": "display_data"
    },
    {
     "data": {
      "text/plain": [
       "2024-05-24 21:26:00,438 fedbiomed INFO - \u001b[1mINFO\u001b[0m\n",
       "\t\t\t\t\t\u001b[1m NODE\u001b[0m NODE_7849b47e-12fc-4062-a85a-706aa967e395\n",
       "\t\t\t\t\t\u001b[1m MESSAGE:\u001b[0m Encrypting model parameters. This process can take some time depending on model size.\u001b[0m\n",
       "-----------------------------------------------------------------"
      ]
     },
     "metadata": {},
     "output_type": "display_data"
    },
    {
     "data": {
      "text/plain": [
       "2024-05-24 21:26:00,687 fedbiomed INFO - \u001b[1mINFO\u001b[0m\n",
       "\t\t\t\t\t\u001b[1m NODE\u001b[0m NODE_1ab3470a-b961-4de6-a454-237155e67b4c\n",
       "\t\t\t\t\t\u001b[1m MESSAGE:\u001b[0m Encrypting model parameters. This process can take some time depending on model size.\u001b[0m\n",
       "-----------------------------------------------------------------"
      ]
     },
     "metadata": {},
     "output_type": "display_data"
    },
    {
     "data": {
      "text/plain": [
       "2024-05-24 21:26:01,108 fedbiomed INFO - \u001b[1mTRAINING\u001b[0m \n",
       "\t\t\t\t\t NODE_ID: NODE_efae9061-c6e3-4c90-87eb-ba8775edd565 \n",
       "\t\t\t\t\t Round 3 Epoch: 1 | Iteration: 2/2 (100%) | Samples: 16/16\n",
       " \t\t\t\t\t Loss: \u001b[1m0.454195\u001b[0m \n",
       "\t\t\t\t\t ---------"
      ]
     },
     "metadata": {},
     "output_type": "display_data"
    },
    {
     "data": {
      "text/plain": [
       "2024-05-24 21:26:01,260 fedbiomed INFO - \u001b[1mINFO\u001b[0m\n",
       "\t\t\t\t\t\u001b[1m NODE\u001b[0m NODE_efae9061-c6e3-4c90-87eb-ba8775edd565\n",
       "\t\t\t\t\t\u001b[1m MESSAGE:\u001b[0m Encrypting model parameters. This process can take some time depending on model size.\u001b[0m\n",
       "-----------------------------------------------------------------"
      ]
     },
     "metadata": {},
     "output_type": "display_data"
    },
    {
     "data": {
      "text/plain": [
       "2024-05-24 21:26:52,699 fedbiomed INFO - \u001b[1mINFO\u001b[0m\n",
       "\t\t\t\t\t\u001b[1m NODE\u001b[0m NODE_1ab3470a-b961-4de6-a454-237155e67b4c\n",
       "\t\t\t\t\t\u001b[1m MESSAGE:\u001b[0m Encryption is completed!\u001b[0m\n",
       "-----------------------------------------------------------------"
      ]
     },
     "metadata": {},
     "output_type": "display_data"
    },
    {
     "data": {
      "text/plain": [
       "2024-05-24 21:26:52,700 fedbiomed INFO - \u001b[1mINFO\u001b[0m\n",
       "\t\t\t\t\t\u001b[1m NODE\u001b[0m NODE_1ab3470a-b961-4de6-a454-237155e67b4c\n",
       "\t\t\t\t\t\u001b[1m MESSAGE:\u001b[0m Sample size: 145\u001b[0m\n",
       "-----------------------------------------------------------------"
      ]
     },
     "metadata": {},
     "output_type": "display_data"
    },
    {
     "data": {
      "text/plain": [
       "2024-05-24 21:26:53,361 fedbiomed INFO - \u001b[1mINFO\u001b[0m\n",
       "\t\t\t\t\t\u001b[1m NODE\u001b[0m NODE_7849b47e-12fc-4062-a85a-706aa967e395\n",
       "\t\t\t\t\t\u001b[1m MESSAGE:\u001b[0m Encryption is completed!\u001b[0m\n",
       "-----------------------------------------------------------------"
      ]
     },
     "metadata": {},
     "output_type": "display_data"
    },
    {
     "data": {
      "text/plain": [
       "2024-05-24 21:26:53,363 fedbiomed INFO - \u001b[1mINFO\u001b[0m\n",
       "\t\t\t\t\t\u001b[1m NODE\u001b[0m NODE_7849b47e-12fc-4062-a85a-706aa967e395\n",
       "\t\t\t\t\t\u001b[1m MESSAGE:\u001b[0m Sample size: 59\u001b[0m\n",
       "-----------------------------------------------------------------"
      ]
     },
     "metadata": {},
     "output_type": "display_data"
    },
    {
     "data": {
      "text/plain": [
       "2024-05-24 21:26:53,667 fedbiomed INFO - \u001b[1mINFO\u001b[0m\n",
       "\t\t\t\t\t\u001b[1m NODE\u001b[0m NODE_efae9061-c6e3-4c90-87eb-ba8775edd565\n",
       "\t\t\t\t\t\u001b[1m MESSAGE:\u001b[0m Encryption is completed!\u001b[0m\n",
       "-----------------------------------------------------------------"
      ]
     },
     "metadata": {},
     "output_type": "display_data"
    },
    {
     "data": {
      "text/plain": [
       "2024-05-24 21:26:53,669 fedbiomed INFO - \u001b[1mINFO\u001b[0m\n",
       "\t\t\t\t\t\u001b[1m NODE\u001b[0m NODE_efae9061-c6e3-4c90-87eb-ba8775edd565\n",
       "\t\t\t\t\t\u001b[1m MESSAGE:\u001b[0m Sample size: 249\u001b[0m\n",
       "-----------------------------------------------------------------"
      ]
     },
     "metadata": {},
     "output_type": "display_data"
    },
    {
     "data": {
      "text/plain": [
       "2024-05-24 21:26:53,777 fedbiomed INFO - Nodes that successfully reply in round 2 ['NODE_7849b47e-12fc-4062-a85a-706aa967e395', 'NODE_1ab3470a-b961-4de6-a454-237155e67b4c', 'NODE_efae9061-c6e3-4c90-87eb-ba8775edd565']"
      ]
     },
     "metadata": {},
     "output_type": "display_data"
    },
    {
     "data": {
      "text/plain": [
       "2024-05-24 21:26:53,794 fedbiomed INFO - Aggregating encrypted parameters. This process may take some time depending on model size."
      ]
     },
     "metadata": {},
     "output_type": "display_data"
    },
    {
     "data": {
      "text/plain": [
       "2024-05-24 21:27:45,332 fedbiomed INFO - Aggregating 3 parameters from 3 nodes."
      ]
     },
     "metadata": {},
     "output_type": "display_data"
    },
    {
     "data": {
      "text/plain": [
       "2024-05-24 21:27:45,526 fedbiomed DEBUG - Aggregation is completed in 51.2 seconds."
      ]
     },
     "metadata": {},
     "output_type": "display_data"
    },
    {
     "data": {
      "text/plain": [
       "3"
      ]
     },
     "execution_count": 21,
     "metadata": {},
     "output_type": "execute_result"
    }
   ],
   "source": [
    "exp_sec_agg_jls.run()"
   ]
  },
  {
   "cell_type": "code",
   "execution_count": 23,
   "id": "2db644f8",
   "metadata": {},
   "outputs": [
    {
     "name": "stdout",
     "output_type": "stream",
     "text": [
      "\n",
      "List the training rounds :  dict_keys([0, 1, 2])\n",
      "\n",
      "List the nodes for the last training round and their timings : \n",
      "\t- NODE_7849b47e-12fc-4062-a85a-706aa967e395 :        \n",
      "\t\trtime_training=25.29 seconds        \n",
      "\t\tptime_training=67.10 seconds        \n",
      "\t\ttime_encrypt=49.37 seconds        \n",
      "\t\tptxt_model_size=15.06 MB        \n",
      "\t\tctxt_model_size=4.84 MB        \n",
      "\t\trtime_total=76.57 seconds\n",
      "\t- NODE_1ab3470a-b961-4de6-a454-237155e67b4c :        \n",
      "\t\trtime_training=25.93 seconds        \n",
      "\t\tptime_training=68.13 seconds        \n",
      "\t\ttime_encrypt=49.13 seconds        \n",
      "\t\tptxt_model_size=15.06 MB        \n",
      "\t\tctxt_model_size=4.84 MB        \n",
      "\t\trtime_total=76.57 seconds\n",
      "\t- NODE_efae9061-c6e3-4c90-87eb-ba8775edd565 :        \n",
      "\t\trtime_training=27.37 seconds        \n",
      "\t\tptime_training=72.88 seconds        \n",
      "\t\ttime_encrypt=48.80 seconds        \n",
      "\t\tptxt_model_size=15.06 MB        \n",
      "\t\tctxt_model_size=4.84 MB        \n",
      "\t\trtime_total=76.57 seconds\n",
      "\n",
      "\n",
      "\t- NODE_7849b47e-12fc-4062-a85a-706aa967e395 :        \n",
      "\t\trtime_training=30.06 seconds        \n",
      "\t\tptime_training=76.59 seconds        \n",
      "\t\ttime_encrypt=72.74 seconds        \n",
      "\t\tptxt_model_size=15.06 MB        \n",
      "\t\tctxt_model_size=4.84 MB        \n",
      "\t\trtime_total=106.44 seconds\n",
      "\t- NODE_1ab3470a-b961-4de6-a454-237155e67b4c :        \n",
      "\t\trtime_training=24.60 seconds        \n",
      "\t\tptime_training=65.94 seconds        \n",
      "\t\ttime_encrypt=74.76 seconds        \n",
      "\t\tptxt_model_size=15.06 MB        \n",
      "\t\tctxt_model_size=4.84 MB        \n",
      "\t\trtime_total=106.44 seconds\n",
      "\t- NODE_efae9061-c6e3-4c90-87eb-ba8775edd565 :        \n",
      "\t\trtime_training=30.69 seconds        \n",
      "\t\tptime_training=80.31 seconds        \n",
      "\t\ttime_encrypt=74.18 seconds        \n",
      "\t\tptxt_model_size=15.06 MB        \n",
      "\t\tctxt_model_size=4.84 MB        \n",
      "\t\trtime_total=106.44 seconds\n",
      "\n",
      "\n",
      "\t- NODE_7849b47e-12fc-4062-a85a-706aa967e395 :        \n",
      "\t\trtime_training=57.62 seconds        \n",
      "\t\tptime_training=122.53 seconds        \n",
      "\t\ttime_encrypt=52.76 seconds        \n",
      "\t\tptxt_model_size=15.06 MB        \n",
      "\t\tctxt_model_size=4.84 MB        \n",
      "\t\trtime_total=111.19 seconds\n",
      "\t- NODE_1ab3470a-b961-4de6-a454-237155e67b4c :        \n",
      "\t\trtime_training=57.75 seconds        \n",
      "\t\tptime_training=122.70 seconds        \n",
      "\t\ttime_encrypt=51.87 seconds        \n",
      "\t\tptxt_model_size=15.06 MB        \n",
      "\t\tctxt_model_size=4.84 MB        \n",
      "\t\trtime_total=111.19 seconds\n",
      "\t- NODE_efae9061-c6e3-4c90-87eb-ba8775edd565 :        \n",
      "\t\trtime_training=58.50 seconds        \n",
      "\t\tptime_training=126.15 seconds        \n",
      "\t\ttime_encrypt=52.17 seconds        \n",
      "\t\tptxt_model_size=15.06 MB        \n",
      "\t\tctxt_model_size=4.84 MB        \n",
      "\t\trtime_total=111.19 seconds\n",
      "\n",
      "\n"
     ]
    }
   ],
   "source": [
    "print(\"\\nList the training rounds : \", exp_sec_agg_jls.training_replies().keys())\n",
    "\n",
    "print(\"\\nList the nodes for the last training round and their timings : \")\n",
    "for rnd in range(rounds):\n",
    "    round_data = exp_sec_agg_jls.training_replies()[rnd]\n",
    "    for r in round_data.values():\n",
    "        print(\"\\t- {id} :\\\n",
    "        \\n\\t\\trtime_training={rtraining:.2f} seconds\\\n",
    "        \\n\\t\\tptime_training={ptraining:.2f} seconds\\\n",
    "        \\n\\t\\ttime_encrypt={time_encrypt:.2f} seconds\\\n",
    "        \\n\\t\\tptxt_model_size={ptxt_model_size:.2f} MB\\\n",
    "        \\n\\t\\tctxt_model_size={ctxt_model_size:.2f} MB\\\n",
    "        \\n\\t\\trtime_total={rtotal:.2f} seconds\".format(id = r['node_id'],\n",
    "            rtraining = r['timing']['rtime_training'],\n",
    "            ptraining = r['timing']['ptime_training'],\n",
    "            time_encrypt = r['timing']['time_encrypt'],\n",
    "            ptxt_model_size = r['communication']['ptxt_model_size'],\n",
    "            ctxt_model_size = r['communication']['ctxt_model_size'],\n",
    "            rtotal = r['timing']['rtime_total'],))\n",
    "    print('\\n')"
   ]
  },
  {
   "cell_type": "markdown",
   "id": "14d331c1",
   "metadata": {},
   "source": [
    "Save trained model to file"
   ]
  },
  {
   "cell_type": "code",
   "execution_count": null,
   "id": "67f4ae7e",
   "metadata": {},
   "outputs": [],
   "source": [
    "exp.training_plan().export_model('./trained_model')"
   ]
  },
  {
   "cell_type": "markdown",
   "id": "15b6e5a3",
   "metadata": {
    "pycharm": {
     "name": "#%% md\n"
    }
   },
   "source": [
    "## Basic example: Fed-Heart-Disease\n",
    "\n",
    "We showcase similar functionalities as the above fed-ixi case, but with FLamby's [Heart Disease](https://github.com/owkin/FLamby/tree/main/flamby/datasets/fed_heart_disease) dataset."
   ]
  },
  {
   "cell_type": "code",
   "execution_count": null,
   "id": "bfc6976a",
   "metadata": {
    "pycharm": {
     "name": "#%%\n"
    }
   },
   "outputs": [],
   "source": [
    "from fedbiomed.common.training_plans import TorchTrainingPlan\n",
    "from flamby.datasets.fed_heart_disease import Baseline, BaselineLoss, Optimizer\n",
    "from fedbiomed.common.data import FlambyDataset, DataManager\n",
    "\n",
    "class FedHeartTrainingPlan(TorchTrainingPlan):\n",
    "    def init_model(self, model_args):\n",
    "        return Baseline()\n",
    "\n",
    "    def init_optimizer(self, optimizer_args):\n",
    "        return Optimizer(self.model().parameters(), lr=optimizer_args[\"lr\"])\n",
    "\n",
    "    def init_dependencies(self):\n",
    "        return [\"from flamby.datasets.fed_heart_disease import Baseline, BaselineLoss, Optimizer\",\n",
    "                \"from fedbiomed.common.data import FlambyDataset, DataManager\"]\n",
    "\n",
    "    def training_step(self, data, target):\n",
    "        output = self.model().forward(data)\n",
    "        return BaselineLoss().forward(output, target)\n",
    "\n",
    "    def training_data(self):\n",
    "        dataset = FlambyDataset()\n",
    "        train_kwargs = { 'shuffle': True}\n",
    "        return DataManager(dataset, **train_kwargs)"
   ]
  },
  {
   "cell_type": "code",
   "execution_count": null,
   "id": "77e81615",
   "metadata": {
    "pycharm": {
     "name": "#%%\n"
    }
   },
   "outputs": [],
   "source": [
    "training_args = {\n",
    "    'loader_args': { 'batch_size': 4, },\n",
    "    'optimizer_args': {\n",
    "        'lr': 0.001,\n",
    "    },\n",
    "    'epochs': 1,\n",
    "    'dry_run': False,\n",
    "    'log_interval': 2,\n",
    "    'batch_maxnum': 8,\n",
    "    'test_ratio' : 0.0,\n",
    "    'test_on_global_updates': False,\n",
    "    'test_on_local_updates': False,\n",
    "}\n",
    "\n",
    "model_args = {}"
   ]
  },
  {
   "cell_type": "code",
   "execution_count": null,
   "id": "5992fe47",
   "metadata": {
    "pycharm": {
     "name": "#%%\n"
    }
   },
   "outputs": [],
   "source": [
    "from fedbiomed.researcher.federated_workflows import Experiment\n",
    "from fedbiomed.researcher.aggregators.fedavg import FedAverage\n",
    "\n",
    "tags =  ['flheart']\n",
    "num_rounds = 1\n",
    "\n",
    "exp = Experiment(tags=tags,\n",
    "                 training_plan_class=FedHeartTrainingPlan,\n",
    "                 training_args=training_args,\n",
    "                 model_args=model_args,\n",
    "                 round_limit=num_rounds,\n",
    "                 aggregator=FedAverage(),\n",
    "                )"
   ]
  },
  {
   "cell_type": "code",
   "execution_count": null,
   "id": "6fd857d9",
   "metadata": {
    "pycharm": {
     "name": "#%%\n"
    }
   },
   "outputs": [],
   "source": [
    "exp.run_once(increase=True)"
   ]
  },
  {
   "cell_type": "markdown",
   "id": "b9647434",
   "metadata": {
    "pycharm": {
     "name": "#%% md\n"
    }
   },
   "source": [
    "## Complex example: Fed-IXI with data preprocessing and custom training elements\n",
    "\n",
    "This example demonstrates how to define transformations for data preprocessing and provide a customized model, optimizer, and loss function.\n",
    "Incidentally, it also shows how to use `model_args` and `training_args` to parametrize the model, optimizer, and training loop.\n",
    "\n",
    "### Definition of preprocessing transforms\n",
    "\n",
    "This is achieved in the `training_data` function.\n",
    "After instantiating the `FlambyDataset`, you may use the `init_transform` function to attach a preprocessing transformation for your data.\n",
    "Note that the transform that you define must be of type `torchvision.transforms.Compose` or `monai.transforms.Compose`.\n",
    "\n",
    "### Definition of custom model, optimizer and loss\n",
    "\n",
    "This is achieved just like any `TorchTrainingPlan`, through the functions `init_model`, `init_optimizer`, and `training_step`."
   ]
  },
  {
   "cell_type": "code",
   "execution_count": null,
   "id": "20367701",
   "metadata": {
    "pycharm": {
     "name": "#%%\n"
    }
   },
   "outputs": [],
   "source": [
    "from fedbiomed.common.training_plans import TorchTrainingPlan\n",
    "from torch.optim import AdamW\n",
    "from torch import nn\n",
    "import torch.nn.functional as F\n",
    "from unet import UNet\n",
    "from monai.transforms import Compose, NormalizeIntensity, Resize\n",
    "\n",
    "class UNetTrainingPlan(TorchTrainingPlan):\n",
    "\n",
    "    class MyUNet(nn.Module):\n",
    "        CHANNELS_DIMENSION = 1\n",
    "\n",
    "        def __init__(self, model_args):\n",
    "            super().__init__()\n",
    "            self.unet = UNet(\n",
    "            in_channels = model_args.get('in_channels',1),\n",
    "            out_classes = model_args.get('out_classes',2),\n",
    "            dimensions = model_args.get('dimensions',2),\n",
    "            num_encoding_blocks = model_args.get('num_encoding_blocks',5),\n",
    "            out_channels_first_layer = model_args.get('out_channels_first_layer',64),\n",
    "            normalization = model_args.get('normalization', None),\n",
    "            pooling_type = model_args.get('pooling_type', 'max'),\n",
    "            upsampling_type = model_args.get('upsampling_type','conv'),\n",
    "            preactivation = model_args.get('preactivation',False),\n",
    "            residual = model_args.get('residual',False),\n",
    "            padding = model_args.get('padding',0),\n",
    "            padding_mode = model_args.get('padding_mode','zeros'),\n",
    "            activation = model_args.get('activation','ReLU'),\n",
    "            initial_dilation = model_args.get('initial_dilation',None),\n",
    "            dropout = model_args.get('dropout',0),\n",
    "            monte_carlo_dropout = model_args.get('monte_carlo_dropout',0)\n",
    "        )\n",
    "\n",
    "        def forward(self, x):\n",
    "            x = self.unet.forward(x)\n",
    "            x = F.softmax(x, dim=UNetTrainingPlan.MyUNet.CHANNELS_DIMENSION)\n",
    "            return x\n",
    "\n",
    "    def init_model(self, model_args):\n",
    "        return UNetTrainingPlan.MyUNet(model_args)\n",
    "\n",
    "    def init_dependencies(self):\n",
    "        return [\"from torch import nn\",\n",
    "               'import torch.nn.functional as F',\n",
    "               'from torch.optim import AdamW',\n",
    "               'from unet import UNet',\n",
    "               'from monai.transforms import Compose, NormalizeIntensity, Resize',\n",
    "                'from fedbiomed.common.data import FlambyDataset']\n",
    "\n",
    "    def init_optimizer(self, optimizer_args):\n",
    "        return AdamW(self.model().parameters(),\n",
    "                     lr=optimizer_args[\"lr\"],\n",
    "                     betas=optimizer_args[\"betas\"],\n",
    "                     eps=optimizer_args[\"eps\"])\n",
    "\n",
    "    @staticmethod\n",
    "    def get_dice_loss(output, target, epsilon=1e-9):\n",
    "        SPATIAL_DIMENSIONS = 2, 3, 4\n",
    "        p0 = output\n",
    "        g0 = target\n",
    "        p1 = 1 - p0\n",
    "        g1 = 1 - g0\n",
    "        tp = (p0 * g0).sum(dim=SPATIAL_DIMENSIONS)\n",
    "        fp = (p0 * g1).sum(dim=SPATIAL_DIMENSIONS)\n",
    "        fn = (p1 * g0).sum(dim=SPATIAL_DIMENSIONS)\n",
    "        num = 2 * tp\n",
    "        denom = 2 * tp + fp + fn + epsilon\n",
    "        dice_score = num / denom\n",
    "        return 1. - dice_score\n",
    "\n",
    "    def training_step(self, data, target):\n",
    "        output = self.model().forward(data)\n",
    "        loss = UNetTrainingPlan.get_dice_loss(output, target)\n",
    "        avg_loss = loss.mean()\n",
    "        return avg_loss\n",
    "\n",
    "    def testing_step(self, data, target):\n",
    "        prediction = self.model().forward(data)\n",
    "        loss = UNetTrainingPlan.get_dice_loss(prediction, target)\n",
    "        avg_loss = loss.mean()  # average per batch\n",
    "        return avg_loss\n",
    "\n",
    "    def training_data(self):\n",
    "        dataset = FlambyDataset()\n",
    "        transform = Compose([Resize((48,60,48)), NormalizeIntensity()])\n",
    "        dataset.init_transform(transform)\n",
    "        train_kwargs = { 'shuffle': True}\n",
    "        return DataManager(dataset, **train_kwargs)"
   ]
  },
  {
   "cell_type": "code",
   "execution_count": null,
   "id": "8361fa67",
   "metadata": {
    "pycharm": {
     "name": "#%%\n"
    }
   },
   "outputs": [],
   "source": [
    "model_args = {\n",
    "    'in_channels': 1,\n",
    "    'out_classes': 2,\n",
    "    'dimensions': 3,\n",
    "    'num_encoding_blocks': 3,\n",
    "    'out_channels_first_layer': 8,\n",
    "    'normalization': 'batch',\n",
    "    'upsampling_type': 'linear',\n",
    "    'padding': True,\n",
    "    'activation': 'PReLU',\n",
    "}\n",
    "\n",
    "training_args = {\n",
    "    'loader_args': { 'batch_size': 16, },\n",
    "    'optimizer_args': {\n",
    "        'lr': 0.001,\n",
    "        'betas': (0.9, 0.999),\n",
    "        'eps': 1e-08\n",
    "    },\n",
    "    'epochs': 1,\n",
    "    'dry_run': False,\n",
    "    'log_interval': 2,\n",
    "    'test_ratio' : 0.0,\n",
    "    'test_on_global_updates': False,\n",
    "    'test_on_local_updates': False,\n",
    "    'batch_maxnum': 2 # Fast pass for development : only use ( batch_maxnum * batch_size ) samples\n",
    "}\n",
    "\n"
   ]
  },
  {
   "cell_type": "code",
   "execution_count": null,
   "id": "8fc891e1",
   "metadata": {
    "pycharm": {
     "name": "#%%\n"
    }
   },
   "outputs": [],
   "source": [
    "from fedbiomed.researcher.federated_workflows import Experiment\n",
    "from fedbiomed.researcher.aggregators.fedavg import FedAverage\n",
    "\n",
    "tags =  ['flixi']\n",
    "num_rounds = 1\n",
    "\n",
    "exp = Experiment(tags=tags,\n",
    "                 model_args=model_args,\n",
    "                 training_plan_class=UNetTrainingPlan,\n",
    "                 training_args=training_args,\n",
    "                 round_limit=num_rounds,\n",
    "                 aggregator=FedAverage(),\n",
    "                )"
   ]
  },
  {
   "cell_type": "code",
   "execution_count": null,
   "id": "3e9d15be",
   "metadata": {
    "pycharm": {
     "name": "#%%\n"
    }
   },
   "outputs": [],
   "source": [
    "exp.run_once(increase=True)"
   ]
  }
 ],
 "metadata": {
  "kernelspec": {
   "display_name": "Python 3 (ipykernel)",
   "language": "python",
   "name": "python3"
  },
  "language_info": {
   "codemirror_mode": {
    "name": "ipython",
    "version": 3
   },
   "file_extension": ".py",
   "mimetype": "text/x-python",
   "name": "python",
   "nbconvert_exporter": "python",
   "pygments_lexer": "ipython3",
   "version": "3.10.14"
  }
 },
 "nbformat": 4,
 "nbformat_minor": 5
}
