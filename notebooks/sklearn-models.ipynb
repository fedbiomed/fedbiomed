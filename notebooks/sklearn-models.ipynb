{
 "cells": [
  {
   "cell_type": "markdown",
   "id": "6c59bed7",
   "metadata": {
    "pycharm": {
     "name": "#%% md\n"
    }
   },
   "source": [
    "# Fedbiomed Researcher to train a federated scikit learn model."
   ]
  },
  {
   "cell_type": "markdown",
   "id": "6dd9d920",
   "metadata": {
    "pycharm": {
     "name": "#%% md\n"
    }
   },
   "source": [
    "## Perceptron\n",
    "Binary Classification\n",
    "### Purpose of the exercise :\n",
    "Three datasets `c1.csv` , `c2.csv` and `c3.csv` has been generated with a target column of 2 different classes.\n",
    "We will fit a Perceptron (classifier) using Federated Learning."
   ]
  },
  {
   "cell_type": "markdown",
   "id": "49a27982",
   "metadata": {
    "pycharm": {
     "name": "#%% md\n"
    }
   },
   "source": [
    "### Get the data \n",
    "\n",
    "We use the make_classification dataset from sklearn datasets"
   ]
  },
  {
   "cell_type": "code",
   "execution_count": null,
   "id": "7bfa83c3",
   "metadata": {
    "pycharm": {
     "name": "#%%\n"
    }
   },
   "outputs": [],
   "source": [
    "from sklearn import datasets\n",
    "import numpy as np"
   ]
  },
  {
   "cell_type": "code",
   "execution_count": null,
   "id": "06060ce8",
   "metadata": {
    "pycharm": {
     "name": "#%%\n"
    }
   },
   "outputs": [],
   "source": [
    "X,y = datasets.make_classification(n_samples=300, n_features=20,n_clusters_per_class=2, weights=None, flip_y=0.01, class_sep=1.0, hypercube=True, shift=0.0, scale=1.0,shuffle=True, random_state=123)\n",
    "X.shape,y.shape"
   ]
  },
  {
   "cell_type": "code",
   "execution_count": null,
   "id": "6406c9fb",
   "metadata": {
    "pycharm": {
     "name": "#%%\n"
    }
   },
   "outputs": [],
   "source": [
    "np.unique(y)"
   ]
  },
  {
   "cell_type": "markdown",
   "id": "bfe3ba22",
   "metadata": {},
   "source": [
    "#### Creating unbalanced dataset, with different amount of data per centers"
   ]
  },
  {
   "cell_type": "code",
   "execution_count": null,
   "id": "bb3b58b7",
   "metadata": {
    "pycharm": {
     "name": "#%%\n"
    }
   },
   "outputs": [],
   "source": [
    "C1 = X[:150,:]\n",
    "C2 = X[150:250,:]\n",
    "C3 = X[250:300,:]\n",
    "\n",
    "y1 = y[:150].reshape([150,1])\n",
    "y2 = y[150:250].reshape([100,1])\n",
    "y3 = y[250:300].reshape([50,1])\n",
    "\n",
    "C1.shape ,C2.shape , C3.shape , y1.shape, y2.shape, y3.shape"
   ]
  },
  {
   "cell_type": "code",
   "execution_count": null,
   "id": "c6f2d303",
   "metadata": {
    "pycharm": {
     "name": "#%%\n"
    }
   },
   "outputs": [],
   "source": [
    "n1 = np.concatenate((C1, y1), axis=1)\n",
    "np.savetxt('./data/c1.csv',n1,delimiter=',')\n",
    "\n",
    "n2 = np.concatenate((C2, y2), axis=1)\n",
    "np.savetxt('./data/c2.csv',n2,delimiter=',')\n",
    "\n",
    "n3 = np.concatenate((C3, y3), axis=1)\n",
    "np.savetxt('./data/c3.csv',n3,delimiter=',')"
   ]
  },
  {
   "cell_type": "markdown",
   "id": "ecfb7695",
   "metadata": {
    "pycharm": {
     "name": "#%% md\n"
    }
   },
   "source": [
    "### Setting the node up\n",
    "Before running this notebook you need to configure 2 nodes: <br/>\n",
    "* **Node 1 :** `./scripts/fedbiomed_run node --config n1.ini dataset add`\n",
    "  * Select option 1 to add a csv file to the node\n",
    "  * Choose the name, tags and description of the dataset (you can write 'perp' always and it will be good)\n",
    "  * Pick the c1.csv file in your machine (in `notebooks/data/c1.csv`)\n",
    "  * Check that your data has been added in node 1 by executing `./scripts/fedbiomed_run node config n1.ini list`\n",
    "  * Run the node using `./scripts/fedbiomed_run node --config n1.ini start`. <br/>\n",
    "\n",
    "* **Node 2 :** Open a second terminal and run `./scripts/fedbiomed_run node --config n2.ini dataset add`\n",
    "  * Select option 1 to add a csv file to the node\n",
    "  * Choose the name, tags and description of the dataset (you can write 'perp' always and it will be good)\n",
    "  * Pick the c2.csv file in your machine (in `notebooks/data/c2.csv`)\n",
    "  * Check that your data has been added in node 2 by executing `./scripts/fedbiomed_run node config n2.ini list`\n",
    "  * Run the node using `./scripts/fedbiomed_run node --config n2.ini start`.\n",
    " \n",
    "\n",
    " Wait until you get `Starting task manager`, it means node is online.\n"
   ]
  },
  {
   "cell_type": "markdown",
   "id": "0bc0923e",
   "metadata": {
    "pycharm": {
     "name": "#%% md\n"
    }
   },
   "source": [
    "**model_args** is a dictionnary containing your model arguments, in case of SGDRegressor this will be max_iter and tol.\n",
    "\n",
    "**training_args** is a dictionnary with parameters , related to Federated Learning. "
   ]
  },
  {
   "cell_type": "code",
   "execution_count": null,
   "id": "82f494bb",
   "metadata": {
    "pycharm": {
     "name": "#%%\n"
    }
   },
   "outputs": [],
   "source": [
    "n_features = 20\n",
    "n_classes = 2\n",
    "\n",
    "model_args = {'max_iter':1000, 'tol': 1e-3 , \n",
    "               'n_features' : n_features, 'n_classes' : n_classes}\n",
    "\n",
    "training_args = {   \n",
    "    'epochs': 5,\n",
    "    'loader_args': { 'batch_size': 1 }\n",
    "}"
   ]
  },
  {
   "cell_type": "markdown",
   "id": "c2269df9",
   "metadata": {
    "pycharm": {
     "name": "#%% md\n"
    }
   },
   "source": [
    "Hereafter the template of the class you should provide to Fedbiomed :\n",
    "    \n",
    "**training_data** : you must return here the (X,y) that must be of the same type of \n",
    "your method partial_fit parameters. "
   ]
  },
  {
   "cell_type": "code",
   "execution_count": null,
   "id": "59bd74be",
   "metadata": {
    "pycharm": {
     "name": "#%%\n"
    }
   },
   "outputs": [],
   "source": [
    "from fedbiomed.common.training_plans import FedPerceptron\n",
    "from fedbiomed.common.data import DataManager\n",
    "\n",
    "\n",
    "class PerceptronTraining(FedPerceptron):\n",
    "    def training_data(self):\n",
    "        NUMBER_COLS = 20\n",
    "        dataset = pd.read_csv(self.dataset_path,header=None,delimiter=',')\n",
    "        X = dataset.iloc[:,0:NUMBER_COLS].values\n",
    "        y = dataset.iloc[:,NUMBER_COLS]       \n",
    "        return DataManager(dataset=X,target=y.values, shuffle=True)"
   ]
  },
  {
   "cell_type": "code",
   "execution_count": null,
   "id": "ad30b0e6",
   "metadata": {
    "pycharm": {
     "name": "#%%\n"
    }
   },
   "outputs": [],
   "source": [
    "from fedbiomed.researcher.federated_workflows import Experiment\n",
    "from fedbiomed.researcher.aggregators.fedavg import FedAverage\n",
    "\n",
    "tags =  ['perp']\n",
    "rounds = 2\n",
    "\n",
    "# search for corresponding datasets across nodes datasets\n",
    "exp = Experiment(tags=tags,\n",
    "                 model_args=model_args,\n",
    "                 training_plan_class=PerceptronTraining,\n",
    "                 training_args=training_args,\n",
    "                 round_limit=rounds,\n",
    "                 aggregator=FedAverage(),\n",
    "                 node_selection_strategy=None)\n"
   ]
  },
  {
   "cell_type": "code",
   "execution_count": null,
   "id": "4da46bdd",
   "metadata": {
    "pycharm": {
     "name": "#%%\n"
    }
   },
   "outputs": [],
   "source": [
    "exp.run()"
   ]
  },
  {
   "cell_type": "markdown",
   "id": "f9914338",
   "metadata": {},
   "source": [
    "Save trained model to file"
   ]
  },
  {
   "cell_type": "code",
   "execution_count": null,
   "id": "61ed2874",
   "metadata": {},
   "outputs": [],
   "source": [
    "exp.training_plan().export_model('./trained_model')"
   ]
  },
  {
   "cell_type": "markdown",
   "id": "7e679d88",
   "metadata": {
    "pycharm": {
     "name": "#%% md\n"
    }
   },
   "source": [
    "## Lets validate the trained model with the test dataset c3.csv."
   ]
  },
  {
   "cell_type": "code",
   "execution_count": null,
   "id": "35e5563d",
   "metadata": {
    "pycharm": {
     "name": "#%%\n"
    }
   },
   "outputs": [],
   "source": [
    "import pandas as pd"
   ]
  },
  {
   "cell_type": "code",
   "execution_count": null,
   "id": "f988f64f",
   "metadata": {
    "pycharm": {
     "name": "#%%\n"
    }
   },
   "outputs": [],
   "source": [
    "data = pd.read_csv('./data/c3.csv')"
   ]
  },
  {
   "cell_type": "code",
   "execution_count": null,
   "id": "3882700c",
   "metadata": {
    "pycharm": {
     "name": "#%%\n"
    }
   },
   "outputs": [],
   "source": [
    "X_test = data.iloc[:,:n_features]\n",
    "y_test = data.iloc[:,n_features]"
   ]
  },
  {
   "cell_type": "markdown",
   "id": "64867091",
   "metadata": {
    "pycharm": {
     "name": "#%% md\n"
    }
   },
   "source": [
    "F1 score computed with federated algorithm :\n",
    "\n",
    "For that, we are exporting `exp.aggregated_params()` containing models parameters collected at the end of each round"
   ]
  },
  {
   "cell_type": "code",
   "execution_count": null,
   "id": "04489e41",
   "metadata": {
    "pycharm": {
     "name": "#%%\n"
    }
   },
   "outputs": [],
   "source": [
    "from sklearn.metrics import f1_score\n",
    "loss_metric = f1_score\n",
    "    \n",
    "testing_error = []\n",
    "\n",
    "for i in range(rounds):\n",
    "    fed_model = exp.training_plan().model()\n",
    "    fed_model.coef_ = exp.aggregated_params()[i]['params']['coef_']\n",
    "    fed_model.intercept_ = exp.aggregated_params()[i]['params']['intercept_']\n",
    "    metric = loss_metric(fed_model.predict(X_test),y_test.ravel())\n",
    "    print('F1 score metric: ', metric, )\n",
    "    testing_error.append(metric)"
   ]
  },
  {
   "cell_type": "markdown",
   "id": "86350932",
   "metadata": {
    "pycharm": {
     "name": "#%% md\n"
    }
   },
   "source": [
    "##  SGD regressor\n",
    "\n",
    "Follwing example uses Adni Dataset please see `README` in the notebooks directory for the insturctions to load Adni dataset into Fed-BioMed nodes. \n"
   ]
  },
  {
   "cell_type": "code",
   "execution_count": null,
   "id": "6b666c6b",
   "metadata": {
    "pycharm": {
     "name": "#%%\n"
    }
   },
   "outputs": [],
   "source": [
    "from fedbiomed.researcher.requests import Requests\n",
    "from fedbiomed.researcher.config import config\n",
	"req = Requests(config)\n",
    "req.list(verbose=True)"
   ]
  },
  {
   "cell_type": "code",
   "execution_count": null,
   "id": "6948b98c",
   "metadata": {
    "pycharm": {
     "name": "#%%\n"
    }
   },
   "outputs": [],
   "source": [
    "from fedbiomed.common.training_plans import FedSGDRegressor\n",
    "from fedbiomed.common.data import DataManager\n",
    "\n",
    "class SGDRegressorTrainingPlan(FedSGDRegressor):\n",
    "    def training_data(self):\n",
    "        dataset = pd.read_csv(self.dataset_path,delimiter=',')\n",
    "        regressors_col = ['AGE', 'WholeBrain.bl',\n",
    "                          'Ventricles.bl', 'Hippocampus.bl', 'MidTemp.bl', 'Entorhinal.bl']\n",
    "        target_col = ['MMSE.bl']\n",
    "        \n",
    "        # mean and standard deviation for normalizing dataset\n",
    "        # it has been computed over the whole dataset\n",
    "        scaling_mean = np.array([72.3, 0.7, 0.0, 0.0, 0.0, 0.0])\n",
    "        scaling_sd = np.array([7.3e+00, 5.0e-02, 1.1e-02, 1.0e-03, 2.0e-03, 1.0e-03])\n",
    "        \n",
    "        X = (dataset[regressors_col].values-scaling_mean)/scaling_sd\n",
    "        y = dataset[target_col]\n",
    "        return DataManager(dataset=X, target=y.values.ravel(), shuffle=True)\n",
    "    "
   ]
  },
  {
   "cell_type": "code",
   "execution_count": null,
   "id": "fe8de076",
   "metadata": {
    "pycharm": {
     "name": "#%%\n"
    }
   },
   "outputs": [],
   "source": [
    "from fedbiomed.common.metrics import MetricTypes\n",
    "RANDOM_SEED = 1234\n",
    "\n",
    "\n",
    "model_args = {\n",
    "    'max_iter':2000,\n",
    "    'tol': 1e-5,\n",
    "    'eta0':0.05,\n",
    "    'n_features': 6,\n",
    "    'random_state': RANDOM_SEED\n",
    "}\n",
    "\n",
    "training_args = {\n",
    "    'epochs': 5,\n",
    "    'loader_args': { 'batch_size': 10, },\n",
    "    'test_ratio':.3,\n",
    "    'test_metric': MetricTypes.MEAN_SQUARE_ERROR,\n",
    "    'test_on_local_updates': True,\n",
    "    'test_on_global_updates': True\n",
    "}"
   ]
  },
  {
   "cell_type": "code",
   "execution_count": null,
   "id": "144f4b67",
   "metadata": {
    "pycharm": {
     "name": "#%%\n"
    }
   },
   "outputs": [],
   "source": [
    "from fedbiomed.researcher.federated_workflows import Experiment\n",
    "from fedbiomed.researcher.aggregators.fedavg import FedAverage\n",
    "\n",
    "tags =  ['adni']\n",
    "\n",
    "# Add more rounds for results with better accuracy\n",
    "#\n",
    "#rounds = 40\n",
    "rounds = 2\n",
    "\n",
    "# select nodes participating to this experiment\n",
    "exp = Experiment(tags=tags,\n",
    "                 model_args=model_args,\n",
    "                 training_plan_class=SGDRegressorTrainingPlan,\n",
    "                 training_args=training_args,\n",
    "                 round_limit=rounds,\n",
    "                 aggregator=FedAverage(),\n",
    "                 node_selection_strategy=None)"
   ]
  },
  {
   "cell_type": "code",
   "execution_count": null,
   "id": "3861ab92",
   "metadata": {
    "pycharm": {
     "name": "#%%\n"
    }
   },
   "outputs": [],
   "source": [
    "# start federated training\n",
    "exp.run()"
   ]
  },
  {
   "cell_type": "markdown",
   "id": "7c6de443",
   "metadata": {},
   "source": [
    "Save trained model to file"
   ]
  },
  {
   "cell_type": "code",
   "execution_count": null,
   "id": "eb49a9a3",
   "metadata": {},
   "outputs": [],
   "source": [
    "exp.training_plan().export_model('./trained_model')"
   ]
  },
  {
   "cell_type": "code",
   "execution_count": null,
   "id": "13959777",
   "metadata": {
    "pycharm": {
     "name": "#%%\n"
    }
   },
   "outputs": [],
   "source": [
    "exp.aggregated_params()"
   ]
  },
  {
   "cell_type": "code",
   "execution_count": null,
   "id": "a0e6d6f6",
   "metadata": {
    "pycharm": {
     "name": "#%%\n"
    }
   },
   "outputs": [],
   "source": [
    "fed_model = exp.training_plan().model()\n",
    "fed_model.intercept_ = exp.aggregated_params()[rounds-1]['params']['intercept_']\n",
    "fed_model.coef_ = exp.aggregated_params()[rounds-1]['params']['coef_']"
   ]
  },
  {
   "cell_type": "markdown",
   "id": "d2c2519a",
   "metadata": {
    "pycharm": {
     "name": "#%% md\n"
    }
   },
   "source": [
    "## SGDClassifier\n",
    "### Purpose of the exercise :\n",
    "\n",
    "Three datasets `c1_3class.csv` , `c2_3class.csv` and `c3_3class.csv` has been generated with a target column of 3 different classes.\n",
    "We will fit a SGCClassifier (classifier) using Federated Learning."
   ]
  },
  {
   "cell_type": "markdown",
   "id": "a8f5284a",
   "metadata": {
    "pycharm": {
     "name": "#%% md\n"
    }
   },
   "source": [
    "### Get the data \n",
    "\n",
    "We use the make_classification dataset from sklearn datasets"
   ]
  },
  {
   "cell_type": "code",
   "execution_count": null,
   "id": "7a30ac74",
   "metadata": {
    "pycharm": {
     "name": "#%%\n"
    }
   },
   "outputs": [],
   "source": [
    "from sklearn import datasets\n",
    "import numpy as np"
   ]
  },
  {
   "cell_type": "code",
   "execution_count": null,
   "id": "e9aca53b",
   "metadata": {
    "pycharm": {
     "name": "#%%\n"
    }
   },
   "outputs": [],
   "source": [
    "X,y = datasets.make_classification(n_samples=300, n_features=20,n_informative = 3, n_classes=3,n_clusters_per_class=2, weights=None, flip_y=0.01, class_sep=1.0, hypercube=True, shift=0.0, scale=1.0,shuffle=True, random_state=123)\n",
    "X.shape,y.shape"
   ]
  },
  {
   "cell_type": "code",
   "execution_count": null,
   "id": "4719d0f3",
   "metadata": {
    "pycharm": {
     "name": "#%%\n"
    }
   },
   "outputs": [],
   "source": [
    "C1 = X[:150,:]\n",
    "C2 = X[150:250,:]\n",
    "C3 = X[250:300,:]\n",
    "\n",
    "y1 = y[:150].reshape([150,1])\n",
    "y2 = y[150:250].reshape([100,1])\n",
    "y3 = y[250:300].reshape([50,1])\n",
    "\n",
    "C1.shape ,C2.shape , C3.shape , y1.shape, y2.shape, y3.shape"
   ]
  },
  {
   "cell_type": "code",
   "execution_count": null,
   "id": "7e7f72e0",
   "metadata": {
    "pycharm": {
     "name": "#%%\n"
    }
   },
   "outputs": [],
   "source": [
    "n1 = np.concatenate((C1, y1), axis=1)\n",
    "np.savetxt('./data/c1_3class.csv',n1,delimiter=',')\n",
    "\n",
    "n2 = np.concatenate((C2, y2), axis=1)\n",
    "np.savetxt('./data/c2_3class.csv',n2,delimiter=',')\n",
    "\n",
    "n3 = np.concatenate((C3, y3), axis=1)\n",
    "np.savetxt('./data/c3_3class.csv',n3,delimiter=',')"
   ]
  },
  {
   "cell_type": "markdown",
   "id": "7280f02e",
   "metadata": {
    "pycharm": {
     "name": "#%% md\n"
    }
   },
   "source": [
    "### Setting the node up\n",
    "Before running this notebook you need to configure 2 nodes: <br/>\n",
    "* **Node 1 :** `./scripts/fedbiomed_run node --config n1.ini dataset add`\n",
    "  * Select option 1 to add a csv file to the node\n",
    "  * Choose the name, tags and description of the dataset (you can write **'perp1'** always and it will be good)\n",
    "  * Pick the c1_3class.csv file in your machine  (in `notebooks/data/c1_3class.csv`)\n",
    "  * Check that your data has been added in node 1 by executing `./scripts/fedbiomed_run node --config n1.ini dataset list`\n",
    "  * Run the node using `./scripts/fedbiomed_run node --config n1.ini start`. <br/>\n",
    "\n",
    "* **Node 2 :** Open a second terminal and run `./scripts/fedbiomed_run node --config n2.ini dataset add` \n",
    "  * Select option 1 to add a csv file to the node\n",
    "  * Choose the name, tags and description of the dataset (you can write **'perp1'** always and it will be good)\n",
    "  * Pick the c2_3class.csv file in your machine (in `notebooks/data/c2_3class.csv`)\n",
    "  * Check that your data has been added in node 2 by executing `./scripts/fedbiomed_run node --config n2.ini dataset list`\n",
    "  * Run the node using `./scripts/fedbiomed_run node --config n2.ini start`.\n",
    " \n",
    "\n",
    " Wait until you get `Starting task manager`. it means node is online.\n"
   ]
  },
  {
   "cell_type": "markdown",
   "id": "920b2126",
   "metadata": {
    "pycharm": {
     "name": "#%% md\n"
    }
   },
   "source": [
    "**model_args** is a dictionnary containing your model arguments, in case of SGDRegressor this will be max_iter and tol.\n",
    "\n",
    "**training_args** is a dictionnary with parameters , related to Federated Learning. "
   ]
  },
  {
   "cell_type": "code",
   "execution_count": null,
   "id": "6ed76157",
   "metadata": {
    "pycharm": {
     "name": "#%%\n"
    }
   },
   "outputs": [],
   "source": [
    "n_features = 20\n",
    "n_classes = 3\n",
    "\n",
    "model_args = {'max_iter':1000, 'tol': 1e-3 , \n",
    "               'n_features' : n_features, 'n_classes' : n_classes}\n",
    "\n",
    "training_args = {   \n",
    "    'epochs': 5,\n",
    "    'loader_args': { 'batch_size': 1, },\n",
    "}"
   ]
  },
  {
   "cell_type": "markdown",
   "id": "a29b55ca",
   "metadata": {
    "pycharm": {
     "name": "#%% md\n"
    }
   },
   "source": [
    "Hereafter the template of the class you should provide to Fedbiomed :\n",
    "    \n",
    "**training_data** : you must return here the (X,y) that must be of the same type of \n",
    "your method partial_fit parameters. "
   ]
  },
  {
   "cell_type": "code",
   "execution_count": null,
   "id": "d736ef5c",
   "metadata": {
    "pycharm": {
     "name": "#%%\n"
    }
   },
   "outputs": [],
   "source": [
    "from fedbiomed.common.training_plans import FedSGDClassifier\n",
    "from fedbiomed.common.data import DataManager\n",
    "\n",
    "\n",
    "class SGDClassifierTrainingPlan(FedSGDClassifier):\n",
    "    def training_data(self):\n",
    "        NUMBER_COLS = 20\n",
    "        dataset = pd.read_csv(self.dataset_path,header=None,delimiter=',')\n",
    "        X = dataset.iloc[:,0:NUMBER_COLS].values\n",
    "        y = dataset.iloc[:,NUMBER_COLS]       \n",
    "        return DataManager(dataset=X,target=y.values, shuffle=True)"
   ]
  },
  {
   "cell_type": "code",
   "execution_count": null,
   "id": "0f70efe9",
   "metadata": {
    "pycharm": {
     "name": "#%%\n"
    }
   },
   "outputs": [],
   "source": [
    "from fedbiomed.researcher.federated_workflows import Experiment\n",
    "from fedbiomed.researcher.aggregators.fedavg import FedAverage\n",
    "\n",
    "tags =  ['perp1']\n",
    "rounds = 2\n",
    "\n",
    "# search for corresponding datasets across nodes datasets\n",
    "exp = Experiment(tags=tags,\n",
    "                 model_args=model_args,\n",
    "                 training_plan_class=SGDClassifierTrainingPlan,\n",
    "                 training_args=training_args,\n",
    "                 round_limit=rounds,\n",
    "                 aggregator=FedAverage(),\n",
    "                 node_selection_strategy=None)\n"
   ]
  },
  {
   "cell_type": "code",
   "execution_count": null,
   "id": "3254e59e",
   "metadata": {
    "pycharm": {
     "name": "#%%\n"
    },
    "tags": []
   },
   "outputs": [],
   "source": [
    "exp.run()"
   ]
  },
  {
   "cell_type": "markdown",
   "id": "80b5aa95",
   "metadata": {},
   "source": [
    "Save trained model to file"
   ]
  },
  {
   "cell_type": "code",
   "execution_count": null,
   "id": "ff13b466",
   "metadata": {},
   "outputs": [],
   "source": [
    "exp.training_plan().export_model('./trained_model')"
   ]
  },
  {
   "cell_type": "code",
   "execution_count": null,
   "id": "c5213ef5-c98f-4e17-8e9e-de47446fe3c4",
   "metadata": {
    "pycharm": {
     "name": "#%%\n"
    },
    "tags": []
   },
   "outputs": [],
   "source": [
    "import pandas as pd\n",
    "data = pd.read_csv('./data/c3_3class.csv')"
   ]
  },
  {
   "cell_type": "code",
   "execution_count": null,
   "id": "c75fb760-d724-4aca-a562-657a31f59430",
   "metadata": {
    "pycharm": {
     "name": "#%%\n"
    }
   },
   "outputs": [],
   "source": [
    "X_test = data.iloc[:,:n_features]\n",
    "y_test = data.iloc[:,n_features]"
   ]
  },
  {
   "cell_type": "markdown",
   "id": "45801cb4-d281-4941-adc3-2d26090fc9e6",
   "metadata": {
    "pycharm": {
     "name": "#%% md\n"
    }
   },
   "source": [
    "F1 score computed with federated algorithm :\n",
    "\n",
    "For that, we are exporting `exp.aggregated_params()` containing models parameters collected at the end of each round"
   ]
  },
  {
   "cell_type": "code",
   "execution_count": null,
   "id": "13f8610a-97d1-460b-8bab-54f778876b6a",
   "metadata": {
    "pycharm": {
     "name": "#%%\n"
    }
   },
   "outputs": [],
   "source": [
    "from sklearn.metrics import classification_report, f1_score\n",
    "loss_metric = f1_score\n",
    "    \n",
    "testing_error = []\n",
    "\n",
    "for i in range(rounds):\n",
    "    fed_model = exp.training_plan().model()\n",
    "    fed_model.coef_ = exp.aggregated_params()[i]['params']['coef_']\n",
    "    fed_model.intercept_ = exp.aggregated_params()[i]['params']['intercept_']\n",
    "    print(f'Model trained in round {i}')\n",
    "    print('-------------------------')\n",
    "    print(classification_report(y_test, fed_model.predict(X_test), digits=3))"
   ]
  },
  {
   "cell_type": "code",
   "execution_count": null,
   "id": "0802f575",
   "metadata": {},
   "outputs": [],
   "source": []
  }
 ],
 "metadata": {
  "kernelspec": {
   "display_name": "Python 3 (ipykernel)",
   "language": "python",
   "name": "python3"
  },
  "language_info": {
   "codemirror_mode": {
    "name": "ipython",
    "version": 3
   },
   "file_extension": ".py",
   "mimetype": "text/x-python",
   "name": "python",
   "nbconvert_exporter": "python",
   "pygments_lexer": "ipython3",
   "version": "3.10.13"
  },
  "vscode": {
   "interpreter": {
    "hash": "ab76e3e624c52aae5e80807d730e4eaa4ecc8ddffbfd9d62b69327b02ed88a35"
   }
  }
 },
 "nbformat": 4,
 "nbformat_minor": 5
}
