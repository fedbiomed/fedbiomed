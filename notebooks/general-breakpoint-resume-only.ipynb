{
 "cells": [
  {
   "cell_type": "markdown",
   "id": "0f742d07",
   "metadata": {},
   "source": [
    "# Fedbiomed Researcher - Loading breakpoints only"
   ]
  },
  {
   "cell_type": "markdown",
   "id": "bcf9489f",
   "metadata": {},
   "source": [
    "This examples demonstrates how to use a breakpoint from a previously run experiment.\n",
    "\n",
    "Thus you need to :\n",
    "    * have previously started an experiment with `save_breakpoints=True` such as in `general-resume-experiment`\n",
    "    * the experiment must at least have completed a round, so that it saves a breakpoint\n",
    "    * ideally, you interrupt the experiment before completion so that not all rounds have completed, to simulate a failure during experiment\n",
    "    * then you restart the same nodes as for the experiment, with same dataset available\n",
    "    * and you run this notebook that will use the last breakpoint and complete the experiment"
   ]
  },
  {
   "cell_type": "markdown",
   "id": "5764cd6e",
   "metadata": {},
   "source": [
    "## Resume an experiment\n",
    "\n",
    "**To load the latest breakpoint of the latest experiment**\n",
    "\n",
    "Run :\n",
    "`Experiment.load_breakpoint()`. It reloads latest breakpoint, and will bypass `search` method\n",
    "\n",
    "and then use `.run` method as you would do with an existing experiment.\n",
    "\n",
    "**To load a specific breakpoint** specify breakpoint folder.\n",
    "\n",
    "- absolute path: use `Experiment.load_breakpoint(\"${FEDBIOMED_DIR}/var/breakpoints/Experiment_xxxx/breakpoint_yyyy)`. Replace `xxxx` and `yyyy` by the real values.\n",
    "- relative path from a notebook: a notebook is running from the `${FEDBIOMED_DIR}/notebooks` directory\n",
    "so use `Experiment.load_breakpoint(\"../var/breakpoints/Experiment_xxxx/breakpoint_yyyy)`. Replace `xxxx` and `yyyy` by the real values.\n",
    "- relative path from a script: if launching the script from the\n",
    "  ${FEDBIOMED_DIR} directory (eg: `python ./notebooks/general-breakpoint-save-resume.py`) then use a path relative to the current directory eg: `Experiment.load_breakpoint(\"./var/breakpoints/Experiment_xxxx/breakpoint_yyyy)`\n"
   ]
  },
  {
   "cell_type": "code",
   "execution_count": null,
   "id": "00cff513",
   "metadata": {},
   "outputs": [],
   "source": [
    "from fedbiomed.researcher.experiment import Experiment\n",
    "\n",
    "loaded_exp = Experiment.load_breakpoint()"
   ]
  },
  {
   "cell_type": "markdown",
   "id": "e84ceed6",
   "metadata": {},
   "source": [
    "Verify which experiment was loaded (using heuristic to guess last experiment if no breakpoint was specified)"
   ]
  },
  {
   "cell_type": "code",
   "execution_count": null,
   "id": "8274c8cd",
   "metadata": {},
   "outputs": [],
   "source": [
    "print(f'Loaded experimentation folder: {loaded_exp.experimentation_folder()}')\n",
    "print(f'Loaded experiment path: {loaded_exp.experimentation_path()}')"
   ]
  },
  {
   "cell_type": "markdown",
   "id": "c66af119",
   "metadata": {},
   "source": [
    "Continue training for the experiment loaded from breakpoint. If you ran all the rounds and load the last breakpoint, there won't be any more round to run."
   ]
  },
  {
   "cell_type": "code",
   "execution_count": null,
   "id": "bba105f6",
   "metadata": {},
   "outputs": [],
   "source": [
    "loaded_exp.run()"
   ]
  },
  {
   "cell_type": "markdown",
   "id": "aa8c58f0",
   "metadata": {},
   "source": [
    "Example of displaying some of the experiment results"
   ]
  },
  {
   "cell_type": "code",
   "execution_count": null,
   "id": "250a7076",
   "metadata": {},
   "outputs": [],
   "source": [
    "rounds = loaded_exp.round_current()\n",
    "\n",
    "print(\"______________ loaded training replies_________________\")\n",
    "print(\"\\nList the training rounds : \", loaded_exp.training_replies().keys())\n",
    "\n",
    "print(\"\\nList the nodes for the last training round and their timings : \")\n",
    "round_data = loaded_exp.training_replies()[rounds - 1].data()\n",
    "for c in range(len(round_data)):\n",
    "    print(\"\\t- {id} :\\\n",
    "    \\n\\t\\trtime_training={rtraining:.2f} seconds\\\n",
    "    \\n\\t\\tptime_training={ptraining:.2f} seconds\\\n",
    "    \\n\\t\\trtime_total={rtotal:.2f} seconds\".format(id = round_data[c]['node_id'],\n",
    "        rtraining = round_data[c]['timing']['rtime_training'],\n",
    "        ptraining = round_data[c]['timing']['ptime_training'],\n",
    "        rtotal = round_data[c]['timing']['rtime_total']))\n",
    "print('\\n')\n",
    "    \n",
    "loaded_exp.training_replies()[rounds - 1].dataframe()"
   ]
  },
  {
   "cell_type": "markdown",
   "id": "a8e16831",
   "metadata": {},
   "source": [
    "Federated parameters for each round are available via `exp.aggregated_params()` (index 0 to (`rounds` - 1) ).\n",
    "For example you can view the federated parameters for the last round of the experiment :"
   ]
  },
  {
   "cell_type": "code",
   "execution_count": null,
   "id": "a88498c5",
   "metadata": {
    "scrolled": true
   },
   "outputs": [],
   "source": [
    "print(\"\\nList the training rounds : \", loaded_exp.aggregated_params().keys())\n",
    "\n",
    "print(\"\\nAccess the federated params for training rounds : \")\n",
    "for round in loaded_exp.aggregated_params().keys():\n",
    "  print(\"round {r}\".format(r=round))\n",
    "  print(\"\\t- params_path: \", loaded_exp.aggregated_params()[round]['params_path'])\n",
    "  print(\"\\t- parameter data: \", loaded_exp.aggregated_params()[round]['params'].keys())\n"
   ]
  },
  {
   "cell_type": "code",
   "execution_count": null,
   "id": "2837406a",
   "metadata": {},
   "outputs": [],
   "source": []
  }
 ],
 "metadata": {
  "kernelspec": {
   "display_name": "Python 3 (ipykernel)",
   "language": "python",
   "name": "python3"
  },
  "language_info": {
   "codemirror_mode": {
    "name": "ipython",
    "version": 3
   },
   "file_extension": ".py",
   "mimetype": "text/x-python",
   "name": "python",
   "nbconvert_exporter": "python",
   "pygments_lexer": "ipython3",
   "version": "3.9.7"
  }
 },
 "nbformat": 4,
 "nbformat_minor": 5
}
