{
 "cells": [
  {
   "cell_type": "markdown",
   "id": "3c3eaac0",
   "metadata": {},
   "source": [
    "Load a researcher environment"
   ]
  },
  {
   "cell_type": "code",
   "execution_count": null,
   "id": "bda6c74a",
   "metadata": {},
   "outputs": [],
   "source": [
    "from fedbiomed.researcher.environ import environ"
   ]
  },
  {
   "cell_type": "markdown",
   "id": "3d6cebf0",
   "metadata": {},
   "source": [
    "environ will exists in only one instance\n",
    "\n",
    "it is a dictionnary which contains all configuration variables"
   ]
  },
  {
   "cell_type": "code",
   "execution_count": null,
   "id": "a1d257d6",
   "metadata": {},
   "outputs": [],
   "source": [
    "print(environ.__class__)"
   ]
  },
  {
   "cell_type": "code",
   "execution_count": null,
   "id": "06833f56",
   "metadata": {},
   "outputs": [],
   "source": [
    "print(environ)"
   ]
  },
  {
   "cell_type": "markdown",
   "id": "d84939d1",
   "metadata": {},
   "source": [
    "importing the environment in the same scriplet is OK"
   ]
  },
  {
   "cell_type": "code",
   "execution_count": null,
   "id": "95d959c5",
   "metadata": {},
   "outputs": [],
   "source": [
    "from fedbiomed.researcher.environ import environ"
   ]
  },
  {
   "cell_type": "markdown",
   "id": "ac82e806",
   "metadata": {},
   "source": [
    "but importing the node environment after having imported the researcher environment raises an error"
   ]
  },
  {
   "cell_type": "code",
   "execution_count": null,
   "id": "995de188",
   "metadata": {},
   "outputs": [],
   "source": [
    "from fedbiomed.node.environ import environ"
   ]
  },
  {
   "cell_type": "markdown",
   "id": "2ee28af1",
   "metadata": {},
   "source": [
    "a (usefull ?) trick is to get the environement after has been initialized is to refer to it\n",
    "directly from the Environ() class\n",
    "\n",
    "it only works because Environ() is a singleton and an instance of it has already been defined\n",
    "before (in this case, it is a RESEARCHER component environement)"
   ]
  },
  {
   "cell_type": "code",
   "execution_count": null,
   "id": "f672a999",
   "metadata": {},
   "outputs": [],
   "source": [
    "from fedbiomed.common.environ import Environ"
   ]
  },
  {
   "cell_type": "code",
   "execution_count": null,
   "id": "89dff3b5",
   "metadata": {},
   "outputs": [],
   "source": [
    "same_env = Environ().values()"
   ]
  },
  {
   "cell_type": "code",
   "execution_count": null,
   "id": "a601b742",
   "metadata": {},
   "outputs": [],
   "source": [
    "print( environ is same_env)"
   ]
  },
  {
   "cell_type": "markdown",
   "id": "f111bd61",
   "metadata": {},
   "source": [
    "this trick may help to simplify the code, by using an environment value in a library\n",
    "or a class without the need to pass all values as parameters"
   ]
  },
  {
   "cell_type": "code",
   "execution_count": null,
   "id": "76ec9fd2",
   "metadata": {
    "pycharm": {
     "name": "#%%\n"
    }
   },
   "outputs": [],
   "source": [
    "print(Environ().values()['COMPONENT_TYPE'])"
   ]
  }
 ],
 "metadata": {
  "kernelspec": {
   "display_name": "Python 3 (ipykernel)",
   "language": "python",
   "name": "python3"
  },
  "language_info": {
   "codemirror_mode": {
    "name": "ipython",
    "version": 3
   },
   "file_extension": ".py",
   "mimetype": "text/x-python",
   "name": "python",
   "nbconvert_exporter": "python",
   "pygments_lexer": "ipython3",
   "version": "3.9.7"
  }
 },
 "nbformat": 4,
 "nbformat_minor": 5
}