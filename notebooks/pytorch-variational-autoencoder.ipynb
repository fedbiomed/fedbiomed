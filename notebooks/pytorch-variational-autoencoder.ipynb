{
 "cells": [
  {
   "cell_type": "markdown",
   "id": "532f4701",
   "metadata": {},
   "source": [
    "# Fedbiomed Researcher to train a variational autoencoder"
   ]
  },
  {
   "cell_type": "markdown",
   "id": "aecc0724",
   "metadata": {},
   "source": [
    "Use for developing (autoreloads changes made across packages)"
   ]
  },
  {
   "cell_type": "code",
   "execution_count": null,
   "id": "d4cb57be",
   "metadata": {},
   "outputs": [],
   "source": [
    "%load_ext autoreload\n",
    "%autoreload 2"
   ]
  },
  {
   "cell_type": "markdown",
   "id": "7ae745c7",
   "metadata": {},
   "source": [
    "## Start the network\n",
    "Before running this notebook, start the network with `./scripts/fedbiomed_run network`"
   ]
  },
  {
   "cell_type": "markdown",
   "id": "c823ae0b",
   "metadata": {},
   "source": [
    "## Start the network and setting the node up\n",
    "\n",
    "It is necessary to previously configure a node:\n",
    "\n",
    "1. `./scripts/fedbiomed_run node add`\n",
    "  * Select option 2 (default) to add MNIST to the node\n",
    "  * Confirm default tags by hitting \"y\" and ENTER\n",
    "  * Pick the folder where MNIST is downloaded (this is due torch issue https://github.com/pytorch/vision/issues/3549)\n",
    "  * Data must have been added (if you get a warning saying that data must be unique is because it's been already added)\n",
    "  \n",
    "2. Check that your data has been added by executing `./scripts/fedbiomed_run node list`\n",
    "3. Run the node using `./scripts/fedbiomed_run node run`. Wait until you get `Starting task manager`. it means you are online.\n",
    "\n",
    "## Create an experiment to train a model on the data found"
   ]
  },
  {
   "cell_type": "markdown",
   "id": "1ca135f6",
   "metadata": {},
   "source": [
    "Declare VariableAutoencoderPlan class to send for training on the node"
   ]
  },
  {
   "cell_type": "code",
   "execution_count": null,
   "id": "6f8471c5",
   "metadata": {},
   "outputs": [],
   "source": [
    "from fedbiomed.researcher.environ import environ\n",
    "import tempfile\n",
    "tmp_dir_model = tempfile.TemporaryDirectory(dir=environ['TMP_DIR']+'/')\n",
    "model_file = tmp_dir_model.name + '/class_export_varautoenc.py'"
   ]
  },
  {
   "cell_type": "markdown",
   "id": "bdfd4a13",
   "metadata": {},
   "source": [
    "Note : write **only** the code to export in the following cell"
   ]
  },
  {
   "cell_type": "code",
   "execution_count": null,
   "id": "e0b4434c",
   "metadata": {},
   "outputs": [],
   "source": [
    "%%writefile \"$model_file\"\n",
    "\n",
    "import torch\n",
    "import torch.nn as nn\n",
    "from fedbiomed.common.torchnn import TorchTrainingPlan\n",
    "from torch.utils.data import DataLoader\n",
    "from torchvision import datasets, transforms\n",
    "\n",
    "\n",
    "class VariationalAutoencoderPlan(TorchTrainingPlan):\n",
    "    \"\"\" Declaration of two encoding layers and 2 decoding layers\n",
    "    \"\"\"\n",
    "    def __init__(self, model_args: dict = {}):\n",
    "        super(VariationalAutoencoderPlan, self).__init__(model_args)\n",
    "        # \n",
    "        self.fc1 = nn.Linear(784, 400)\n",
    "        self.fc21 = nn.Linear(400, 20)\n",
    "        self.fc22 = nn.Linear(400, 20)\n",
    "        self.fc3 = nn.Linear(20, 400)\n",
    "        self.fc4 = nn.Linear(400, 784)\n",
    "     \n",
    "    \n",
    "    def encode(self, x):\n",
    "        h1 = F.relu(self.fc1(x))\n",
    "        return self.fc21(h1), self.fc22(h1)\n",
    "\n",
    "    \n",
    "    def decode(self, z):\n",
    "        h3 = F.relu(self.fc3(z))\n",
    "        return torch.sigmoid(self.fc4(h3))\n",
    "    \n",
    "    \n",
    "    def reparameterize(self, mu, logvar):\n",
    "        std = torch.exp(0.5*logvar)\n",
    "        eps = torch.randn_like(std)\n",
    "        return mu + eps*std\n",
    "    \n",
    "    \n",
    "    \"\"\" Forward step in variational autoencoders is done in three steps, encoding\n",
    "    reparametrizing and decoding.\n",
    "    \"\"\"\n",
    "    def forward(self, x):\n",
    "        mu, logvar = self.encode(x.view(-1, 784))\n",
    "        z = self.reparameterize(mu, logvar)\n",
    "        return self.decode(z), mu, logvar\n",
    "    \n",
    "    \"\"\" We will work on MNIST data. This is the pytorch wrapper of this data.\n",
    "    \"\"\"\n",
    "    def training_data(self,  batch_size = 48):\n",
    "        # The training_data creates the Dataloader to be used for training in the general class Torchnn of fedbiomed\n",
    "        mnist_transform = transforms.Compose([\n",
    "                transforms.ToTensor(),\n",
    "        ])\n",
    "        train_dataset = datasets.MNIST(self.dataset_path, transform=mnist_transform, train=True, download=True)\n",
    "        train_loader = DataLoader(train_dataset,batch_size=batch_size,shuffle=True)\n",
    "        return train_loader\n",
    "    \n",
    "    \"\"\" Computed loss for variational autoencoders.\n",
    "    \"\"\"\n",
    "    def final_loss(self,bce_loss, mu, logvar):\n",
    "        BCE = bce_loss \n",
    "        KLD = -0.5 * torch.sum(1 + logvar - mu.pow(2) - logvar.exp())\n",
    "        return BCE + KLD\n",
    "    \n",
    "    \"\"\" At each federated learning round, this code will be executed\n",
    "    in every node making part of the federation.\n",
    "    \"\"\"\n",
    "    def training_step(self, data, target):\n",
    "       \n",
    "        criterion = nn.BCELoss(reduction='sum')\n",
    "        \n",
    "        reconstruction, mu, logvar = self.forward(data)\n",
    "        \n",
    "        bce_loss = criterion(reconstruction, data.view(48,-1))\n",
    "        loss = self.final_loss(bce_loss, mu, logvar)\n",
    "        #print ('loss', loss.item())\n",
    "        return loss\n",
    "\n"
   ]
  },
  {
   "cell_type": "code",
   "execution_count": null,
   "id": "2cb7bf3a",
   "metadata": {},
   "outputs": [],
   "source": [
    "model_args = {}\n",
    "\n",
    "training_args = {\n",
    "    'batch_size': 48, \n",
    "    'lr': 1e-3, \n",
    "    'epochs': 1, \n",
    "    'dry_run': False,  \n",
    "    'batch_maxnum': 100 # Fast pass for development : only use ( batch_maxnum * batch_size ) samples\n",
    "}"
   ]
  },
  {
   "cell_type": "markdown",
   "id": "63855f13",
   "metadata": {},
   "source": [
    "Define an experiment\n",
    "- search nodes serving data for these `tags`, optionally filter on a list of node ID with `nodes`.\n",
    "- run a round of local training on nodes with model defined in `model_path` + federation with `aggregator`.\n",
    "- run for `round_limit` rounds, applying the `node_selection_strategy` between the rounds."
   ]
  },
  {
   "cell_type": "code",
   "execution_count": null,
   "id": "9ccc415a",
   "metadata": {},
   "outputs": [],
   "source": [
    "from fedbiomed.researcher.experiment import Experiment\n",
    "from fedbiomed.researcher.aggregators.fedavg import FedAverage\n",
    "\n",
    "tags =  ['#MNIST', '#dataset']\n",
    "rounds = 3\n",
    "\n",
    "exp = Experiment(tags=tags,\n",
    "                 #nodes=None,\n",
    "                 model_path=model_file,\n",
    "                 model_args=model_args,\n",
    "                 model_class='VariationalAutoencoderPlan',\n",
    "                 training_args=training_args,\n",
    "                 round_limit=rounds,\n",
    "                 aggregator=FedAverage(),\n",
    "                 node_selection_strategy=None)"
   ]
  },
  {
   "cell_type": "markdown",
   "id": "8f2dd0b3",
   "metadata": {},
   "source": [
    "Let's start the experiment.\n",
    "\n",
    "By default, this function doesn't stop until all the `round_limit` rounds are done for all the nodes"
   ]
  },
  {
   "cell_type": "code",
   "execution_count": null,
   "id": "e907072c",
   "metadata": {},
   "outputs": [],
   "source": [
    "exp.run()"
   ]
  },
  {
   "cell_type": "code",
   "execution_count": null,
   "id": "ae1aa158",
   "metadata": {},
   "outputs": [],
   "source": []
  }
 ],
 "metadata": {
  "kernelspec": {
   "display_name": "Python 3 (ipykernel)",
   "language": "python",
   "name": "python3"
  },
  "language_info": {
   "codemirror_mode": {
    "name": "ipython",
    "version": 3
   },
   "file_extension": ".py",
   "mimetype": "text/x-python",
   "name": "python",
   "nbconvert_exporter": "python",
   "pygments_lexer": "ipython3",
   "version": "3.9.7"
  }
 },
 "nbformat": 4,
 "nbformat_minor": 5
}
