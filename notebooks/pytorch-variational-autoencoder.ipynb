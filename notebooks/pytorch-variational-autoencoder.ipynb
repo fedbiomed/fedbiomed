{
 "cells": [
  {
   "cell_type": "markdown",
   "id": "532f4701",
   "metadata": {},
   "source": [
    "# Fed-BioMed Researcher to train a variational autoencoder"
   ]
  },
  {
   "cell_type": "markdown",
   "id": "c823ae0b",
   "metadata": {},
   "source": [
    "This example uses MNIST dataset. Please check `README.md` file in `notebooks` directory for the instructions to load MNIST dataset and configure nodes."
   ]
  },
  {
   "cell_type": "markdown",
   "id": "1ca135f6",
   "metadata": {},
   "source": [
    "Declare VariableAutoencoderPlan class to send for training on the node"
   ]
  },
  {
   "cell_type": "code",
   "execution_count": null,
   "id": "e0b4434c",
   "metadata": {},
   "outputs": [],
   "source": [
    "import torch\n",
    "import torch.nn as nn\n",
    "from fedbiomed.common.training_plans import TorchTrainingPlan\n",
    "from fedbiomed.common.data import DataManager\n",
    "from torchvision import datasets, transforms\n",
    "\n",
    "\n",
    "class VariationalAutoencoderPlan(TorchTrainingPlan):\n",
    "    \"\"\" Declaration of two encoding layers and 2 decoding layers\n",
    "    \"\"\"\n",
    "    def init_model(self):\n",
    "        return self.Net()\n",
    "    \n",
    "    class Net(nn.Module):\n",
    "        def __init__(self):\n",
    "            super().__init__()\n",
    "            self.fc1 = nn.Linear(784, 400)\n",
    "            self.fc21 = nn.Linear(400, 20)\n",
    "            self.fc22 = nn.Linear(400, 20)\n",
    "            self.fc3 = nn.Linear(20, 400)\n",
    "            self.fc4 = nn.Linear(400, 784)\n",
    "\n",
    "\n",
    "        def encode(self, x):\n",
    "            h1 = F.relu(self.fc1(x))\n",
    "            return self.fc21(h1), self.fc22(h1)\n",
    "\n",
    "\n",
    "        def decode(self, z):\n",
    "            h3 = F.relu(self.fc3(z))\n",
    "            return torch.sigmoid(self.fc4(h3))\n",
    "\n",
    "\n",
    "        def reparameterize(self, mu, logvar):\n",
    "            std = torch.exp(0.5*logvar)\n",
    "            eps = torch.randn_like(std)\n",
    "            return mu + eps*std\n",
    "    \n",
    "        \"\"\" Forward step in variational autoencoders is done in three steps, encoding\n",
    "        reparametrizing and decoding.\n",
    "        \"\"\"\n",
    "        def forward(self, x):\n",
    "            mu, logvar = self.encode(x.view(-1, 784))\n",
    "            z = self.reparameterize(mu, logvar)\n",
    "            return self.decode(z), mu, logvar\n",
    "    \n",
    "    \"\"\" We will work on MNIST data. This is the pytorch wrapper of this data.\n",
    "    \"\"\"\n",
    "    def training_data(self):\n",
    "        # The training_data creates the Dataloader to be used for training in the general class Torchnn of fedbiomed\n",
    "        mnist_transform = transforms.Compose([\n",
    "                transforms.ToTensor(),\n",
    "        ])\n",
    "        train_dataset = datasets.MNIST(self.dataset_path, transform=mnist_transform, train=True, download=True)\n",
    "        return DataManager(train_dataset,shuffle=True)\n",
    "    \n",
    "    \"\"\" Computed loss for variational autoencoders.\n",
    "    \"\"\"\n",
    "    def final_loss(self,bce_loss, mu, logvar):\n",
    "        BCE = bce_loss \n",
    "        KLD = -0.5 * torch.sum(1 + logvar - mu.pow(2) - logvar.exp())\n",
    "        return BCE + KLD\n",
    "    \n",
    "    \"\"\" At each federated learning round, this code will be executed\n",
    "    in every node making part of the federation.\n",
    "    \"\"\"\n",
    "    def training_step(self, data, target):\n",
    "       \n",
    "        criterion = nn.BCELoss(reduction='sum')\n",
    "        reconstruction, mu, logvar = self.model().forward(data)\n",
    "        \n",
    "        bce_loss = criterion(reconstruction, data.view(48,-1))\n",
    "        loss = self.final_loss(bce_loss, mu, logvar)\n",
    "        return loss\n",
    "\n"
   ]
  },
  {
   "cell_type": "code",
   "execution_count": null,
   "id": "2cb7bf3a",
   "metadata": {},
   "outputs": [],
   "source": [
    "model_args = {}\n",
    "\n",
    "training_args = {\n",
    "    'loader_args': { 'batch_size': 48, },\n",
    "    'optimizer_args': {\n",
    "        'lr': 1e-3\n",
    "    },\n",
    "    'epochs': 1, \n",
    "    'dry_run': False,  \n",
    "    'batch_maxnum': 100 # Fast pass for development : only use ( batch_maxnum * batch_size ) samples\n",
    "}"
   ]
  },
  {
   "cell_type": "code",
   "execution_count": null,
   "id": "9ccc415a",
   "metadata": {},
   "outputs": [],
   "source": [
    "from fedbiomed.researcher.federated_workflows import Experiment\n",
    "from fedbiomed.researcher.aggregators.fedavg import FedAverage\n",
    "\n",
    "tags =  ['#MNIST', '#dataset']\n",
    "rounds = 3\n",
    "\n",
    "exp = Experiment(tags=tags,\n",
    "                 model_args=model_args,\n",
    "                 training_plan_class=VariationalAutoencoderPlan,\n",
    "                 training_args=training_args,\n",
    "                 round_limit=rounds,\n",
    "                 aggregator=FedAverage(),\n",
    "                 node_selection_strategy=None)"
   ]
  },
  {
   "cell_type": "code",
   "execution_count": null,
   "id": "e907072c",
   "metadata": {
    "pycharm": {
     "name": "#%%\n"
    }
   },
   "outputs": [],
   "source": [
    "exp.run()"
   ]
  },
  {
   "cell_type": "markdown",
   "id": "24acf681",
   "metadata": {},
   "source": [
    "Save trained model to file"
   ]
  },
  {
   "cell_type": "code",
   "execution_count": null,
   "id": "c5d8c017",
   "metadata": {},
   "outputs": [],
   "source": [
    "exp.training_plan().export_model('./trained_model')"
   ]
  }
 ],
 "metadata": {
  "kernelspec": {
   "display_name": "Python 3 (ipykernel)",
   "language": "python",
   "name": "python3"
  },
  "language_info": {
   "codemirror_mode": {
    "name": "ipython",
    "version": 3
   },
   "file_extension": ".py",
   "mimetype": "text/x-python",
   "name": "python",
   "nbconvert_exporter": "python",
   "pygments_lexer": "ipython3",
   "version": "3.10.13"
  },
  "vscode": {
   "interpreter": {
    "hash": "ab76e3e624c52aae5e80807d730e4eaa4ecc8ddffbfd9d62b69327b02ed88a35"
   }
  }
 },
 "nbformat": 4,
 "nbformat_minor": 5
}
