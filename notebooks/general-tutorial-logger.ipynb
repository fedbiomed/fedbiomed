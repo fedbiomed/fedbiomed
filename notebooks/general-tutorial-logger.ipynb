{
 "cells": [
  {
   "cell_type": "markdown",
   "id": "acae1d60",
   "metadata": {},
   "source": [
    "This notebook sows how to use the logger provided by fedbiomed\n",
    "\n",
    "The initial logger contains a default handler which display messages on the console\n",
    "with level logging.WARNING by default"
   ]
  },
  {
   "cell_type": "code",
   "execution_count": null,
   "id": "bda6c74a",
   "metadata": {},
   "outputs": [],
   "source": [
    "from fedbiomed.common.logger import logger"
   ]
  },
  {
   "cell_type": "markdown",
   "id": "3d6cebf0",
   "metadata": {},
   "source": [
    "Different ways to set the loglevel"
   ]
  },
  {
   "cell_type": "code",
   "execution_count": null,
   "id": "a1d257d6",
   "metadata": {},
   "outputs": [],
   "source": [
    "logger.setLevel(\"DEBUG\")\n",
    "logger.setLevel(\"DEBUG\", \"CONSOLE\")\n",
    "\n",
    "import logging\n",
    "logger.setLevel(logging.WARNING)"
   ]
  },
  {
   "cell_type": "markdown",
   "id": "eda6b837",
   "metadata": {},
   "source": [
    "This should not display anything"
   ]
  },
  {
   "cell_type": "code",
   "execution_count": null,
   "id": "84f418a1",
   "metadata": {},
   "outputs": [],
   "source": [
    "logger.debug(\"Did you get this message ?\")"
   ]
  },
  {
   "cell_type": "markdown",
   "id": "32dc6315",
   "metadata": {},
   "source": [
    "On the opposite, this should display something"
   ]
  },
  {
   "cell_type": "code",
   "execution_count": null,
   "id": "10a3f995",
   "metadata": {},
   "outputs": [],
   "source": [
    "logger.setLevel(\"DEBUG\", \"CONSOLE\")\n",
    "logger.debug(\"And this one ??\") "
   ]
  },
  {
   "cell_type": "raw",
   "id": "2f0d7a33",
   "metadata": {},
   "source": [
    "logger is a singleton (developper may find usefull to know it, then the \"logger\" symbol exists \n",
    "in one class dictionnary or parameters)"
   ]
  },
  {
   "cell_type": "code",
   "execution_count": null,
   "id": "3d54fe5e",
   "metadata": {},
   "outputs": [],
   "source": [
    "from fedbiomed.common.logger import _FedLogger\n",
    "\n",
    "second_logger = _FedLogger()\n",
    "logger.setLevel(\"DEBUG\")\n",
    "\n",
    "logger.setLevel(\"ERROR\")\n",
    "second_logger.debug(\"this is not logged, because logger == second_logger\")\n"
   ]
  },
  {
   "cell_type": "code",
   "execution_count": null,
   "id": "95d959c5",
   "metadata": {},
   "outputs": [],
   "source": [
    "second_logger.critical(\"BUT THIS ONE IS LOGGED, because logger == second_logger\")"
   ]
  },
  {
   "cell_type": "markdown",
   "id": "ac82e806",
   "metadata": {},
   "source": [
    "How to add a new handler ??"
   ]
  },
  {
   "cell_type": "markdown",
   "id": "a3784ea3",
   "metadata": {},
   "source": [
    "This will not work, as a console handler already exists..."
   ]
  },
  {
   "cell_type": "code",
   "execution_count": null,
   "id": "e7e1fdcd",
   "metadata": {},
   "outputs": [],
   "source": [
    "logger.addConsoleHandler()\n",
    "\n",
    "logger.error(\"should only get this nmessage once\")"
   ]
  },
  {
   "cell_type": "markdown",
   "id": "b5306ece",
   "metadata": {},
   "source": [
    "But we can always trick the system (even is not adviced)"
   ]
  },
  {
   "cell_type": "code",
   "execution_count": null,
   "id": "89dff3b5",
   "metadata": {},
   "outputs": [],
   "source": [
    "handler = logging.StreamHandler()\n",
    "formatter = logging.Formatter('%(asctime)s - %(name)s - SECOND LOGGER - %(message)s')\n",
    "handler.setFormatter(formatter)\n",
    "\n",
    "logger._internalAddHandler(\"TRICK\", handler)\n",
    "\n",
    "logger.error(\"should appear twice, but in different format\")"
   ]
  },
  {
   "cell_type": "code",
   "execution_count": null,
   "id": "23716eb8",
   "metadata": {},
   "outputs": [],
   "source": []
  }
 ],
 "metadata": {
  "kernelspec": {
   "display_name": "Python 3 (ipykernel)",
   "language": "python",
   "name": "python3"
  },
  "language_info": {
   "codemirror_mode": {
    "name": "ipython",
    "version": 3
   },
   "file_extension": ".py",
   "mimetype": "text/x-python",
   "name": "python",
   "nbconvert_exporter": "python",
   "pygments_lexer": "ipython3",
   "version": "3.9.9"
  }
 },
 "nbformat": 4,
 "nbformat_minor": 5
}
