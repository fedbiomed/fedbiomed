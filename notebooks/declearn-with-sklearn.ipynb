{
 "cells": [
  {
   "cell_type": "markdown",
   "id": "64e87007",
   "metadata": {
    "pycharm": {
     "name": "#%% md\n"
    }
   },
   "source": [
    "# Fed-BioMed to train a federated SGD regressor model"
   ]
  },
  {
   "cell_type": "markdown",
   "id": "11c0bc07",
   "metadata": {
    "pycharm": {
     "name": "#%% md\n"
    }
   },
   "source": [
    "## Data \n",
    "\n",
    "\n",
    "This tutorial shows how to deploy in Fed-BioMed to solve a federated regression problem with scikit-learn.\n",
    "\n",
    "In this tutorial we are using the wrapper of Fed-BioMed for the SGD regressor (https://scikit-learn.org/stable/modules/generated/sklearn.linear_model.SGDRegressor.html).\n",
    "The goal of the notebook is to train a model on a realistic dataset of (synthetic) medical information mimicking the ADNI dataset (http://adni.loni.usc.edu/). \n",
    "\n",
    "## Creating nodes\n",
    "\n",
    "To proceed with the tutorial, we create 3 clients with corresponding dataframes of clinical information in .csv format. Each client has 300 data points composed by several features corresponding to clinical and medical imaging informations. **The data is entirely synthetic and randomly sampled to mimick the variability of the real ADNI dataset**. The training partitions are availables at the following link:\n",
    "\n",
    "https://drive.google.com/file/d/1R39Ir60oQi8ZnmHoPz5CoGCrVIglcO9l/view?usp=sharing\n",
    "\n",
    "The federated task we aim at solve is to predict a clinical variable (the mini-mental state examination, MMSE) from a combination of demographic and imaging features. The regressors variables are the following features:\n",
    "\n",
    "['SEX', 'AGE', 'PTEDUCAT', 'WholeBrain.bl', 'Ventricles.bl', 'Hippocampus.bl', 'MidTemp.bl', 'Entorhinal.bl']\n",
    "\n",
    "and the target variable is:\n",
    "\n",
    "['MMSE.bl']\n",
    "    \n",
    "\n",
    "To create the federated dataset, we follow the standard procedure for node creation/population of Fed-BioMed. \n",
    "After activating the fedbiomed network with the commands\n",
    "\n",
    "`source ./scripts/fedbiomed_environment network`\n",
    "\n",
    "and \n",
    "\n",
    "`./scripts/fedbiomed_run network`\n",
    "\n",
    "we create a first node by using the commands\n",
    "\n",
    "`source ./scripts/fedbiomed_environment node`\n",
    "\n",
    "`./scripts/fedbiomed_run node start`\n",
    "\n",
    "We then poulate the node with the data of first client:\n",
    "\n",
    "`./scripts/fedbiomed_run node config conf.ini add`\n",
    "\n",
    "Thn, we select option 1 (csv dataset) to add the .csv partition of client 1, by just picking the .csv of client 1. We use `adni` as tag to save the selected dataset. We can further check that the data has been added by executing `./scripts/fedbiomed_run node list`\n",
    "\n",
    "Following the same procedure, we create the other two nodes with the datasets of client 2 and client 3 respectively. To do so, we add and launch a `Node`using others configuration files"
   ]
  },
  {
   "cell_type": "markdown",
   "id": "f5411d74",
   "metadata": {
    "pycharm": {
     "name": "#%% md\n"
    }
   },
   "source": [
    "## Fed-BioMed Researcher\n",
    "\n",
    "We are now ready to start the reseracher enviroment with the command `source ./scripts/fedbiomed_environment researcher`, and open the Jupyter notebook with `./scripts/fedbiomed_run researcher start`. \n",
    "\n",
    "We can first query the network for the adni dataset. In this case, the nodes are sharing the respective partitions unsing the same tag `adni`:"
   ]
  },
  {
   "cell_type": "code",
   "execution_count": null,
   "id": "ade4cbea",
   "metadata": {
    "pycharm": {
     "name": "#%%\n"
    }
   },
   "outputs": [],
   "source": [
    "%load_ext autoreload\n",
    "%autoreload 2"
   ]
  },
  {
   "cell_type": "code",
   "execution_count": null,
   "id": "fccd2a0b",
   "metadata": {
    "pycharm": {
     "name": "#%%\n"
    },
    "scrolled": true
   },
   "outputs": [],
   "source": [
    "from fedbiomed.researcher.requests import Requests\n",
    "req = Requests()\n",
    "req.list(verbose=True)"
   ]
  },
  {
   "cell_type": "markdown",
   "id": "8e9aaa87",
   "metadata": {
    "pycharm": {
     "name": "#%% md\n"
    }
   },
   "source": [
    "The code for network and data loader of the sklearn SGDRegressor can now be deployed in Fed-BioMed.\n",
    "We first import the necessary module `SGDSkLearnModel` from `fedbiomed`:\n",
    "\n",
    "**__init__** : we add here the needed sklearn libraries\n",
    "       \n",
    "**training_data** : you must return here a tuple (data,targets) that must be of the same type of \n",
    "your method partial_fit parameters. \n",
    "\n",
    "We note that this model performs a common standardization across federated datasets by **centering with respect to the same parameters**."
   ]
  },
  {
   "cell_type": "code",
   "execution_count": null,
   "id": "0729cfee",
   "metadata": {
    "pycharm": {
     "name": "#%%\n"
    }
   },
   "outputs": [],
   "source": [
    "from fedbiomed.common.training_plans import FedSGDRegressor\n",
    "from fedbiomed.common.data import DataManager\n",
    "\n",
    "from declearn.optimizer import Optimizer\n",
    "from declearn.optimizer.modules import AdamModule\n",
    "from declearn.optimizer.regularizers import FedProxRegularizer\n",
    "\n",
    "\n",
    "class SGDRegressorTrainingPlan(FedSGDRegressor):\n",
    "    # Declares and return dependencies\n",
    "    def init_dependencies(self):\n",
    "        deps = [\"from torchvision import datasets, transforms\",\n",
    "                \"from declearn.optimizer import Optimizer\",\n",
    "                \"from declearn.optimizer.modules import AdamModule\",\n",
    "                \"from declearn.optimizer.regularizers import FedProxRegularizer\"]\n",
    "        return deps\n",
    "\n",
    "    def training_data(self):\n",
    "        dataset = pd.read_csv(self.dataset_path, delimiter=',')\n",
    "        regressors_col = ['AGE', 'WholeBrain.bl',\n",
    "                          'Ventricles.bl', 'Hippocampus.bl', 'MidTemp.bl', 'Entorhinal.bl']\n",
    "        target_col = ['MMSE.bl']\n",
    "        \n",
    "        # mean and standard deviation for normalizing dataset\n",
    "        # it has been computed over the whole dataset\n",
    "        scaling_mean = np.array([72.3, 0.7, 0.0, 0.0, 0.0, 0.0])\n",
    "        scaling_sd = np.array([7.3e+00, 5.0e-02, 1.1e-02, 1.0e-03, 2.0e-03, 1.0e-03])\n",
    "        \n",
    "        X = (dataset[regressors_col].values-scaling_mean)/scaling_sd\n",
    "        y = dataset[target_col]\n",
    "        return DataManager(dataset=X, target=y.values.ravel(),  shuffle=True)\n",
    "\n",
    "    # Defines and return a declearn optimizer\n",
    "    def init_optimizer(self, optimizer_args):\n",
    "        return Optimizer(lrate=.1 ,modules=[AdamModule()], regularizers=[FedProxRegularizer()])"
   ]
  },
  {
   "cell_type": "markdown",
   "id": "177db3bb",
   "metadata": {
    "pycharm": {
     "name": "#%% md\n"
    }
   },
   "source": [
    "**model_args** is a dictionary containing your model arguments, in case of SGDRegressor this will be max_iter and tol. n_features is provided to correctly initialize the SGDRegressor coef_ array.\n",
    "\n",
    "**training_args** is a dictionary with parameters related to Federated Learning. "
   ]
  },
  {
   "cell_type": "code",
   "execution_count": null,
   "id": "bc4007f8",
   "metadata": {
    "pycharm": {
     "name": "#%%\n"
    }
   },
   "outputs": [],
   "source": [
    "from fedbiomed.common.metrics import MetricTypes\n",
    "RANDOM_SEED = 1234\n",
    "\n",
    "\n",
    "model_args = {\n",
    "    'max_iter':2000,\n",
    "    'tol': 1e-5,\n",
    "    'eta0':0.05,\n",
    "    'n_features': 6,\n",
    "    'random_state': RANDOM_SEED\n",
    "}\n",
    "\n",
    "training_args = {\n",
    "    'epochs': 5,\n",
    "    'loader_args': { 'batch_size': 32, },\n",
    "    'test_ratio':.3,\n",
    "    'test_metric': MetricTypes.MEAN_SQUARE_ERROR,\n",
    "    'test_on_local_updates': True,\n",
    "    'test_on_global_updates': True\n",
    "}"
   ]
  },
  {
   "cell_type": "markdown",
   "id": "9da2b46d",
   "metadata": {
    "pycharm": {
     "name": "#%% md\n"
    }
   },
   "source": [
    "The experiment can be now defined, by providing the `adni` tag, and running the local training on nodes with model defined in `model_path`, standard `aggregator` (FedAvg) and `client_selection_strategy` (all nodes used). Federated learning is going to be perfomed through 10 optimization rounds."
   ]
  },
  {
   "cell_type": "code",
   "execution_count": null,
   "id": "4b1a1341",
   "metadata": {
    "pycharm": {
     "is_executing": true,
     "name": "#%%\n"
    }
   },
   "outputs": [],
   "source": [
    "from fedbiomed.researcher.experiment import Experiment\n",
    "from fedbiomed.researcher.aggregators.fedavg import FedAverage\n",
    "\n",
    "tags =  ['adni']\n",
    "\n",
    "# Add more rounds for results with better accuracy\n",
    "#\n",
    "#rounds = 40\n",
    "rounds = 5\n",
    "\n",
    "# select nodes participating to this experiment\n",
    "exp = Experiment(tags=tags,\n",
    "                 model_args=model_args,\n",
    "                 training_plan_class=SGDRegressorTrainingPlan,\n",
    "                 training_args=training_args,\n",
    "                 round_limit=rounds,\n",
    "                 aggregator=FedAverage(),\n",
    "                 node_selection_strategy=None)"
   ]
  },
  {
   "cell_type": "code",
   "execution_count": null,
   "id": "d6ff55da",
   "metadata": {
    "pycharm": {
     "is_executing": true,
     "name": "#%%\n"
    }
   },
   "outputs": [],
   "source": [
    "# start federated training\n",
    "exp.run()"
   ]
  },
  {
   "cell_type": "markdown",
   "id": "57811a0f",
   "metadata": {},
   "source": [
    "# Declearn Optimizers with Scikit learn Perceptron Classifier"
   ]
  },
  {
   "cell_type": "code",
   "execution_count": 1,
   "id": "bca86812",
   "metadata": {},
   "outputs": [],
   "source": [
    "from fedbiomed.common.training_plans import FedPerceptron\n",
    "from fedbiomed.common.data import DataManager\n",
    "import numpy as np\n",
    "\n",
    "from fedbiomed.common.optimizers import Optimizer\n",
    "from declearn.optimizer.modules import AdamModule\n",
    "from declearn.optimizer.regularizers import FedProxRegularizer\n",
    "\n",
    "class SkLearnClassifierTrainingPlan(FedPerceptron):\n",
    "    def init_dependencies(self):\n",
    "        \"\"\"Define additional dependencies.\n",
    "        \n",
    "        In this case, we rely on torchvision functions for preprocessing the images.\n",
    "        \"\"\"\n",
    "        return [\"from torchvision import datasets, transforms\",\n",
    "                \"from fedbiomed.common.optimizers import Optimizer\",\n",
    "                \"from declearn.optimizer.modules import AdamModule\",\n",
    "                \"from declearn.optimizer.regularizers import FedProxRegularizer\",]\n",
    "\n",
    "    def training_data(self):\n",
    "        \"\"\"Prepare data for training.\n",
    "        \n",
    "        This function loads a MNIST dataset from the node's filesystem, applies some\n",
    "        preprocessing and converts the full dataset to a numpy array. \n",
    "        Finally, it returns a DataManager created with these numpy arrays.\n",
    "        \"\"\"\n",
    "        transform = transforms.Compose([transforms.ToTensor(),\n",
    "        transforms.Normalize((0.1307,), (0.3081,))])\n",
    "        dataset = datasets.MNIST(self.dataset_path, train=True, download=False, transform=transform)\n",
    "        \n",
    "        X_train = dataset.data.numpy()\n",
    "        X_train = X_train.reshape(-1, 28*28)\n",
    "        Y_train = dataset.targets.numpy()\n",
    "        return DataManager(dataset=X_train, target=Y_train,  shuffle=False)\n",
    "    \n",
    "    # Defines and return a declearn optimizer\n",
    "    def init_optimizer(self, optimizer_args):\n",
    "        return Optimizer(lr=.1 ,modules=[AdamModule()], regularizers=[FedProxRegularizer()])"
   ]
  },
  {
   "cell_type": "code",
   "execution_count": 2,
   "id": "61ba3825",
   "metadata": {},
   "outputs": [],
   "source": [
    "model_args = {'n_features': 28*28,\n",
    "              'n_classes' : 10,\n",
    "              'eta0':1e-6,\n",
    "              'random_state':1234,\n",
    "              'alpha':0.1 }\n",
    "\n",
    "training_args = {\n",
    "    'epochs': 3, \n",
    "    'batch_maxnum': 20,  # can be used to debugging to limit the number of batches per epoch\n",
    "    'optimizer_args': {\n",
    "        \"lr\" : 1e-3\n",
    "    },\n",
    "#    'log_interval': 1,  # output a logging message every log_interval batches\n",
    "    'batch_size': 4\n",
    "}"
   ]
  },
  {
   "cell_type": "code",
   "execution_count": 3,
   "id": "9b9c24bb",
   "metadata": {},
   "outputs": [
    {
     "name": "stderr",
     "output_type": "stream",
     "text": [
      "2023-05-16 16:38:03,122 fedbiomed INFO - Messaging researcher_6b641dc8-8bf0-4237-aaf7-eb6d72f8d3d8 successfully connected to the message broker, object = <fedbiomed.common.messaging.Messaging object at 0x7f5df876dcd0>\n",
      "2023-05-16 16:38:03,155 fedbiomed INFO - Searching dataset with data tags: ['#MNIST', '#dataset'] for all nodes\n",
      "2023-05-16 16:38:13,175 fedbiomed INFO - Node selected for training -> node_f0ea0045-a45a-4c29-9367-fa28128a59e9\n",
      "2023-05-16 16:38:13,178 fedbiomed INFO - Node selected for training -> node_c2390ffb-45a3-4acc-a926-f564d3954696\n",
      "2023-05-16 16:38:13,183 fedbiomed INFO - Checking data quality of federated datasets...\n",
      "2023-05-16 16:38:13,188 fedbiomed DEBUG - Using declearn optimizer\n",
      "2023-05-16 16:38:13,205 fedbiomed DEBUG - Model file has been saved: /home/ybouilla/fedbiomed_2/fedbiomed/var/experiments/Experiment_0012/my_model_522bd712-f13b-44e3-adfb-621407cb2f7c.py\n",
      "2023-05-16 16:38:13,256 fedbiomed DEBUG - HTTP POST request of file /home/ybouilla/fedbiomed_2/fedbiomed/var/experiments/Experiment_0012/my_model_522bd712-f13b-44e3-adfb-621407cb2f7c.py successful, with status code 201\n",
      "2023-05-16 16:38:13,293 fedbiomed DEBUG - HTTP POST request of file /home/ybouilla/fedbiomed_2/fedbiomed/var/experiments/Experiment_0012/aggregated_params_4cddfd76-f6e1-457c-bd0e-9f553757d9e3.mpk successful, with status code 201\n",
      "2023-05-16 16:38:13,294 fedbiomed INFO - Removing tensorboard logs from previous experiment\n"
     ]
    }
   ],
   "source": [
    "from fedbiomed.researcher.experiment import Experiment\n",
    "from fedbiomed.researcher.aggregators.fedavg import FedAverage\n",
    "\n",
    "tags =  ['#MNIST', '#dataset']\n",
    "rounds = 3\n",
    "\n",
    "# select nodes participating in this experiment\n",
    "exp = Experiment(tags=tags,\n",
    "                 model_args=model_args,\n",
    "                 training_plan_class=SkLearnClassifierTrainingPlan,\n",
    "                 training_args=training_args,\n",
    "                 round_limit=rounds,\n",
    "                 aggregator=FedAverage(),\n",
    "                 node_selection_strategy=None)\n"
   ]
  },
  {
   "cell_type": "code",
   "execution_count": 4,
   "id": "8e5f510c",
   "metadata": {},
   "outputs": [
    {
     "name": "stderr",
     "output_type": "stream",
     "text": [
      "2023-05-16 16:38:13,310 fedbiomed INFO - Sampled nodes in round 0 ['node_f0ea0045-a45a-4c29-9367-fa28128a59e9', 'node_c2390ffb-45a3-4acc-a926-f564d3954696']\n",
      "2023-05-16 16:38:13,311 fedbiomed INFO - \u001b[1mSending request\u001b[0m \n",
      "\t\t\t\t\t\u001b[1m To\u001b[0m: node_f0ea0045-a45a-4c29-9367-fa28128a59e9 \n",
      "\t\t\t\t\t\u001b[1m Request: \u001b[0m: Perform training with the arguments: {'researcher_id': 'researcher_6b641dc8-8bf0-4237-aaf7-eb6d72f8d3d8', 'job_id': '6bc623af-1fc1-4715-bf4f-b4ec702dfc44', 'training_args': {'epochs': 3, 'batch_maxnum': 20, 'optimizer_args': {'lr': 0.001}, 'batch_size': 4, 'num_updates': None, 'dry_run': False, 'test_ratio': 0.0, 'test_on_local_updates': False, 'test_on_global_updates': False, 'test_metric': None, 'test_metric_args': {}, 'log_interval': 10, 'fedprox_mu': None, 'use_gpu': False, 'dp_args': None, 'share_persistent_buffers': True}, 'training': True, 'model_args': {'n_features': 784, 'n_classes': 10, 'eta0': 1e-06, 'random_state': 1234, 'alpha': 0.1, 'loss': 'perceptron', 'verbose': 1}, 'round': 0, 'secagg_servkey_id': None, 'secagg_biprime_id': None, 'secagg_random': None, 'secagg_clipping_range': None, 'command': 'train', 'training_plan_url': 'http://localhost:8844/media/uploads/2023/05/16/my_model_522bd712-f13b-44e3-adfb-621407cb2f7c.py', 'params_url': 'http://localhost:8844/media/uploads/2023/05/16/aggregated_params_4cddfd76-f6e1-457c-bd0e-9f553757d9e3.mpk', 'training_plan_class': 'SkLearnClassifierTrainingPlan', 'dataset_id': 'dataset_cde23f4b-a666-41b4-b849-f809050b5e95'} \n",
      " -----------------------------------------------------------------\n",
      "2023-05-16 16:38:13,313 fedbiomed DEBUG - researcher_6b641dc8-8bf0-4237-aaf7-eb6d72f8d3d8\n",
      "2023-05-16 16:38:13,316 fedbiomed INFO - \u001b[1mSending request\u001b[0m \n",
      "\t\t\t\t\t\u001b[1m To\u001b[0m: node_c2390ffb-45a3-4acc-a926-f564d3954696 \n",
      "\t\t\t\t\t\u001b[1m Request: \u001b[0m: Perform training with the arguments: {'researcher_id': 'researcher_6b641dc8-8bf0-4237-aaf7-eb6d72f8d3d8', 'job_id': '6bc623af-1fc1-4715-bf4f-b4ec702dfc44', 'training_args': {'epochs': 3, 'batch_maxnum': 20, 'optimizer_args': {'lr': 0.001}, 'batch_size': 4, 'num_updates': None, 'dry_run': False, 'test_ratio': 0.0, 'test_on_local_updates': False, 'test_on_global_updates': False, 'test_metric': None, 'test_metric_args': {}, 'log_interval': 10, 'fedprox_mu': None, 'use_gpu': False, 'dp_args': None, 'share_persistent_buffers': True}, 'training': True, 'model_args': {'n_features': 784, 'n_classes': 10, 'eta0': 1e-06, 'random_state': 1234, 'alpha': 0.1, 'loss': 'perceptron', 'verbose': 1}, 'round': 0, 'secagg_servkey_id': None, 'secagg_biprime_id': None, 'secagg_random': None, 'secagg_clipping_range': None, 'command': 'train', 'training_plan_url': 'http://localhost:8844/media/uploads/2023/05/16/my_model_522bd712-f13b-44e3-adfb-621407cb2f7c.py', 'params_url': 'http://localhost:8844/media/uploads/2023/05/16/aggregated_params_4cddfd76-f6e1-457c-bd0e-9f553757d9e3.mpk', 'training_plan_class': 'SkLearnClassifierTrainingPlan', 'dataset_id': 'dataset_02d41315-d62d-45b0-8648-65ddb3af52dc'} \n",
      " -----------------------------------------------------------------\n",
      "2023-05-16 16:38:13,320 fedbiomed DEBUG - researcher_6b641dc8-8bf0-4237-aaf7-eb6d72f8d3d8\n",
      "2023-05-16 16:38:13,354 fedbiomed INFO - \u001b[1mWARNING\u001b[0m\n",
      "\t\t\t\t\t\u001b[1m NODE\u001b[0m node_f0ea0045-a45a-4c29-9367-fa28128a59e9\n",
      "\t\t\t\t\t\u001b[1m MESSAGE:\u001b[0m There is no validation activated for the round. Please set flag for `test_on_global_updates`, `test_on_local_updates`, or both. Splitting dataset for validation will be ignored\u001b[0m\n",
      "-----------------------------------------------------------------\n",
      "2023-05-16 16:38:13,392 fedbiomed INFO - \u001b[1mWARNING\u001b[0m\n",
      "\t\t\t\t\t\u001b[1m NODE\u001b[0m node_c2390ffb-45a3-4acc-a926-f564d3954696\n",
      "\t\t\t\t\t\u001b[1m MESSAGE:\u001b[0m There is no validation activated for the round. Please set flag for `test_on_global_updates`, `test_on_local_updates`, or both. Splitting dataset for validation will be ignored\u001b[0m\n",
      "-----------------------------------------------------------------\n",
      "2023-05-16 16:38:13,475 fedbiomed INFO - \u001b[1mINFO\u001b[0m\n",
      "\t\t\t\t\t\u001b[1m NODE\u001b[0m node_f0ea0045-a45a-4c29-9367-fa28128a59e9\n",
      "\t\t\t\t\t\u001b[1m MESSAGE:\u001b[0m NPDataLoader expanding 1-dimensional target to become 2-dimensional.\u001b[0m\n",
      "-----------------------------------------------------------------\n",
      "2023-05-16 16:38:13,476 fedbiomed INFO - \u001b[1mINFO\u001b[0m\n",
      "\t\t\t\t\t\u001b[1m NODE\u001b[0m node_f0ea0045-a45a-4c29-9367-fa28128a59e9\n",
      "\t\t\t\t\t\u001b[1m MESSAGE:\u001b[0m NPDataLoader expanding 1-dimensional dataset to become 2-dimensional.\u001b[0m\n",
      "-----------------------------------------------------------------\n",
      "2023-05-16 16:38:13,478 fedbiomed INFO - \u001b[1mINFO\u001b[0m\n",
      "\t\t\t\t\t\u001b[1m NODE\u001b[0m node_f0ea0045-a45a-4c29-9367-fa28128a59e9\n",
      "\t\t\t\t\t\u001b[1m MESSAGE:\u001b[0m NPDataLoader expanding 1-dimensional target to become 2-dimensional.\u001b[0m\n",
      "-----------------------------------------------------------------\n",
      "2023-05-16 16:38:13,479 fedbiomed INFO - \u001b[1mWARNING\u001b[0m\n",
      "\t\t\t\t\t\u001b[1m NODE\u001b[0m node_f0ea0045-a45a-4c29-9367-fa28128a59e9\n",
      "\t\t\t\t\t\u001b[1m MESSAGE:\u001b[0m The following non-default model parameters were overridden due to the disabling of the scikit-learn internal optimizer:\n",
      "\teta0,\n",
      "\tlearning_rate\u001b[0m\n",
      "-----------------------------------------------------------------\n",
      "2023-05-16 16:38:13,498 fedbiomed INFO - \u001b[1mINFO\u001b[0m\n",
      "\t\t\t\t\t\u001b[1m NODE\u001b[0m node_c2390ffb-45a3-4acc-a926-f564d3954696\n",
      "\t\t\t\t\t\u001b[1m MESSAGE:\u001b[0m NPDataLoader expanding 1-dimensional target to become 2-dimensional.\u001b[0m\n",
      "-----------------------------------------------------------------\n",
      "2023-05-16 16:38:13,504 fedbiomed INFO - \u001b[1mINFO\u001b[0m\n",
      "\t\t\t\t\t\u001b[1m NODE\u001b[0m node_c2390ffb-45a3-4acc-a926-f564d3954696\n",
      "\t\t\t\t\t\u001b[1m MESSAGE:\u001b[0m NPDataLoader expanding 1-dimensional dataset to become 2-dimensional.\u001b[0m\n",
      "-----------------------------------------------------------------\n",
      "2023-05-16 16:38:13,505 fedbiomed INFO - \u001b[1mINFO\u001b[0m\n",
      "\t\t\t\t\t\u001b[1m NODE\u001b[0m node_c2390ffb-45a3-4acc-a926-f564d3954696\n",
      "\t\t\t\t\t\u001b[1m MESSAGE:\u001b[0m NPDataLoader expanding 1-dimensional target to become 2-dimensional.\u001b[0m\n",
      "-----------------------------------------------------------------\n",
      "2023-05-16 16:38:13,507 fedbiomed INFO - \u001b[1mWARNING\u001b[0m\n",
      "\t\t\t\t\t\u001b[1m NODE\u001b[0m node_c2390ffb-45a3-4acc-a926-f564d3954696\n",
      "\t\t\t\t\t\u001b[1m MESSAGE:\u001b[0m The following non-default model parameters were overridden due to the disabling of the scikit-learn internal optimizer:\n",
      "\teta0,\n",
      "\tlearning_rate\u001b[0m\n",
      "-----------------------------------------------------------------\n",
      "2023-05-16 16:38:13,526 fedbiomed INFO - \u001b[1mTRAINING\u001b[0m \n",
      "\t\t\t\t\t NODE_ID: node_f0ea0045-a45a-4c29-9367-fa28128a59e9 \n",
      "\t\t\t\t\t Round 1 Epoch: 1 | Iteration: 1/20 (5%) | Samples: 4/80\n",
      " \t\t\t\t\t Loss perceptron: \u001b[1m0.000000\u001b[0m \n",
      "\t\t\t\t\t ---------\n",
      "2023-05-16 16:38:13,530 fedbiomed INFO - \u001b[1mTRAINING\u001b[0m \n",
      "\t\t\t\t\t NODE_ID: node_c2390ffb-45a3-4acc-a926-f564d3954696 \n",
      "\t\t\t\t\t Round 1 Epoch: 1 | Iteration: 1/20 (5%) | Samples: 4/80\n",
      " \t\t\t\t\t Loss perceptron: \u001b[1m0.000000\u001b[0m \n",
      "\t\t\t\t\t ---------\n",
      "2023-05-16 16:38:13,758 fedbiomed INFO - \u001b[1mTRAINING\u001b[0m \n",
      "\t\t\t\t\t NODE_ID: node_c2390ffb-45a3-4acc-a926-f564d3954696 \n",
      "\t\t\t\t\t Round 1 Epoch: 1 | Iteration: 10/20 (50%) | Samples: 40/80\n",
      " \t\t\t\t\t Loss perceptron: \u001b[1m1768.639326\u001b[0m \n",
      "\t\t\t\t\t ---------\n",
      "2023-05-16 16:38:13,762 fedbiomed INFO - \u001b[1mTRAINING\u001b[0m \n",
      "\t\t\t\t\t NODE_ID: node_f0ea0045-a45a-4c29-9367-fa28128a59e9 \n",
      "\t\t\t\t\t Round 1 Epoch: 1 | Iteration: 10/20 (50%) | Samples: 40/80\n",
      " \t\t\t\t\t Loss perceptron: \u001b[1m1768.639326\u001b[0m \n",
      "\t\t\t\t\t ---------\n",
      "2023-05-16 16:38:14,009 fedbiomed INFO - \u001b[1mTRAINING\u001b[0m \n",
      "\t\t\t\t\t NODE_ID: node_c2390ffb-45a3-4acc-a926-f564d3954696 \n",
      "\t\t\t\t\t Round 1 Epoch: 1 | Iteration: 20/20 (100%) | Samples: 80/80\n",
      " \t\t\t\t\t Loss perceptron: \u001b[1m0.000000\u001b[0m \n",
      "\t\t\t\t\t ---------\n",
      "2023-05-16 16:38:14,029 fedbiomed INFO - \u001b[1mTRAINING\u001b[0m \n",
      "\t\t\t\t\t NODE_ID: node_f0ea0045-a45a-4c29-9367-fa28128a59e9 \n",
      "\t\t\t\t\t Round 1 Epoch: 1 | Iteration: 20/20 (100%) | Samples: 80/80\n",
      " \t\t\t\t\t Loss perceptron: \u001b[1m0.000000\u001b[0m \n",
      "\t\t\t\t\t ---------\n",
      "2023-05-16 16:38:14,038 fedbiomed INFO - \u001b[1mTRAINING\u001b[0m \n",
      "\t\t\t\t\t NODE_ID: node_c2390ffb-45a3-4acc-a926-f564d3954696 \n",
      "\t\t\t\t\t Round 1 Epoch: 2 | Iteration: 1/20 (5%) | Samples: 4/80\n",
      " \t\t\t\t\t Loss perceptron: \u001b[1m0.000000\u001b[0m \n",
      "\t\t\t\t\t ---------\n",
      "2023-05-16 16:38:14,065 fedbiomed INFO - \u001b[1mTRAINING\u001b[0m \n",
      "\t\t\t\t\t NODE_ID: node_f0ea0045-a45a-4c29-9367-fa28128a59e9 \n",
      "\t\t\t\t\t Round 1 Epoch: 2 | Iteration: 1/20 (5%) | Samples: 4/80\n",
      " \t\t\t\t\t Loss perceptron: \u001b[1m0.000000\u001b[0m \n",
      "\t\t\t\t\t ---------\n"
     ]
    },
    {
     "name": "stderr",
     "output_type": "stream",
     "text": [
      "2023-05-16 16:38:14,277 fedbiomed INFO - \u001b[1mTRAINING\u001b[0m \n",
      "\t\t\t\t\t NODE_ID: node_c2390ffb-45a3-4acc-a926-f564d3954696 \n",
      "\t\t\t\t\t Round 1 Epoch: 2 | Iteration: 10/20 (50%) | Samples: 40/80\n",
      " \t\t\t\t\t Loss perceptron: \u001b[1m76.487863\u001b[0m \n",
      "\t\t\t\t\t ---------\n",
      "2023-05-16 16:38:14,313 fedbiomed INFO - \u001b[1mTRAINING\u001b[0m \n",
      "\t\t\t\t\t NODE_ID: node_f0ea0045-a45a-4c29-9367-fa28128a59e9 \n",
      "\t\t\t\t\t Round 1 Epoch: 2 | Iteration: 10/20 (50%) | Samples: 40/80\n",
      " \t\t\t\t\t Loss perceptron: \u001b[1m76.487863\u001b[0m \n",
      "\t\t\t\t\t ---------\n",
      "2023-05-16 16:38:14,533 fedbiomed INFO - \u001b[1mTRAINING\u001b[0m \n",
      "\t\t\t\t\t NODE_ID: node_f0ea0045-a45a-4c29-9367-fa28128a59e9 \n",
      "\t\t\t\t\t Round 1 Epoch: 2 | Iteration: 20/20 (100%) | Samples: 80/80\n",
      " \t\t\t\t\t Loss perceptron: \u001b[1m377.399983\u001b[0m \n",
      "\t\t\t\t\t ---------\n",
      "2023-05-16 16:38:14,537 fedbiomed INFO - \u001b[1mTRAINING\u001b[0m \n",
      "\t\t\t\t\t NODE_ID: node_c2390ffb-45a3-4acc-a926-f564d3954696 \n",
      "\t\t\t\t\t Round 1 Epoch: 2 | Iteration: 20/20 (100%) | Samples: 80/80\n",
      " \t\t\t\t\t Loss perceptron: \u001b[1m377.399983\u001b[0m \n",
      "\t\t\t\t\t ---------\n",
      "2023-05-16 16:38:14,570 fedbiomed INFO - \u001b[1mTRAINING\u001b[0m \n",
      "\t\t\t\t\t NODE_ID: node_c2390ffb-45a3-4acc-a926-f564d3954696 \n",
      "\t\t\t\t\t Round 1 Epoch: 3 | Iteration: 1/20 (5%) | Samples: 4/80\n",
      " \t\t\t\t\t Loss perceptron: \u001b[1m181.528013\u001b[0m \n",
      "\t\t\t\t\t ---------\n",
      "2023-05-16 16:38:14,574 fedbiomed INFO - \u001b[1mTRAINING\u001b[0m \n",
      "\t\t\t\t\t NODE_ID: node_f0ea0045-a45a-4c29-9367-fa28128a59e9 \n",
      "\t\t\t\t\t Round 1 Epoch: 3 | Iteration: 1/20 (5%) | Samples: 4/80\n",
      " \t\t\t\t\t Loss perceptron: \u001b[1m181.528013\u001b[0m \n",
      "\t\t\t\t\t ---------\n",
      "2023-05-16 16:38:14,793 fedbiomed INFO - \u001b[1mTRAINING\u001b[0m \n",
      "\t\t\t\t\t NODE_ID: node_f0ea0045-a45a-4c29-9367-fa28128a59e9 \n",
      "\t\t\t\t\t Round 1 Epoch: 3 | Iteration: 10/20 (50%) | Samples: 40/80\n",
      " \t\t\t\t\t Loss perceptron: \u001b[1m28.841679\u001b[0m \n",
      "\t\t\t\t\t ---------\n",
      "2023-05-16 16:38:14,832 fedbiomed INFO - \u001b[1mTRAINING\u001b[0m \n",
      "\t\t\t\t\t NODE_ID: node_c2390ffb-45a3-4acc-a926-f564d3954696 \n",
      "\t\t\t\t\t Round 1 Epoch: 3 | Iteration: 10/20 (50%) | Samples: 40/80\n",
      " \t\t\t\t\t Loss perceptron: \u001b[1m28.841679\u001b[0m \n",
      "\t\t\t\t\t ---------\n",
      "2023-05-16 16:38:15,012 fedbiomed INFO - \u001b[1mTRAINING\u001b[0m \n",
      "\t\t\t\t\t NODE_ID: node_f0ea0045-a45a-4c29-9367-fa28128a59e9 \n",
      "\t\t\t\t\t Round 1 Epoch: 3 | Iteration: 20/20 (100%) | Samples: 80/80\n",
      " \t\t\t\t\t Loss perceptron: \u001b[1m0.000000\u001b[0m \n",
      "\t\t\t\t\t ---------\n",
      "2023-05-16 16:38:15,046 fedbiomed INFO - \u001b[1mINFO\u001b[0m\n",
      "\t\t\t\t\t\u001b[1m NODE\u001b[0m node_f0ea0045-a45a-4c29-9367-fa28128a59e9\n",
      "\t\t\t\t\t\u001b[1m MESSAGE:\u001b[0m results uploaded successfully \u001b[0m\n",
      "-----------------------------------------------------------------\n",
      "2023-05-16 16:38:15,123 fedbiomed INFO - \u001b[1mTRAINING\u001b[0m \n",
      "\t\t\t\t\t NODE_ID: node_c2390ffb-45a3-4acc-a926-f564d3954696 \n",
      "\t\t\t\t\t Round 1 Epoch: 3 | Iteration: 20/20 (100%) | Samples: 80/80\n",
      " \t\t\t\t\t Loss perceptron: \u001b[1m0.000000\u001b[0m \n",
      "\t\t\t\t\t ---------\n",
      "2023-05-16 16:38:15,139 fedbiomed INFO - \u001b[1mINFO\u001b[0m\n",
      "\t\t\t\t\t\u001b[1m NODE\u001b[0m node_c2390ffb-45a3-4acc-a926-f564d3954696\n",
      "\t\t\t\t\t\u001b[1m MESSAGE:\u001b[0m results uploaded successfully \u001b[0m\n",
      "-----------------------------------------------------------------\n",
      "2023-05-16 16:38:23,344 fedbiomed INFO - Downloading model params after training on node_f0ea0045-a45a-4c29-9367-fa28128a59e9 - from http://localhost:8844/media/uploads/2023/05/16/node_params_3604c139-d5fe-4662-aceb-fcd7cf996774.mpk\n",
      "2023-05-16 16:38:23,365 fedbiomed DEBUG - download of file node_params_62e87f54-72c0-4a47-a257-63518486dabe.mpk successful, with status code 200\n",
      "2023-05-16 16:38:23,369 fedbiomed INFO - Downloading model params after training on node_c2390ffb-45a3-4acc-a926-f564d3954696 - from http://localhost:8844/media/uploads/2023/05/16/node_params_378d0322-9c4f-4513-b57e-0c89ad0230de.mpk\n",
      "2023-05-16 16:38:23,381 fedbiomed DEBUG - download of file node_params_a075ee05-ea0d-4f66-8f96-78c688464d69.mpk successful, with status code 200\n",
      "2023-05-16 16:38:23,385 fedbiomed INFO - Nodes that successfully reply in round 0 ['node_f0ea0045-a45a-4c29-9367-fa28128a59e9', 'node_c2390ffb-45a3-4acc-a926-f564d3954696']\n",
      "2023-05-16 16:38:23,413 fedbiomed DEBUG - HTTP POST request of file /home/ybouilla/fedbiomed_2/fedbiomed/var/experiments/Experiment_0012/aggregated_params_5a2ddb82-caaa-4745-8f1d-f4afec80e3f7.mpk successful, with status code 201\n",
      "2023-05-16 16:38:23,415 fedbiomed INFO - Saved aggregated params for round 0 in /home/ybouilla/fedbiomed_2/fedbiomed/var/experiments/Experiment_0012/aggregated_params_5a2ddb82-caaa-4745-8f1d-f4afec80e3f7.mpk\n",
      "2023-05-16 16:38:23,416 fedbiomed INFO - Sampled nodes in round 1 ['node_f0ea0045-a45a-4c29-9367-fa28128a59e9', 'node_c2390ffb-45a3-4acc-a926-f564d3954696']\n",
      "2023-05-16 16:38:23,417 fedbiomed INFO - \u001b[1mSending request\u001b[0m \n",
      "\t\t\t\t\t\u001b[1m To\u001b[0m: node_f0ea0045-a45a-4c29-9367-fa28128a59e9 \n",
      "\t\t\t\t\t\u001b[1m Request: \u001b[0m: Perform training with the arguments: {'researcher_id': 'researcher_6b641dc8-8bf0-4237-aaf7-eb6d72f8d3d8', 'job_id': '6bc623af-1fc1-4715-bf4f-b4ec702dfc44', 'training_args': {'epochs': 3, 'batch_maxnum': 20, 'optimizer_args': {'lr': 0.001}, 'batch_size': 4, 'num_updates': None, 'dry_run': False, 'test_ratio': 0.0, 'test_on_local_updates': False, 'test_on_global_updates': False, 'test_metric': None, 'test_metric_args': {}, 'log_interval': 10, 'fedprox_mu': None, 'use_gpu': False, 'dp_args': None, 'share_persistent_buffers': True}, 'training': True, 'model_args': {'n_features': 784, 'n_classes': 10, 'eta0': 1e-06, 'random_state': 1234, 'alpha': 0.1, 'loss': 'perceptron', 'verbose': 1}, 'round': 1, 'secagg_servkey_id': None, 'secagg_biprime_id': None, 'secagg_random': None, 'secagg_clipping_range': None, 'command': 'train', 'training_plan_url': 'http://localhost:8844/media/uploads/2023/05/16/my_model_522bd712-f13b-44e3-adfb-621407cb2f7c.py', 'params_url': 'http://localhost:8844/media/uploads/2023/05/16/aggregated_params_5a2ddb82-caaa-4745-8f1d-f4afec80e3f7.mpk', 'training_plan_class': 'SkLearnClassifierTrainingPlan', 'dataset_id': 'dataset_cde23f4b-a666-41b4-b849-f809050b5e95'} \n",
      " -----------------------------------------------------------------\n",
      "2023-05-16 16:38:23,418 fedbiomed DEBUG - researcher_6b641dc8-8bf0-4237-aaf7-eb6d72f8d3d8\n",
      "2023-05-16 16:38:23,421 fedbiomed INFO - \u001b[1mSending request\u001b[0m \n",
      "\t\t\t\t\t\u001b[1m To\u001b[0m: node_c2390ffb-45a3-4acc-a926-f564d3954696 \n",
      "\t\t\t\t\t\u001b[1m Request: \u001b[0m: Perform training with the arguments: {'researcher_id': 'researcher_6b641dc8-8bf0-4237-aaf7-eb6d72f8d3d8', 'job_id': '6bc623af-1fc1-4715-bf4f-b4ec702dfc44', 'training_args': {'epochs': 3, 'batch_maxnum': 20, 'optimizer_args': {'lr': 0.001}, 'batch_size': 4, 'num_updates': None, 'dry_run': False, 'test_ratio': 0.0, 'test_on_local_updates': False, 'test_on_global_updates': False, 'test_metric': None, 'test_metric_args': {}, 'log_interval': 10, 'fedprox_mu': None, 'use_gpu': False, 'dp_args': None, 'share_persistent_buffers': True}, 'training': True, 'model_args': {'n_features': 784, 'n_classes': 10, 'eta0': 1e-06, 'random_state': 1234, 'alpha': 0.1, 'loss': 'perceptron', 'verbose': 1}, 'round': 1, 'secagg_servkey_id': None, 'secagg_biprime_id': None, 'secagg_random': None, 'secagg_clipping_range': None, 'command': 'train', 'training_plan_url': 'http://localhost:8844/media/uploads/2023/05/16/my_model_522bd712-f13b-44e3-adfb-621407cb2f7c.py', 'params_url': 'http://localhost:8844/media/uploads/2023/05/16/aggregated_params_5a2ddb82-caaa-4745-8f1d-f4afec80e3f7.mpk', 'training_plan_class': 'SkLearnClassifierTrainingPlan', 'dataset_id': 'dataset_02d41315-d62d-45b0-8648-65ddb3af52dc'} \n",
      " -----------------------------------------------------------------\n",
      "2023-05-16 16:38:23,423 fedbiomed DEBUG - researcher_6b641dc8-8bf0-4237-aaf7-eb6d72f8d3d8\n",
      "2023-05-16 16:38:23,450 fedbiomed INFO - \u001b[1mWARNING\u001b[0m\n",
      "\t\t\t\t\t\u001b[1m NODE\u001b[0m node_f0ea0045-a45a-4c29-9367-fa28128a59e9\n",
      "\t\t\t\t\t\u001b[1m MESSAGE:\u001b[0m There is no validation activated for the round. Please set flag for `test_on_global_updates`, `test_on_local_updates`, or both. Splitting dataset for validation will be ignored\u001b[0m\n",
      "-----------------------------------------------------------------\n",
      "2023-05-16 16:38:23,479 fedbiomed INFO - \u001b[1mWARNING\u001b[0m\n",
      "\t\t\t\t\t\u001b[1m NODE\u001b[0m node_c2390ffb-45a3-4acc-a926-f564d3954696\n",
      "\t\t\t\t\t\u001b[1m MESSAGE:\u001b[0m There is no validation activated for the round. Please set flag for `test_on_global_updates`, `test_on_local_updates`, or both. Splitting dataset for validation will be ignored\u001b[0m\n",
      "-----------------------------------------------------------------\n"
     ]
    },
    {
     "name": "stderr",
     "output_type": "stream",
     "text": [
      "2023-05-16 16:38:23,548 fedbiomed INFO - \u001b[1mINFO\u001b[0m\n",
      "\t\t\t\t\t\u001b[1m NODE\u001b[0m node_f0ea0045-a45a-4c29-9367-fa28128a59e9\n",
      "\t\t\t\t\t\u001b[1m MESSAGE:\u001b[0m NPDataLoader expanding 1-dimensional target to become 2-dimensional.\u001b[0m\n",
      "-----------------------------------------------------------------\n",
      "2023-05-16 16:38:23,550 fedbiomed INFO - \u001b[1mINFO\u001b[0m\n",
      "\t\t\t\t\t\u001b[1m NODE\u001b[0m node_f0ea0045-a45a-4c29-9367-fa28128a59e9\n",
      "\t\t\t\t\t\u001b[1m MESSAGE:\u001b[0m NPDataLoader expanding 1-dimensional dataset to become 2-dimensional.\u001b[0m\n",
      "-----------------------------------------------------------------\n",
      "2023-05-16 16:38:23,551 fedbiomed INFO - \u001b[1mINFO\u001b[0m\n",
      "\t\t\t\t\t\u001b[1m NODE\u001b[0m node_f0ea0045-a45a-4c29-9367-fa28128a59e9\n",
      "\t\t\t\t\t\u001b[1m MESSAGE:\u001b[0m NPDataLoader expanding 1-dimensional target to become 2-dimensional.\u001b[0m\n",
      "-----------------------------------------------------------------\n",
      "2023-05-16 16:38:23,552 fedbiomed INFO - \u001b[1mWARNING\u001b[0m\n",
      "\t\t\t\t\t\u001b[1m NODE\u001b[0m node_f0ea0045-a45a-4c29-9367-fa28128a59e9\n",
      "\t\t\t\t\t\u001b[1m MESSAGE:\u001b[0m The following non-default model parameters were overridden due to the disabling of the scikit-learn internal optimizer:\n",
      "\teta0,\n",
      "\tlearning_rate\u001b[0m\n",
      "-----------------------------------------------------------------\n",
      "2023-05-16 16:38:23,571 fedbiomed INFO - \u001b[1mINFO\u001b[0m\n",
      "\t\t\t\t\t\u001b[1m NODE\u001b[0m node_c2390ffb-45a3-4acc-a926-f564d3954696\n",
      "\t\t\t\t\t\u001b[1m MESSAGE:\u001b[0m NPDataLoader expanding 1-dimensional target to become 2-dimensional.\u001b[0m\n",
      "-----------------------------------------------------------------\n",
      "2023-05-16 16:38:23,574 fedbiomed INFO - \u001b[1mINFO\u001b[0m\n",
      "\t\t\t\t\t\u001b[1m NODE\u001b[0m node_c2390ffb-45a3-4acc-a926-f564d3954696\n",
      "\t\t\t\t\t\u001b[1m MESSAGE:\u001b[0m NPDataLoader expanding 1-dimensional dataset to become 2-dimensional.\u001b[0m\n",
      "-----------------------------------------------------------------\n",
      "2023-05-16 16:38:23,575 fedbiomed INFO - \u001b[1mINFO\u001b[0m\n",
      "\t\t\t\t\t\u001b[1m NODE\u001b[0m node_c2390ffb-45a3-4acc-a926-f564d3954696\n",
      "\t\t\t\t\t\u001b[1m MESSAGE:\u001b[0m NPDataLoader expanding 1-dimensional target to become 2-dimensional.\u001b[0m\n",
      "-----------------------------------------------------------------\n",
      "2023-05-16 16:38:23,579 fedbiomed INFO - \u001b[1mWARNING\u001b[0m\n",
      "\t\t\t\t\t\u001b[1m NODE\u001b[0m node_c2390ffb-45a3-4acc-a926-f564d3954696\n",
      "\t\t\t\t\t\u001b[1m MESSAGE:\u001b[0m The following non-default model parameters were overridden due to the disabling of the scikit-learn internal optimizer:\n",
      "\teta0,\n",
      "\tlearning_rate\u001b[0m\n",
      "-----------------------------------------------------------------\n",
      "2023-05-16 16:38:23,601 fedbiomed INFO - \u001b[1mTRAINING\u001b[0m \n",
      "\t\t\t\t\t NODE_ID: node_f0ea0045-a45a-4c29-9367-fa28128a59e9 \n",
      "\t\t\t\t\t Round 2 Epoch: 1 | Iteration: 1/20 (5%) | Samples: 4/80\n",
      " \t\t\t\t\t Loss perceptron: \u001b[1m0.000000\u001b[0m \n",
      "\t\t\t\t\t ---------\n",
      "2023-05-16 16:38:23,631 fedbiomed INFO - \u001b[1mTRAINING\u001b[0m \n",
      "\t\t\t\t\t NODE_ID: node_c2390ffb-45a3-4acc-a926-f564d3954696 \n",
      "\t\t\t\t\t Round 2 Epoch: 1 | Iteration: 1/20 (5%) | Samples: 4/80\n",
      " \t\t\t\t\t Loss perceptron: \u001b[1m0.000000\u001b[0m \n",
      "\t\t\t\t\t ---------\n",
      "2023-05-16 16:38:23,861 fedbiomed INFO - \u001b[1mTRAINING\u001b[0m \n",
      "\t\t\t\t\t NODE_ID: node_c2390ffb-45a3-4acc-a926-f564d3954696 \n",
      "\t\t\t\t\t Round 2 Epoch: 1 | Iteration: 10/20 (50%) | Samples: 40/80\n",
      " \t\t\t\t\t Loss perceptron: \u001b[1m0.000000\u001b[0m \n",
      "\t\t\t\t\t ---------\n",
      "2023-05-16 16:38:23,864 fedbiomed INFO - \u001b[1mTRAINING\u001b[0m \n",
      "\t\t\t\t\t NODE_ID: node_f0ea0045-a45a-4c29-9367-fa28128a59e9 \n",
      "\t\t\t\t\t Round 2 Epoch: 1 | Iteration: 10/20 (50%) | Samples: 40/80\n",
      " \t\t\t\t\t Loss perceptron: \u001b[1m0.000000\u001b[0m \n",
      "\t\t\t\t\t ---------\n",
      "2023-05-16 16:38:24,082 fedbiomed INFO - \u001b[1mTRAINING\u001b[0m \n",
      "\t\t\t\t\t NODE_ID: node_f0ea0045-a45a-4c29-9367-fa28128a59e9 \n",
      "\t\t\t\t\t Round 2 Epoch: 1 | Iteration: 20/20 (100%) | Samples: 80/80\n",
      " \t\t\t\t\t Loss perceptron: \u001b[1m46.583775\u001b[0m \n",
      "\t\t\t\t\t ---------\n",
      "2023-05-16 16:38:24,084 fedbiomed INFO - \u001b[1mTRAINING\u001b[0m \n",
      "\t\t\t\t\t NODE_ID: node_c2390ffb-45a3-4acc-a926-f564d3954696 \n",
      "\t\t\t\t\t Round 2 Epoch: 1 | Iteration: 20/20 (100%) | Samples: 80/80\n",
      " \t\t\t\t\t Loss perceptron: \u001b[1m46.583775\u001b[0m \n",
      "\t\t\t\t\t ---------\n",
      "2023-05-16 16:38:24,102 fedbiomed INFO - \u001b[1mTRAINING\u001b[0m \n",
      "\t\t\t\t\t NODE_ID: node_f0ea0045-a45a-4c29-9367-fa28128a59e9 \n",
      "\t\t\t\t\t Round 2 Epoch: 2 | Iteration: 1/20 (5%) | Samples: 4/80\n",
      " \t\t\t\t\t Loss perceptron: \u001b[1m0.000000\u001b[0m \n",
      "\t\t\t\t\t ---------\n",
      "2023-05-16 16:38:24,105 fedbiomed INFO - \u001b[1mTRAINING\u001b[0m \n",
      "\t\t\t\t\t NODE_ID: node_c2390ffb-45a3-4acc-a926-f564d3954696 \n",
      "\t\t\t\t\t Round 2 Epoch: 2 | Iteration: 1/20 (5%) | Samples: 4/80\n",
      " \t\t\t\t\t Loss perceptron: \u001b[1m0.000000\u001b[0m \n",
      "\t\t\t\t\t ---------\n",
      "2023-05-16 16:38:24,271 fedbiomed INFO - \u001b[1mTRAINING\u001b[0m \n",
      "\t\t\t\t\t NODE_ID: node_f0ea0045-a45a-4c29-9367-fa28128a59e9 \n",
      "\t\t\t\t\t Round 2 Epoch: 2 | Iteration: 10/20 (50%) | Samples: 40/80\n",
      " \t\t\t\t\t Loss perceptron: \u001b[1m0.000000\u001b[0m \n",
      "\t\t\t\t\t ---------\n",
      "2023-05-16 16:38:24,273 fedbiomed INFO - \u001b[1mTRAINING\u001b[0m \n",
      "\t\t\t\t\t NODE_ID: node_c2390ffb-45a3-4acc-a926-f564d3954696 \n",
      "\t\t\t\t\t Round 2 Epoch: 2 | Iteration: 10/20 (50%) | Samples: 40/80\n",
      " \t\t\t\t\t Loss perceptron: \u001b[1m0.000000\u001b[0m \n",
      "\t\t\t\t\t ---------\n",
      "2023-05-16 16:38:24,488 fedbiomed INFO - \u001b[1mTRAINING\u001b[0m \n",
      "\t\t\t\t\t NODE_ID: node_c2390ffb-45a3-4acc-a926-f564d3954696 \n",
      "\t\t\t\t\t Round 2 Epoch: 2 | Iteration: 20/20 (100%) | Samples: 80/80\n",
      " \t\t\t\t\t Loss perceptron: \u001b[1m0.000000\u001b[0m \n",
      "\t\t\t\t\t ---------\n",
      "2023-05-16 16:38:24,492 fedbiomed INFO - \u001b[1mTRAINING\u001b[0m \n",
      "\t\t\t\t\t NODE_ID: node_f0ea0045-a45a-4c29-9367-fa28128a59e9 \n",
      "\t\t\t\t\t Round 2 Epoch: 2 | Iteration: 20/20 (100%) | Samples: 80/80\n",
      " \t\t\t\t\t Loss perceptron: \u001b[1m0.000000\u001b[0m \n",
      "\t\t\t\t\t ---------\n",
      "2023-05-16 16:38:24,508 fedbiomed INFO - \u001b[1mTRAINING\u001b[0m \n",
      "\t\t\t\t\t NODE_ID: node_c2390ffb-45a3-4acc-a926-f564d3954696 \n",
      "\t\t\t\t\t Round 2 Epoch: 3 | Iteration: 1/20 (5%) | Samples: 4/80\n",
      " \t\t\t\t\t Loss perceptron: \u001b[1m0.000000\u001b[0m \n",
      "\t\t\t\t\t ---------\n",
      "2023-05-16 16:38:24,513 fedbiomed INFO - \u001b[1mTRAINING\u001b[0m \n",
      "\t\t\t\t\t NODE_ID: node_f0ea0045-a45a-4c29-9367-fa28128a59e9 \n",
      "\t\t\t\t\t Round 2 Epoch: 3 | Iteration: 1/20 (5%) | Samples: 4/80\n",
      " \t\t\t\t\t Loss perceptron: \u001b[1m0.000000\u001b[0m \n",
      "\t\t\t\t\t ---------\n",
      "2023-05-16 16:38:24,816 fedbiomed INFO - \u001b[1mTRAINING\u001b[0m \n",
      "\t\t\t\t\t NODE_ID: node_c2390ffb-45a3-4acc-a926-f564d3954696 \n",
      "\t\t\t\t\t Round 2 Epoch: 3 | Iteration: 10/20 (50%) | Samples: 40/80\n",
      " \t\t\t\t\t Loss perceptron: \u001b[1m0.000000\u001b[0m \n",
      "\t\t\t\t\t ---------\n",
      "2023-05-16 16:38:24,822 fedbiomed INFO - \u001b[1mTRAINING\u001b[0m \n",
      "\t\t\t\t\t NODE_ID: node_f0ea0045-a45a-4c29-9367-fa28128a59e9 \n",
      "\t\t\t\t\t Round 2 Epoch: 3 | Iteration: 10/20 (50%) | Samples: 40/80\n",
      " \t\t\t\t\t Loss perceptron: \u001b[1m0.000000\u001b[0m \n",
      "\t\t\t\t\t ---------\n",
      "2023-05-16 16:38:25,102 fedbiomed INFO - \u001b[1mTRAINING\u001b[0m \n",
      "\t\t\t\t\t NODE_ID: node_f0ea0045-a45a-4c29-9367-fa28128a59e9 \n",
      "\t\t\t\t\t Round 2 Epoch: 3 | Iteration: 20/20 (100%) | Samples: 80/80\n",
      " \t\t\t\t\t Loss perceptron: \u001b[1m0.000000\u001b[0m \n",
      "\t\t\t\t\t ---------\n",
      "2023-05-16 16:38:25,103 fedbiomed INFO - \u001b[1mTRAINING\u001b[0m \n",
      "\t\t\t\t\t NODE_ID: node_c2390ffb-45a3-4acc-a926-f564d3954696 \n",
      "\t\t\t\t\t Round 2 Epoch: 3 | Iteration: 20/20 (100%) | Samples: 80/80\n",
      " \t\t\t\t\t Loss perceptron: \u001b[1m0.000000\u001b[0m \n",
      "\t\t\t\t\t ---------\n",
      "2023-05-16 16:38:25,135 fedbiomed INFO - \u001b[1mINFO\u001b[0m\n",
      "\t\t\t\t\t\u001b[1m NODE\u001b[0m node_c2390ffb-45a3-4acc-a926-f564d3954696\n",
      "\t\t\t\t\t\u001b[1m MESSAGE:\u001b[0m results uploaded successfully \u001b[0m\n",
      "-----------------------------------------------------------------\n",
      "2023-05-16 16:38:25,148 fedbiomed INFO - \u001b[1mINFO\u001b[0m\n",
      "\t\t\t\t\t\u001b[1m NODE\u001b[0m node_f0ea0045-a45a-4c29-9367-fa28128a59e9\n",
      "\t\t\t\t\t\u001b[1m MESSAGE:\u001b[0m results uploaded successfully \u001b[0m\n",
      "-----------------------------------------------------------------\n",
      "2023-05-16 16:38:33,437 fedbiomed INFO - Downloading model params after training on node_c2390ffb-45a3-4acc-a926-f564d3954696 - from http://localhost:8844/media/uploads/2023/05/16/node_params_a9f6f419-5b9a-4d05-becd-c6e28c3c8ff4.mpk\n",
      "2023-05-16 16:38:33,459 fedbiomed DEBUG - download of file node_params_513160de-d4bd-4c04-accd-06fa3ebe4121.mpk successful, with status code 200\n",
      "2023-05-16 16:38:33,462 fedbiomed INFO - Downloading model params after training on node_f0ea0045-a45a-4c29-9367-fa28128a59e9 - from http://localhost:8844/media/uploads/2023/05/16/node_params_d3120eb0-27ff-4c22-8ada-0d17b2c2adcc.mpk\n",
      "2023-05-16 16:38:33,488 fedbiomed DEBUG - download of file node_params_1654c270-a96e-4c12-831c-df891f44c267.mpk successful, with status code 200\n",
      "2023-05-16 16:38:33,497 fedbiomed INFO - Nodes that successfully reply in round 1 ['node_c2390ffb-45a3-4acc-a926-f564d3954696', 'node_f0ea0045-a45a-4c29-9367-fa28128a59e9']\n",
      "2023-05-16 16:38:33,560 fedbiomed DEBUG - HTTP POST request of file /home/ybouilla/fedbiomed_2/fedbiomed/var/experiments/Experiment_0012/aggregated_params_3a087263-848c-4b4b-b697-a8dd72bcecc1.mpk successful, with status code 201\n"
     ]
    },
    {
     "name": "stderr",
     "output_type": "stream",
     "text": [
      "2023-05-16 16:38:33,562 fedbiomed INFO - Saved aggregated params for round 1 in /home/ybouilla/fedbiomed_2/fedbiomed/var/experiments/Experiment_0012/aggregated_params_3a087263-848c-4b4b-b697-a8dd72bcecc1.mpk\n",
      "2023-05-16 16:38:33,563 fedbiomed INFO - Sampled nodes in round 2 ['node_f0ea0045-a45a-4c29-9367-fa28128a59e9', 'node_c2390ffb-45a3-4acc-a926-f564d3954696']\n",
      "2023-05-16 16:38:33,564 fedbiomed INFO - \u001b[1mSending request\u001b[0m \n",
      "\t\t\t\t\t\u001b[1m To\u001b[0m: node_f0ea0045-a45a-4c29-9367-fa28128a59e9 \n",
      "\t\t\t\t\t\u001b[1m Request: \u001b[0m: Perform training with the arguments: {'researcher_id': 'researcher_6b641dc8-8bf0-4237-aaf7-eb6d72f8d3d8', 'job_id': '6bc623af-1fc1-4715-bf4f-b4ec702dfc44', 'training_args': {'epochs': 3, 'batch_maxnum': 20, 'optimizer_args': {'lr': 0.001}, 'batch_size': 4, 'num_updates': None, 'dry_run': False, 'test_ratio': 0.0, 'test_on_local_updates': False, 'test_on_global_updates': False, 'test_metric': None, 'test_metric_args': {}, 'log_interval': 10, 'fedprox_mu': None, 'use_gpu': False, 'dp_args': None, 'share_persistent_buffers': True}, 'training': True, 'model_args': {'n_features': 784, 'n_classes': 10, 'eta0': 1e-06, 'random_state': 1234, 'alpha': 0.1, 'loss': 'perceptron', 'verbose': 1}, 'round': 2, 'secagg_servkey_id': None, 'secagg_biprime_id': None, 'secagg_random': None, 'secagg_clipping_range': None, 'command': 'train', 'training_plan_url': 'http://localhost:8844/media/uploads/2023/05/16/my_model_522bd712-f13b-44e3-adfb-621407cb2f7c.py', 'params_url': 'http://localhost:8844/media/uploads/2023/05/16/aggregated_params_3a087263-848c-4b4b-b697-a8dd72bcecc1.mpk', 'training_plan_class': 'SkLearnClassifierTrainingPlan', 'dataset_id': 'dataset_cde23f4b-a666-41b4-b849-f809050b5e95'} \n",
      " -----------------------------------------------------------------\n",
      "2023-05-16 16:38:33,565 fedbiomed DEBUG - researcher_6b641dc8-8bf0-4237-aaf7-eb6d72f8d3d8\n",
      "2023-05-16 16:38:33,566 fedbiomed INFO - \u001b[1mSending request\u001b[0m \n",
      "\t\t\t\t\t\u001b[1m To\u001b[0m: node_c2390ffb-45a3-4acc-a926-f564d3954696 \n",
      "\t\t\t\t\t\u001b[1m Request: \u001b[0m: Perform training with the arguments: {'researcher_id': 'researcher_6b641dc8-8bf0-4237-aaf7-eb6d72f8d3d8', 'job_id': '6bc623af-1fc1-4715-bf4f-b4ec702dfc44', 'training_args': {'epochs': 3, 'batch_maxnum': 20, 'optimizer_args': {'lr': 0.001}, 'batch_size': 4, 'num_updates': None, 'dry_run': False, 'test_ratio': 0.0, 'test_on_local_updates': False, 'test_on_global_updates': False, 'test_metric': None, 'test_metric_args': {}, 'log_interval': 10, 'fedprox_mu': None, 'use_gpu': False, 'dp_args': None, 'share_persistent_buffers': True}, 'training': True, 'model_args': {'n_features': 784, 'n_classes': 10, 'eta0': 1e-06, 'random_state': 1234, 'alpha': 0.1, 'loss': 'perceptron', 'verbose': 1}, 'round': 2, 'secagg_servkey_id': None, 'secagg_biprime_id': None, 'secagg_random': None, 'secagg_clipping_range': None, 'command': 'train', 'training_plan_url': 'http://localhost:8844/media/uploads/2023/05/16/my_model_522bd712-f13b-44e3-adfb-621407cb2f7c.py', 'params_url': 'http://localhost:8844/media/uploads/2023/05/16/aggregated_params_3a087263-848c-4b4b-b697-a8dd72bcecc1.mpk', 'training_plan_class': 'SkLearnClassifierTrainingPlan', 'dataset_id': 'dataset_02d41315-d62d-45b0-8648-65ddb3af52dc'} \n",
      " -----------------------------------------------------------------\n",
      "2023-05-16 16:38:33,567 fedbiomed DEBUG - researcher_6b641dc8-8bf0-4237-aaf7-eb6d72f8d3d8\n",
      "2023-05-16 16:38:33,589 fedbiomed INFO - \u001b[1mWARNING\u001b[0m\n",
      "\t\t\t\t\t\u001b[1m NODE\u001b[0m node_f0ea0045-a45a-4c29-9367-fa28128a59e9\n",
      "\t\t\t\t\t\u001b[1m MESSAGE:\u001b[0m There is no validation activated for the round. Please set flag for `test_on_global_updates`, `test_on_local_updates`, or both. Splitting dataset for validation will be ignored\u001b[0m\n",
      "-----------------------------------------------------------------\n",
      "2023-05-16 16:38:33,621 fedbiomed INFO - \u001b[1mWARNING\u001b[0m\n",
      "\t\t\t\t\t\u001b[1m NODE\u001b[0m node_c2390ffb-45a3-4acc-a926-f564d3954696\n",
      "\t\t\t\t\t\u001b[1m MESSAGE:\u001b[0m There is no validation activated for the round. Please set flag for `test_on_global_updates`, `test_on_local_updates`, or both. Splitting dataset for validation will be ignored\u001b[0m\n",
      "-----------------------------------------------------------------\n",
      "2023-05-16 16:38:33,722 fedbiomed INFO - \u001b[1mINFO\u001b[0m\n",
      "\t\t\t\t\t\u001b[1m NODE\u001b[0m node_f0ea0045-a45a-4c29-9367-fa28128a59e9\n",
      "\t\t\t\t\t\u001b[1m MESSAGE:\u001b[0m NPDataLoader expanding 1-dimensional target to become 2-dimensional.\u001b[0m\n",
      "-----------------------------------------------------------------\n",
      "2023-05-16 16:38:33,723 fedbiomed INFO - \u001b[1mINFO\u001b[0m\n",
      "\t\t\t\t\t\u001b[1m NODE\u001b[0m node_f0ea0045-a45a-4c29-9367-fa28128a59e9\n",
      "\t\t\t\t\t\u001b[1m MESSAGE:\u001b[0m NPDataLoader expanding 1-dimensional dataset to become 2-dimensional.\u001b[0m\n",
      "-----------------------------------------------------------------\n",
      "2023-05-16 16:38:33,724 fedbiomed INFO - \u001b[1mINFO\u001b[0m\n",
      "\t\t\t\t\t\u001b[1m NODE\u001b[0m node_f0ea0045-a45a-4c29-9367-fa28128a59e9\n",
      "\t\t\t\t\t\u001b[1m MESSAGE:\u001b[0m NPDataLoader expanding 1-dimensional target to become 2-dimensional.\u001b[0m\n",
      "-----------------------------------------------------------------\n",
      "2023-05-16 16:38:33,725 fedbiomed INFO - \u001b[1mWARNING\u001b[0m\n",
      "\t\t\t\t\t\u001b[1m NODE\u001b[0m node_f0ea0045-a45a-4c29-9367-fa28128a59e9\n",
      "\t\t\t\t\t\u001b[1m MESSAGE:\u001b[0m The following non-default model parameters were overridden due to the disabling of the scikit-learn internal optimizer:\n",
      "\teta0,\n",
      "\tlearning_rate\u001b[0m\n",
      "-----------------------------------------------------------------\n",
      "2023-05-16 16:38:33,763 fedbiomed INFO - \u001b[1mINFO\u001b[0m\n",
      "\t\t\t\t\t\u001b[1m NODE\u001b[0m node_c2390ffb-45a3-4acc-a926-f564d3954696\n",
      "\t\t\t\t\t\u001b[1m MESSAGE:\u001b[0m NPDataLoader expanding 1-dimensional target to become 2-dimensional.\u001b[0m\n",
      "-----------------------------------------------------------------\n",
      "2023-05-16 16:38:33,774 fedbiomed INFO - \u001b[1mINFO\u001b[0m\n",
      "\t\t\t\t\t\u001b[1m NODE\u001b[0m node_c2390ffb-45a3-4acc-a926-f564d3954696\n",
      "\t\t\t\t\t\u001b[1m MESSAGE:\u001b[0m NPDataLoader expanding 1-dimensional dataset to become 2-dimensional.\u001b[0m\n",
      "-----------------------------------------------------------------\n",
      "2023-05-16 16:38:33,776 fedbiomed INFO - \u001b[1mINFO\u001b[0m\n",
      "\t\t\t\t\t\u001b[1m NODE\u001b[0m node_c2390ffb-45a3-4acc-a926-f564d3954696\n",
      "\t\t\t\t\t\u001b[1m MESSAGE:\u001b[0m NPDataLoader expanding 1-dimensional target to become 2-dimensional.\u001b[0m\n",
      "-----------------------------------------------------------------\n",
      "2023-05-16 16:38:33,778 fedbiomed INFO - \u001b[1mWARNING\u001b[0m\n",
      "\t\t\t\t\t\u001b[1m NODE\u001b[0m node_c2390ffb-45a3-4acc-a926-f564d3954696\n",
      "\t\t\t\t\t\u001b[1m MESSAGE:\u001b[0m The following non-default model parameters were overridden due to the disabling of the scikit-learn internal optimizer:\n",
      "\teta0,\n",
      "\tlearning_rate\u001b[0m\n",
      "-----------------------------------------------------------------\n",
      "2023-05-16 16:38:33,781 fedbiomed INFO - \u001b[1mTRAINING\u001b[0m \n",
      "\t\t\t\t\t NODE_ID: node_f0ea0045-a45a-4c29-9367-fa28128a59e9 \n",
      "\t\t\t\t\t Round 3 Epoch: 1 | Iteration: 1/20 (5%) | Samples: 4/80\n",
      " \t\t\t\t\t Loss perceptron: \u001b[1m0.000000\u001b[0m \n",
      "\t\t\t\t\t ---------\n",
      "2023-05-16 16:38:33,812 fedbiomed INFO - \u001b[1mTRAINING\u001b[0m \n",
      "\t\t\t\t\t NODE_ID: node_c2390ffb-45a3-4acc-a926-f564d3954696 \n",
      "\t\t\t\t\t Round 3 Epoch: 1 | Iteration: 1/20 (5%) | Samples: 4/80\n",
      " \t\t\t\t\t Loss perceptron: \u001b[1m0.000000\u001b[0m \n",
      "\t\t\t\t\t ---------\n",
      "2023-05-16 16:38:34,039 fedbiomed INFO - \u001b[1mTRAINING\u001b[0m \n",
      "\t\t\t\t\t NODE_ID: node_f0ea0045-a45a-4c29-9367-fa28128a59e9 \n",
      "\t\t\t\t\t Round 3 Epoch: 1 | Iteration: 10/20 (50%) | Samples: 40/80\n",
      " \t\t\t\t\t Loss perceptron: \u001b[1m0.000000\u001b[0m \n",
      "\t\t\t\t\t ---------\n",
      "2023-05-16 16:38:34,075 fedbiomed INFO - \u001b[1mTRAINING\u001b[0m \n",
      "\t\t\t\t\t NODE_ID: node_c2390ffb-45a3-4acc-a926-f564d3954696 \n",
      "\t\t\t\t\t Round 3 Epoch: 1 | Iteration: 10/20 (50%) | Samples: 40/80\n",
      " \t\t\t\t\t Loss perceptron: \u001b[1m0.000000\u001b[0m \n",
      "\t\t\t\t\t ---------\n",
      "2023-05-16 16:38:34,222 fedbiomed INFO - \u001b[1mTRAINING\u001b[0m \n",
      "\t\t\t\t\t NODE_ID: node_f0ea0045-a45a-4c29-9367-fa28128a59e9 \n",
      "\t\t\t\t\t Round 3 Epoch: 1 | Iteration: 20/20 (100%) | Samples: 80/80\n",
      " \t\t\t\t\t Loss perceptron: \u001b[1m0.000000\u001b[0m \n",
      "\t\t\t\t\t ---------\n",
      "2023-05-16 16:38:34,245 fedbiomed INFO - \u001b[1mTRAINING\u001b[0m \n",
      "\t\t\t\t\t NODE_ID: node_f0ea0045-a45a-4c29-9367-fa28128a59e9 \n",
      "\t\t\t\t\t Round 3 Epoch: 2 | Iteration: 1/20 (5%) | Samples: 4/80\n",
      " \t\t\t\t\t Loss perceptron: \u001b[1m0.000000\u001b[0m \n",
      "\t\t\t\t\t ---------\n",
      "2023-05-16 16:38:34,247 fedbiomed INFO - \u001b[1mTRAINING\u001b[0m \n",
      "\t\t\t\t\t NODE_ID: node_c2390ffb-45a3-4acc-a926-f564d3954696 \n",
      "\t\t\t\t\t Round 3 Epoch: 1 | Iteration: 20/20 (100%) | Samples: 80/80\n",
      " \t\t\t\t\t Loss perceptron: \u001b[1m0.000000\u001b[0m \n",
      "\t\t\t\t\t ---------\n",
      "2023-05-16 16:38:34,275 fedbiomed INFO - \u001b[1mTRAINING\u001b[0m \n",
      "\t\t\t\t\t NODE_ID: node_c2390ffb-45a3-4acc-a926-f564d3954696 \n",
      "\t\t\t\t\t Round 3 Epoch: 2 | Iteration: 1/20 (5%) | Samples: 4/80\n",
      " \t\t\t\t\t Loss perceptron: \u001b[1m0.000000\u001b[0m \n",
      "\t\t\t\t\t ---------\n"
     ]
    },
    {
     "name": "stderr",
     "output_type": "stream",
     "text": [
      "2023-05-16 16:38:34,409 fedbiomed INFO - \u001b[1mTRAINING\u001b[0m \n",
      "\t\t\t\t\t NODE_ID: node_f0ea0045-a45a-4c29-9367-fa28128a59e9 \n",
      "\t\t\t\t\t Round 3 Epoch: 2 | Iteration: 10/20 (50%) | Samples: 40/80\n",
      " \t\t\t\t\t Loss perceptron: \u001b[1m0.000000\u001b[0m \n",
      "\t\t\t\t\t ---------\n",
      "2023-05-16 16:38:34,443 fedbiomed INFO - \u001b[1mTRAINING\u001b[0m \n",
      "\t\t\t\t\t NODE_ID: node_c2390ffb-45a3-4acc-a926-f564d3954696 \n",
      "\t\t\t\t\t Round 3 Epoch: 2 | Iteration: 10/20 (50%) | Samples: 40/80\n",
      " \t\t\t\t\t Loss perceptron: \u001b[1m0.000000\u001b[0m \n",
      "\t\t\t\t\t ---------\n",
      "2023-05-16 16:38:34,596 fedbiomed INFO - \u001b[1mTRAINING\u001b[0m \n",
      "\t\t\t\t\t NODE_ID: node_f0ea0045-a45a-4c29-9367-fa28128a59e9 \n",
      "\t\t\t\t\t Round 3 Epoch: 2 | Iteration: 20/20 (100%) | Samples: 80/80\n",
      " \t\t\t\t\t Loss perceptron: \u001b[1m0.000000\u001b[0m \n",
      "\t\t\t\t\t ---------\n",
      "2023-05-16 16:38:34,617 fedbiomed INFO - \u001b[1mTRAINING\u001b[0m \n",
      "\t\t\t\t\t NODE_ID: node_f0ea0045-a45a-4c29-9367-fa28128a59e9 \n",
      "\t\t\t\t\t Round 3 Epoch: 3 | Iteration: 1/20 (5%) | Samples: 4/80\n",
      " \t\t\t\t\t Loss perceptron: \u001b[1m0.000000\u001b[0m \n",
      "\t\t\t\t\t ---------\n",
      "2023-05-16 16:38:34,620 fedbiomed INFO - \u001b[1mTRAINING\u001b[0m \n",
      "\t\t\t\t\t NODE_ID: node_c2390ffb-45a3-4acc-a926-f564d3954696 \n",
      "\t\t\t\t\t Round 3 Epoch: 2 | Iteration: 20/20 (100%) | Samples: 80/80\n",
      " \t\t\t\t\t Loss perceptron: \u001b[1m0.000000\u001b[0m \n",
      "\t\t\t\t\t ---------\n",
      "2023-05-16 16:38:34,653 fedbiomed INFO - \u001b[1mTRAINING\u001b[0m \n",
      "\t\t\t\t\t NODE_ID: node_c2390ffb-45a3-4acc-a926-f564d3954696 \n",
      "\t\t\t\t\t Round 3 Epoch: 3 | Iteration: 1/20 (5%) | Samples: 4/80\n",
      " \t\t\t\t\t Loss perceptron: \u001b[1m0.000000\u001b[0m \n",
      "\t\t\t\t\t ---------\n",
      "2023-05-16 16:38:34,795 fedbiomed INFO - \u001b[1mTRAINING\u001b[0m \n",
      "\t\t\t\t\t NODE_ID: node_f0ea0045-a45a-4c29-9367-fa28128a59e9 \n",
      "\t\t\t\t\t Round 3 Epoch: 3 | Iteration: 10/20 (50%) | Samples: 40/80\n",
      " \t\t\t\t\t Loss perceptron: \u001b[1m0.000000\u001b[0m \n",
      "\t\t\t\t\t ---------\n",
      "2023-05-16 16:38:34,819 fedbiomed INFO - \u001b[1mTRAINING\u001b[0m \n",
      "\t\t\t\t\t NODE_ID: node_c2390ffb-45a3-4acc-a926-f564d3954696 \n",
      "\t\t\t\t\t Round 3 Epoch: 3 | Iteration: 10/20 (50%) | Samples: 40/80\n",
      " \t\t\t\t\t Loss perceptron: \u001b[1m0.000000\u001b[0m \n",
      "\t\t\t\t\t ---------\n",
      "2023-05-16 16:38:34,978 fedbiomed INFO - \u001b[1mTRAINING\u001b[0m \n",
      "\t\t\t\t\t NODE_ID: node_f0ea0045-a45a-4c29-9367-fa28128a59e9 \n",
      "\t\t\t\t\t Round 3 Epoch: 3 | Iteration: 20/20 (100%) | Samples: 80/80\n",
      " \t\t\t\t\t Loss perceptron: \u001b[1m0.000000\u001b[0m \n",
      "\t\t\t\t\t ---------\n",
      "2023-05-16 16:38:34,997 fedbiomed INFO - \u001b[1mTRAINING\u001b[0m \n",
      "\t\t\t\t\t NODE_ID: node_c2390ffb-45a3-4acc-a926-f564d3954696 \n",
      "\t\t\t\t\t Round 3 Epoch: 3 | Iteration: 20/20 (100%) | Samples: 80/80\n",
      " \t\t\t\t\t Loss perceptron: \u001b[1m0.000000\u001b[0m \n",
      "\t\t\t\t\t ---------\n",
      "2023-05-16 16:38:35,012 fedbiomed INFO - \u001b[1mINFO\u001b[0m\n",
      "\t\t\t\t\t\u001b[1m NODE\u001b[0m node_f0ea0045-a45a-4c29-9367-fa28128a59e9\n",
      "\t\t\t\t\t\u001b[1m MESSAGE:\u001b[0m results uploaded successfully \u001b[0m\n",
      "-----------------------------------------------------------------\n",
      "2023-05-16 16:38:35,017 fedbiomed INFO - \u001b[1mINFO\u001b[0m\n",
      "\t\t\t\t\t\u001b[1m NODE\u001b[0m node_c2390ffb-45a3-4acc-a926-f564d3954696\n",
      "\t\t\t\t\t\u001b[1m MESSAGE:\u001b[0m results uploaded successfully \u001b[0m\n",
      "-----------------------------------------------------------------\n",
      "2023-05-16 16:38:43,590 fedbiomed INFO - Downloading model params after training on node_f0ea0045-a45a-4c29-9367-fa28128a59e9 - from http://localhost:8844/media/uploads/2023/05/16/node_params_9904a471-31dd-43c3-a374-0c15535e45a3.mpk\n",
      "2023-05-16 16:38:43,612 fedbiomed DEBUG - download of file node_params_674102b6-965b-4a48-b3e8-7f8a02e158fd.mpk successful, with status code 200\n",
      "2023-05-16 16:38:43,617 fedbiomed INFO - Downloading model params after training on node_c2390ffb-45a3-4acc-a926-f564d3954696 - from http://localhost:8844/media/uploads/2023/05/16/node_params_5609132f-f3fc-4423-a38f-c714c18f77c3.mpk\n",
      "2023-05-16 16:38:43,637 fedbiomed DEBUG - download of file node_params_6b21e252-9570-4c82-93eb-4bed4be6d35d.mpk successful, with status code 200\n",
      "2023-05-16 16:38:43,651 fedbiomed INFO - Nodes that successfully reply in round 2 ['node_f0ea0045-a45a-4c29-9367-fa28128a59e9', 'node_c2390ffb-45a3-4acc-a926-f564d3954696']\n",
      "2023-05-16 16:38:43,700 fedbiomed DEBUG - HTTP POST request of file /home/ybouilla/fedbiomed_2/fedbiomed/var/experiments/Experiment_0012/aggregated_params_75a4976d-f434-447b-b7d5-0fefe9f0cfc0.mpk successful, with status code 201\n",
      "2023-05-16 16:38:43,701 fedbiomed INFO - Saved aggregated params for round 2 in /home/ybouilla/fedbiomed_2/fedbiomed/var/experiments/Experiment_0012/aggregated_params_75a4976d-f434-447b-b7d5-0fefe9f0cfc0.mpk\n"
     ]
    },
    {
     "data": {
      "text/plain": [
       "3"
      ]
     },
     "execution_count": 4,
     "metadata": {},
     "output_type": "execute_result"
    }
   ],
   "source": [
    "exp.run(increase=True)"
   ]
  },
  {
   "cell_type": "markdown",
   "id": "88e2a782",
   "metadata": {
    "pycharm": {
     "name": "#%% md\n"
    }
   },
   "source": [
    "##  Testing\n",
    "\n",
    "Once the federated model is obtained, it is possible to test it locally on an independent testing partition.\n",
    "The test dataset is available at this link:\n",
    "\n",
    "https://drive.google.com/file/d/1zNUGp6TMn6WSKYVC8FQiQ9lJAUdasxk1/"
   ]
  },
  {
   "cell_type": "code",
   "execution_count": null,
   "id": "b5335f2d",
   "metadata": {
    "pycharm": {
     "name": "#%%\n"
    }
   },
   "outputs": [],
   "source": [
    "!pip install matplotlib\n",
    "!pip install gdown"
   ]
  },
  {
   "cell_type": "markdown",
   "id": "3bc6d9b2",
   "metadata": {
    "pycharm": {
     "name": "#%% md\n"
    }
   },
   "source": [
    "Download the testing dataset on the local temporary folder."
   ]
  },
  {
   "cell_type": "code",
   "execution_count": null,
   "id": "8500a4f0",
   "metadata": {
    "pycharm": {
     "name": "#%%\n"
    }
   },
   "outputs": [],
   "source": [
    "import os\n",
    "import gdown\n",
    "import tempfile\n",
    "import zipfile\n",
    "import pandas as pd\n",
    "import numpy as np\n",
    "\n",
    "from fedbiomed.common.constants import ComponentType\n",
    "from fedbiomed.researcher.environ import environ\n",
    "\n",
    "\n",
    "resource = \"https://drive.google.com/uc?id=19kxuI146WA2fhcOU2_AvF8dy-ppJkzW7\"\n",
    "\n",
    "tmpdir = tempfile.TemporaryDirectory(dir=environ['TMP_DIR'])\n",
    "base_dir = tmpdir.name\n",
    "\n",
    "test_file = os.path.join(base_dir, \"test_data.zip\")\n",
    "gdown.download(resource, test_file, quiet=False)\n",
    "\n",
    "zf = zipfile.ZipFile(test_file)\n",
    "\n",
    "for file in zf.infolist():\n",
    "    zf.extract(file, base_dir)\n",
    "\n",
    "# loading testing dataset\n",
    "test_data = pd.read_csv(os.path.join(base_dir,'adni_validation.csv'))"
   ]
  },
  {
   "cell_type": "code",
   "execution_count": null,
   "id": "91f579d5",
   "metadata": {
    "pycharm": {
     "name": "#%%\n"
    }
   },
   "outputs": [],
   "source": [
    "from sklearn.linear_model import SGDRegressor\n",
    "import matplotlib.pyplot as plt"
   ]
  },
  {
   "cell_type": "code",
   "execution_count": null,
   "id": "d73be6dd",
   "metadata": {
    "pycharm": {
     "name": "#%%\n"
    }
   },
   "outputs": [],
   "source": [
    "%matplotlib inline"
   ]
  },
  {
   "cell_type": "markdown",
   "id": "7fb078c6",
   "metadata": {
    "pycharm": {
     "name": "#%% md\n"
    }
   },
   "source": [
    "Here we extract the relevant regressors and target from the testing data "
   ]
  },
  {
   "cell_type": "code",
   "execution_count": null,
   "id": "05ca90a2",
   "metadata": {
    "pycharm": {
     "name": "#%%\n"
    }
   },
   "outputs": [],
   "source": [
    "regressors_col = ['AGE', 'WholeBrain.bl', 'Ventricles.bl',\n",
    "                  'Hippocampus.bl', 'MidTemp.bl', 'Entorhinal.bl']\n",
    "target_col = ['MMSE.bl']\n",
    "X_test = test_data[regressors_col].values\n",
    "y_test = test_data[target_col].values"
   ]
  },
  {
   "cell_type": "markdown",
   "id": "63e6d380",
   "metadata": {
    "pycharm": {
     "name": "#%% md\n"
    }
   },
   "source": [
    "To inspect the model evolution across FL rounds, we export `exp.aggregated_params()` containing models parameters collected at the end of each round. The MSE (Mean Squarred Error) should be decreasing at each iteration with the federated parameters obtained at each round. "
   ]
  },
  {
   "cell_type": "code",
   "execution_count": null,
   "id": "6edb32ed",
   "metadata": {
    "pycharm": {
     "name": "#%%\n"
    }
   },
   "outputs": [],
   "source": [
    "scaling_mean = np.array([72.3, 0.7, 0.0, 0.0, 0.0, 0.0])\n",
    "scaling_sd = np.array([7.3e+00, 5.0e-02, 1.1e-02, 1.0e-03, 2.0e-03, 1.0e-03])\n",
    "\n",
    "testing_error = []\n",
    "\n",
    "\n",
    "# we create here several instances of SGDRegressor using same sklearn arguments\n",
    "# we have used for Federated Learning training\n",
    "fed_model = exp.training_plan().model()\n",
    "regressor_args = {key: model_args[key] for key in model_args.keys() if key in fed_model.get_params().keys()}\n",
    "\n",
    "for i in range(rounds):\n",
    "    fed_model.coef_ = exp.aggregated_params()[i]['params']['coef_'].copy()\n",
    "    fed_model.intercept_ = exp.aggregated_params()[i]['params']['intercept_'].copy()  \n",
    "    mse = np.mean((fed_model.predict((X_test-scaling_mean)/scaling_sd) - y_test)**2)\n",
    "    testing_error.append(mse)\n",
    "\n",
    "plt.plot(testing_error)\n",
    "plt.title('FL testing loss')\n",
    "plt.xlabel('FL round')\n",
    "plt.ylabel('testing loss (MSE)')"
   ]
  },
  {
   "cell_type": "markdown",
   "id": "60406da1",
   "metadata": {
    "pycharm": {
     "name": "#%% md\n"
    }
   },
   "source": [
    "We finally inspect the predictions of the final federated model on the testing data."
   ]
  },
  {
   "cell_type": "code",
   "execution_count": null,
   "id": "3191befa",
   "metadata": {
    "pycharm": {
     "name": "#%%\n"
    }
   },
   "outputs": [],
   "source": [
    "y_predicted = fed_model.predict((X_test-scaling_mean)/scaling_sd)\n",
    "plt.scatter(y_predicted, y_test, label='model prediction')\n",
    "plt.xlabel('predicted')\n",
    "plt.ylabel('target')\n",
    "plt.title('Federated model testing prediction')\n",
    "\n",
    "first_diag = np.arange(np.min(y_test.flatten()),\n",
    "                       np.max(y_test.flatten()+1))\n",
    "plt.scatter(first_diag, first_diag, label='correct Target')\n",
    "plt.legend()"
   ]
  },
  {
   "cell_type": "code",
   "execution_count": null,
   "id": "1e398dcc",
   "metadata": {
    "pycharm": {
     "name": "#%%\n"
    }
   },
   "outputs": [],
   "source": [
    "a = X_test / scaling_sd\n",
    "a.shape"
   ]
  },
  {
   "cell_type": "code",
   "execution_count": null,
   "id": "eb7af803",
   "metadata": {
    "pycharm": {
     "name": "#%%\n"
    }
   },
   "outputs": [],
   "source": [
    "X_test.shape"
   ]
  },
  {
   "cell_type": "code",
   "execution_count": null,
   "id": "3b2b38c1",
   "metadata": {
    "pycharm": {
     "name": "#%%\n"
    }
   },
   "outputs": [],
   "source": [
    "X_test[:,1] / scaling_sd[1] - a[:,1]"
   ]
  },
  {
   "cell_type": "code",
   "execution_count": null,
   "id": "0ff686e4",
   "metadata": {
    "pycharm": {
     "name": "#%%\n"
    }
   },
   "outputs": [],
   "source": []
  }
 ],
 "metadata": {
  "kernelspec": {
   "display_name": "Python 3 (ipykernel)",
   "language": "python",
   "name": "python3"
  },
  "language_info": {
   "codemirror_mode": {
    "name": "ipython",
    "version": 3
   },
   "file_extension": ".py",
   "mimetype": "text/x-python",
   "name": "python",
   "nbconvert_exporter": "python",
   "pygments_lexer": "ipython3",
   "version": "3.9.16"
  }
 },
 "nbformat": 4,
 "nbformat_minor": 5
}
