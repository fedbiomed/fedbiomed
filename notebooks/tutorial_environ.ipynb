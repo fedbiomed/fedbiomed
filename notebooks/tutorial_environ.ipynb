{
 "cells": [
  {
   "cell_type": "markdown",
   "id": "acae1d60",
   "metadata": {},
   "source": [
    "### This notebook shows how to use the environ provided by fedbiomed\n"
   ]
  },
  {
   "cell_type": "markdown",
   "id": "3c3eaac0",
   "metadata": {},
   "source": [
    "Load a researcher environment"
   ]
  },
  {
   "cell_type": "code",
   "execution_count": 2,
   "id": "bda6c74a",
   "metadata": {},
   "outputs": [],
   "source": [
    "from fedbiomed.researcher.environ import environ"
   ]
  },
  {
   "cell_type": "markdown",
   "id": "3d6cebf0",
   "metadata": {},
   "source": [
    "environ will exists in only one instance\n",
    "\n",
    "it is a dictionnary which contains all configuration variables"
   ]
  },
  {
   "cell_type": "code",
   "execution_count": 3,
   "id": "a1d257d6",
   "metadata": {},
   "outputs": [
    {
     "name": "stdout",
     "output_type": "stream",
     "text": [
      "<class 'dict'>\n"
     ]
    }
   ],
   "source": [
    "print(environ.__class__)"
   ]
  },
  {
   "cell_type": "code",
   "execution_count": 4,
   "id": "06833f56",
   "metadata": {},
   "outputs": [
    {
     "name": "stdout",
     "output_type": "stream",
     "text": [
      "{'COMPONENT_TYPE': <ComponentType.RESEARCHER: 1>, 'ROOT_DIR': '/Users/jls/Development/fedbiomed/fedbiomed', 'CONFIG_DIR': '/Users/jls/Development/fedbiomed/fedbiomed/etc', 'VAR_DIR': '/Users/jls/Development/fedbiomed/fedbiomed/var', 'CACHE_DIR': '/Users/jls/Development/fedbiomed/fedbiomed/var/cache', 'TMP_DIR': '/Users/jls/Development/fedbiomed/fedbiomed/var/tmp', 'RESEARCHER_ID': 'researcher_1c637754-401d-4b33-9c06-763d5dd09815', 'ID': 'researcher_1c637754-401d-4b33-9c06-763d5dd09815', 'MQTT_BROKER': 'localhost', 'MQTT_BROKER_PORT': 1883, 'UPLOADS_URL': 'http://localhost:8844/upload/', 'TIMEOUT': 5, 'TENSORBOARD_RESULTS_DIR': '/Users/jls/Development/fedbiomed/fedbiomed/runs', 'BREAKPOINTS_DIR': '/Users/jls/Development/fedbiomed/fedbiomed/var/breakpoints', 'MESSAGES_QUEUE_DIR': '/Users/jls/Development/fedbiomed/fedbiomed/var/queue_messages'}\n"
     ]
    }
   ],
   "source": [
    "print(environ)"
   ]
  },
  {
   "cell_type": "markdown",
   "id": "d84939d1",
   "metadata": {},
   "source": [
    "importing the environment in the same scriplet is OK"
   ]
  },
  {
   "cell_type": "code",
   "execution_count": 5,
   "id": "95d959c5",
   "metadata": {},
   "outputs": [],
   "source": [
    "from fedbiomed.researcher.environ import environ"
   ]
  },
  {
   "cell_type": "markdown",
   "id": "ac82e806",
   "metadata": {},
   "source": [
    "but importing the node environment after having imported the researcher environment raises an error"
   ]
  },
  {
   "cell_type": "code",
   "execution_count": 6,
   "id": "995de188",
   "metadata": {},
   "outputs": [
    {
     "ename": "AttributeError",
     "evalue": "'Environ' object has no attribute '_storage'",
     "output_type": "error",
     "traceback": [
      "\u001b[0;31m---------------------------------------------------------------------------\u001b[0m",
      "\u001b[0;31mAttributeError\u001b[0m                            Traceback (most recent call last)",
      "\u001b[0;32m/var/folders/v1/71jp8jzs48vf4l_ttx8v0zfm0000gn/T/ipykernel_45306/280087062.py\u001b[0m in \u001b[0;36m<module>\u001b[0;34m\u001b[0m\n\u001b[0;32m----> 1\u001b[0;31m \u001b[0;32mfrom\u001b[0m \u001b[0mfedbiomed\u001b[0m\u001b[0;34m.\u001b[0m\u001b[0mnode\u001b[0m\u001b[0;34m.\u001b[0m\u001b[0menviron\u001b[0m \u001b[0;32mimport\u001b[0m \u001b[0menviron\u001b[0m\u001b[0;34m\u001b[0m\u001b[0;34m\u001b[0m\u001b[0m\n\u001b[0m",
      "\u001b[0;32m~/Development/fedbiomed/fedbiomed/fedbiomed/node/environ.py\u001b[0m in \u001b[0;36m<module>\u001b[0;34m\u001b[0m\n\u001b[1;32m      3\u001b[0m \u001b[0;34m\u001b[0m\u001b[0m\n\u001b[1;32m      4\u001b[0m \u001b[0;31m# global dictionnary which contains all environment for the NODE\u001b[0m\u001b[0;34m\u001b[0m\u001b[0;34m\u001b[0m\u001b[0m\n\u001b[0;32m----> 5\u001b[0;31m \u001b[0menviron\u001b[0m \u001b[0;34m=\u001b[0m \u001b[0mEnviron\u001b[0m\u001b[0;34m(\u001b[0m\u001b[0mcomponent\u001b[0m \u001b[0;34m=\u001b[0m \u001b[0mComponentType\u001b[0m\u001b[0;34m.\u001b[0m\u001b[0mNODE\u001b[0m\u001b[0;34m)\u001b[0m\u001b[0;34m.\u001b[0m\u001b[0mvalues\u001b[0m\u001b[0;34m(\u001b[0m\u001b[0;34m)\u001b[0m\u001b[0;34m\u001b[0m\u001b[0;34m\u001b[0m\u001b[0m\n\u001b[0m",
      "\u001b[0;32m~/Development/fedbiomed/fedbiomed/fedbiomed/common/singleton.py\u001b[0m in \u001b[0;36m__call__\u001b[0;34m(cls, *args, **kwargs)\u001b[0m\n\u001b[1;32m     68\u001b[0m                         \u001b[0;31m# different than the first call to Environ()\u001b[0m\u001b[0;34m\u001b[0m\u001b[0;34m\u001b[0m\u001b[0m\n\u001b[1;32m     69\u001b[0m                         \u001b[0;31m#\u001b[0m\u001b[0;34m\u001b[0m\u001b[0;34m\u001b[0m\u001b[0m\n\u001b[0;32m---> 70\u001b[0;31m                         \u001b[0;32mif\u001b[0m \u001b[0;32mnot\u001b[0m \u001b[0mkwargs\u001b[0m\u001b[0;34m[\u001b[0m\u001b[0;34m'component'\u001b[0m\u001b[0;34m]\u001b[0m \u001b[0;34m==\u001b[0m \u001b[0mcls\u001b[0m\u001b[0;34m.\u001b[0m\u001b[0m_objects\u001b[0m\u001b[0;34m[\u001b[0m\u001b[0mcls\u001b[0m\u001b[0;34m]\u001b[0m\u001b[0;34m.\u001b[0m\u001b[0m_storage\u001b[0m\u001b[0;34m[\u001b[0m\u001b[0;34m'COMPONENT_TYPE'\u001b[0m\u001b[0;34m]\u001b[0m \u001b[0;34m:\u001b[0m\u001b[0;34m\u001b[0m\u001b[0;34m\u001b[0m\u001b[0m\n\u001b[0m\u001b[1;32m     71\u001b[0m                             print(\"CRITICAL: environment has already been instanciated as a\",\n\u001b[1;32m     72\u001b[0m                                   cls._objects[cls]._storage['COMPONENT_TYPE'])\n",
      "\u001b[0;31mAttributeError\u001b[0m: 'Environ' object has no attribute '_storage'"
     ]
    }
   ],
   "source": [
    "from fedbiomed.node.environ import environ"
   ]
  },
  {
   "cell_type": "markdown",
   "id": "2ee28af1",
   "metadata": {},
   "source": [
    "a (usefull ?) trick is to get the environement after has been initialized is to refer to it\n",
    "directly from the Environ() class\n",
    "\n",
    "it only works because Environ() is a singleton and an instance of it has already been defined\n",
    "before (in this case, it is a RESEARCHER component environement)"
   ]
  },
  {
   "cell_type": "code",
   "execution_count": 7,
   "id": "f672a999",
   "metadata": {},
   "outputs": [],
   "source": [
    "from fedbiomed.common.environ import Environ"
   ]
  },
  {
   "cell_type": "code",
   "execution_count": 8,
   "id": "89dff3b5",
   "metadata": {},
   "outputs": [],
   "source": [
    "same_env = Environ().values()"
   ]
  },
  {
   "cell_type": "code",
   "execution_count": 9,
   "id": "a601b742",
   "metadata": {},
   "outputs": [
    {
     "name": "stdout",
     "output_type": "stream",
     "text": [
      "True\n"
     ]
    }
   ],
   "source": [
    "print( environ is same_env)"
   ]
  },
  {
   "cell_type": "markdown",
   "id": "f111bd61",
   "metadata": {},
   "source": [
    "this trick may help to simplify the code, by using an environment value in a library\n",
    "or a class without the need to pass all values as parameters"
   ]
  },
  {
   "cell_type": "code",
   "execution_count": 10,
   "id": "76ec9fd2",
   "metadata": {},
   "outputs": [
    {
     "name": "stdout",
     "output_type": "stream",
     "text": [
      "ComponentType.RESEARCHER\n"
     ]
    }
   ],
   "source": [
    "print(Environ().values()['COMPONENT_TYPE'])"
   ]
  }
 ],
 "metadata": {
  "kernelspec": {
   "display_name": "Python 3 (ipykernel)",
   "language": "python",
   "name": "python3"
  },
  "language_info": {
   "codemirror_mode": {
    "name": "ipython",
    "version": 3
   },
   "file_extension": ".py",
   "mimetype": "text/x-python",
   "name": "python",
   "nbconvert_exporter": "python",
   "pygments_lexer": "ipython3",
   "version": "3.9.7"
  }
 },
 "nbformat": 4,
 "nbformat_minor": 5
}
