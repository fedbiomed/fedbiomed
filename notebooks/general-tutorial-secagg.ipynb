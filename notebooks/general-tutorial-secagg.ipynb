{
 "cells": [
  {
   "cell_type": "markdown",
   "metadata": {},
   "source": [
    "# Training with Secure Aggregation\n",
    "Secure aggregation is one of the security feature that is provided by Fed-BioMed. Please refer to secure aggregation user guide for more information regarding the methods and techniques that are used. This tutorial gives an example of secure aggregation usage in Fed-BioMed."
   ]
  },
  {
   "cell_type": "markdown",
   "metadata": {},
   "source": [
    "## Setting up the nodes\n",
    "\n",
    "During the tutorial, nodes and researcher will be launched locally using single clone of Fed-BioMed. However, it is also possible to execute notebook cells when the components are configured remotely by respecting following instruction.\n",
    "\n",
    "### Start the network\n",
    "Before running this notebook, start the network with `./scripts/fedbiomed_run network`\n",
    "\n",
    "### Configuring/Installing  Element for Secure Aggregation\n",
    "\n",
    "You can follow the detailed instructions for configuring Fed-BioMed instance for secure aggregation] or apply following shortened instructions for a basic setup.\n",
    "\n",
    "#### 1. Install and configure\n",
    "\n",
    "Fed-BioMed uses MP-SPDZ for MPC. Therefore, please make sure that MP-SPDZ are installed and configured for Fed-BioMed by running following command.\n",
    "\n",
    "\n",
    "```\n",
    "${FEDBIOMED_DIR}/scripts/fedbiomed_configure_secagg node\n",
    "```\n",
    "\n",
    "<div class=\"Note\">\n",
    "    <p>Since node and researcher will be run in the same machine, single configuration for MP-SDPZ will enouhg</>\n",
    "</div>\n",
    "\n",
    "#### 2. Create node and researcher instances\n",
    "\n",
    "The setup for secure aggregation requires knowledge of the participating Fed-BioMed components in advance. Therefore, each component that will participate in the training should be created before starting them. Afterwards, participating components can be registered in every other component.\n",
    "\n",
    "##### 2.1\n",
    "It is mandatory to have at least two nodes for the experiment that requires secure aggregation. Please execute following commands to create two nodes.\n",
    "\n",
    "Node 1:\n",
    "```\n",
    "${FEDBIOMED_DIR}/scripts/fedbiomed_run node config config-n1.ini configuration create\n",
    "```\n",
    "\n",
    "Node 2:\n",
    "```\n",
    "${FEDBIOMED_DIR}/scripts/fedbiomed_run node config config-n2.ini configuration create\n",
    "```\n",
    "\n",
    "##### 2.2 Create researcher\n",
    "\n",
    "Please run the command below to create researcher component.\n",
    "\n",
    "```\n",
    "${FEDBIOMED_DIR}/scripts/fedbiomed_run researcher configuration create\n",
    "```\n",
    "\n",
    "\n",
    "#### 3. Registering participating Fed-BioMed instances\n",
    "\n",
    "Normally, as it is mentioned in secure aggregation configuration each participating instance should register network credentials of others such as IP, port and SSL certificate. however, since this example will be run on single clone of Fed-BioMed, registration process can be done automaticity by running following command.\n",
    "\n",
    "```\n",
    "${FEDBIOMED_DIR}/scripts/fedbiomed_run certicate-dev-setup\n",
    "```\n",
    "\n",
    "#### 4. Add dataset and start nodes\n",
    "\n",
    "The next step will be adding/deploying MNIST dataset in the nodes and starting them. For these step you can follow the instructions for adding dataset into nodes to add MNIST dataset. After the datasets are deployed you can start the nodes and researcher."
   ]
  },
  {
   "cell_type": "markdown",
   "metadata": {},
   "source": []
  },
  {
   "cell_type": "markdown",
   "metadata": {},
   "source": [
    "### Define an experiment model and parameters\""
   ]
  },
  {
   "cell_type": "markdown",
   "metadata": {},
   "source": [
    "Declare a torch training plan MyTrainingPlan class to send for training on the node"
   ]
  },
  {
   "cell_type": "code",
   "execution_count": 1,
   "metadata": {},
   "outputs": [],
   "source": [
    "import torch\n",
    "import torch.nn as nn\n",
    "from fedbiomed.common.training_plans import TorchTrainingPlan\n",
    "from fedbiomed.common.data import DataManager\n",
    "from torchvision import datasets, transforms\n",
    "\n",
    "\n",
    "# Here we define the model to be used. \n",
    "# You can use any class name (here 'Net')\n",
    "class MyTrainingPlan(TorchTrainingPlan):\n",
    "    \n",
    "    # Defines and return model \n",
    "    def init_model(self, model_args):\n",
    "        return self.Net(model_args = model_args)\n",
    "    \n",
    "    # Defines and return optimizer\n",
    "    def init_optimizer(self, optimizer_args):\n",
    "        return torch.optim.Adam(self.model().parameters(), lr = optimizer_args[\"lr\"])\n",
    "    \n",
    "    # Declares and return dependencies\n",
    "    def init_dependencies(self):\n",
    "        deps = [\"from torchvision import datasets, transforms\"]\n",
    "        return deps\n",
    "    \n",
    "    class Net(nn.Module):\n",
    "        def __init__(self, model_args):\n",
    "            super().__init__()\n",
    "            self.conv1 = nn.Conv2d(1, 32, 3, 1)\n",
    "            self.conv2 = nn.Conv2d(32, 64, 3, 1)\n",
    "            self.dropout1 = nn.Dropout(0.25)\n",
    "            self.dropout2 = nn.Dropout(0.5)\n",
    "            self.fc1 = nn.Linear(9216, 128)\n",
    "            self.fc2 = nn.Linear(128, 10)\n",
    "\n",
    "        def forward(self, x):\n",
    "            x = self.conv1(x)\n",
    "            x = F.relu(x)\n",
    "            x = self.conv2(x)\n",
    "            x = F.relu(x)\n",
    "            x = F.max_pool2d(x, 2)\n",
    "            x = self.dropout1(x)\n",
    "            x = torch.flatten(x, 1)\n",
    "            x = self.fc1(x)\n",
    "            x = F.relu(x)\n",
    "            x = self.dropout2(x)\n",
    "            x = self.fc2(x)\n",
    "\n",
    "\n",
    "            output = F.log_softmax(x, dim=1)\n",
    "            return output\n",
    "\n",
    "    def training_data(self):\n",
    "        # Custom torch Dataloader for MNIST data\n",
    "        transform = transforms.Compose([transforms.ToTensor(),\n",
    "        transforms.Normalize((0.1307,), (0.3081,))])\n",
    "        dataset1 = datasets.MNIST(self.dataset_path, train=True, download=False, transform=transform)\n",
    "        train_kwargs = { 'shuffle': True}\n",
    "        return DataManager(dataset=dataset1, **train_kwargs)\n",
    "    \n",
    "    def training_step(self, data, target):\n",
    "        output = self.model().forward(data)\n",
    "        loss   = torch.nn.functional.nll_loss(output, target)\n",
    "        return loss\n"
   ]
  },
  {
   "cell_type": "markdown",
   "metadata": {},
   "source": [
    "This group of arguments correspond respectively:\n",
    "* `model_args`: a dictionary with the arguments related to the model (e.g. number of layers, features, etc.). This will be passed to the model class on the node side.\n",
    "* `training_args`: a dictionary containing the arguments for the training routine (e.g. batch size, learning rate, epochs, etc.). This will be passed to the routine on the node side.\n",
    "\n",
    "**NOTE:** typos and/or lack of positional (required) arguments will raise error. 🤓"
   ]
  },
  {
   "cell_type": "code",
   "execution_count": 2,
   "metadata": {
    "pycharm": {
     "name": "#%%\n"
    }
   },
   "outputs": [],
   "source": [
    "model_args = {}\n",
    "\n",
    "training_args = {\n",
    "    'loader_args': { 'batch_size': 48, }, \n",
    "    'optimizer_args': {\n",
    "        \"lr\" : 1e-3\n",
    "    },\n",
    "    'epochs': 1, \n",
    "    'dry_run': False,  \n",
    "    'batch_maxnum': 100 # Fast pass for development : only use ( batch_maxnum * batch_size ) samples\n",
    "}"
   ]
  },
  {
   "cell_type": "markdown",
   "metadata": {},
   "source": [
    "### Declare and run the experiment"
   ]
  },
  {
   "cell_type": "code",
   "execution_count": 5,
   "metadata": {
    "pycharm": {
     "name": "#%%\n"
    }
   },
   "outputs": [
    {
     "ename": "TypeError",
     "evalue": "'int' object is not iterable",
     "output_type": "error",
     "traceback": [
      "\u001b[0;31m---------------------------------------------------------------------------\u001b[0m",
      "\u001b[0;31mTypeError\u001b[0m                                 Traceback (most recent call last)",
      "Cell \u001b[0;32mIn[5], line 14\u001b[0m\n\u001b[1;32m      4\u001b[0m tags \u001b[38;5;241m=\u001b[39m  [\u001b[38;5;124m'\u001b[39m\u001b[38;5;124m#MNIST\u001b[39m\u001b[38;5;124m'\u001b[39m, \u001b[38;5;124m'\u001b[39m\u001b[38;5;124m#dataset\u001b[39m\u001b[38;5;124m'\u001b[39m]\n\u001b[1;32m      5\u001b[0m rounds \u001b[38;5;241m=\u001b[39m \u001b[38;5;241m2\u001b[39m\n\u001b[1;32m      7\u001b[0m exp \u001b[38;5;241m=\u001b[39m Experiment(tags\u001b[38;5;241m=\u001b[39mtags,\n\u001b[1;32m      8\u001b[0m                  model_args\u001b[38;5;241m=\u001b[39mmodel_args,\n\u001b[1;32m      9\u001b[0m                  training_plan_class\u001b[38;5;241m=\u001b[39mMyTrainingPlan,\n\u001b[1;32m     10\u001b[0m                  training_args\u001b[38;5;241m=\u001b[39mtraining_args,\n\u001b[1;32m     11\u001b[0m                  round_limit\u001b[38;5;241m=\u001b[39mrounds,\n\u001b[1;32m     12\u001b[0m                  aggregator\u001b[38;5;241m=\u001b[39mFedAverage(),\n\u001b[1;32m     13\u001b[0m                  node_selection_strategy\u001b[38;5;241m=\u001b[39m\u001b[38;5;28;01mNone\u001b[39;00m,\n\u001b[0;32m---> 14\u001b[0m                  secagg\u001b[38;5;241m=\u001b[39m\u001b[43mSecureAggregation\u001b[49m\u001b[43m(\u001b[49m\u001b[43mactive\u001b[49m\u001b[38;5;241;43m=\u001b[39;49m\u001b[38;5;28;43;01mTrue\u001b[39;49;00m\u001b[43m,\u001b[49m\u001b[43m \u001b[49m\u001b[43mscheme\u001b[49m\u001b[38;5;241;43m=\u001b[39;49m\u001b[38;5;124;43m'\u001b[39;49m\u001b[38;5;124;43mflamingo\u001b[39;49m\u001b[38;5;124;43m'\u001b[39;49m\u001b[43m)\u001b[49m, \u001b[38;5;66;03m# or custom SecureAggregation(active=<bool>, clipping_range=<int>)\u001b[39;00m\n\u001b[1;32m     15\u001b[0m                  save_breakpoints\u001b[38;5;241m=\u001b[39m\u001b[38;5;28;01mTrue\u001b[39;00m)\n",
      "File \u001b[0;32m/workspaces/Projects/fedbiomed/fedbiomed/researcher/secagg/_secure_aggregation.py:80\u001b[0m, in \u001b[0;36mSecureAggregation.__init__\u001b[0;34m(self, active, clipping_range, scheme)\u001b[0m\n\u001b[1;32m     78\u001b[0m \u001b[38;5;28mself\u001b[39m\u001b[38;5;241m.\u001b[39m_biprime: Optional[SecaggBiprimeContext] \u001b[38;5;241m=\u001b[39m \u001b[38;5;28;01mNone\u001b[39;00m\n\u001b[1;32m     79\u001b[0m \u001b[38;5;28mself\u001b[39m\u001b[38;5;241m.\u001b[39m_secagg_random: Optional[\u001b[38;5;28mfloat\u001b[39m] \u001b[38;5;241m=\u001b[39m \u001b[38;5;28;01mNone\u001b[39;00m\n\u001b[0;32m---> 80\u001b[0m \u001b[38;5;28mself\u001b[39m\u001b[38;5;241m.\u001b[39m_secagg_crypter: SecaggCrypter \u001b[38;5;241m=\u001b[39m \u001b[43mSecaggCrypter\u001b[49m\u001b[43m(\u001b[49m\u001b[43mscheme\u001b[49m\u001b[38;5;241;43m=\u001b[39;49m\u001b[43mscheme\u001b[49m\u001b[43m)\u001b[49m\n",
      "File \u001b[0;32m/workspaces/Projects/fedbiomed/fedbiomed/common/secagg/_secagg_crypter.py:42\u001b[0m, in \u001b[0;36mSecaggCrypter.__init__\u001b[0;34m(self, node_id, node_ids, scheme)\u001b[0m\n\u001b[1;32m     40\u001b[0m \u001b[38;5;28mself\u001b[39m\u001b[38;5;241m.\u001b[39mnode_ids \u001b[38;5;241m=\u001b[39m node_id\n\u001b[1;32m     41\u001b[0m \u001b[38;5;28;01mif\u001b[39;00m \u001b[38;5;28misinstance\u001b[39m(\u001b[38;5;28mself\u001b[39m\u001b[38;5;241m.\u001b[39m_scheme, Flamingo):\n\u001b[0;32m---> 42\u001b[0m     \u001b[38;5;28;43mself\u001b[39;49m\u001b[38;5;241;43m.\u001b[39;49m\u001b[43m_scheme\u001b[49m\u001b[38;5;241;43m.\u001b[39;49m\u001b[43msetup_pairwise_secrets\u001b[49m\u001b[43m(\u001b[49m\u001b[43mnode_id\u001b[49m\u001b[43m,\u001b[49m\u001b[43m \u001b[49m\u001b[43mnode_ids\u001b[49m\u001b[43m)\u001b[49m\n",
      "File \u001b[0;32m/workspaces/Projects/fedbiomed/fedbiomed/common/secagg/_flamingo.py:69\u001b[0m, in \u001b[0;36mFlamingo.setup_pairwise_secrets\u001b[0;34m(self, my_node_id, nodes_ids)\u001b[0m\n\u001b[1;32m     67\u001b[0m \u001b[38;5;28mself\u001b[39m\u001b[38;5;241m.\u001b[39mmy_node_id \u001b[38;5;241m=\u001b[39m \u001b[38;5;28mstr\u001b[39m(my_node_id)\n\u001b[1;32m     68\u001b[0m \u001b[38;5;66;03m# this is just an hardcoded example\u001b[39;00m\n\u001b[0;32m---> 69\u001b[0m \u001b[38;5;28;01mfor\u001b[39;00m node \u001b[38;5;129;01min\u001b[39;00m nodes_ids:\n\u001b[1;32m     70\u001b[0m     \u001b[38;5;28;01mif\u001b[39;00m node \u001b[38;5;241m!=\u001b[39m my_node_id:\n\u001b[1;32m     71\u001b[0m         \u001b[38;5;66;03m#create 32 bytes secret of zeros\u001b[39;00m\n\u001b[1;32m     72\u001b[0m         \u001b[38;5;28mself\u001b[39m\u001b[38;5;241m.\u001b[39mpairwise_secrets[node] \u001b[38;5;241m=\u001b[39m \u001b[38;5;124mb\u001b[39m\u001b[38;5;124m'\u001b[39m\u001b[38;5;130;01m\\x02\u001b[39;00m\u001b[38;5;124m'\u001b[39m \u001b[38;5;241m*\u001b[39m \u001b[38;5;241m32\u001b[39m\n",
      "\u001b[0;31mTypeError\u001b[0m: 'int' object is not iterable"
     ]
    },
    {
     "name": "stderr",
     "output_type": "stream",
     "text": [
      "2023-11-29 17:53:35,942 fedbiomed DEBUG - Node: node_a3caf782-3838-4b43-a629-0b004bd18194 polling for the tasks\n",
      "2023-11-29 17:53:35,944 fedbiomed DEBUG - Node: node_4f771acc-bf3c-4d7c-84fc-75c941b1c26d polling for the tasks\n"
     ]
    }
   ],
   "source": [
    "from fedbiomed.researcher.experiment import Experiment\n",
    "from fedbiomed.researcher.aggregators.fedavg import FedAverage\n",
    "from fedbiomed.researcher.secagg import SecureAggregation\n",
    "tags =  ['#MNIST', '#dataset']\n",
    "rounds = 2\n",
    "\n",
    "exp = Experiment(tags=tags,\n",
    "                 model_args=model_args,\n",
    "                 training_plan_class=MyTrainingPlan,\n",
    "                 training_args=training_args,\n",
    "                 round_limit=rounds,\n",
    "                 aggregator=FedAverage(),\n",
    "                 node_selection_strategy=None,\n",
    "                 secagg=SecureAggregation(active=True, scheme='flamingo'), # or custom SecureAggregation(active=<bool>, clipping_range=<int>)\n",
    "                 save_breakpoints=True)"
   ]
  },
  {
   "cell_type": "markdown",
   "metadata": {},
   "source": [
    "### Access secure aggregation context"
   ]
  },
  {
   "cell_type": "markdown",
   "metadata": {},
   "source": [
    "Please use the attribute `secagg` to verify secure aggregation is set as active"
   ]
  },
  {
   "cell_type": "code",
   "execution_count": 4,
   "metadata": {
    "scrolled": true
   },
   "outputs": [
    {
     "name": "stdout",
     "output_type": "stream",
     "text": [
      "Is using secagg:  True\n"
     ]
    }
   ],
   "source": [
    "print(\"Is using secagg: \", exp.secagg.active)"
   ]
  },
  {
   "cell_type": "markdown",
   "metadata": {},
   "source": [
    "It is also possible to check secure aggregation context using `secagg` attribute. Since secure aggregation context negotiation will occur during experiment run, context and id should be `None` at this point."
   ]
  },
  {
   "cell_type": "code",
   "execution_count": 5,
   "metadata": {
    "scrolled": true
   },
   "outputs": [
    {
     "name": "stdout",
     "output_type": "stream",
     "text": [
      "Secagg Biprime  None\n",
      "Secagg Servkey  None\n"
     ]
    }
   ],
   "source": [
    "print(\"Secagg Biprime \", exp.secagg.biprime)\n",
    "print(\"Secagg Servkey \", exp.secagg.servkey)"
   ]
  },
  {
   "cell_type": "markdown",
   "metadata": {},
   "source": [
    "Run the experiment, using secure aggregation. Secure aggregation context will be created before the first training round, and it is going to be updated before each round when new nodes are added or removed to the experiment."
   ]
  },
  {
   "cell_type": "code",
   "execution_count": 7,
   "metadata": {},
   "outputs": [
    {
     "name": "stderr",
     "output_type": "stream",
     "text": [
      "2023-11-29 13:24:03,474 fedbiomed DEBUG - Node: node_a3caf782-3838-4b43-a629-0b004bd18194 polling for the tasks\n",
      "2023-11-29 13:24:03,476 fedbiomed DEBUG - Node: node_4f771acc-bf3c-4d7c-84fc-75c941b1c26d polling for the tasks\n",
      "2023-11-29 13:24:05,857 fedbiomed DEBUG - MPC protocol output: \n",
      "\t\t\t\t\t\t \u001b[1;32mCloning MP-SPDZ into the MPC working directory ...\u001b[0m\n",
      "\t\t\t\t\t\t\n",
      "\t\t\t\t\t\tDoing /workspaces/Projects/fedbiomed/var/tmp/MPC/researcher_280e17b2-7b8c-44af-bd6e-e54a03eefb8a/e09a298f-8c28-4ce8-aad7-6f7c4d2d6783/MP-SPDZ/Player-Data\n",
      "\t\t\t\t\t\t\u001b[1;32mCompiling 'server_key'...\u001b[0m\n",
      "\t\t\t\t\t\t\n",
      "\t\t\t\t\t\t\u001b[1;32mCompilation is successful!\u001b[0m\n",
      "\t\t\t\t\t\t##########################################################################\n",
      "\t\t\t\t\t\tDefault bit length: 2048\n",
      "\t\t\t\t\t\tDefault security parameter: 40\n",
      "\t\t\t\t\t\tCompiling: server_key from compile_func\n",
      "\t\t\t\t\t\tWriting to /workspaces/Projects/fedbiomed/var/tmp/MPC/researcher_280e17b2-7b8c-44af-bd6e-e54a03eefb8a/e09a298f-8c28-4ce8-aad7-6f7c4d2d6783/MP-SPDZ/Programs/Schedules/server_key.sch\n",
      "\t\t\t\t\t\tWriting to /workspaces/Projects/fedbiomed/var/tmp/MPC/researcher_280e17b2-7b8c-44af-bd6e-e54a03eefb8a/e09a298f-8c28-4ce8-aad7-6f7c4d2d6783/MP-SPDZ/Programs/Bytecode/server_key-0.bc\n",
      "\t\t\t\t\t\tProgram requires at most:\n",
      "\t\t\t\t\t\t         inf integer inputs from player 0\n",
      "\t\t\t\t\t\t           1 virtual machine rounds\n",
      "\t\t\t\t\t\t##########################################################################\n",
      "\t\t\t\t\t\t\n",
      "\t\t\t\t\t\t\n",
      "\t\t\t\t\t\t\u001b[1;33mExecution info:\u001b[0m\n",
      "\t\t\t\t\t\t\u001b[1;33m---------------------------------------\u001b[0m\n",
      "\t\t\t\t\t\t\u001b[1mParty no          :\u001b[0m 0\n",
      "\t\t\t\t\t\t\u001b[1mNumber of parties :\u001b[0m 3\n",
      "\t\t\t\t\t\t\u001b[1mAssigned IPs      :\u001b[0m /workspaces/Projects/fedbiomed/var/tmp/MPC/researcher_280e17b2-7b8c-44af-bd6e-e54a03eefb8a/e09a298f-8c28-4ce8-aad7-6f7c4d2d6783/ip_addresses\n",
      "\t\t\t\t\t\t\u001b[1mOutput file       :\u001b[0m /workspaces/Projects/fedbiomed/var/tmp/MPC/researcher_280e17b2-7b8c-44af-bd6e-e54a03eefb8a/e09a298f-8c28-4ce8-aad7-6f7c4d2d6783/Output-P0-0\n",
      "\t\t\t\t\t\t\u001b[1;32mExecuting protocol 'shamir-party'...\u001b[0m\n",
      "\t\t\t\t\t\t\u001b[1mPress CTRL+C to stop\u001b[0m\n",
      "\t\t\t\t\t\tUsing security parameter 40\n",
      "\t\t\t\t\t\tThe following benchmarks are including preprocessing (offline phase).\n",
      "\t\t\t\t\t\tTime = 0.00137347 seconds \n",
      "\t\t\t\t\t\tData sent = 0 MB in ~4 rounds (party 0)\n",
      "\t\t\t\t\t\tGlobal data sent = 0.001056 MB (all parties)\n",
      "\t\t\t\t\t\t\n",
      "2023-11-29 13:24:05,860 fedbiomed DEBUG - Server key successfully created for researcher_id='researcher_280e17b2-7b8c-44af-bd6e-e54a03eefb8a' secagg_id='secagg_bee2e9f6-675d-4f93-a3ba-5869b224aabc'\n",
      "2023-11-29 13:24:05,863 fedbiomed INFO - Sampled nodes in round 0 ['node_a3caf782-3838-4b43-a629-0b004bd18194', 'node_4f771acc-bf3c-4d7c-84fc-75c941b1c26d']\n",
      "2023-11-29 13:24:05,865 fedbiomed INFO - \u001b[1mSending request\u001b[0m \n",
      "\t\t\t\t\t\u001b[1m To\u001b[0m: node_a3caf782-3838-4b43-a629-0b004bd18194 \n",
      "\t\t\t\t\t\u001b[1m Request: \u001b[0m: TRAIN\n",
      " -----------------------------------------------------------------\n",
      "2023-11-29 13:24:05,866 fedbiomed INFO - \u001b[1mSending request\u001b[0m \n",
      "\t\t\t\t\t\u001b[1m To\u001b[0m: node_4f771acc-bf3c-4d7c-84fc-75c941b1c26d \n",
      "\t\t\t\t\t\u001b[1m Request: \u001b[0m: TRAIN\n",
      " -----------------------------------------------------------------\n",
      "2023-11-29 13:24:05,910 fedbiomed DEBUG - Node: node_a3caf782-3838-4b43-a629-0b004bd18194 polling for the tasks\n",
      "2023-11-29 13:24:05,920 fedbiomed DEBUG - Node: node_4f771acc-bf3c-4d7c-84fc-75c941b1c26d polling for the tasks\n",
      "2023-11-29 13:24:06,097 fedbiomed INFO - \u001b[1mTRAINING\u001b[0m \n",
      "\t\t\t\t\t NODE_ID: node_a3caf782-3838-4b43-a629-0b004bd18194 \n",
      "\t\t\t\t\t Round 1 Epoch: 1 | Iteration: 1/100 (1%) | Samples: 48/4800\n",
      " \t\t\t\t\t Loss: \u001b[1m2.299952\u001b[0m \n",
      "\t\t\t\t\t ---------\n",
      "2023-11-29 13:24:06,098 fedbiomed INFO - \u001b[1mTRAINING\u001b[0m \n",
      "\t\t\t\t\t NODE_ID: node_4f771acc-bf3c-4d7c-84fc-75c941b1c26d \n",
      "\t\t\t\t\t Round 1 Epoch: 1 | Iteration: 1/100 (1%) | Samples: 48/4800\n",
      " \t\t\t\t\t Loss: \u001b[1m2.283015\u001b[0m \n",
      "\t\t\t\t\t ---------\n",
      "2023-11-29 13:24:06,642 fedbiomed INFO - \u001b[1mTRAINING\u001b[0m \n",
      "\t\t\t\t\t NODE_ID: node_4f771acc-bf3c-4d7c-84fc-75c941b1c26d \n",
      "\t\t\t\t\t Round 1 Epoch: 1 | Iteration: 10/100 (10%) | Samples: 480/4800\n",
      " \t\t\t\t\t Loss: \u001b[1m1.215014\u001b[0m \n",
      "\t\t\t\t\t ---------\n",
      "2023-11-29 13:24:06,689 fedbiomed INFO - \u001b[1mTRAINING\u001b[0m \n",
      "\t\t\t\t\t NODE_ID: node_a3caf782-3838-4b43-a629-0b004bd18194 \n",
      "\t\t\t\t\t Round 1 Epoch: 1 | Iteration: 10/100 (10%) | Samples: 480/4800\n",
      " \t\t\t\t\t Loss: \u001b[1m1.679879\u001b[0m \n",
      "\t\t\t\t\t ---------\n",
      "2023-11-29 13:24:07,308 fedbiomed INFO - \u001b[1mTRAINING\u001b[0m \n",
      "\t\t\t\t\t NODE_ID: node_a3caf782-3838-4b43-a629-0b004bd18194 \n",
      "\t\t\t\t\t Round 1 Epoch: 1 | Iteration: 20/100 (20%) | Samples: 960/4800\n",
      " \t\t\t\t\t Loss: \u001b[1m0.746769\u001b[0m \n",
      "\t\t\t\t\t ---------\n",
      "2023-11-29 13:24:07,347 fedbiomed INFO - \u001b[1mTRAINING\u001b[0m \n",
      "\t\t\t\t\t NODE_ID: node_4f771acc-bf3c-4d7c-84fc-75c941b1c26d \n",
      "\t\t\t\t\t Round 1 Epoch: 1 | Iteration: 20/100 (20%) | Samples: 960/4800\n",
      " \t\t\t\t\t Loss: \u001b[1m0.829533\u001b[0m \n",
      "\t\t\t\t\t ---------\n",
      "2023-11-29 13:24:07,994 fedbiomed INFO - \u001b[1mTRAINING\u001b[0m \n",
      "\t\t\t\t\t NODE_ID: node_a3caf782-3838-4b43-a629-0b004bd18194 \n",
      "\t\t\t\t\t Round 1 Epoch: 1 | Iteration: 30/100 (30%) | Samples: 1440/4800\n",
      " \t\t\t\t\t Loss: \u001b[1m0.579941\u001b[0m \n",
      "\t\t\t\t\t ---------\n",
      "2023-11-29 13:24:08,129 fedbiomed INFO - \u001b[1mTRAINING\u001b[0m \n",
      "\t\t\t\t\t NODE_ID: node_4f771acc-bf3c-4d7c-84fc-75c941b1c26d \n",
      "\t\t\t\t\t Round 1 Epoch: 1 | Iteration: 30/100 (30%) | Samples: 1440/4800\n",
      " \t\t\t\t\t Loss: \u001b[1m0.738519\u001b[0m \n",
      "\t\t\t\t\t ---------\n",
      "2023-11-29 13:24:08,665 fedbiomed INFO - \u001b[1mTRAINING\u001b[0m \n",
      "\t\t\t\t\t NODE_ID: node_a3caf782-3838-4b43-a629-0b004bd18194 \n",
      "\t\t\t\t\t Round 1 Epoch: 1 | Iteration: 40/100 (40%) | Samples: 1920/4800\n",
      " \t\t\t\t\t Loss: \u001b[1m0.632608\u001b[0m \n",
      "\t\t\t\t\t ---------\n",
      "2023-11-29 13:24:08,806 fedbiomed INFO - \u001b[1mTRAINING\u001b[0m \n",
      "\t\t\t\t\t NODE_ID: node_4f771acc-bf3c-4d7c-84fc-75c941b1c26d \n",
      "\t\t\t\t\t Round 1 Epoch: 1 | Iteration: 40/100 (40%) | Samples: 1920/4800\n",
      " \t\t\t\t\t Loss: \u001b[1m0.591851\u001b[0m \n",
      "\t\t\t\t\t ---------\n",
      "2023-11-29 13:24:09,367 fedbiomed INFO - \u001b[1mTRAINING\u001b[0m \n",
      "\t\t\t\t\t NODE_ID: node_a3caf782-3838-4b43-a629-0b004bd18194 \n",
      "\t\t\t\t\t Round 1 Epoch: 1 | Iteration: 50/100 (50%) | Samples: 2400/4800\n",
      " \t\t\t\t\t Loss: \u001b[1m0.619351\u001b[0m \n",
      "\t\t\t\t\t ---------\n",
      "2023-11-29 13:24:09,487 fedbiomed INFO - \u001b[1mTRAINING\u001b[0m \n",
      "\t\t\t\t\t NODE_ID: node_4f771acc-bf3c-4d7c-84fc-75c941b1c26d \n",
      "\t\t\t\t\t Round 1 Epoch: 1 | Iteration: 50/100 (50%) | Samples: 2400/4800\n",
      " \t\t\t\t\t Loss: \u001b[1m0.583640\u001b[0m \n",
      "\t\t\t\t\t ---------\n",
      "2023-11-29 13:24:09,995 fedbiomed INFO - \u001b[1mTRAINING\u001b[0m \n",
      "\t\t\t\t\t NODE_ID: node_a3caf782-3838-4b43-a629-0b004bd18194 \n",
      "\t\t\t\t\t Round 1 Epoch: 1 | Iteration: 60/100 (60%) | Samples: 2880/4800\n",
      " \t\t\t\t\t Loss: \u001b[1m0.396386\u001b[0m \n",
      "\t\t\t\t\t ---------\n",
      "2023-11-29 13:24:10,180 fedbiomed INFO - \u001b[1mTRAINING\u001b[0m \n",
      "\t\t\t\t\t NODE_ID: node_4f771acc-bf3c-4d7c-84fc-75c941b1c26d \n",
      "\t\t\t\t\t Round 1 Epoch: 1 | Iteration: 60/100 (60%) | Samples: 2880/4800\n",
      " \t\t\t\t\t Loss: \u001b[1m0.425965\u001b[0m \n",
      "\t\t\t\t\t ---------\n",
      "2023-11-29 13:24:10,867 fedbiomed INFO - \u001b[1mTRAINING\u001b[0m \n",
      "\t\t\t\t\t NODE_ID: node_a3caf782-3838-4b43-a629-0b004bd18194 \n",
      "\t\t\t\t\t Round 1 Epoch: 1 | Iteration: 70/100 (70%) | Samples: 3360/4800\n",
      " \t\t\t\t\t Loss: \u001b[1m0.293144\u001b[0m \n",
      "\t\t\t\t\t ---------\n",
      "2023-11-29 13:24:11,115 fedbiomed INFO - \u001b[1mTRAINING\u001b[0m \n",
      "\t\t\t\t\t NODE_ID: node_4f771acc-bf3c-4d7c-84fc-75c941b1c26d \n",
      "\t\t\t\t\t Round 1 Epoch: 1 | Iteration: 70/100 (70%) | Samples: 3360/4800\n",
      " \t\t\t\t\t Loss: \u001b[1m0.562440\u001b[0m \n",
      "\t\t\t\t\t ---------\n",
      "2023-11-29 13:24:11,652 fedbiomed INFO - \u001b[1mTRAINING\u001b[0m \n",
      "\t\t\t\t\t NODE_ID: node_a3caf782-3838-4b43-a629-0b004bd18194 \n",
      "\t\t\t\t\t Round 1 Epoch: 1 | Iteration: 80/100 (80%) | Samples: 3840/4800\n",
      " \t\t\t\t\t Loss: \u001b[1m0.370964\u001b[0m \n",
      "\t\t\t\t\t ---------\n",
      "2023-11-29 13:24:11,854 fedbiomed INFO - \u001b[1mTRAINING\u001b[0m \n",
      "\t\t\t\t\t NODE_ID: node_4f771acc-bf3c-4d7c-84fc-75c941b1c26d \n",
      "\t\t\t\t\t Round 1 Epoch: 1 | Iteration: 80/100 (80%) | Samples: 3840/4800\n",
      " \t\t\t\t\t Loss: \u001b[1m0.343754\u001b[0m \n",
      "\t\t\t\t\t ---------\n",
      "2023-11-29 13:24:12,602 fedbiomed INFO - \u001b[1mTRAINING\u001b[0m \n",
      "\t\t\t\t\t NODE_ID: node_a3caf782-3838-4b43-a629-0b004bd18194 \n",
      "\t\t\t\t\t Round 1 Epoch: 1 | Iteration: 90/100 (90%) | Samples: 4320/4800\n",
      " \t\t\t\t\t Loss: \u001b[1m0.293695\u001b[0m \n",
      "\t\t\t\t\t ---------\n",
      "2023-11-29 13:24:12,645 fedbiomed INFO - \u001b[1mTRAINING\u001b[0m \n",
      "\t\t\t\t\t NODE_ID: node_4f771acc-bf3c-4d7c-84fc-75c941b1c26d \n",
      "\t\t\t\t\t Round 1 Epoch: 1 | Iteration: 90/100 (90%) | Samples: 4320/4800\n",
      " \t\t\t\t\t Loss: \u001b[1m0.195909\u001b[0m \n",
      "\t\t\t\t\t ---------\n",
      "2023-11-29 13:24:13,315 fedbiomed INFO - \u001b[1mTRAINING\u001b[0m \n",
      "\t\t\t\t\t NODE_ID: node_a3caf782-3838-4b43-a629-0b004bd18194 \n",
      "\t\t\t\t\t Round 1 Epoch: 1 | Iteration: 100/100 (100%) | Samples: 4800/4800\n",
      " \t\t\t\t\t Loss: \u001b[1m0.175955\u001b[0m \n",
      "\t\t\t\t\t ---------\n",
      "2023-11-29 13:24:13,350 fedbiomed INFO - \u001b[1mTRAINING\u001b[0m \n",
      "\t\t\t\t\t NODE_ID: node_4f771acc-bf3c-4d7c-84fc-75c941b1c26d \n",
      "\t\t\t\t\t Round 1 Epoch: 1 | Iteration: 100/100 (100%) | Samples: 4800/4800\n",
      " \t\t\t\t\t Loss: \u001b[1m0.251023\u001b[0m \n",
      "\t\t\t\t\t ---------\n",
      "2023-11-29 13:24:13,361 fedbiomed INFO - \u001b[1mINFO\u001b[0m\n",
      "\t\t\t\t\t\u001b[1m NODE\u001b[0m node_4f771acc-bf3c-4d7c-84fc-75c941b1c26d\n",
      "\t\t\t\t\t\u001b[1m MESSAGE:\u001b[0m Encrypting model parameters. This process can take some time depending on model size.\u001b[0m\n",
      "-----------------------------------------------------------------\n",
      "2023-11-29 13:24:13,372 fedbiomed INFO - \u001b[1mINFO\u001b[0m\n",
      "\t\t\t\t\t\u001b[1m NODE\u001b[0m node_a3caf782-3838-4b43-a629-0b004bd18194\n",
      "\t\t\t\t\t\u001b[1m MESSAGE:\u001b[0m Encrypting model parameters. This process can take some time depending on model size.\u001b[0m\n",
      "-----------------------------------------------------------------\n",
      "2023-11-29 13:25:05,951 fedbiomed DEBUG - Node: node_4f771acc-bf3c-4d7c-84fc-75c941b1c26d polling for the tasks\n",
      "2023-11-29 13:25:05,968 fedbiomed DEBUG - Node: node_a3caf782-3838-4b43-a629-0b004bd18194 polling for the tasks\n",
      "2023-11-29 13:26:05,985 fedbiomed DEBUG - Node: node_4f771acc-bf3c-4d7c-84fc-75c941b1c26d polling for the tasks\n",
      "2023-11-29 13:26:05,997 fedbiomed DEBUG - Node: node_a3caf782-3838-4b43-a629-0b004bd18194 polling for the tasks\n",
      "2023-11-29 13:26:23,519 fedbiomed INFO - \u001b[1mINFO\u001b[0m\n",
      "\t\t\t\t\t\u001b[1m NODE\u001b[0m node_4f771acc-bf3c-4d7c-84fc-75c941b1c26d\n",
      "\t\t\t\t\t\u001b[1m MESSAGE:\u001b[0m Encryption is completed!\u001b[0m\n",
      "-----------------------------------------------------------------\n",
      "2023-11-29 13:26:23,744 fedbiomed INFO - \u001b[1mINFO\u001b[0m\n",
      "\t\t\t\t\t\u001b[1m NODE\u001b[0m node_a3caf782-3838-4b43-a629-0b004bd18194\n",
      "\t\t\t\t\t\u001b[1m MESSAGE:\u001b[0m Encryption is completed!\u001b[0m\n",
      "-----------------------------------------------------------------\n",
      "2023-11-29 13:26:24,028 fedbiomed INFO - Nodes that successfully reply in round 0 ['node_a3caf782-3838-4b43-a629-0b004bd18194', 'node_4f771acc-bf3c-4d7c-84fc-75c941b1c26d']\n",
      "2023-11-29 13:26:24,029 fedbiomed INFO - Validating secure aggregation results...\n",
      "2023-11-29 13:26:24,034 fedbiomed INFO - Aggregating 2 parameters from 2 nodes.\n",
      "2023-11-29 13:26:24,035 fedbiomed DEBUG - Aggregation is completed in 0.01 seconds.\n",
      "2023-11-29 13:26:24,035 fedbiomed INFO - Validation is completed.\n",
      "2023-11-29 13:26:24,036 fedbiomed INFO - Aggregating encrypted parameters. This process may take some time depending on model size.\n",
      "2023-11-29 13:27:05,997 fedbiomed DEBUG - Node: node_4f771acc-bf3c-4d7c-84fc-75c941b1c26d polling for the tasks\n",
      "2023-11-29 13:27:06,035 fedbiomed DEBUG - Node: node_a3caf782-3838-4b43-a629-0b004bd18194 polling for the tasks\n",
      "2023-11-29 13:28:05,994 fedbiomed DEBUG - Node: node_4f771acc-bf3c-4d7c-84fc-75c941b1c26d polling for the tasks\n",
      "2023-11-29 13:28:06,018 fedbiomed DEBUG - Node: node_a3caf782-3838-4b43-a629-0b004bd18194 polling for the tasks\n",
      "2023-11-29 13:28:25,334 fedbiomed INFO - Aggregating 2 parameters from 2 nodes.\n",
      "2023-11-29 13:28:25,691 fedbiomed DEBUG - Aggregation is completed in 121.19 seconds.\n",
      "2023-11-29 13:28:25,851 fedbiomed INFO - Saved aggregated params for round 0 in /workspaces/Projects/fedbiomed/var/experiments/Experiment_0000/aggregated_params_a5ae1e2d-a0f7-43f8-b548-2ca550c2325b.mpk\n",
      "2023-11-29 13:28:25,881 fedbiomed INFO - breakpoint for round 0 saved at /workspaces/Projects/fedbiomed/var/experiments/Experiment_0000/breakpoint_0000\n",
      "2023-11-29 13:28:25,895 fedbiomed INFO - Sampled nodes in round 1 ['node_a3caf782-3838-4b43-a629-0b004bd18194', 'node_4f771acc-bf3c-4d7c-84fc-75c941b1c26d']\n",
      "2023-11-29 13:28:25,898 fedbiomed INFO - \u001b[1mSending request\u001b[0m \n",
      "\t\t\t\t\t\u001b[1m To\u001b[0m: node_a3caf782-3838-4b43-a629-0b004bd18194 \n",
      "\t\t\t\t\t\u001b[1m Request: \u001b[0m: TRAIN\n",
      " -----------------------------------------------------------------\n",
      "2023-11-29 13:28:25,898 fedbiomed INFO - \u001b[1mSending request\u001b[0m \n",
      "\t\t\t\t\t\u001b[1m To\u001b[0m: node_4f771acc-bf3c-4d7c-84fc-75c941b1c26d \n",
      "\t\t\t\t\t\u001b[1m Request: \u001b[0m: TRAIN\n",
      " -----------------------------------------------------------------\n",
      "2023-11-29 13:28:25,937 fedbiomed DEBUG - Node: node_a3caf782-3838-4b43-a629-0b004bd18194 polling for the tasks\n",
      "2023-11-29 13:28:25,941 fedbiomed DEBUG - Node: node_4f771acc-bf3c-4d7c-84fc-75c941b1c26d polling for the tasks\n",
      "2023-11-29 13:28:26,074 fedbiomed INFO - \u001b[1mTRAINING\u001b[0m \n",
      "\t\t\t\t\t NODE_ID: node_a3caf782-3838-4b43-a629-0b004bd18194 \n",
      "\t\t\t\t\t Round 2 Epoch: 1 | Iteration: 1/100 (1%) | Samples: 48/4800\n",
      " \t\t\t\t\t Loss: \u001b[1m0.196902\u001b[0m \n",
      "\t\t\t\t\t ---------\n",
      "2023-11-29 13:28:26,093 fedbiomed INFO - \u001b[1mTRAINING\u001b[0m \n",
      "\t\t\t\t\t NODE_ID: node_4f771acc-bf3c-4d7c-84fc-75c941b1c26d \n",
      "\t\t\t\t\t Round 2 Epoch: 1 | Iteration: 1/100 (1%) | Samples: 48/4800\n",
      " \t\t\t\t\t Loss: \u001b[1m0.282225\u001b[0m \n",
      "\t\t\t\t\t ---------\n",
      "2023-11-29 13:28:26,713 fedbiomed INFO - \u001b[1mTRAINING\u001b[0m \n",
      "\t\t\t\t\t NODE_ID: node_4f771acc-bf3c-4d7c-84fc-75c941b1c26d \n",
      "\t\t\t\t\t Round 2 Epoch: 1 | Iteration: 10/100 (10%) | Samples: 480/4800\n",
      " \t\t\t\t\t Loss: \u001b[1m0.200059\u001b[0m \n",
      "\t\t\t\t\t ---------\n",
      "2023-11-29 13:28:26,832 fedbiomed INFO - \u001b[1mTRAINING\u001b[0m \n",
      "\t\t\t\t\t NODE_ID: node_a3caf782-3838-4b43-a629-0b004bd18194 \n",
      "\t\t\t\t\t Round 2 Epoch: 1 | Iteration: 10/100 (10%) | Samples: 480/4800\n",
      " \t\t\t\t\t Loss: \u001b[1m0.124463\u001b[0m \n",
      "\t\t\t\t\t ---------\n",
      "2023-11-29 13:28:27,484 fedbiomed INFO - \u001b[1mTRAINING\u001b[0m \n",
      "\t\t\t\t\t NODE_ID: node_4f771acc-bf3c-4d7c-84fc-75c941b1c26d \n",
      "\t\t\t\t\t Round 2 Epoch: 1 | Iteration: 20/100 (20%) | Samples: 960/4800\n",
      " \t\t\t\t\t Loss: \u001b[1m0.362931\u001b[0m \n",
      "\t\t\t\t\t ---------\n",
      "2023-11-29 13:28:27,578 fedbiomed INFO - \u001b[1mTRAINING\u001b[0m \n",
      "\t\t\t\t\t NODE_ID: node_a3caf782-3838-4b43-a629-0b004bd18194 \n",
      "\t\t\t\t\t Round 2 Epoch: 1 | Iteration: 20/100 (20%) | Samples: 960/4800\n",
      " \t\t\t\t\t Loss: \u001b[1m0.226367\u001b[0m \n",
      "\t\t\t\t\t ---------\n",
      "2023-11-29 13:28:28,129 fedbiomed INFO - \u001b[1mTRAINING\u001b[0m \n",
      "\t\t\t\t\t NODE_ID: node_4f771acc-bf3c-4d7c-84fc-75c941b1c26d \n",
      "\t\t\t\t\t Round 2 Epoch: 1 | Iteration: 30/100 (30%) | Samples: 1440/4800\n",
      " \t\t\t\t\t Loss: \u001b[1m0.224594\u001b[0m \n",
      "\t\t\t\t\t ---------\n",
      "2023-11-29 13:28:28,317 fedbiomed INFO - \u001b[1mTRAINING\u001b[0m \n",
      "\t\t\t\t\t NODE_ID: node_a3caf782-3838-4b43-a629-0b004bd18194 \n",
      "\t\t\t\t\t Round 2 Epoch: 1 | Iteration: 30/100 (30%) | Samples: 1440/4800\n",
      " \t\t\t\t\t Loss: \u001b[1m0.308805\u001b[0m \n",
      "\t\t\t\t\t ---------\n",
      "2023-11-29 13:28:28,756 fedbiomed INFO - \u001b[1mTRAINING\u001b[0m \n",
      "\t\t\t\t\t NODE_ID: node_4f771acc-bf3c-4d7c-84fc-75c941b1c26d \n",
      "\t\t\t\t\t Round 2 Epoch: 1 | Iteration: 40/100 (40%) | Samples: 1920/4800\n",
      " \t\t\t\t\t Loss: \u001b[1m0.091463\u001b[0m \n",
      "\t\t\t\t\t ---------\n",
      "2023-11-29 13:28:29,017 fedbiomed INFO - \u001b[1mTRAINING\u001b[0m \n",
      "\t\t\t\t\t NODE_ID: node_a3caf782-3838-4b43-a629-0b004bd18194 \n",
      "\t\t\t\t\t Round 2 Epoch: 1 | Iteration: 40/100 (40%) | Samples: 1920/4800\n",
      " \t\t\t\t\t Loss: \u001b[1m0.168917\u001b[0m \n",
      "\t\t\t\t\t ---------\n",
      "2023-11-29 13:28:29,407 fedbiomed INFO - \u001b[1mTRAINING\u001b[0m \n",
      "\t\t\t\t\t NODE_ID: node_4f771acc-bf3c-4d7c-84fc-75c941b1c26d \n",
      "\t\t\t\t\t Round 2 Epoch: 1 | Iteration: 50/100 (50%) | Samples: 2400/4800\n",
      " \t\t\t\t\t Loss: \u001b[1m0.155405\u001b[0m \n",
      "\t\t\t\t\t ---------\n",
      "2023-11-29 13:28:29,717 fedbiomed INFO - \u001b[1mTRAINING\u001b[0m \n",
      "\t\t\t\t\t NODE_ID: node_a3caf782-3838-4b43-a629-0b004bd18194 \n",
      "\t\t\t\t\t Round 2 Epoch: 1 | Iteration: 50/100 (50%) | Samples: 2400/4800\n",
      " \t\t\t\t\t Loss: \u001b[1m0.387178\u001b[0m \n",
      "\t\t\t\t\t ---------\n",
      "2023-11-29 13:28:30,110 fedbiomed INFO - \u001b[1mTRAINING\u001b[0m \n",
      "\t\t\t\t\t NODE_ID: node_4f771acc-bf3c-4d7c-84fc-75c941b1c26d \n",
      "\t\t\t\t\t Round 2 Epoch: 1 | Iteration: 60/100 (60%) | Samples: 2880/4800\n",
      " \t\t\t\t\t Loss: \u001b[1m0.339480\u001b[0m \n",
      "\t\t\t\t\t ---------\n",
      "2023-11-29 13:28:30,444 fedbiomed INFO - \u001b[1mTRAINING\u001b[0m \n",
      "\t\t\t\t\t NODE_ID: node_a3caf782-3838-4b43-a629-0b004bd18194 \n",
      "\t\t\t\t\t Round 2 Epoch: 1 | Iteration: 60/100 (60%) | Samples: 2880/4800\n",
      " \t\t\t\t\t Loss: \u001b[1m0.262042\u001b[0m \n",
      "\t\t\t\t\t ---------\n",
      "2023-11-29 13:28:30,788 fedbiomed INFO - \u001b[1mTRAINING\u001b[0m \n",
      "\t\t\t\t\t NODE_ID: node_4f771acc-bf3c-4d7c-84fc-75c941b1c26d \n",
      "\t\t\t\t\t Round 2 Epoch: 1 | Iteration: 70/100 (70%) | Samples: 3360/4800\n",
      " \t\t\t\t\t Loss: \u001b[1m0.164498\u001b[0m \n",
      "\t\t\t\t\t ---------\n",
      "2023-11-29 13:28:31,149 fedbiomed INFO - \u001b[1mTRAINING\u001b[0m \n",
      "\t\t\t\t\t NODE_ID: node_a3caf782-3838-4b43-a629-0b004bd18194 \n",
      "\t\t\t\t\t Round 2 Epoch: 1 | Iteration: 70/100 (70%) | Samples: 3360/4800\n",
      " \t\t\t\t\t Loss: \u001b[1m0.227180\u001b[0m \n",
      "\t\t\t\t\t ---------\n",
      "2023-11-29 13:28:31,517 fedbiomed INFO - \u001b[1mTRAINING\u001b[0m \n",
      "\t\t\t\t\t NODE_ID: node_4f771acc-bf3c-4d7c-84fc-75c941b1c26d \n",
      "\t\t\t\t\t Round 2 Epoch: 1 | Iteration: 80/100 (80%) | Samples: 3840/4800\n",
      " \t\t\t\t\t Loss: \u001b[1m0.048704\u001b[0m \n",
      "\t\t\t\t\t ---------\n",
      "2023-11-29 13:28:31,889 fedbiomed INFO - \u001b[1mTRAINING\u001b[0m \n",
      "\t\t\t\t\t NODE_ID: node_a3caf782-3838-4b43-a629-0b004bd18194 \n",
      "\t\t\t\t\t Round 2 Epoch: 1 | Iteration: 80/100 (80%) | Samples: 3840/4800\n",
      " \t\t\t\t\t Loss: \u001b[1m0.310252\u001b[0m \n",
      "\t\t\t\t\t ---------\n",
      "2023-11-29 13:28:32,152 fedbiomed INFO - \u001b[1mTRAINING\u001b[0m \n",
      "\t\t\t\t\t NODE_ID: node_4f771acc-bf3c-4d7c-84fc-75c941b1c26d \n",
      "\t\t\t\t\t Round 2 Epoch: 1 | Iteration: 90/100 (90%) | Samples: 4320/4800\n",
      " \t\t\t\t\t Loss: \u001b[1m0.087237\u001b[0m \n",
      "\t\t\t\t\t ---------\n",
      "2023-11-29 13:28:32,730 fedbiomed INFO - \u001b[1mTRAINING\u001b[0m \n",
      "\t\t\t\t\t NODE_ID: node_a3caf782-3838-4b43-a629-0b004bd18194 \n",
      "\t\t\t\t\t Round 2 Epoch: 1 | Iteration: 90/100 (90%) | Samples: 4320/4800\n",
      " \t\t\t\t\t Loss: \u001b[1m0.158442\u001b[0m \n",
      "\t\t\t\t\t ---------\n",
      "2023-11-29 13:28:32,859 fedbiomed INFO - \u001b[1mTRAINING\u001b[0m \n",
      "\t\t\t\t\t NODE_ID: node_4f771acc-bf3c-4d7c-84fc-75c941b1c26d \n",
      "\t\t\t\t\t Round 2 Epoch: 1 | Iteration: 100/100 (100%) | Samples: 4800/4800\n",
      " \t\t\t\t\t Loss: \u001b[1m0.193690\u001b[0m \n",
      "\t\t\t\t\t ---------\n",
      "2023-11-29 13:28:32,904 fedbiomed INFO - \u001b[1mINFO\u001b[0m\n",
      "\t\t\t\t\t\u001b[1m NODE\u001b[0m node_4f771acc-bf3c-4d7c-84fc-75c941b1c26d\n",
      "\t\t\t\t\t\u001b[1m MESSAGE:\u001b[0m Encrypting model parameters. This process can take some time depending on model size.\u001b[0m\n",
      "-----------------------------------------------------------------\n",
      "2023-11-29 13:28:33,389 fedbiomed INFO - \u001b[1mTRAINING\u001b[0m \n",
      "\t\t\t\t\t NODE_ID: node_a3caf782-3838-4b43-a629-0b004bd18194 \n",
      "\t\t\t\t\t Round 2 Epoch: 1 | Iteration: 100/100 (100%) | Samples: 4800/4800\n",
      " \t\t\t\t\t Loss: \u001b[1m0.057324\u001b[0m \n",
      "\t\t\t\t\t ---------\n",
      "2023-11-29 13:28:33,441 fedbiomed INFO - \u001b[1mINFO\u001b[0m\n",
      "\t\t\t\t\t\u001b[1m NODE\u001b[0m node_a3caf782-3838-4b43-a629-0b004bd18194\n",
      "\t\t\t\t\t\u001b[1m MESSAGE:\u001b[0m Encrypting model parameters. This process can take some time depending on model size.\u001b[0m\n",
      "-----------------------------------------------------------------\n",
      "2023-11-29 13:29:26,017 fedbiomed DEBUG - Node: node_4f771acc-bf3c-4d7c-84fc-75c941b1c26d polling for the tasks\n",
      "2023-11-29 13:29:26,079 fedbiomed DEBUG - Node: node_a3caf782-3838-4b43-a629-0b004bd18194 polling for the tasks\n",
      "2023-11-29 13:30:26,049 fedbiomed DEBUG - Node: node_4f771acc-bf3c-4d7c-84fc-75c941b1c26d polling for the tasks\n",
      "2023-11-29 13:30:26,113 fedbiomed DEBUG - Node: node_a3caf782-3838-4b43-a629-0b004bd18194 polling for the tasks\n",
      "2023-11-29 13:30:57,243 fedbiomed INFO - \u001b[1mINFO\u001b[0m\n",
      "\t\t\t\t\t\u001b[1m NODE\u001b[0m node_4f771acc-bf3c-4d7c-84fc-75c941b1c26d\n",
      "\t\t\t\t\t\u001b[1m MESSAGE:\u001b[0m Encryption is completed!\u001b[0m\n",
      "-----------------------------------------------------------------\n",
      "2023-11-29 13:30:57,537 fedbiomed INFO - \u001b[1mINFO\u001b[0m\n",
      "\t\t\t\t\t\u001b[1m NODE\u001b[0m node_a3caf782-3838-4b43-a629-0b004bd18194\n",
      "\t\t\t\t\t\u001b[1m MESSAGE:\u001b[0m Encryption is completed!\u001b[0m\n",
      "-----------------------------------------------------------------\n",
      "2023-11-29 13:30:57,792 fedbiomed INFO - Nodes that successfully reply in round 1 ['node_a3caf782-3838-4b43-a629-0b004bd18194', 'node_4f771acc-bf3c-4d7c-84fc-75c941b1c26d']\n",
      "2023-11-29 13:30:57,793 fedbiomed INFO - Validating secure aggregation results...\n",
      "2023-11-29 13:30:57,797 fedbiomed INFO - Aggregating 2 parameters from 2 nodes.\n",
      "2023-11-29 13:30:57,798 fedbiomed DEBUG - Aggregation is completed in 0.0 seconds.\n",
      "2023-11-29 13:30:57,798 fedbiomed INFO - Validation is completed.\n",
      "2023-11-29 13:30:57,799 fedbiomed INFO - Aggregating encrypted parameters. This process may take some time depending on model size.\n",
      "2023-11-29 13:31:26,139 fedbiomed DEBUG - Node: node_a3caf782-3838-4b43-a629-0b004bd18194 polling for the tasks\n",
      "2023-11-29 13:31:28,074 fedbiomed DEBUG - Node: node_4f771acc-bf3c-4d7c-84fc-75c941b1c26d polling for the tasks\n",
      "2023-11-29 13:32:26,132 fedbiomed DEBUG - Node: node_a3caf782-3838-4b43-a629-0b004bd18194 polling for the tasks\n",
      "2023-11-29 13:32:28,062 fedbiomed DEBUG - Node: node_4f771acc-bf3c-4d7c-84fc-75c941b1c26d polling for the tasks\n",
      "2023-11-29 13:33:01,469 fedbiomed INFO - Aggregating 2 parameters from 2 nodes.\n",
      "2023-11-29 13:33:01,827 fedbiomed DEBUG - Aggregation is completed in 123.53 seconds.\n",
      "2023-11-29 13:33:01,990 fedbiomed INFO - Saved aggregated params for round 1 in /workspaces/Projects/fedbiomed/var/experiments/Experiment_0000/aggregated_params_82ae2f9b-0f83-4030-ad63-1cd3d4424358.mpk\n",
      "2023-11-29 13:33:02,050 fedbiomed INFO - breakpoint for round 1 saved at /workspaces/Projects/fedbiomed/var/experiments/Experiment_0000/breakpoint_0001\n"
     ]
    },
    {
     "data": {
      "text/plain": [
       "2"
      ]
     },
     "execution_count": 7,
     "metadata": {},
     "output_type": "execute_result"
    },
    {
     "name": "stderr",
     "output_type": "stream",
     "text": [
      "2023-11-29 13:33:26,119 fedbiomed DEBUG - Node: node_a3caf782-3838-4b43-a629-0b004bd18194 polling for the tasks\n",
      "2023-11-29 13:33:28,059 fedbiomed DEBUG - Node: node_4f771acc-bf3c-4d7c-84fc-75c941b1c26d polling for the tasks\n",
      "2023-11-29 13:34:26,120 fedbiomed DEBUG - Node: node_a3caf782-3838-4b43-a629-0b004bd18194 polling for the tasks\n",
      "2023-11-29 13:34:28,062 fedbiomed DEBUG - Node: node_4f771acc-bf3c-4d7c-84fc-75c941b1c26d polling for the tasks\n",
      "2023-11-29 13:35:26,123 fedbiomed DEBUG - Node: node_a3caf782-3838-4b43-a629-0b004bd18194 polling for the tasks\n",
      "2023-11-29 13:35:28,064 fedbiomed DEBUG - Node: node_4f771acc-bf3c-4d7c-84fc-75c941b1c26d polling for the tasks\n",
      "2023-11-29 13:36:26,126 fedbiomed DEBUG - Node: node_a3caf782-3838-4b43-a629-0b004bd18194 polling for the tasks\n",
      "2023-11-29 13:36:28,067 fedbiomed DEBUG - Node: node_4f771acc-bf3c-4d7c-84fc-75c941b1c26d polling for the tasks\n",
      "2023-11-29 13:37:26,128 fedbiomed DEBUG - Node: node_a3caf782-3838-4b43-a629-0b004bd18194 polling for the tasks\n",
      "2023-11-29 13:37:28,070 fedbiomed DEBUG - Node: node_4f771acc-bf3c-4d7c-84fc-75c941b1c26d polling for the tasks\n",
      "2023-11-29 13:38:26,131 fedbiomed DEBUG - Node: node_a3caf782-3838-4b43-a629-0b004bd18194 polling for the tasks\n",
      "2023-11-29 13:38:28,070 fedbiomed DEBUG - Node: node_4f771acc-bf3c-4d7c-84fc-75c941b1c26d polling for the tasks\n",
      "2023-11-29 13:39:26,134 fedbiomed DEBUG - Node: node_a3caf782-3838-4b43-a629-0b004bd18194 polling for the tasks\n",
      "2023-11-29 13:39:28,074 fedbiomed DEBUG - Node: node_4f771acc-bf3c-4d7c-84fc-75c941b1c26d polling for the tasks\n",
      "2023-11-29 13:40:26,137 fedbiomed DEBUG - Node: node_a3caf782-3838-4b43-a629-0b004bd18194 polling for the tasks\n",
      "2023-11-29 13:40:28,077 fedbiomed DEBUG - Node: node_4f771acc-bf3c-4d7c-84fc-75c941b1c26d polling for the tasks\n",
      "2023-11-29 13:41:26,139 fedbiomed DEBUG - Node: node_a3caf782-3838-4b43-a629-0b004bd18194 polling for the tasks\n",
      "2023-11-29 13:41:28,080 fedbiomed DEBUG - Node: node_4f771acc-bf3c-4d7c-84fc-75c941b1c26d polling for the tasks\n",
      "2023-11-29 13:42:26,141 fedbiomed DEBUG - Node: node_a3caf782-3838-4b43-a629-0b004bd18194 polling for the tasks\n",
      "2023-11-29 13:42:28,083 fedbiomed DEBUG - Node: node_4f771acc-bf3c-4d7c-84fc-75c941b1c26d polling for the tasks\n"
     ]
    }
   ],
   "source": [
    "exp.run(rounds=2, increase=True)"
   ]
  },
  {
   "cell_type": "markdown",
   "metadata": {},
   "source": [
    "Display context after running one round of training. "
   ]
  },
  {
   "cell_type": "code",
   "execution_count": null,
   "metadata": {},
   "outputs": [],
   "source": [
    "print(\"Secagg Biprime context: \", exp.secagg.biprime.context)\n",
    "print(\"Secagg Servkey context: \", exp.secagg.servkey.context)"
   ]
  },
  {
   "cell_type": "markdown",
   "metadata": {},
   "source": [
    "#### Changes in experiment triggers re-creation of secure aggregation context\n",
    "\n",
    "The changes that re-create jobs like adding new node to the experiment will trigger automatic secure aggregation re-setup for the next round.  "
   ]
  },
  {
   "cell_type": "code",
   "execution_count": null,
   "metadata": {},
   "outputs": [],
   "source": [
    "# sends new dataset search request\n",
    "from fedbiomed.researcher.strategies import DefaultStrategy\n",
    "from fedbiomed.researcher.aggregators.fedavg import FedAverage\n",
    "exp.set_training_data(None, True)\n",
    "exp.set_strategy(DefaultStrategy)\n",
    "exp.set_aggregator(FedAverage)\n",
    "exp.set_job()"
   ]
  },
  {
   "cell_type": "code",
   "execution_count": null,
   "metadata": {},
   "outputs": [],
   "source": [
    "exp.run_once(increase=True)"
   ]
  },
  {
   "cell_type": "markdown",
   "metadata": {},
   "source": [
    "### Changing arguments of secure aggregation"
   ]
  },
  {
   "cell_type": "markdown",
   "metadata": {},
   "source": [
    "Setting `secagg` argument `True` in `Experiment` creates a default `SecureAggregation` instance. Additionally, It is also possible to create `SecureAggregation` instance and pass it as an argument. Here are the arguments that can be set for the `SecureAggregation`\n",
    "\n",
    "- `active`: `True` if the round will use secure aggregation. Default is `True`\n",
    "- `clipping_range`: Clipping range that is going be use for quantization of model parameters. Default clipping range is `3`. However, some models can have model weigths greater than `3`. If clipping range is exceeded during the encryption on the nodes, `Experiment` will log a warning message. In such cases, you can provide a higher clipping range through the argument `clipping_range`.\n"
   ]
  },
  {
   "cell_type": "code",
   "execution_count": null,
   "metadata": {},
   "outputs": [],
   "source": [
    "from fedbiomed.researcher.secagg import SecureAggregation\n",
    "secagg = SecureAggregation(\n",
    "    active=True, \n",
    "    clipping_range=100,\n",
    "    \n",
    ")\n",
    "exp.set_secagg(secagg=secagg)\n"
   ]
  },
  {
   "cell_type": "code",
   "execution_count": null,
   "metadata": {},
   "outputs": [],
   "source": [
    "exp.run_once(increase=True)"
   ]
  },
  {
   "cell_type": "markdown",
   "metadata": {},
   "source": [
    "### Load experiment from a breakpoint\n",
    "\n",
    "Once a breakpoint is loadded if the context is already exsiting there won't be context setup. "
   ]
  },
  {
   "cell_type": "code",
   "execution_count": null,
   "metadata": {},
   "outputs": [],
   "source": [
    "loaded_exp = Experiment.load_breakpoint()\n",
    "loaded_exp.info()"
   ]
  },
  {
   "cell_type": "code",
   "execution_count": null,
   "metadata": {
    "pycharm": {
     "name": "#%%\n"
    },
    "scrolled": true
   },
   "outputs": [],
   "source": [
    "loaded_exp.run_once(increase=True)"
   ]
  },
  {
   "cell_type": "code",
   "execution_count": null,
   "metadata": {},
   "outputs": [],
   "source": []
  }
 ],
 "metadata": {
  "kernelspec": {
   "display_name": "Python 3 (ipykernel)",
   "language": "python",
   "name": "python3"
  },
  "language_info": {
   "codemirror_mode": {
    "name": "ipython",
    "version": 3
   },
   "file_extension": ".py",
   "mimetype": "text/x-python",
   "name": "python",
   "nbconvert_exporter": "python",
   "pygments_lexer": "ipython3",
   "version": "3.10.13"
  }
 },
 "nbformat": 4,
 "nbformat_minor": 4
}
