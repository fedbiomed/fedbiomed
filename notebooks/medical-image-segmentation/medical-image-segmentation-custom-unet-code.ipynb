{
 "cells": [
  {
   "cell_type": "markdown",
   "id": "3852a3c8-eeb1-4799-9e5c-6269ced855d3",
   "metadata": {
    "pycharm": {
     "name": "#%% md\n"
    }
   },
   "source": [
    "# Brain Segmentation\n",
    "\n",
    "This tutorial will show how to use Fed-BioMed to perform image segmentation on 3D medical MRI images of brains, using the publicly available [IXI dataset](https://brain-development.org/ixi-dataset/). \n",
    "It uses a [3D U-Net](https://link.springer.com/chapter/10.1007/978-3-319-46723-8_49) model for the segmentation, trained on data from 3 separate centers. \n",
    "\n",
    "Here we display a very complex case, using advanced Fed-BioMed functionalities such as:\n",
    "- loading a MedicalImageDataset\n",
    "- implementing a custom Node Selection Strategy\n",
    "- setting a non-default Optimizer\n",
    "- monitoring training loss with Tensorboard\n",
    "\n",
    "This tutorial is based on [TorchIO's tutorial](https://colab.research.google.com/github/fepegar/torchio-notebooks/blob/main/notebooks/TorchIO_tutorial.ipynb#scrollTo=OoHXr1a4_9Ll)."
   ]
  },
  {
   "cell_type": "markdown",
   "id": "a5dd7d60-f737-4ddd-b179-85922e9d0371",
   "metadata": {
    "pycharm": {
     "name": "#%% md\n"
    },
    "tags": []
   },
   "source": [
    "## Data preparation\n",
    "\n",
    "### Donwload  the data\n",
    "Download the IXI dataset from the [Mendeley archive](https://data.mendeley.com/datasets/7kd5wj7v7p). \n",
    "Then separate your data in different folders for each center, in order to achieve the following structure:\n",
    "```\n",
    "_ Guys\n",
    " |_ train\n",
    " | |_ IXI002-Guys-0828\n",
    " | |_ ...\n",
    " | |_ participants.csv\n",
    " |_ holdout\n",
    "    |_ IXI022-Guys-0701\n",
    "     |_ ...\n",
    "     |_ participants.csv\n",
    "_ HH ....\n",
    "```"
   ]
  },
  {
   "cell_type": "markdown",
   "id": "e87a1f3c",
   "metadata": {
    "pycharm": {
     "name": "#%% md\n"
    }
   },
   "source": [
    "## Automatic download and node creation\n",
    "The script below will download and split the data into multiple centers (if not existing yet). \n",
    "\n",
    "We assume you are running this notebook from the folder `fedbiomed/notebooks/medical-image-segmentation`. If not, please replace the `../../` in the command below with the path to your `fedbiomed` folder.\n",
    "\n",
    "After succesfully running the command, follow the instructions printed to add the datasets and run the nodes. The tag used for this experiment is `ixi-train`."
   ]
  },
  {
   "cell_type": "code",
   "execution_count": null,
   "id": "8072d722",
   "metadata": {},
   "outputs": [],
   "source": [
    "! pip install tqdm"
   ]
  },
  {
   "cell_type": "code",
   "execution_count": null,
   "id": "28a1101d",
   "metadata": {
    "jupyter": {
     "outputs_hidden": false
    },
    "pycharm": {
     "name": "#%%\n"
    }
   },
   "outputs": [],
   "source": [
    "%run -i download_and_split_ixi.py -f ../.."
   ]
  },
  {
   "cell_type": "code",
   "execution_count": null,
   "id": "a477236a-1a6c-4c37-83c3-3bb3d99fcd4e",
   "metadata": {
    "pycharm": {
     "name": "#%%\n"
    }
   },
   "outputs": [],
   "source": [
    "%load_ext tensorboard"
   ]
  },
  {
   "cell_type": "code",
   "execution_count": null,
   "id": "e58994f6-851f-432f-8426-883c6f2754bd",
   "metadata": {
    "pycharm": {
     "name": "#%%\n"
    }
   },
   "outputs": [],
   "source": [
    "! pip install matplotlib"
   ]
  },
  {
   "cell_type": "markdown",
   "id": "91fb49d3-00f7-4c75-b8ac-5588410fb351",
   "metadata": {
    "pycharm": {
     "name": "#%% md\n"
    },
    "tags": []
   },
   "source": [
    "## Create a Training Plan\n",
    "\n",
    "We create a training plan that incorporates the UNet model. We choose to write the code for the UNet model instead of using the [unet](https://github.com/fepegar/unet) to avoid forcing the edge nodes (i.e. the hospitals) to install an additional dependency. \n",
    "\n",
    "Nevertheless, the code for UNet is taken from the library's implementation\n",
    "\n",
    "*Pérez-García, Fernando. (2020). fepegar/unet: PyTorch implementation of 2D and 3D U-Net (v0.7.5). Zenodo.* https://doi.org/10.5281/zenodo.3697931\n",
    "\n",
    "### Define the model\n",
    "We define the model in the `__init__` and `forward` functions of the training plan. Note that this is quite a complex model, requiring multiple subclasses to be defined beforehand.\n",
    "\n",
    "### Define the loss function\n",
    "Loss function is computed based on the Dice Loss.\n",
    "\n",
    "_Carole H Sudre, Wenqi Li, Tom Vercauteren, Sebastien Ourselin, and M Jorge Cardoso. Generalised dice overlap as a deep learning loss function for highly unbalanced segmentations. In Deep learning in medical image analysis and multimodal learning for clinical decision support, pages 240–248. Springer, 2017._\n",
    "\n",
    "### Define data transformations\n",
    "We define the image transformations for the input images and the labels. \n",
    "\n",
    "Additionally, we define a transformation for the demographics data. Note that this is a required step to ensure that the demographics csv data is transformed into a torch Tensor usable by the training routine.\n",
    "\n",
    "### Define training step\n",
    "\n",
    "Here we take as input one batch of (data, target), train the model and compute the loss function. \n",
    "\n",
    "Note that the `MedicalFolderDataset` class returns `data` as a tuple of `(images, demographics)`, where:\n",
    "- `images` is a `dict` of `{modality: image`} (after image transformations)\n",
    "- `demographics` is a `dict` of `{column_name: values}` where the column names are taken from the demographics csv file\n",
    "while the `target` is a `dict` of `{modality: image`} (after target transformations). \n",
    "\n",
    "In our case, the modality used is `T1` for the input images, while the modality used for the target is `label`. We also ignore the values of the demographics data during training because the UNet model only takes images as input, but the code provided still shows the recommended way to handle such data. \n"
   ]
  },
  {
   "cell_type": "code",
   "execution_count": 26,
   "id": "6bcaa6eb-28e2-4260-9698-2966fdf0d977",
   "metadata": {
    "pycharm": {
     "name": "#%%\n"
    }
   },
   "outputs": [],
   "source": [
    "from fedbiomed.common.training_plans import TorchTrainingPlan\n",
    "from fedbiomed.common.logger import logger\n",
    "from fedbiomed.common.data import DataManager, MedicalFolderDataset\n",
    "import torch.nn as nn\n",
    "from torch.optim import AdamW\n",
    "\n",
    "class UNetTrainingPlan(TorchTrainingPlan):\n",
    "    \n",
    "    \n",
    "    def init_model(self, model_args):\n",
    "        model = self.Net(model_args)\n",
    "        return model \n",
    "    \n",
    "    \n",
    "    def init_optimizer(self):\n",
    "        optimizer = AdamW(self.model().parameters())\n",
    "        return optimizer\n",
    "    \n",
    "    def init_dependencies(self):\n",
    "        deps = [\n",
    "            \"from monai.transforms import (Compose, NormalizeIntensity, AddChannel, Resize, AsDiscrete)\",\n",
    "            \"import torch.nn as nn\",\n",
    "            'import torch.nn.functional as F',\n",
    "            \"from fedbiomed.common.data import MedicalFolderDataset\",\n",
    "            'import numpy as np',\n",
    "            'from torch.optim import AdamW']\n",
    "        \n",
    "        return deps\n",
    "\n",
    "    \n",
    "    class Net(nn.Module):\n",
    "        # Init of UNetTrainingPlan\n",
    "        def __init__(self, model_args: dict = {}):\n",
    "            super().__init__()\n",
    "            \n",
    "            self.CHANNELS_DIMENSION = 1\n",
    "            in_channels = model_args.get('in_channels',1)\n",
    "            out_classes = model_args.get('out_classes',2)\n",
    "            dimensions = model_args.get('dimensions',2)\n",
    "            num_encoding_blocks = model_args.get('num_encoding_blocks',5)\n",
    "            out_channels_first_layer = model_args.get('out_channels_first_layer',64)\n",
    "            normalization = model_args.get('normalization', None)\n",
    "            pooling_type = model_args.get('pooling_type', 'max')\n",
    "            upsampling_type = model_args.get('upsampling_type','conv')\n",
    "            preactivation = model_args.get('preactivation',False)\n",
    "            residual = model_args.get('residual',False)\n",
    "            padding = model_args.get('padding',0)\n",
    "            padding_mode = model_args.get('padding_mode','zeros')\n",
    "            activation = model_args.get('activation','ReLU')\n",
    "            initial_dilation = model_args.get('initial_dilation',None)\n",
    "            dropout = model_args.get('dropout',0)\n",
    "            monte_carlo_dropout = model_args.get('monte_carlo_dropout',0)\n",
    "\n",
    "            depth = num_encoding_blocks - 1\n",
    "\n",
    "            # Force padding if residual blocks\n",
    "            if residual:\n",
    "                padding = 1\n",
    "\n",
    "            # Encoder\n",
    "            self.encoder = UNetTrainingPlan.Encoder(\n",
    "                in_channels,\n",
    "                out_channels_first_layer,\n",
    "                dimensions,\n",
    "                pooling_type,\n",
    "                depth,\n",
    "                normalization,\n",
    "                preactivation=preactivation,\n",
    "                residual=residual,\n",
    "                padding=padding,\n",
    "                padding_mode=padding_mode,\n",
    "                activation=activation,\n",
    "                initial_dilation=initial_dilation,\n",
    "                dropout=dropout,\n",
    "            )\n",
    "\n",
    "            # Bottom (last encoding block)\n",
    "            in_channels = self.encoder.out_channels\n",
    "            if dimensions == 2:\n",
    "                out_channels_first = 2 * in_channels\n",
    "            else:\n",
    "                out_channels_first = in_channels\n",
    "\n",
    "            self.bottom_block = UNetTrainingPlan.EncodingBlock(\n",
    "                in_channels,\n",
    "                out_channels_first,\n",
    "                dimensions,\n",
    "                normalization,\n",
    "                pooling_type=None,\n",
    "                preactivation=preactivation,\n",
    "                residual=residual,\n",
    "                padding=padding,\n",
    "                padding_mode=padding_mode,\n",
    "                activation=activation,\n",
    "                dilation=self.encoder.dilation,\n",
    "                dropout=dropout,\n",
    "            )\n",
    "\n",
    "            # Decoder\n",
    "            if dimensions == 2:\n",
    "                power = depth - 1\n",
    "            elif dimensions == 3:\n",
    "                power = depth\n",
    "            in_channels = self.bottom_block.out_channels\n",
    "            in_channels_skip_connection = out_channels_first_layer * 2**power\n",
    "            num_decoding_blocks = depth\n",
    "            self.decoder = UNetTrainingPlan.Decoder(\n",
    "                in_channels_skip_connection,\n",
    "                dimensions,\n",
    "                upsampling_type,\n",
    "                num_decoding_blocks,\n",
    "                normalization=normalization,\n",
    "                preactivation=preactivation,\n",
    "                residual=residual,\n",
    "                padding=padding,\n",
    "                padding_mode=padding_mode,\n",
    "                activation=activation,\n",
    "                initial_dilation=self.encoder.dilation,\n",
    "                dropout=dropout,\n",
    "            )\n",
    "\n",
    "            # Monte Carlo dropout\n",
    "            self.monte_carlo_layer = None\n",
    "            if monte_carlo_dropout:\n",
    "                dropout_class = getattr(nn, 'Dropout{}d'.format(dimensions))\n",
    "                self.monte_carlo_layer = dropout_class(p=monte_carlo_dropout)\n",
    "\n",
    "            # Classifier\n",
    "            if dimensions == 2:\n",
    "                in_channels = out_channels_first_layer\n",
    "            elif dimensions == 3:\n",
    "                in_channels = 2 * out_channels_first_layer\n",
    "            self.classifier = UNetTrainingPlan.ConvolutionalBlock(\n",
    "                dimensions, in_channels, out_classes,\n",
    "                kernel_size=1, activation=None,\n",
    "            )\n",
    "            \n",
    "        def forward(self, x):\n",
    "            skip_connections, encoding = self.encoder(x)\n",
    "            encoding = self.bottom_block(encoding)\n",
    "            x = self.decoder(skip_connections, encoding)\n",
    "            if self.monte_carlo_layer is not None:\n",
    "                x = self.monte_carlo_layer(x)\n",
    "            x = self.classifier(x)\n",
    "            x = F.softmax(x, dim=self.CHANNELS_DIMENSION)\n",
    "            return x\n",
    "            \n",
    "    #### Conv ####\n",
    "    class ConvolutionalBlock(nn.Module):\n",
    "        def __init__(\n",
    "                self,\n",
    "                dimensions: int,\n",
    "                in_channels: int,\n",
    "                out_channels: int,\n",
    "                normalization = None,\n",
    "                kernel_size: int = 3,\n",
    "                activation = 'ReLU',\n",
    "                preactivation: bool = False,\n",
    "                padding: int = 0,\n",
    "                padding_mode: str = 'zeros',\n",
    "                dilation = None,\n",
    "                dropout: float = 0,\n",
    "                ):\n",
    "            super().__init__()\n",
    "\n",
    "            block = nn.ModuleList()\n",
    "\n",
    "            dilation = 1 if dilation is None else dilation\n",
    "            if padding:\n",
    "                total_padding = kernel_size + 2 * (dilation - 1) - 1\n",
    "                padding = total_padding // 2\n",
    "\n",
    "            class_name = 'Conv{}d'.format(dimensions)\n",
    "            conv_class = getattr(nn, class_name)\n",
    "            no_bias = not preactivation and (normalization is not None)\n",
    "            conv_layer = conv_class(\n",
    "                in_channels,\n",
    "                out_channels,\n",
    "                kernel_size,\n",
    "                padding=padding,\n",
    "                padding_mode=padding_mode,\n",
    "                dilation=dilation,\n",
    "                bias=not no_bias,\n",
    "            )\n",
    "\n",
    "            norm_layer = None\n",
    "            if normalization is not None:\n",
    "                class_name = '{}Norm{}d'.format(\n",
    "                    normalization.capitalize(), dimensions)\n",
    "                norm_class = getattr(nn, class_name)\n",
    "                num_features = in_channels if preactivation else out_channels\n",
    "                norm_layer = norm_class(num_features)\n",
    "\n",
    "            activation_layer = None\n",
    "            if activation is not None:\n",
    "                activation_layer = getattr(nn, activation)()\n",
    "\n",
    "            if preactivation:\n",
    "                self.add_if_not_none(block, norm_layer)\n",
    "                self.add_if_not_none(block, activation_layer)\n",
    "                self.add_if_not_none(block, conv_layer)\n",
    "            else:\n",
    "                self.add_if_not_none(block, conv_layer)\n",
    "                self.add_if_not_none(block, norm_layer)\n",
    "                self.add_if_not_none(block, activation_layer)\n",
    "\n",
    "            dropout_layer = None\n",
    "            if dropout:\n",
    "                class_name = 'Dropout{}d'.format(dimensions)\n",
    "                dropout_class = getattr(nn, class_name)\n",
    "                dropout_layer = dropout_class(p=dropout)\n",
    "                self.add_if_not_none(block, dropout_layer)\n",
    "\n",
    "            self.conv_layer = conv_layer\n",
    "            self.norm_layer = norm_layer\n",
    "            self.activation_layer = activation_layer\n",
    "            self.dropout_layer = dropout_layer\n",
    "\n",
    "            self.block = nn.Sequential(*block)\n",
    "\n",
    "        def forward(self, x):\n",
    "            return self.block(x)\n",
    "\n",
    "        @staticmethod\n",
    "        def add_if_not_none(module_list, module):\n",
    "            if module is not None:\n",
    "                module_list.append(module)\n",
    "\n",
    "    #### Decoding ####\n",
    "\n",
    "    CHANNELS_DIMENSION = 1\n",
    "    UPSAMPLING_MODES = (\n",
    "        'nearest',\n",
    "        'linear',\n",
    "        'bilinear',\n",
    "        'bicubic',\n",
    "        'trilinear',\n",
    "    )\n",
    "\n",
    "\n",
    "    class Decoder(nn.Module):\n",
    "        def __init__(\n",
    "                self,\n",
    "                in_channels_skip_connection: int,\n",
    "                dimensions: int,\n",
    "                upsampling_type: str,\n",
    "                num_decoding_blocks: int,\n",
    "                normalization,\n",
    "                preactivation: bool = False,\n",
    "                residual: bool = False,\n",
    "                padding: int = 0,\n",
    "                padding_mode: str = 'zeros',\n",
    "                activation = 'ReLU',\n",
    "                initial_dilation = None,\n",
    "                dropout: float = 0,\n",
    "                ):\n",
    "            super().__init__()\n",
    "            upsampling_type = UNetTrainingPlan.fix_upsampling_type(upsampling_type, dimensions)\n",
    "            self.decoding_blocks = nn.ModuleList()\n",
    "            self.dilation = initial_dilation\n",
    "            for _ in range(num_decoding_blocks):\n",
    "                decoding_block = UNetTrainingPlan.DecodingBlock(\n",
    "                    in_channels_skip_connection,\n",
    "                    dimensions,\n",
    "                    upsampling_type,\n",
    "                    normalization=normalization,\n",
    "                    preactivation=preactivation,\n",
    "                    residual=residual,\n",
    "                    padding=padding,\n",
    "                    padding_mode=padding_mode,\n",
    "                    activation=activation,\n",
    "                    dilation=self.dilation,\n",
    "                    dropout=dropout,\n",
    "                )\n",
    "                self.decoding_blocks.append(decoding_block)\n",
    "                in_channels_skip_connection //= 2\n",
    "                if self.dilation is not None:\n",
    "                    self.dilation //= 2\n",
    "\n",
    "        def forward(self, skip_connections, x):\n",
    "            zipped = zip(reversed(skip_connections), self.decoding_blocks)\n",
    "            for skip_connection, decoding_block in zipped:\n",
    "                x = decoding_block(skip_connection, x)\n",
    "            return x\n",
    "\n",
    "\n",
    "    class DecodingBlock(nn.Module):\n",
    "        def __init__(\n",
    "                self,\n",
    "                in_channels_skip_connection: int,\n",
    "                dimensions: int,\n",
    "                upsampling_type: str,\n",
    "                normalization,\n",
    "                preactivation: bool = True,\n",
    "                residual: bool = False,\n",
    "                padding: int = 0,\n",
    "                padding_mode: str = 'zeros',\n",
    "                activation = 'ReLU',\n",
    "                dilation = None,\n",
    "                dropout: float = 0,\n",
    "                ):\n",
    "            super().__init__()\n",
    "\n",
    "            self.residual = residual\n",
    "\n",
    "            if upsampling_type == 'conv':\n",
    "                in_channels = out_channels = 2 * in_channels_skip_connection\n",
    "                self.upsample = UNetTrainingPlan.get_conv_transpose_layer(\n",
    "                    dimensions, in_channels, out_channels)\n",
    "            else:\n",
    "                self.upsample = UNetTrainingPlan.get_upsampling_layer(upsampling_type)\n",
    "            in_channels_first = in_channels_skip_connection * (1 + 2)\n",
    "            out_channels = in_channels_skip_connection\n",
    "            self.conv1 = UNetTrainingPlan.ConvolutionalBlock(\n",
    "                dimensions,\n",
    "                in_channels_first,\n",
    "                out_channels,\n",
    "                normalization=normalization,\n",
    "                preactivation=preactivation,\n",
    "                padding=padding,\n",
    "                padding_mode=padding_mode,\n",
    "                activation=activation,\n",
    "                dilation=dilation,\n",
    "                dropout=dropout,\n",
    "            )\n",
    "            in_channels_second = out_channels\n",
    "            self.conv2 = UNetTrainingPlan.ConvolutionalBlock(\n",
    "                dimensions,\n",
    "                in_channels_second,\n",
    "                out_channels,\n",
    "                normalization=normalization,\n",
    "                preactivation=preactivation,\n",
    "                padding=padding,\n",
    "                padding_mode=padding_mode,\n",
    "                activation=activation,\n",
    "                dilation=dilation,\n",
    "                dropout=dropout,\n",
    "            )\n",
    "\n",
    "            if residual:\n",
    "                self.conv_residual = UNetTrainingPlan.ConvolutionalBlock(\n",
    "                    dimensions,\n",
    "                    in_channels_first,\n",
    "                    out_channels,\n",
    "                    kernel_size=1,\n",
    "                    normalization=None,\n",
    "                    activation=None,\n",
    "                )\n",
    "\n",
    "        def forward(self, skip_connection, x):\n",
    "            x = self.upsample(x)\n",
    "            skip_connection = self.center_crop(skip_connection, x)\n",
    "            x = torch.cat((skip_connection, x), \n",
    "                          dim=UNetTrainingPlan.CHANNELS_DIMENSION)\n",
    "            if self.residual:\n",
    "                connection = self.conv_residual(x)\n",
    "                x = self.conv1(x)\n",
    "                x = self.conv2(x)\n",
    "                x += connection\n",
    "            else:\n",
    "                x = self.conv1(x)\n",
    "                x = self.conv2(x)\n",
    "            return x\n",
    "\n",
    "        def center_crop(self, skip_connection, x):\n",
    "            skip_shape = torch.tensor(skip_connection.shape)\n",
    "            x_shape = torch.tensor(x.shape)\n",
    "            crop = skip_shape[2:] - x_shape[2:]\n",
    "            half_crop = crop // 2\n",
    "            # If skip_connection is 10, 20, 30 and x is (6, 14, 12)\n",
    "            # Then pad will be (-2, -2, -3, -3, -9, -9)\n",
    "            pad = -torch.stack((half_crop, half_crop)).t().flatten()\n",
    "            skip_connection = F.pad(skip_connection, pad.tolist())\n",
    "            return skip_connection\n",
    "    \n",
    "    #### Encoding ####\n",
    "    class Encoder(nn.Module):\n",
    "        def __init__(\n",
    "                self,\n",
    "                in_channels: int,\n",
    "                out_channels_first: int,\n",
    "                dimensions: int,\n",
    "                pooling_type: str,\n",
    "                num_encoding_blocks: int,\n",
    "                normalization,\n",
    "                preactivation: bool = False,\n",
    "                residual: bool = False,\n",
    "                padding: int = 0,\n",
    "                padding_mode: str = 'zeros',\n",
    "                activation = 'ReLU',\n",
    "                initial_dilation = None,\n",
    "                dropout: float = 0,\n",
    "                ):\n",
    "            super().__init__()\n",
    "\n",
    "            self.encoding_blocks = nn.ModuleList()\n",
    "            self.dilation = initial_dilation\n",
    "            is_first_block = True\n",
    "            for _ in range(num_encoding_blocks):\n",
    "                encoding_block = UNetTrainingPlan.EncodingBlock(\n",
    "                    in_channels,\n",
    "                    out_channels_first,\n",
    "                    dimensions,\n",
    "                    normalization,\n",
    "                    pooling_type,\n",
    "                    preactivation,\n",
    "                    is_first_block=is_first_block,\n",
    "                    residual=residual,\n",
    "                    padding=padding,\n",
    "                    padding_mode=padding_mode,\n",
    "                    activation=activation,\n",
    "                    dilation=self.dilation,\n",
    "                    dropout=dropout,\n",
    "                )\n",
    "                is_first_block = False\n",
    "                self.encoding_blocks.append(encoding_block)\n",
    "                if dimensions == 2:\n",
    "                    in_channels = out_channels_first\n",
    "                    out_channels_first = in_channels * 2\n",
    "                elif dimensions == 3:\n",
    "                    in_channels = 2 * out_channels_first\n",
    "                    out_channels_first = in_channels\n",
    "                if self.dilation is not None:\n",
    "                    self.dilation *= 2\n",
    "\n",
    "        def forward(self, x):\n",
    "            skip_connections = []\n",
    "            for encoding_block in self.encoding_blocks:\n",
    "                x, skip_connnection = encoding_block(x)\n",
    "                skip_connections.append(skip_connnection)\n",
    "            return skip_connections, x\n",
    "\n",
    "        @property\n",
    "        def out_channels(self):\n",
    "            return self.encoding_blocks[-1].out_channels\n",
    "    \n",
    "    class EncodingBlock(nn.Module):\n",
    "        def __init__(\n",
    "                self,\n",
    "                in_channels: int,\n",
    "                out_channels_first: int,\n",
    "                dimensions: int,\n",
    "                normalization,\n",
    "                pooling_type,\n",
    "                preactivation: bool = False,\n",
    "                is_first_block: bool = False,\n",
    "                residual: bool = False,\n",
    "                padding: int = 0,\n",
    "                padding_mode: str = 'zeros',\n",
    "                activation = 'ReLU',\n",
    "                dilation= None,\n",
    "                dropout: float = 0,\n",
    "                ):\n",
    "            super().__init__()\n",
    "\n",
    "            self.preactivation = preactivation\n",
    "            self.normalization = normalization\n",
    "\n",
    "            self.residual = residual\n",
    "\n",
    "            if is_first_block:\n",
    "                normalization = None\n",
    "                preactivation = None\n",
    "            else:\n",
    "                normalization = self.normalization\n",
    "                preactivation = self.preactivation\n",
    "\n",
    "            self.conv1 = UNetTrainingPlan.ConvolutionalBlock(\n",
    "                dimensions,\n",
    "                in_channels,\n",
    "                out_channels_first,\n",
    "                normalization=normalization,\n",
    "                preactivation=preactivation,\n",
    "                padding=padding,\n",
    "                padding_mode=padding_mode,\n",
    "                activation=activation,\n",
    "                dilation=dilation,\n",
    "                dropout=dropout,\n",
    "            )\n",
    "\n",
    "            if dimensions == 2:\n",
    "                out_channels_second = out_channels_first\n",
    "            elif dimensions == 3:\n",
    "                out_channels_second = 2 * out_channels_first\n",
    "            self.conv2 = UNetTrainingPlan.ConvolutionalBlock(\n",
    "                dimensions,\n",
    "                out_channels_first,\n",
    "                out_channels_second,\n",
    "                normalization=self.normalization,\n",
    "                preactivation=self.preactivation,\n",
    "                padding=padding,\n",
    "                activation=activation,\n",
    "                dilation=dilation,\n",
    "                dropout=dropout,\n",
    "            )\n",
    "\n",
    "            if residual:\n",
    "                self.conv_residual = UNetTrainingPlan.ConvolutionalBlock(\n",
    "                    dimensions,\n",
    "                    in_channels,\n",
    "                    out_channels_second,\n",
    "                    kernel_size=1,\n",
    "                    normalization=None,\n",
    "                    activation=None,\n",
    "                )\n",
    "\n",
    "            self.downsample = None\n",
    "            if pooling_type is not None:\n",
    "                self.downsample = UNetTrainingPlan.get_downsampling_layer(dimensions, pooling_type)\n",
    "\n",
    "        def forward(self, x):\n",
    "            if self.residual:\n",
    "                connection = self.conv_residual(x)\n",
    "                x = self.conv1(x)\n",
    "                x = self.conv2(x)\n",
    "                x += connection\n",
    "            else:\n",
    "                x = self.conv1(x)\n",
    "                x = self.conv2(x)\n",
    "            if self.downsample is None:\n",
    "                return x\n",
    "            else:\n",
    "                skip_connection = x\n",
    "                x = self.downsample(x)\n",
    "                return x, skip_connection\n",
    "\n",
    "        @property\n",
    "        def out_channels(self):\n",
    "            return self.conv2.conv_layer.out_channels\n",
    "    \n",
    "    @staticmethod\n",
    "    def get_upsampling_layer(upsampling_type: str) -> nn.Upsample:\n",
    "        if upsampling_type not in UNetTrainingPlan.UPSAMPLING_MODES:\n",
    "            message = (\n",
    "                'Upsampling type is \"{}\"'\n",
    "                ' but should be one of the following: {}'\n",
    "            )\n",
    "            message = message.format(upsampling_type, UPSAMPLING_MODES)\n",
    "            raise ValueError(message)\n",
    "        upsample = nn.Upsample(\n",
    "            scale_factor=2,\n",
    "            mode=upsampling_type,\n",
    "            align_corners=False,\n",
    "        )\n",
    "        return upsample\n",
    "    \n",
    "    @staticmethod\n",
    "    def get_conv_transpose_layer(dimensions, in_channels, out_channels):\n",
    "        class_name = 'ConvTranspose{}d'.format(dimensions)\n",
    "        conv_class = getattr(nn, class_name)\n",
    "        conv_layer = conv_class(in_channels, out_channels, kernel_size=2, stride=2)\n",
    "        return conv_layer\n",
    "\n",
    "    @staticmethod\n",
    "    def fix_upsampling_type(upsampling_type: str, dimensions: int):\n",
    "        if upsampling_type == 'linear':\n",
    "            if dimensions == 2:\n",
    "                upsampling_type = 'bilinear'\n",
    "            elif dimensions == 3:\n",
    "                upsampling_type = 'trilinear'\n",
    "        return upsampling_type\n",
    "    \n",
    "    @staticmethod\n",
    "    def get_downsampling_layer(\n",
    "            dimensions: int,\n",
    "            pooling_type: str,\n",
    "            kernel_size: int = 2,\n",
    "            ) -> nn.Module:\n",
    "        class_name = '{}Pool{}d'.format(pooling_type.capitalize(), dimensions)\n",
    "        class_ = getattr(nn, class_name)\n",
    "        return class_(kernel_size)\n",
    "\n",
    "    @staticmethod\n",
    "    def get_dice_loss(output, target, epsilon=1e-9):\n",
    "        CHANNELS_DIMENSION = 1\n",
    "        SPATIAL_DIMENSIONS = 2, 3, 4\n",
    "        p0 = output\n",
    "        g0 = target\n",
    "        p1 = 1 - p0\n",
    "        g1 = 1 - g0\n",
    "        tp = (p0 * g0).sum(dim=SPATIAL_DIMENSIONS)\n",
    "        fp = (p0 * g1).sum(dim=SPATIAL_DIMENSIONS)\n",
    "        fn = (p1 * g0).sum(dim=SPATIAL_DIMENSIONS)\n",
    "        num = 2 * tp\n",
    "        denom = 2 * tp + fp + fn + epsilon\n",
    "        dice_score = num / denom\n",
    "        return 1. - dice_score\n",
    "\n",
    "    @staticmethod\n",
    "    def demographics_transform(demographics: dict):\n",
    "        \"\"\"Transforms dict of demographics into data type for ML.\n",
    "\n",
    "        This function is provided for demonstration purposes, but\n",
    "        note that if you intend to use demographics data as part\n",
    "        of your model's input, you **must** provide a\n",
    "        `demographics_transform` function which at the very least\n",
    "        converts the demographics dict into a torch.Tensor.\n",
    "\n",
    "\n",
    "        Must return either a torch Tensor or something Tensor-like\n",
    "        that can be easily converted through the torch.as_tensor()\n",
    "        function.\"\"\"\n",
    "\n",
    "        if isinstance(demographics, dict) and len(demographics) == 0:\n",
    "            # when input is empty dict, we don't want to transform anything\n",
    "            return demographics\n",
    "\n",
    "        # simple example: keep only some keys\n",
    "        keys_to_keep = ['HEIGHT', 'WEIGHT']\n",
    "        out = np.array([float(val) for key, val in demographics.items() if key in keys_to_keep])\n",
    "\n",
    "        # more complex: generate dummy variables for site name\n",
    "        # not ideal as it requires knowing the site names in advance\n",
    "        # could be better implemented with some preprocess\n",
    "        site_names = ['Guys', 'IOP', 'HH']\n",
    "        len_dummy_vars = len(site_names) + 1\n",
    "        dummy_vars = np.zeros(shape=(len_dummy_vars,))\n",
    "        site_name = demographics['SITE_NAME']\n",
    "        if site_name in site_names:\n",
    "            site_idx = site_names.index(site_name)\n",
    "        else:\n",
    "            site_idx = len_dummy_vars - 1\n",
    "        dummy_vars[site_idx] = 1.\n",
    "\n",
    "        return np.concatenate((out, dummy_vars))\n",
    "\n",
    "\n",
    "    def training_data(self):\n",
    "    # The training_data creates the Dataloader to be used for training in the general class Torchnn of fedbiomed\n",
    "        common_shape = (48, 60, 48)\n",
    "        training_transform = Compose([AddChannel(), Resize(common_shape), NormalizeIntensity(),])\n",
    "        target_transform = Compose([AddChannel(), Resize(common_shape), AsDiscrete(to_onehot=2)])\n",
    "        \n",
    "        dataset = MedicalFolderDataset(\n",
    "            root=self.dataset_path,\n",
    "            data_modalities='T1',\n",
    "            target_modalities='label',\n",
    "            transform=training_transform,\n",
    "            target_transform=target_transform,\n",
    "            demographics_transform=UNetTrainingPlan.demographics_transform)\n",
    "        train_kwargs = {'shuffle': True}\n",
    "        return DataManager(dataset, **train_kwargs)\n",
    "    \n",
    "    \n",
    "    def training_step(self, data, target):\n",
    "        #this function must return the loss to backward it \n",
    "        img = data[0]['T1']\n",
    "        demographics = data[1]\n",
    "        output = self.model().forward(img)\n",
    "        loss = UNetTrainingPlan.get_dice_loss(output, target['label'])\n",
    "        avg_loss = loss.mean()\n",
    "        return avg_loss\n",
    "    \n",
    "    def testing_step(self, data, target):\n",
    "        img = data[0]['T1']\n",
    "        demographics = data[1]\n",
    "        target = target['label']\n",
    "        prediction = self.model().forward(img)\n",
    "        loss = UNetTrainingPlan.get_dice_loss(prediction, target)\n",
    "        avg_loss = loss.mean()  # average per batch\n",
    "        return avg_loss\n"
   ]
  },
  {
   "cell_type": "markdown",
   "id": "cfc1de00-c073-46d3-8098-5e07d5c19d84",
   "metadata": {
    "pycharm": {
     "name": "#%% md\n"
    }
   },
   "source": [
    "## Prepare the experiment"
   ]
  },
  {
   "cell_type": "code",
   "execution_count": 27,
   "id": "d50a593b-c0aa-4813-bb3f-7dfbe04007c0",
   "metadata": {
    "pycharm": {
     "name": "#%%\n"
    }
   },
   "outputs": [],
   "source": [
    "model_args = {\n",
    "    'in_channels': 1,\n",
    "    'out_classes': 2,\n",
    "    'dimensions': 3,\n",
    "    'num_encoding_blocks': 3,\n",
    "    'out_channels_first_layer': 8,\n",
    "    'normalization': 'batch',\n",
    "    'upsampling_type': 'linear',\n",
    "    'padding': True,\n",
    "    'activation': 'PReLU',\n",
    "}\n",
    "\n",
    "training_args = {\n",
    "    'loader_args': { 'batch_size': 16, },\n",
    "    'epochs': 2, \n",
    "    'dry_run': False,\n",
    "    'log_interval': 2,\n",
    "    'test_ratio' : 0.1,\n",
    "    'test_on_global_updates': True,\n",
    "    'test_on_local_updates': True,\n",
    "}"
   ]
  },
  {
   "cell_type": "code",
   "execution_count": null,
   "id": "16725efa-5498-4c4b-9055-559fb8c1a93d",
   "metadata": {
    "pycharm": {
     "name": "#%%\n"
    }
   },
   "outputs": [],
   "source": [
    "from fedbiomed.researcher.federated_workflows import Experiment\n",
    "from fedbiomed.researcher.aggregators.fedavg import FedAverage\n",
    "\n",
    "tags =  ['ixi-train']\n",
    "num_rounds = 3\n",
    "\n",
    "exp = Experiment(tags=tags,\n",
    "                 model_args=model_args,\n",
    "                 training_plan_class=UNetTrainingPlan,\n",
    "                 training_args=training_args,\n",
    "                 round_limit=num_rounds,\n",
    "                 aggregator=FedAverage(),\n",
    "                 tensorboard=True\n",
    "                )"
   ]
  },
  {
   "cell_type": "code",
   "execution_count": 29,
   "id": "3a122332-4939-43a4-9058-802d4615950a",
   "metadata": {
    "pycharm": {
     "name": "#%%\n"
    }
   },
   "outputs": [],
   "source": [
    "from fedbiomed.researcher.config import config\n",
    "tensorboard_dir = config.vars['TENSORBOARD_RESULTS_DIR']"
   ]
  },
  {
   "cell_type": "code",
   "execution_count": 14,
   "id": "2e3371fd-175f-408b-9de5-9b86716a7ece",
   "metadata": {
    "pycharm": {
     "name": "#%%\n"
    }
   },
   "outputs": [
    {
     "data": {
      "text/html": [
       "\n",
       "      <iframe id=\"tensorboard-frame-753ba30dd6c263dd\" width=\"100%\" height=\"800\" frameborder=\"0\">\n",
       "      </iframe>\n",
       "      <script>\n",
       "        (function() {\n",
       "          const frame = document.getElementById(\"tensorboard-frame-753ba30dd6c263dd\");\n",
       "          const url = new URL(\"/\", window.location);\n",
       "          const port = 6006;\n",
       "          if (port) {\n",
       "            url.port = port;\n",
       "          }\n",
       "          frame.src = url;\n",
       "        })();\n",
       "      </script>\n",
       "    "
      ],
      "text/plain": [
       "<IPython.core.display.HTML object>"
      ]
     },
     "metadata": {},
     "output_type": "display_data"
    }
   ],
   "source": [
    "%tensorboard --logdir \"$tensorboard_dir\""
   ]
  },
  {
   "attachments": {
    "2ae42e31-e963-4e55-9ce1-244158988168.png": {
     "image/png": "[encoded data removed]"
    }
   },
   "cell_type": "markdown",
   "id": "f2031ba1-22d0-45da-b3d1-20233eafe85d",
   "metadata": {
    "pycharm": {
     "name": "#%% md\n"
    }
   },
   "source": [
    "On a Macbook Pro from 2015 with a 2,5 GHz Quad-Core Intel Core i7 processor and 16GB of DRAM, training for 3 rounds of 2 epochs each took about 30 minutes.\n",
    "The final training curves look like this:\n",
    "\n",
    "![image.png](attachment:2ae42e31-e963-4e55-9ce1-244158988168.png)"
   ]
  },
  {
   "cell_type": "markdown",
   "id": "521b31a0-94e2-4d80-a25a-3ffb217e8e17",
   "metadata": {
    "pycharm": {
     "name": "#%% md\n"
    }
   },
   "source": [
    "## Run the experiment"
   ]
  },
  {
   "cell_type": "code",
   "execution_count": null,
   "id": "a86aca90-54f6-4267-9154-73c46da7add6",
   "metadata": {
    "pycharm": {
     "name": "#%%\n"
    },
    "tags": []
   },
   "outputs": [],
   "source": [
    "exp.run()"
   ]
  },
  {
   "cell_type": "markdown",
   "metadata": {},
   "source": [
    "Save trained model to file"
   ]
  },
  {
   "cell_type": "code",
   "execution_count": null,
   "metadata": {},
   "outputs": [],
   "source": [
    "exp.training_plan().export_model('./trained_model')"
   ]
  },
  {
   "cell_type": "markdown",
   "id": "31aafd64-552a-40d8-8e74-3da24ac41b61",
   "metadata": {
    "pycharm": {
     "name": "#%% md\n"
    }
   },
   "source": [
    "## Validate on a local holdout set\n",
    "\n",
    "To ensure consistency and simplify our life, we try to reuse the already-available code as much as possible. Note that this process assumes that the held-out data is stored locally on the machine. \n",
    "\n",
    "### Create an instance of the global model\n",
    "First, we create an instance of the model using the parameters from the latest aggregation round."
   ]
  },
  {
   "cell_type": "code",
   "execution_count": 31,
   "id": "191acb78-75cc-45ff-a9ab-bfa31f22868a",
   "metadata": {
    "pycharm": {
     "name": "#%%\n"
    }
   },
   "outputs": [],
   "source": [
    "from monai.transforms import (Compose, NormalizeIntensity, AddChannel, Resize, AsDiscrete)\n",
    "import torch.nn as nn\n",
    "from fedbiomed.common.data import MedicalFolderDataset\n",
    "import numpy as np\n",
    "from torch.optim import AdamW\n",
    "import torch\n",
    "from fedbiomed.common.constants import TrainingPlans\n",
    "import torch.nn.functional as F"
   ]
  },
  {
   "cell_type": "code",
   "execution_count": 32,
   "id": "89383694-58a2-4c61-bc25-a9b434f48ed0",
   "metadata": {
    "pycharm": {
     "name": "#%%\n"
    }
   },
   "outputs": [],
   "source": [
    "local_training_plan = UNetTrainingPlan()\n",
    "local_model = local_training_plan.init_model(model_args)"
   ]
  },
  {
   "cell_type": "code",
   "execution_count": 35,
   "id": "c5d8f127-3ca1-4d1d-86f2-95bb4badfe54",
   "metadata": {
    "pycharm": {
     "name": "#%%\n"
    }
   },
   "outputs": [],
   "source": [
    "for dependency_statement in local_training_plan.init_dependencies():\n",
    "    exec(dependency_statement)"
   ]
  },
  {
   "cell_type": "code",
   "execution_count": null,
   "id": "ff5eb090-f216-48da-a8ef-291ed1ed031f",
   "metadata": {
    "pycharm": {
     "name": "#%%\n"
    }
   },
   "outputs": [],
   "source": [
    "local_model.load_state_dict(exp.aggregated_params()[num_rounds-1]['params'])"
   ]
  },
  {
   "cell_type": "markdown",
   "id": "eed743b1-38ac-4e7d-bafe-7639fff4beb0",
   "metadata": {
    "pycharm": {
     "name": "#%% md\n"
    }
   },
   "source": [
    "### Define a validation data loader\n",
    "\n",
    "We extract the validation data loader from the training plan as well. This requires some knowledge about the internals of the `MedicalFolderDataset` class. At the end of the process, calling the `split` function with a ratio of 0 will return a data loader that loads all of the data."
   ]
  },
  {
   "cell_type": "code",
   "execution_count": 43,
   "id": "5339706f-b645-4719-a1d1-3cdf2debb80d",
   "metadata": {
    "pycharm": {
     "name": "#%%\n"
    },
    "tags": []
   },
   "outputs": [],
   "source": [
    "from torch.utils.data import DataLoader\n",
    "dataset_parameters = {\n",
    "    'tabular_file': '../data/Hospital-Centers/Guys/holdout/participants.csv',\n",
    "    'index_col': 14\n",
    "}\n",
    "local_training_plan.dataset_path = '../data/Hospital-Centers/Guys/holdout/'\n",
    "val_data_manager = local_training_plan.training_data()\n",
    "val_data_manager._dataset.set_dataset_parameters(dataset_parameters)\n",
    "val_data_loader = DataLoader(val_data_manager._dataset)"
   ]
  },
  {
   "cell_type": "markdown",
   "id": "f284da20-f0c0-48fa-95c6-fc30ef8e0af7",
   "metadata": {
    "pycharm": {
     "name": "#%% md\n"
    }
   },
   "source": [
    "### Compute the loss on validation images"
   ]
  },
  {
   "cell_type": "code",
   "execution_count": 44,
   "id": "f402a6d5-67ea-4505-83b9-239d54b579db",
   "metadata": {
    "pycharm": {
     "name": "#%%\n"
    }
   },
   "outputs": [],
   "source": [
    "losses = []\n",
    "local_model.eval()\n",
    "\n",
    "with torch.no_grad():\n",
    "    for (images, demographics), targets in val_data_loader:\n",
    "        image = images['T1']\n",
    "        target = targets['label']\n",
    "        prediction = local_model.forward(image)\n",
    "        loss = UNetTrainingPlan.get_dice_loss(prediction, target)\n",
    "        losses.append(loss)"
   ]
  },
  {
   "cell_type": "markdown",
   "id": "d8345fad-b813-4a83-997e-c17a17731a58",
   "metadata": {
    "pycharm": {
     "name": "#%% md\n"
    }
   },
   "source": [
    "### Visualize the outputs\n",
    "\n",
    "As a bonus, we visualize the outputs of our model on the holdout dataset. "
   ]
  },
  {
   "cell_type": "code",
   "execution_count": 45,
   "id": "5108cfb9-b3aa-4b66-a6f1-82cc183039f9",
   "metadata": {
    "pycharm": {
     "name": "#%%\n"
    }
   },
   "outputs": [],
   "source": [
    "one_batch = next(iter(val_data_loader))"
   ]
  },
  {
   "cell_type": "markdown",
   "id": "389f16da-25b1-4de5-a0cc-dd93526510b7",
   "metadata": {
    "pycharm": {
     "name": "#%% md\n"
    }
   },
   "source": [
    "`one_batch` contains both input features and labels. Both are 3D images, which can be accessed in the following way (`k` represents the _height_ in the stack of images):"
   ]
  },
  {
   "cell_type": "code",
   "execution_count": 46,
   "id": "aed855d9-4c23-421f-9bf3-88e4292d8919",
   "metadata": {
    "pycharm": {
     "name": "#%%\n"
    }
   },
   "outputs": [
    {
     "data": {
      "text/plain": [
       "torch.Size([1, 2, 48, 60])"
      ]
     },
     "execution_count": 46,
     "metadata": {},
     "output_type": "execute_result"
    }
   ],
   "source": [
    "k = 24\n",
    "one_batch[1]['label'][..., k].shape"
   ]
  },
  {
   "cell_type": "code",
   "execution_count": 47,
   "id": "8dd48024-0082-4760-a7da-5c7d60767d43",
   "metadata": {
    "pycharm": {
     "name": "#%%\n"
    }
   },
   "outputs": [
    {
     "data": {
      "text/plain": [
       "torch.Size([1, 1, 48, 60])"
      ]
     },
     "execution_count": 47,
     "metadata": {},
     "output_type": "execute_result"
    }
   ],
   "source": [
    "k = 24\n",
    "one_batch[0][0]['T1'][..., k].shape"
   ]
  },
  {
   "cell_type": "code",
   "execution_count": 48,
   "id": "26a3a022-2dde-4052-bc7d-35e9724209fa",
   "metadata": {
    "pycharm": {
     "name": "#%%\n"
    }
   },
   "outputs": [],
   "source": [
    "import matplotlib.pyplot as plt\n",
    "\n",
    "%config InlineBackend.figure_format = 'retina'\n",
    "plt.rcParams['figure.figsize'] = 12, 6\n",
    "import torchvision\n",
    "from IPython import display"
   ]
  },
  {
   "cell_type": "code",
   "execution_count": 49,
   "id": "0b7ef98c-3f14-4dce-94cf-e1280b6397d8",
   "metadata": {
    "pycharm": {
     "name": "#%%\n"
    }
   },
   "outputs": [
    {
     "data": {
      "image/png": "[encoded data removed]",
      "text/plain": [
       "<IPython.core.display.Image object>"
      ]
     },
     "execution_count": 49,
     "metadata": {
      "image/png": {
       "width": 300
      }
     },
     "output_type": "execute_result"
    }
   ],
   "source": [
    "k = 24\n",
    "batch_mri = one_batch[0][0]['T1'][..., k]\n",
    "batch_label = one_batch[1]['label'][:, 1:, ..., k]\n",
    "slices = torch.cat((batch_mri, batch_label))\n",
    "image_path = 'batch_whole_images.png'\n",
    "torchvision.utils.save_image(\n",
    "    slices,\n",
    "    image_path,\n",
    "    nrow=max(val_data_loader.batch_size//2,1),\n",
    "    normalize=True,\n",
    "    scale_each=True,\n",
    "    padding=4,\n",
    ")\n",
    "display.Image(image_path, width=300)"
   ]
  },
  {
   "cell_type": "code",
   "execution_count": null,
   "id": "006a9573-3085-472d-bdb6-53ef00789e90",
   "metadata": {
    "pycharm": {
     "name": "#%%\n"
    }
   },
   "outputs": [],
   "source": []
  }
 ],
 "metadata": {
  "kernelspec": {
   "display_name": "Python 3 (ipykernel)",
   "language": "python",
   "name": "python3"
  },
  "language_info": {
   "codemirror_mode": {
    "name": "ipython",
    "version": 3
   },
   "file_extension": ".py",
   "mimetype": "text/x-python",
   "name": "python",
   "nbconvert_exporter": "python",
   "pygments_lexer": "ipython3",
   "version": "3.10.11"
  }
 },
 "nbformat": 4,
 "nbformat_minor": 5
}
