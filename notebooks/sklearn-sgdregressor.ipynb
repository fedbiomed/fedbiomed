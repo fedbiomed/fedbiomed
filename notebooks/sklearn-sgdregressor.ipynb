{
 "cells": [
  {
   "cell_type": "markdown",
   "id": "64e87007",
   "metadata": {},
   "source": [
    "# Fedbiomed to train a federated SGD regressor model"
   ]
  },
  {
   "cell_type": "markdown",
   "id": "11c0bc07",
   "metadata": {},
   "source": [
    "## Data \n",
    "\n",
    "\n",
    "This tutorial shows how to deploy in Fed-BioMed to solve a federated regression problem with scikit-learn.\n",
    "\n",
    "In this tutorial we are using the wrapper of Fed-BioMed for the SGD regressor (https://scikit-learn.org/stable/modules/generated/sklearn.linear_model.SGDRegressor.html).\n",
    "The goal of the notebook is to train a model on a realistic dataset of (synthetic) medical information mimicking the ADNI dataset (http://adni.loni.usc.edu/). \n",
    "\n",
    "## Creating nodes\n",
    "\n",
    "To proceed with the tutorial, we create 3 clients with corresponding dataframes of clinical information in .csv format. Each client has 300 data points composed by several features corresponding to clinical and medical imaging informations. **The data is entirely synthetic and randomly sampled to mimick the variability of the real ADNI dataset**. The training partitions are availables at the following link:\n",
    "\n",
    "https://drive.google.com/file/d/1R39Ir60oQi8ZnmHoPz5CoGCrVIglcO9l/view?usp=sharing\n",
    "\n",
    "The federated task we aim at solve is to predict a clinical variable (the mini-mental state examination, MMSE) from a combination of demographic and imaging features. The regressors variables are the following features:\n",
    "\n",
    "['SEX', 'AGE', 'PTEDUCAT', 'WholeBrain.bl', 'Ventricles.bl', 'Hippocampus.bl', 'MidTemp.bl', 'Entorhinal.bl']\n",
    "\n",
    "and the target variable is:\n",
    "\n",
    "['MMSE.bl']\n",
    "    \n",
    "\n",
    "To create the federated dataset, we follow the standard procedure for node creation/population of Fed-BioMed. \n",
    "After activating the fedbiomed network with the commands\n",
    "\n",
    "`source ./scripts/fedbiomed_environment network`\n",
    "\n",
    "and \n",
    "\n",
    "`./scripts/fedbiomed_run network`\n",
    "\n",
    "we create a first node by using the commands\n",
    "\n",
    "`source ./scripts/fedbiomed_environment node`\n",
    "\n",
    "`./scripts/fedbiomed_run node start`\n",
    "\n",
    "We then poulate the node with the data of first client:\n",
    "\n",
    "`./scripts/fedbiomed_run node config conf.ini add`\n",
    "\n",
    "Thn, we select option 1 (csv dataset) to add the .csv partition of client 1, by just picking the .csv of client 1. We use `adni` as tag to save the selected dataset. We can further check that the data has been added by executing `./scripts/fedbiomed_run node list`\n",
    "\n",
    "Following the same procedure, we create the other two nodes with the datasets of client 2 and client 3 respectively. To do so, we add and launch a `Node`using others configuration files"
   ]
  },
  {
   "cell_type": "markdown",
   "id": "f5411d74",
   "metadata": {},
   "source": [
    "## Fed-BioMed Researcher\n",
    "\n",
    "We are now ready to start the reseracher enviroment with the command `source ./scripts/fedbiomed_environment researcher`, and open the Jupyter notebook with `./scripts/fedbiomed_run researcher`. \n",
    "\n",
    "We can first query the network for the adni dataset. In this case, the nodes are sharing the respective partitions unsing the same tag `adni`:"
   ]
  },
  {
   "cell_type": "code",
   "execution_count": 1,
   "id": "ade4cbea",
   "metadata": {},
   "outputs": [],
   "source": [
    "%load_ext autoreload\n",
    "%autoreload 2"
   ]
  },
  {
   "cell_type": "code",
   "execution_count": 1,
   "id": "fccd2a0b",
   "metadata": {},
   "outputs": [
    {
     "name": "stderr",
     "output_type": "stream",
     "text": [
      "2022-01-17 11:50:47,600 fedbiomed INFO - Component environment:\n",
      "2022-01-17 11:50:47,601 fedbiomed INFO - - type = ComponentType.RESEARCHER\n",
      "2022-01-17 11:50:47,964 fedbiomed INFO - Messaging researcher_997cf677-db35-49e8-a283-61f04921355e successfully connected to the message broker, object = <fedbiomed.common.messaging.Messaging object at 0x7ff7c845a3d0>\n",
      "2022-01-17 11:50:48,011 fedbiomed INFO - Listing available datasets in all nodes... \n",
      "2022-01-17 11:50:48,013 fedbiomed INFO - log from: node_26f70655-a3da-48c9-9909-06dc0cbf70c0 / DEBUG - Message received: {'researcher_id': 'researcher_997cf677-db35-49e8-a283-61f04921355e', 'command': 'list'}\n",
      "2022-01-17 11:50:48,014 fedbiomed INFO - log from: node_e635e3a9-0f5d-4b9c-940e-8265ed9eb0d3 / DEBUG - Message received: {'researcher_id': 'researcher_997cf677-db35-49e8-a283-61f04921355e', 'command': 'list'}\n",
      "2022-01-17 11:50:48,026 fedbiomed INFO - log from: node_75660f7f-a463-41d1-a132-2506f05d6a51 / DEBUG - Message received: {'researcher_id': 'researcher_997cf677-db35-49e8-a283-61f04921355e', 'command': 'list'}\n",
      "2022-01-17 11:50:58,031 fedbiomed INFO - \n",
      " Node: node_26f70655-a3da-48c9-9909-06dc0cbf70c0 | Number of Datasets: 1 \n",
      "+--------+-------------+----------+---------------+-----------+\n",
      "| name   | data_type   | tags     | description   | shape     |\n",
      "+========+=============+==========+===============+===========+\n",
      "| adni   | csv         | ['adni'] |               | [300, 20] |\n",
      "+--------+-------------+----------+---------------+-----------+\n",
      "\n",
      "2022-01-17 11:50:58,032 fedbiomed INFO - \n",
      " Node: node_e635e3a9-0f5d-4b9c-940e-8265ed9eb0d3 | Number of Datasets: 1 \n",
      "+--------+-------------+----------+---------------+-----------+\n",
      "| name   | data_type   | tags     | description   | shape     |\n",
      "+========+=============+==========+===============+===========+\n",
      "| adni   | csv         | ['adni'] |               | [300, 20] |\n",
      "+--------+-------------+----------+---------------+-----------+\n",
      "\n",
      "2022-01-17 11:50:58,033 fedbiomed INFO - \n",
      " Node: node_75660f7f-a463-41d1-a132-2506f05d6a51 | Number of Datasets: 1 \n",
      "+--------+-------------+----------+---------------+-----------+\n",
      "| name   | data_type   | tags     | description   | shape     |\n",
      "+========+=============+==========+===============+===========+\n",
      "| adni   | csv         | ['adni'] |               | [300, 20] |\n",
      "+--------+-------------+----------+---------------+-----------+\n",
      "\n"
     ]
    },
    {
     "data": {
      "text/plain": [
       "{'node_26f70655-a3da-48c9-9909-06dc0cbf70c0': [{'name': 'adni',\n",
       "   'data_type': 'csv',\n",
       "   'tags': ['adni'],\n",
       "   'description': '',\n",
       "   'shape': [300, 20]}],\n",
       " 'node_e635e3a9-0f5d-4b9c-940e-8265ed9eb0d3': [{'name': 'adni',\n",
       "   'data_type': 'csv',\n",
       "   'tags': ['adni'],\n",
       "   'description': '',\n",
       "   'shape': [300, 20]}],\n",
       " 'node_75660f7f-a463-41d1-a132-2506f05d6a51': [{'name': 'adni',\n",
       "   'data_type': 'csv',\n",
       "   'tags': ['adni'],\n",
       "   'description': '',\n",
       "   'shape': [300, 20]}]}"
      ]
     },
     "execution_count": 1,
     "metadata": {},
     "output_type": "execute_result"
    }
   ],
   "source": [
    "from fedbiomed.researcher.requests import Requests\n",
    "req = Requests()\n",
    "req.list(verbose=True)"
   ]
  },
  {
   "cell_type": "code",
   "execution_count": 3,
   "id": "b8c80070",
   "metadata": {},
   "outputs": [],
   "source": [
    "from fedbiomed.researcher.environ import environ\n",
    "import tempfile\n",
    "import os\n",
    "tmp_dir_model = tempfile.TemporaryDirectory(dir=environ['TMP_DIR']+os.sep)\n",
    "model_file = os.path.join(tmp_dir_model.name, 'fedbiosklearn.py')"
   ]
  },
  {
   "cell_type": "markdown",
   "id": "b924bf21",
   "metadata": {},
   "source": [
    "## Create an experiment to train a model on the data found"
   ]
  },
  {
   "cell_type": "markdown",
   "id": "8e9aaa87",
   "metadata": {},
   "source": [
    "The code for network and data loader of the sklearn SGDRegressor can now be deployed in Fed-BioMed.\n",
    "We first import the necessary module `SGDSkLearnModel` from `fedbiomed`:\n",
    "\n",
    "**__init__** : we add here the needed sklearn libraries\n",
    "       \n",
    "**training_data** : you must return here a tuple (data,targets) that must be of the same type of \n",
    "your method partial_fit parameters. \n",
    "\n",
    "We note that this model performs a common standardization across federated datasets by **centering with respect to the same parameters**."
   ]
  },
  {
   "cell_type": "code",
   "execution_count": 4,
   "id": "f10cc76c",
   "metadata": {},
   "outputs": [
    {
     "name": "stdout",
     "output_type": "stream",
     "text": [
      "Writing /home/ybouilla/fedbiomed/var/tmp/tmpw23f0e4p/fedbiosklearn.py\n"
     ]
    }
   ],
   "source": [
    "%%writefile \"$model_file\"\n",
    "\n",
    "from fedbiomed.common.fedbiosklearn import SGDSkLearnModel\n",
    "from sklearn.linear_model import SGDRegressor\n",
    "\n",
    "\n",
    "class SGDRegressorTrainingPlan(SGDSkLearnModel):\n",
    "    def __init__(self, kwargs):\n",
    "        super(SGDRegressorTrainingPlan, self).__init__(kwargs)\n",
    "        self.add_dependency([\"from sklearn.linear_model import SGDRegressor\"])\n",
    "    \n",
    "    def training_data(self):\n",
    "        dataset = pd.read_csv(self.dataset_path,delimiter=',')\n",
    "        regressors_col = ['SEX', 'AGE', 'PTEDUCAT', 'WholeBrain.bl',\n",
    "                          'Ventricles.bl', 'Hippocampus.bl', 'MidTemp.bl', 'Entorhinal.bl']\n",
    "        target_col = ['MMSE.bl']\n",
    "        \n",
    "        # mean and standard deviation for normalizing dataset\n",
    "        # it has been computed over the whole dataset\n",
    "        scaling_mean = np.array([0.8, 72.3, 16.2, 0.7, 0.0, 0.0, 0.0, 0.0])\n",
    "        scaling_sd = np.array([3.5e-01, 7.3e+00, 2.7e+00, 5.0e-02, 1.1e-02, 1.0e-03, 2.0e-03, 1.0e-03])\n",
    "        \n",
    "        X = (dataset[regressors_col].values-scaling_mean)/scaling_sd\n",
    "        y = dataset[target_col]\n",
    "        return (X,y.values.ravel())\n",
    "    "
   ]
  },
  {
   "cell_type": "markdown",
   "id": "69cda129",
   "metadata": {},
   "source": [
    "**model_args** is a dictionary containing your model arguments, in case of SGDRegressor this will be max_iter and tol. n_features is provided to correctly initialize the SGDRegressor coef_ array.\n",
    "\n",
    "**training_args** is a dictionary with parameters related to Federated Learning. "
   ]
  },
  {
   "cell_type": "code",
   "execution_count": 77,
   "id": "05aa5273",
   "metadata": {},
   "outputs": [],
   "source": [
    "RANDOM_SEED = 1234\n",
    "\n",
    "\n",
    "model_args = { 'max_iter':2000,\n",
    "              'tol': 1e-5 ,\n",
    "              'eta0':0.05,\n",
    "              'model': 'SGDRegressor' ,\n",
    "              'n_features': 8,\n",
    "             'random_state': RANDOM_SEED}\n",
    "\n",
    "training_args = {\n",
    "    'epochs': 5, \n",
    "}"
   ]
  },
  {
   "cell_type": "markdown",
   "id": "9da2b46d",
   "metadata": {},
   "source": [
    "The experiment can be now defined, by providing the `adni` tag, and running the local training on nodes with model defined in `model_path`, standard `aggregator` (FedAvg) and `client_selection_strategy` (all nodes used). Federated learning is going to be perfomed through 10 optimization rounds."
   ]
  },
  {
   "cell_type": "code",
   "execution_count": 82,
   "id": "4b1a1341",
   "metadata": {},
   "outputs": [
    {
     "name": "stderr",
     "output_type": "stream",
     "text": [
      "2022-01-17 16:23:41,464 fedbiomed INFO - Searching dataset with data tags: ['adni'] for all nodes\n",
      "2022-01-17 16:23:41,468 fedbiomed INFO - log from: node_26f70655-a3da-48c9-9909-06dc0cbf70c0 / DEBUG - Message received: {'researcher_id': 'researcher_997cf677-db35-49e8-a283-61f04921355e', 'tags': ['adni'], 'command': 'search'}\n",
      "2022-01-17 16:23:41,470 fedbiomed INFO - log from: node_75660f7f-a463-41d1-a132-2506f05d6a51 / DEBUG - Message received: {'researcher_id': 'researcher_997cf677-db35-49e8-a283-61f04921355e', 'tags': ['adni'], 'command': 'search'}\n",
      "2022-01-17 16:23:41,472 fedbiomed INFO - log from: node_e635e3a9-0f5d-4b9c-940e-8265ed9eb0d3 / DEBUG - Message received: {'researcher_id': 'researcher_997cf677-db35-49e8-a283-61f04921355e', 'tags': ['adni'], 'command': 'search'}\n",
      "2022-01-17 16:23:51,486 fedbiomed INFO - Node selected for training -> node_e635e3a9-0f5d-4b9c-940e-8265ed9eb0d3\n",
      "2022-01-17 16:23:51,488 fedbiomed INFO - Node selected for training -> node_75660f7f-a463-41d1-a132-2506f05d6a51\n",
      "2022-01-17 16:23:51,489 fedbiomed INFO - Node selected for training -> node_26f70655-a3da-48c9-9909-06dc0cbf70c0\n",
      "2022-01-17 16:23:51,494 fedbiomed INFO - Checking data quality of federated datasets...\n"
     ]
    }
   ],
   "source": [
    "from fedbiomed.researcher.experiment import Experiment\n",
    "from fedbiomed.researcher.aggregators.fedavg import FedAverage\n",
    "\n",
    "tags =  ['adni']\n",
    "rounds = 40\n",
    "\n",
    "# select nodes participing to this experiment\n",
    "exp = Experiment(tags=tags,\n",
    "                 #nodes=None,\n",
    "                 model_path=model_file,\n",
    "                 model_args=model_args,\n",
    "                 model_class='SGDRegressorTrainingPlan',\n",
    "                 training_args=training_args,\n",
    "                 rounds=rounds,\n",
    "                 aggregator=FedAverage(),\n",
    "                 node_selection_strategy=None)"
   ]
  },
  {
   "cell_type": "code",
   "execution_count": null,
   "id": "d6ff55da",
   "metadata": {},
   "outputs": [],
   "source": [
    "# start federated training\n",
    "exp.run()"
   ]
  },
  {
   "cell_type": "markdown",
   "id": "88e2a782",
   "metadata": {},
   "source": [
    "##  Testing\n",
    "\n",
    "Once the federated model is obtained, it is possible to test it locally on an independent testing partition.\n",
    "The test dataset is available at this link:\n",
    "\n",
    "https://drive.google.com/file/d/1zNUGp6TMn6WSKYVC8FQiQ9lJAUdasxk1/"
   ]
  },
  {
   "cell_type": "code",
   "execution_count": 8,
   "id": "b5335f2d",
   "metadata": {},
   "outputs": [
    {
     "name": "stdout",
     "output_type": "stream",
     "text": [
      "Requirement already satisfied: matplotlib in /Users/mlorenzi/miniconda3/envs/fedbiomed-researcher/lib/python3.9/site-packages (3.5.1)\n",
      "Requirement already satisfied: python-dateutil>=2.7 in /Users/mlorenzi/miniconda3/envs/fedbiomed-researcher/lib/python3.9/site-packages (from matplotlib) (2.8.2)\n",
      "Requirement already satisfied: pyparsing>=2.2.1 in /Users/mlorenzi/miniconda3/envs/fedbiomed-researcher/lib/python3.9/site-packages (from matplotlib) (3.0.6)\n",
      "Requirement already satisfied: numpy>=1.17 in /Users/mlorenzi/miniconda3/envs/fedbiomed-researcher/lib/python3.9/site-packages (from matplotlib) (1.22.0)\n",
      "Requirement already satisfied: fonttools>=4.22.0 in /Users/mlorenzi/miniconda3/envs/fedbiomed-researcher/lib/python3.9/site-packages (from matplotlib) (4.28.5)\n",
      "Requirement already satisfied: packaging>=20.0 in /Users/mlorenzi/miniconda3/envs/fedbiomed-researcher/lib/python3.9/site-packages (from matplotlib) (21.3)\n",
      "Requirement already satisfied: kiwisolver>=1.0.1 in /Users/mlorenzi/miniconda3/envs/fedbiomed-researcher/lib/python3.9/site-packages (from matplotlib) (1.3.2)\n",
      "Requirement already satisfied: pillow>=6.2.0 in /Users/mlorenzi/miniconda3/envs/fedbiomed-researcher/lib/python3.9/site-packages (from matplotlib) (9.0.0)\n",
      "Requirement already satisfied: cycler>=0.10 in /Users/mlorenzi/miniconda3/envs/fedbiomed-researcher/lib/python3.9/site-packages (from matplotlib) (0.11.0)\n",
      "Requirement already satisfied: six>=1.5 in /Users/mlorenzi/miniconda3/envs/fedbiomed-researcher/lib/python3.9/site-packages (from python-dateutil>=2.7->matplotlib) (1.16.0)\n",
      "Requirement already satisfied: gdown in /Users/mlorenzi/miniconda3/envs/fedbiomed-researcher/lib/python3.9/site-packages (4.2.0)\n",
      "Requirement already satisfied: filelock in /Users/mlorenzi/miniconda3/envs/fedbiomed-researcher/lib/python3.9/site-packages (from gdown) (3.4.2)\n",
      "Requirement already satisfied: six in /Users/mlorenzi/miniconda3/envs/fedbiomed-researcher/lib/python3.9/site-packages (from gdown) (1.16.0)\n",
      "Requirement already satisfied: requests[socks] in /Users/mlorenzi/miniconda3/envs/fedbiomed-researcher/lib/python3.9/site-packages (from gdown) (2.27.1)\n",
      "Requirement already satisfied: beautifulsoup4 in /Users/mlorenzi/miniconda3/envs/fedbiomed-researcher/lib/python3.9/site-packages (from gdown) (4.10.0)\n",
      "Requirement already satisfied: tqdm in /Users/mlorenzi/miniconda3/envs/fedbiomed-researcher/lib/python3.9/site-packages (from gdown) (4.62.3)\n",
      "Requirement already satisfied: soupsieve>1.2 in /Users/mlorenzi/miniconda3/envs/fedbiomed-researcher/lib/python3.9/site-packages (from beautifulsoup4->gdown) (2.3.1)\n",
      "Requirement already satisfied: idna<4,>=2.5 in /Users/mlorenzi/miniconda3/envs/fedbiomed-researcher/lib/python3.9/site-packages (from requests[socks]->gdown) (3.1)\n",
      "Requirement already satisfied: certifi>=2017.4.17 in /Users/mlorenzi/miniconda3/envs/fedbiomed-researcher/lib/python3.9/site-packages (from requests[socks]->gdown) (2021.10.8)\n",
      "Requirement already satisfied: charset-normalizer~=2.0.0 in /Users/mlorenzi/miniconda3/envs/fedbiomed-researcher/lib/python3.9/site-packages (from requests[socks]->gdown) (2.0.9)\n",
      "Requirement already satisfied: urllib3<1.27,>=1.21.1 in /Users/mlorenzi/miniconda3/envs/fedbiomed-researcher/lib/python3.9/site-packages (from requests[socks]->gdown) (1.26.7)\n",
      "Requirement already satisfied: PySocks!=1.5.7,>=1.5.6 in /Users/mlorenzi/miniconda3/envs/fedbiomed-researcher/lib/python3.9/site-packages (from requests[socks]->gdown) (1.7.1)\n"
     ]
    }
   ],
   "source": [
    "!pip install matplotlib\n",
    "!pip install gdown"
   ]
  },
  {
   "cell_type": "markdown",
   "id": "3bc6d9b2",
   "metadata": {},
   "source": [
    "Download the testing dataset on the local temporary folder."
   ]
  },
  {
   "cell_type": "code",
   "execution_count": 8,
   "id": "8500a4f0",
   "metadata": {},
   "outputs": [
    {
     "name": "stderr",
     "output_type": "stream",
     "text": [
      "Downloading...\n",
      "From: https://drive.google.com/uc?id=19kxuI146WA2fhcOU2_AvF8dy-ppJkzW7\n",
      "To: /home/ybouilla/fedbiomed/var/tmp/tmpw23f0e4p/test_data.zip\n",
      "100%|██████████████████████████████████████| 12.4k/12.4k [00:00<00:00, 17.0MB/s]\n"
     ]
    }
   ],
   "source": [
    "import os\n",
    "import gdown\n",
    "import zipfile\n",
    "\n",
    "resource = \"https://drive.google.com/uc?id=19kxuI146WA2fhcOU2_AvF8dy-ppJkzW7\"\n",
    "base_dir = tmp_dir_model.name \n",
    "\n",
    "test_file = os.path.join(base_dir, \"test_data.zip\")\n",
    "gdown.download(resource, test_file, quiet=False)\n",
    "\n",
    "zf = zipfile.ZipFile(test_file)\n",
    "\n",
    "for file in zf.infolist():\n",
    "    zf.extract(file, base_dir)\n"
   ]
  },
  {
   "cell_type": "code",
   "execution_count": 71,
   "id": "35bdc3a2",
   "metadata": {},
   "outputs": [],
   "source": [
    "import pandas as pd\n",
    "import numpy as np\n",
    "\n",
    "\n",
    "# loading testing dataset\n",
    "test_data = pd.read_csv(os.path.join(base_dir,'adni_validation.csv'))"
   ]
  },
  {
   "cell_type": "code",
   "execution_count": 72,
   "id": "91f579d5",
   "metadata": {},
   "outputs": [],
   "source": [
    "from sklearn.linear_model import SGDRegressor\n",
    "import matplotlib.pyplot as plt"
   ]
  },
  {
   "cell_type": "code",
   "execution_count": 73,
   "id": "d73be6dd",
   "metadata": {},
   "outputs": [],
   "source": [
    "%matplotlib inline"
   ]
  },
  {
   "cell_type": "markdown",
   "id": "7fb078c6",
   "metadata": {},
   "source": [
    "Here we extract the relevant regressors and target from the testing data "
   ]
  },
  {
   "cell_type": "code",
   "execution_count": 84,
   "id": "05ca90a2",
   "metadata": {},
   "outputs": [],
   "source": [
    "regressors_col = ['SEX', 'AGE', 'PTEDUCAT', 'WholeBrain.bl', 'Ventricles.bl',\n",
    "                  'Hippocampus.bl', 'MidTemp.bl', 'Entorhinal.bl']\n",
    "target_col = ['MMSE.bl']\n",
    "X_test = test_data[regressors_col].values\n",
    "y_test = test_data[target_col].values"
   ]
  },
  {
   "cell_type": "markdown",
   "id": "63e6d380",
   "metadata": {},
   "source": [
    "To inspect the model evolution across FL rounds, we export `exp.aggregated_params` containing models parameters collected at the end of each round. The MSE (Mean Squarred Error) should be decreasing at each iteration with the federated parameters obtained at each round. "
   ]
  },
  {
   "cell_type": "code",
   "execution_count": 85,
   "id": "6edb32ed",
   "metadata": {},
   "outputs": [
    {
     "data": {
      "text/plain": [
       "Text(0, 0.5, 'testing loss (MSE)')"
      ]
     },
     "execution_count": 85,
     "metadata": {},
     "output_type": "execute_result"
    },
    {
     "data": {
      "image/png": "[encoded data removed]",
      "text/plain": [
       "<Figure size 432x288 with 1 Axes>"
      ]
     },
     "metadata": {
      "needs_background": "light"
     },
     "output_type": "display_data"
    }
   ],
   "source": [
    "scaling_mean = np.array([0.8, 72.3, 16.2, 0.7, 0.0, 0.0, 0.0, 0.0])\n",
    "scaling_sd = np.array([3.5e-01, 7.3e+00, 2.7e+00, 5.0e-02, 1.1e-02, 1.0e-03, 2.0e-03, 1.0e-03])\n",
    "\n",
    "testing_error = []\n",
    "\n",
    "\n",
    "# we create here several instances of SGDRegressor using same sklearn arguments\n",
    "# we have used for Federated Learning training\n",
    "fed_model = SGDRegressor()\n",
    "regressor_args = {key: model_args[key] for key in model_args.keys() if key in fed_model.get_params().keys()}\n",
    "\n",
    "for i in range(rounds):\n",
    "    fed_model = SGDRegressor()\n",
    "    fed_model.set_params(**regressor_args)\n",
    "    fed_model.coef_ = exp.aggregated_params[i]['params']['coef_'].copy()\n",
    "    fed_model.intercept_ = exp.aggregated_params[i]['params']['intercept_'].copy()  \n",
    "    mse = np.mean((fed_model.predict((X_test-scaling_mean)/scaling_sd) - y_test)**2)\n",
    "    testing_error.append(mse)\n",
    "\n",
    "plt.plot(testing_error)\n",
    "plt.title('FL testing loss')\n",
    "plt.xlabel('FL round')\n",
    "plt.ylabel('testing loss (MSE)')"
   ]
  },
  {
   "cell_type": "markdown",
   "id": "60406da1",
   "metadata": {},
   "source": [
    "We finally inspect the predictions of the final federated model on the testing data."
   ]
  },
  {
   "cell_type": "code",
   "execution_count": 88,
   "id": "3191befa",
   "metadata": {},
   "outputs": [
    {
     "data": {
      "text/plain": [
       "<matplotlib.legend.Legend at 0x7ff6f1897d00>"
      ]
     },
     "execution_count": 88,
     "metadata": {},
     "output_type": "execute_result"
    },
    {
     "data": {
      "image/png": "[encoded data removed]",
      "text/plain": [
       "<Figure size 432x288 with 1 Axes>"
      ]
     },
     "metadata": {
      "needs_background": "light"
     },
     "output_type": "display_data"
    }
   ],
   "source": [
    "y_predicted = fed_model.predict((X_test-scaling_mean)/scaling_sd)\n",
    "plt.scatter(y_predicted, y_test, label='model prediction')\n",
    "plt.xlabel('predicted')\n",
    "plt.ylabel('target')\n",
    "plt.title('Federated model testing prediction')\n",
    "\n",
    "first_diag = np.arange(np.min(y_test.flatten()),\n",
    "                       np.max(y_test.flatten()+1))\n",
    "plt.scatter(first_diag, first_diag, label='correct Target')\n",
    "plt.legend()"
   ]
  },
  {
   "cell_type": "code",
   "execution_count": 92,
   "id": "1e398dcc",
   "metadata": {},
   "outputs": [
    {
     "data": {
      "text/plain": [
       "(100, 8)"
      ]
     },
     "execution_count": 92,
     "metadata": {},
     "output_type": "execute_result"
    }
   ],
   "source": [
    "a = X_test / scaling_sd\n",
    "a.shape"
   ]
  },
  {
   "cell_type": "code",
   "execution_count": 93,
   "id": "eb7af803",
   "metadata": {},
   "outputs": [
    {
     "data": {
      "text/plain": [
       "(100, 8)"
      ]
     },
     "execution_count": 93,
     "metadata": {},
     "output_type": "execute_result"
    }
   ],
   "source": [
    "X_test.shape"
   ]
  },
  {
   "cell_type": "code",
   "execution_count": 98,
   "id": "3b2b38c1",
   "metadata": {},
   "outputs": [
    {
     "data": {
      "text/plain": [
       "array([0., 0., 0., 0., 0., 0., 0., 0., 0., 0., 0., 0., 0., 0., 0., 0., 0.,\n",
       "       0., 0., 0., 0., 0., 0., 0., 0., 0., 0., 0., 0., 0., 0., 0., 0., 0.,\n",
       "       0., 0., 0., 0., 0., 0., 0., 0., 0., 0., 0., 0., 0., 0., 0., 0., 0.,\n",
       "       0., 0., 0., 0., 0., 0., 0., 0., 0., 0., 0., 0., 0., 0., 0., 0., 0.,\n",
       "       0., 0., 0., 0., 0., 0., 0., 0., 0., 0., 0., 0., 0., 0., 0., 0., 0.,\n",
       "       0., 0., 0., 0., 0., 0., 0., 0., 0., 0., 0., 0., 0., 0., 0.])"
      ]
     },
     "execution_count": 98,
     "metadata": {},
     "output_type": "execute_result"
    }
   ],
   "source": [
    "X_test[:,1] / scaling_sd[1] - a[:,1]"
   ]
  },
  {
   "cell_type": "code",
   "execution_count": null,
   "id": "02f2635c",
   "metadata": {},
   "outputs": [],
   "source": []
  }
 ],
 "metadata": {
  "kernelspec": {
   "display_name": "Python 3 (ipykernel)",
   "language": "python",
   "name": "python3"
  },
  "language_info": {
   "codemirror_mode": {
    "name": "ipython",
    "version": 3
   },
   "file_extension": ".py",
   "mimetype": "text/x-python",
   "name": "python",
   "nbconvert_exporter": "python",
   "pygments_lexer": "ipython3",
   "version": "3.9.7"
  }
 },
 "nbformat": 4,
 "nbformat_minor": 5
}
