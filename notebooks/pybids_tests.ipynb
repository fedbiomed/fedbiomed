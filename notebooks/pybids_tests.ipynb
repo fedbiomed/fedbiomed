{
 "cells": [
  {
   "cell_type": "markdown",
   "metadata": {},
   "source": [
    "# TEST PYBIDS LIBRARY\n",
    "\n",
    "Examples are taken from: https://bids-standard.github.io/pybids/examples/index.html."
   ]
  },
  {
   "cell_type": "code",
   "execution_count": 1,
   "metadata": {},
   "outputs": [],
   "source": [
    "from bids import BIDSLayout\n",
    "from bids.tests import get_test_data_path\n",
    "import os"
   ]
  },
  {
   "cell_type": "markdown",
   "metadata": {},
   "source": [
    "## 1 - Existing BIDS dataset provided by PYBIDS"
   ]
  },
  {
   "cell_type": "markdown",
   "metadata": {},
   "source": [
    "### 1.1 - Load the BIDS dataset\n",
    "\n",
    "Does not work."
   ]
  },
  {
   "cell_type": "code",
   "execution_count": 2,
   "metadata": {},
   "outputs": [
    {
     "ename": "ValueError",
     "evalue": "BIDS root does not exist: /user/lchambon/home/miniconda3/envs/fedbiomed-dev/lib/python3.10/tests/data/synthetic",
     "output_type": "error",
     "traceback": [
      "\u001b[0;31m---------------------------------------------------------------------------\u001b[0m",
      "\u001b[0;31mValueError\u001b[0m                                Traceback (most recent call last)",
      "Cell \u001b[0;32mIn[2], line 1\u001b[0m\n\u001b[0;32m----> 1\u001b[0m layout \u001b[38;5;241m=\u001b[39m \u001b[43mBIDSLayout\u001b[49m\u001b[43m(\u001b[49m\u001b[43mos\u001b[49m\u001b[38;5;241;43m.\u001b[39;49m\u001b[43mpath\u001b[49m\u001b[38;5;241;43m.\u001b[39;49m\u001b[43mjoin\u001b[49m\u001b[43m(\u001b[49m\u001b[43mget_test_data_path\u001b[49m\u001b[43m(\u001b[49m\u001b[43m)\u001b[49m\u001b[43m,\u001b[49m\u001b[43m \u001b[49m\u001b[38;5;124;43m'\u001b[39;49m\u001b[38;5;124;43msynthetic\u001b[39;49m\u001b[38;5;124;43m'\u001b[39;49m\u001b[43m)\u001b[49m\u001b[43m)\u001b[49m\n",
      "File \u001b[0;32m~/miniconda3/envs/fedbiomed-dev/lib/python3.10/site-packages/bids/layout/layout.py:135\u001b[0m, in \u001b[0;36mBIDSLayout.__init__\u001b[0;34m(self, root, validate, absolute_paths, derivatives, config, sources, regex_search, database_path, reset_database, indexer, is_derivative, **indexer_kwargs)\u001b[0m\n\u001b[1;32m    132\u001b[0m     config \u001b[38;5;241m=\u001b[39m info\u001b[38;5;241m.\u001b[39mconfig\n\u001b[1;32m    134\u001b[0m \u001b[38;5;66;03m# Validate that a valid BIDS project exists at root\u001b[39;00m\n\u001b[0;32m--> 135\u001b[0m root, description \u001b[38;5;241m=\u001b[39m \u001b[43mvalidate_root\u001b[49m\u001b[43m(\u001b[49m\u001b[43mroot\u001b[49m\u001b[43m,\u001b[49m\u001b[43m \u001b[49m\u001b[43mvalidate\u001b[49m\u001b[43m)\u001b[49m\n\u001b[1;32m    136\u001b[0m \u001b[38;5;28;01mif\u001b[39;00m \u001b[38;5;28many\u001b[39m([\n\u001b[1;32m    137\u001b[0m     is_derivative,\n\u001b[1;32m    138\u001b[0m     description \u001b[38;5;129;01mand\u001b[39;00m description\u001b[38;5;241m.\u001b[39mget(\u001b[38;5;124m\"\u001b[39m\u001b[38;5;124mDatasetType\u001b[39m\u001b[38;5;124m\"\u001b[39m) \u001b[38;5;241m==\u001b[39m \u001b[38;5;124m\"\u001b[39m\u001b[38;5;124mderivative\u001b[39m\u001b[38;5;124m\"\u001b[39m\n\u001b[1;32m    139\u001b[0m ]):\n\u001b[1;32m    140\u001b[0m     \u001b[38;5;28;01mtry\u001b[39;00m:\n",
      "File \u001b[0;32m~/miniconda3/envs/fedbiomed-dev/lib/python3.10/site-packages/bids/layout/validation.py:72\u001b[0m, in \u001b[0;36mvalidate_root\u001b[0;34m(root, validate)\u001b[0m\n\u001b[1;32m     70\u001b[0m root \u001b[38;5;241m=\u001b[39m root\u001b[38;5;241m.\u001b[39mabsolute()\n\u001b[1;32m     71\u001b[0m \u001b[38;5;28;01mif\u001b[39;00m \u001b[38;5;129;01mnot\u001b[39;00m root\u001b[38;5;241m.\u001b[39mexists():\n\u001b[0;32m---> 72\u001b[0m     \u001b[38;5;28;01mraise\u001b[39;00m \u001b[38;5;167;01mValueError\u001b[39;00m(\u001b[38;5;124m\"\u001b[39m\u001b[38;5;124mBIDS root does not exist: \u001b[39m\u001b[38;5;132;01m%s\u001b[39;00m\u001b[38;5;124m\"\u001b[39m \u001b[38;5;241m%\u001b[39m root)\n\u001b[1;32m     74\u001b[0m target \u001b[38;5;241m=\u001b[39m root \u001b[38;5;241m/\u001b[39m \u001b[38;5;124m'\u001b[39m\u001b[38;5;124mdataset_description.json\u001b[39m\u001b[38;5;124m'\u001b[39m\n\u001b[1;32m     75\u001b[0m \u001b[38;5;28;01mif\u001b[39;00m \u001b[38;5;129;01mnot\u001b[39;00m target\u001b[38;5;241m.\u001b[39mexists():\n",
      "\u001b[0;31mValueError\u001b[0m: BIDS root does not exist: /user/lchambon/home/miniconda3/envs/fedbiomed-dev/lib/python3.10/tests/data/synthetic"
     ]
    }
   ],
   "source": [
    "layout = BIDSLayout(os.path.join(get_test_data_path(), 'synthetic'))"
   ]
  },
  {
   "cell_type": "markdown",
   "metadata": {},
   "source": [
    "I cannot load the BIDS dataset as they suggested it... See the error above.\n",
    "\n",
    "I also tried installing pybids with:\n",
    "- pip install pybids[test]\n",
    "- pip install git+https://github.com/bids-standard/pybids.git\n",
    "\n",
    "but it did not change anything."
   ]
  },
  {
   "cell_type": "markdown",
   "metadata": {},
   "source": [
    "## 2 - Dataset ds0006 original\n",
    "\n",
    "Dowloaded from https://github.com/bids-standard/bids-examples"
   ]
  },
  {
   "cell_type": "markdown",
   "metadata": {},
   "source": [
    "### 2.1 - Load the BIDS dataset"
   ]
  },
  {
   "cell_type": "code",
   "execution_count": 3,
   "metadata": {},
   "outputs": [],
   "source": [
    "path_ds006_original = os.path.join('./data/BIDS/ds006')\n",
    "layout_ds006_original = BIDSLayout(path_ds006_original)"
   ]
  },
  {
   "cell_type": "markdown",
   "metadata": {},
   "source": [
    "Print some information about the dataset"
   ]
  },
  {
   "cell_type": "code",
   "execution_count": 4,
   "metadata": {},
   "outputs": [
    {
     "data": {
      "text/plain": [
       "BIDS Layout: ...-dev/notebooks/data/BIDS/ds006 | Subjects: 14 | Sessions: 28 | Runs: 84"
      ]
     },
     "execution_count": 4,
     "metadata": {},
     "output_type": "execute_result"
    }
   ],
   "source": [
    "layout_ds006_original"
   ]
  },
  {
   "cell_type": "markdown",
   "metadata": {},
   "source": [
    "### 2.2 - Read information about a BIDS dataset into a layout-object"
   ]
  },
  {
   "cell_type": "markdown",
   "metadata": {},
   "source": [
    "Get all files in the layout with the get() method. By default, this returns a list with BIDSFile objects."
   ]
  },
  {
   "cell_type": "code",
   "execution_count": 5,
   "metadata": {},
   "outputs": [
    {
     "name": "stdout",
     "output_type": "stream",
     "text": [
      "There are 390 files in the layout.\n",
      "\n",
      "The first 10 files are:\n"
     ]
    },
    {
     "data": {
      "text/plain": [
       "[<BIDSFile filename='/home/lchambon/dev/fedbiomed-dev/notebooks/data/BIDS/ds006/CHANGES'>,\n",
       " <BIDSJSONFile filename='/home/lchambon/dev/fedbiomed-dev/notebooks/data/BIDS/ds006/dataset_description.json'>,\n",
       " <BIDSJSONFile filename='/home/lchambon/dev/fedbiomed-dev/notebooks/data/BIDS/ds006/participants.json'>,\n",
       " <BIDSDataFile filename='/home/lchambon/dev/fedbiomed-dev/notebooks/data/BIDS/ds006/participants.tsv'>,\n",
       " <BIDSFile filename='/home/lchambon/dev/fedbiomed-dev/notebooks/data/BIDS/ds006/README'>,\n",
       " <BIDSImageFile filename='/home/lchambon/dev/fedbiomed-dev/notebooks/data/BIDS/ds006/sub-01/ses-post/anat/sub-01_ses-post_inplaneT2.nii.gz'>,\n",
       " <BIDSImageFile filename='/home/lchambon/dev/fedbiomed-dev/notebooks/data/BIDS/ds006/sub-01/ses-post/anat/sub-01_ses-post_T1w.nii.gz'>,\n",
       " <BIDSImageFile filename='/home/lchambon/dev/fedbiomed-dev/notebooks/data/BIDS/ds006/sub-01/ses-post/func/sub-01_ses-post_task-livingnonlivingdecisionwithplainormirrorreversedtext_run-01_bold.nii.gz'>,\n",
       " <BIDSDataFile filename='/home/lchambon/dev/fedbiomed-dev/notebooks/data/BIDS/ds006/sub-01/ses-post/func/sub-01_ses-post_task-livingnonlivingdecisionwithplainormirrorreversedtext_run-01_events.tsv'>,\n",
       " <BIDSImageFile filename='/home/lchambon/dev/fedbiomed-dev/notebooks/data/BIDS/ds006/sub-01/ses-post/func/sub-01_ses-post_task-livingnonlivingdecisionwithplainormirrorreversedtext_run-02_bold.nii.gz'>]"
      ]
     },
     "execution_count": 5,
     "metadata": {},
     "output_type": "execute_result"
    }
   ],
   "source": [
    "all_files = layout_ds006_original.get()\n",
    "print(\"There are {} files in the layout.\".format(len(all_files)))\n",
    "print(\"\\nThe first 10 files are:\")\n",
    "all_files[:10]"
   ]
  },
  {
   "cell_type": "markdown",
   "metadata": {},
   "source": [
    "We can also return file names with the get method."
   ]
  },
  {
   "cell_type": "code",
   "execution_count": 7,
   "metadata": {},
   "outputs": [
    {
     "data": {
      "text/plain": [
       "['/user/lchambon/home/dev/fedbiomed-dev/notebooks/data/BIDS/ds006/CHANGES',\n",
       " '/user/lchambon/home/dev/fedbiomed-dev/notebooks/data/BIDS/ds006/dataset_description.json',\n",
       " '/user/lchambon/home/dev/fedbiomed-dev/notebooks/data/BIDS/ds006/participants.json',\n",
       " '/user/lchambon/home/dev/fedbiomed-dev/notebooks/data/BIDS/ds006/participants.tsv',\n",
       " '/user/lchambon/home/dev/fedbiomed-dev/notebooks/data/BIDS/ds006/README',\n",
       " '/user/lchambon/home/dev/fedbiomed-dev/notebooks/data/BIDS/ds006/sub-01/ses-post/anat/sub-01_ses-post_inplaneT2.nii.gz',\n",
       " '/user/lchambon/home/dev/fedbiomed-dev/notebooks/data/BIDS/ds006/sub-01/ses-post/anat/sub-01_ses-post_T1w.nii.gz',\n",
       " '/user/lchambon/home/dev/fedbiomed-dev/notebooks/data/BIDS/ds006/sub-01/ses-post/func/sub-01_ses-post_task-livingnonlivingdecisionwithplainormirrorreversedtext_run-01_bold.nii.gz',\n",
       " '/user/lchambon/home/dev/fedbiomed-dev/notebooks/data/BIDS/ds006/sub-01/ses-post/func/sub-01_ses-post_task-livingnonlivingdecisionwithplainormirrorreversedtext_run-01_events.tsv',\n",
       " '/user/lchambon/home/dev/fedbiomed-dev/notebooks/data/BIDS/ds006/sub-01/ses-post/func/sub-01_ses-post_task-livingnonlivingdecisionwithplainormirrorreversedtext_run-02_bold.nii.gz']"
      ]
     },
     "execution_count": 7,
     "metadata": {},
     "output_type": "execute_result"
    }
   ],
   "source": [
    "layout_ds006_original.get(return_type='filename')[:10]"
   ]
  },
  {
   "cell_type": "markdown",
   "metadata": {},
   "source": [
    "We can retrieve all entities from all layouts in the scope"
   ]
  },
  {
   "cell_type": "code",
   "execution_count": null,
   "metadata": {},
   "outputs": [
    {
     "data": {
      "text/plain": [
       "{'subject': <Entity subject (pattern=[/\\\\]+sub-([a-zA-Z0-9+]+), dtype=<class 'str'>)>,\n",
       " 'session': <Entity session (pattern=[_/\\\\]+ses-([a-zA-Z0-9+]+), dtype=<class 'str'>)>,\n",
       " 'sample': <Entity sample (pattern=[_/\\\\]+sample-([a-zA-Z0-9+]+), dtype=<class 'str'>)>,\n",
       " 'task': <Entity task (pattern=[_/\\\\]+task-([a-zA-Z0-9+]+), dtype=<class 'str'>)>,\n",
       " 'tracksys': <Entity tracksys (pattern=[_/\\\\]+tracksys-([a-zA-Z0-9+]+), dtype=<class 'str'>)>,\n",
       " 'acquisition': <Entity acquisition (pattern=[_/\\\\]+acq-([a-zA-Z0-9+]+), dtype=<class 'str'>)>,\n",
       " 'nucleus': <Entity nucleus (pattern=[_/\\\\]+nuc-([a-zA-Z0-9+]+), dtype=<class 'str'>)>,\n",
       " 'volume': <Entity volume (pattern=[_/\\\\]+voi-([a-zA-Z0-9+]+), dtype=<class 'str'>)>,\n",
       " 'ceagent': <Entity ceagent (pattern=[_/\\\\]+ce-([a-zA-Z0-9+]+), dtype=<class 'str'>)>,\n",
       " 'staining': <Entity staining (pattern=[_/\\\\]+stain-([a-zA-Z0-9+]+), dtype=<class 'str'>)>,\n",
       " 'tracer': <Entity tracer (pattern=[_/\\\\]+trc-([a-zA-Z0-9+]+), dtype=<class 'str'>)>,\n",
       " 'reconstruction': <Entity reconstruction (pattern=[_/\\\\]+rec-([a-zA-Z0-9+]+), dtype=<class 'str'>)>,\n",
       " 'direction': <Entity direction (pattern=[_/\\\\]+dir-([a-zA-Z0-9+]+), dtype=<class 'str'>)>,\n",
       " 'run': <Entity run (pattern=[_/\\\\]+run-(\\d+), dtype=<class 'bids.layout.utils.PaddedInt'>)>,\n",
       " 'proc': <Entity proc (pattern=[_/\\\\]+proc-([a-zA-Z0-9+]+), dtype=<class 'str'>)>,\n",
       " 'modality': <Entity modality (pattern=[_/\\\\]+mod-([a-zA-Z0-9+]+), dtype=<class 'str'>)>,\n",
       " 'echo': <Entity echo (pattern=[_/\\\\]+echo-([0-9]+), dtype=<class 'str'>)>,\n",
       " 'flip': <Entity flip (pattern=[_/\\\\]+flip-([0-9]+), dtype=<class 'str'>)>,\n",
       " 'inv': <Entity inv (pattern=[_/\\\\]+inv-([0-9]+), dtype=<class 'str'>)>,\n",
       " 'mt': <Entity mt (pattern=[_/\\\\]+mt-(on|off), dtype=<class 'str'>)>,\n",
       " 'part': <Entity part (pattern=[_/\\\\]+part-(imag|mag|phase|real), dtype=<class 'str'>)>,\n",
       " 'recording': <Entity recording (pattern=[_/\\\\]+recording-([a-zA-Z0-9+]+), dtype=<class 'str'>)>,\n",
       " 'space': <Entity space (pattern=[_/\\\\]+space-([a-zA-Z0-9+]+), dtype=<class 'str'>)>,\n",
       " 'chunk': <Entity chunk (pattern=[_/\\\\]+chunk-([0-9]+), dtype=<class 'str'>)>,\n",
       " 'suffix': <Entity suffix (pattern=(?:^|[_/\\\\])([a-zA-Z0-9+]+)\\.[^/\\\\]+$, dtype=<class 'str'>)>,\n",
       " 'scans': <Entity scans (pattern=(.*\\_scans.tsv)$, dtype=<class 'str'>)>,\n",
       " 'fmap': <Entity fmap (pattern=(phasediff|magnitude[1-2]|phase[1-2]|fieldmap|epi)\\.nii, dtype=<class 'str'>)>,\n",
       " 'datatype': <Entity datatype (pattern=[/\\\\]+(anat|beh|dwi|eeg|fmap|func|ieeg|meg|micr|motion|mrs|nirs|perf|pet)[/\\\\]+, dtype=<class 'str'>)>,\n",
       " 'extension': <Entity extension (pattern=[^./\\\\](\\.[^/\\\\]+)$, dtype=<class 'str'>)>,\n",
       " 'age': <Entity age (pattern=None, dtype=<class 'str'>)>,\n",
       " 'sex': <Entity sex (pattern=None, dtype=<class 'str'>)>,\n",
       " 'RepetitionTime': <Entity RepetitionTime (pattern=None, dtype=<class 'str'>)>,\n",
       " 'TaskName': <Entity TaskName (pattern=None, dtype=<class 'str'>)>}"
      ]
     },
     "execution_count": 11,
     "metadata": {},
     "output_type": "execute_result"
    }
   ],
   "source": [
    "layout_ds006_original.entities # similar to layout_ds006_original.get_entities()"
   ]
  },
  {
   "cell_type": "markdown",
   "metadata": {},
   "source": [
    "We can filter files by entities"
   ]
  },
  {
   "cell_type": "code",
   "execution_count": 41,
   "metadata": {},
   "outputs": [
    {
     "data": {
      "text/plain": [
       "['/user/lchambon/home/dev/fedbiomed-dev/notebooks/data/BIDS/ds006/sub-01/ses-pre/anat/sub-01_ses-pre_inplaneT2.nii.gz',\n",
       " '/user/lchambon/home/dev/fedbiomed-dev/notebooks/data/BIDS/ds006/sub-01/ses-pre/anat/sub-01_ses-pre_T1w.nii.gz',\n",
       " '/user/lchambon/home/dev/fedbiomed-dev/notebooks/data/BIDS/ds006/sub-01/ses-pre/func/sub-01_ses-pre_task-livingnonlivingdecisionwithplainormirrorreversedtext_run-01_bold.nii.gz',\n",
       " '/user/lchambon/home/dev/fedbiomed-dev/notebooks/data/BIDS/ds006/sub-01/ses-pre/func/sub-01_ses-pre_task-livingnonlivingdecisionwithplainormirrorreversedtext_run-02_bold.nii.gz',\n",
       " '/user/lchambon/home/dev/fedbiomed-dev/notebooks/data/BIDS/ds006/sub-01/ses-pre/func/sub-01_ses-pre_task-livingnonlivingdecisionwithplainormirrorreversedtext_run-03_bold.nii.gz',\n",
       " '/user/lchambon/home/dev/fedbiomed-dev/notebooks/data/BIDS/ds006/sub-01/ses-pre/func/sub-01_ses-pre_task-livingnonlivingdecisionwithplainormirrorreversedtext_run-04_bold.nii.gz',\n",
       " '/user/lchambon/home/dev/fedbiomed-dev/notebooks/data/BIDS/ds006/sub-01/ses-pre/func/sub-01_ses-pre_task-livingnonlivingdecisionwithplainormirrorreversedtext_run-05_bold.nii.gz',\n",
       " '/user/lchambon/home/dev/fedbiomed-dev/notebooks/data/BIDS/ds006/sub-01/ses-pre/func/sub-01_ses-pre_task-livingnonlivingdecisionwithplainormirrorreversedtext_run-06_bold.nii.gz',\n",
       " '/user/lchambon/home/dev/fedbiomed-dev/notebooks/data/BIDS/ds006/sub-02/ses-pre/anat/sub-02_ses-pre_inplaneT2.nii.gz',\n",
       " '/user/lchambon/home/dev/fedbiomed-dev/notebooks/data/BIDS/ds006/sub-02/ses-pre/anat/sub-02_ses-pre_T1w.nii.gz',\n",
       " '/user/lchambon/home/dev/fedbiomed-dev/notebooks/data/BIDS/ds006/sub-02/ses-pre/func/sub-02_ses-pre_task-livingnonlivingdecisionwithplainormirrorreversedtext_run-01_bold.nii.gz',\n",
       " '/user/lchambon/home/dev/fedbiomed-dev/notebooks/data/BIDS/ds006/sub-02/ses-pre/func/sub-02_ses-pre_task-livingnonlivingdecisionwithplainormirrorreversedtext_run-02_bold.nii.gz',\n",
       " '/user/lchambon/home/dev/fedbiomed-dev/notebooks/data/BIDS/ds006/sub-02/ses-pre/func/sub-02_ses-pre_task-livingnonlivingdecisionwithplainormirrorreversedtext_run-03_bold.nii.gz',\n",
       " '/user/lchambon/home/dev/fedbiomed-dev/notebooks/data/BIDS/ds006/sub-02/ses-pre/func/sub-02_ses-pre_task-livingnonlivingdecisionwithplainormirrorreversedtext_run-04_bold.nii.gz',\n",
       " '/user/lchambon/home/dev/fedbiomed-dev/notebooks/data/BIDS/ds006/sub-02/ses-pre/func/sub-02_ses-pre_task-livingnonlivingdecisionwithplainormirrorreversedtext_run-05_bold.nii.gz',\n",
       " '/user/lchambon/home/dev/fedbiomed-dev/notebooks/data/BIDS/ds006/sub-02/ses-pre/func/sub-02_ses-pre_task-livingnonlivingdecisionwithplainormirrorreversedtext_run-06_bold.nii.gz']"
      ]
     },
     "execution_count": 41,
     "metadata": {},
     "output_type": "execute_result"
    }
   ],
   "source": [
    "# Retrieve filenames of all images in pre sessions for subjects 01 and 02\n",
    "layout_ds006_original.get(session='pre', subject=['01', '02'], extension='nii.gz', return_type='filename')"
   ]
  },
  {
   "cell_type": "code",
   "execution_count": 42,
   "metadata": {},
   "outputs": [
    {
     "data": {
      "text/plain": [
       "['/user/lchambon/home/dev/fedbiomed-dev/notebooks/data/BIDS/ds006/sub-01/ses-post/anat/sub-01_ses-post_inplaneT2.nii.gz',\n",
       " '/user/lchambon/home/dev/fedbiomed-dev/notebooks/data/BIDS/ds006/sub-01/ses-pre/anat/sub-01_ses-pre_inplaneT2.nii.gz',\n",
       " '/user/lchambon/home/dev/fedbiomed-dev/notebooks/data/BIDS/ds006/sub-02/ses-post/anat/sub-02_ses-post_inplaneT2.nii.gz',\n",
       " '/user/lchambon/home/dev/fedbiomed-dev/notebooks/data/BIDS/ds006/sub-02/ses-pre/anat/sub-02_ses-pre_inplaneT2.nii.gz',\n",
       " '/user/lchambon/home/dev/fedbiomed-dev/notebooks/data/BIDS/ds006/sub-03/ses-post/anat/sub-03_ses-post_inplaneT2.nii.gz',\n",
       " '/user/lchambon/home/dev/fedbiomed-dev/notebooks/data/BIDS/ds006/sub-03/ses-pre/anat/sub-03_ses-pre_inplaneT2.nii.gz',\n",
       " '/user/lchambon/home/dev/fedbiomed-dev/notebooks/data/BIDS/ds006/sub-04/ses-post/anat/sub-04_ses-post_inplaneT2.nii.gz',\n",
       " '/user/lchambon/home/dev/fedbiomed-dev/notebooks/data/BIDS/ds006/sub-04/ses-pre/anat/sub-04_ses-pre_inplaneT2.nii.gz',\n",
       " '/user/lchambon/home/dev/fedbiomed-dev/notebooks/data/BIDS/ds006/sub-05/ses-post/anat/sub-05_ses-post_inplaneT2.nii.gz',\n",
       " '/user/lchambon/home/dev/fedbiomed-dev/notebooks/data/BIDS/ds006/sub-05/ses-pre/anat/sub-05_ses-pre_inplaneT2.nii.gz',\n",
       " '/user/lchambon/home/dev/fedbiomed-dev/notebooks/data/BIDS/ds006/sub-06/ses-post/anat/sub-06_ses-post_inplaneT2.nii.gz',\n",
       " '/user/lchambon/home/dev/fedbiomed-dev/notebooks/data/BIDS/ds006/sub-06/ses-pre/anat/sub-06_ses-pre_inplaneT2.nii.gz',\n",
       " '/user/lchambon/home/dev/fedbiomed-dev/notebooks/data/BIDS/ds006/sub-07/ses-post/anat/sub-07_ses-post_inplaneT2.nii.gz',\n",
       " '/user/lchambon/home/dev/fedbiomed-dev/notebooks/data/BIDS/ds006/sub-07/ses-pre/anat/sub-07_ses-pre_inplaneT2.nii.gz',\n",
       " '/user/lchambon/home/dev/fedbiomed-dev/notebooks/data/BIDS/ds006/sub-08/ses-post/anat/sub-08_ses-post_inplaneT2.nii.gz',\n",
       " '/user/lchambon/home/dev/fedbiomed-dev/notebooks/data/BIDS/ds006/sub-08/ses-pre/anat/sub-08_ses-pre_inplaneT2.nii.gz',\n",
       " '/user/lchambon/home/dev/fedbiomed-dev/notebooks/data/BIDS/ds006/sub-09/ses-post/anat/sub-09_ses-post_inplaneT2.nii.gz',\n",
       " '/user/lchambon/home/dev/fedbiomed-dev/notebooks/data/BIDS/ds006/sub-09/ses-pre/anat/sub-09_ses-pre_inplaneT2.nii.gz',\n",
       " '/user/lchambon/home/dev/fedbiomed-dev/notebooks/data/BIDS/ds006/sub-10/ses-post/anat/sub-10_ses-post_inplaneT2.nii.gz',\n",
       " '/user/lchambon/home/dev/fedbiomed-dev/notebooks/data/BIDS/ds006/sub-10/ses-pre/anat/sub-10_ses-pre_inplaneT2.nii.gz',\n",
       " '/user/lchambon/home/dev/fedbiomed-dev/notebooks/data/BIDS/ds006/sub-11/ses-post/anat/sub-11_ses-post_inplaneT2.nii.gz',\n",
       " '/user/lchambon/home/dev/fedbiomed-dev/notebooks/data/BIDS/ds006/sub-11/ses-pre/anat/sub-11_ses-pre_inplaneT2.nii.gz',\n",
       " '/user/lchambon/home/dev/fedbiomed-dev/notebooks/data/BIDS/ds006/sub-12/ses-post/anat/sub-12_ses-post_inplaneT2.nii.gz',\n",
       " '/user/lchambon/home/dev/fedbiomed-dev/notebooks/data/BIDS/ds006/sub-12/ses-pre/anat/sub-12_ses-pre_inplaneT2.nii.gz',\n",
       " '/user/lchambon/home/dev/fedbiomed-dev/notebooks/data/BIDS/ds006/sub-13/ses-post/anat/sub-13_ses-post_inplaneT2.nii.gz',\n",
       " '/user/lchambon/home/dev/fedbiomed-dev/notebooks/data/BIDS/ds006/sub-13/ses-pre/anat/sub-13_ses-pre_inplaneT2.nii.gz',\n",
       " '/user/lchambon/home/dev/fedbiomed-dev/notebooks/data/BIDS/ds006/sub-14/ses-post/anat/sub-14_ses-post_inplaneT2.nii.gz',\n",
       " '/user/lchambon/home/dev/fedbiomed-dev/notebooks/data/BIDS/ds006/sub-14/ses-pre/anat/sub-14_ses-pre_inplaneT2.nii.gz']"
      ]
     },
     "execution_count": 42,
     "metadata": {},
     "output_type": "execute_result"
    }
   ],
   "source": [
    "# Retrieve filenames of all images of suffix inplaneT2\n",
    "layout_ds006_original.get(extension='nii.gz', suffix='inplaneT2', return_type='filename')"
   ]
  },
  {
   "cell_type": "code",
   "execution_count": 65,
   "metadata": {},
   "outputs": [
    {
     "data": {
      "text/plain": [
       "['/user/lchambon/home/dev/fedbiomed-dev/notebooks/data/BIDS/ds006/sub-01/ses-post/anat/sub-01_ses-post_inplaneT2.nii.gz',\n",
       " '/user/lchambon/home/dev/fedbiomed-dev/notebooks/data/BIDS/ds006/sub-01/ses-post/anat/sub-01_ses-post_T1w.nii.gz',\n",
       " '/user/lchambon/home/dev/fedbiomed-dev/notebooks/data/BIDS/ds006/sub-01/ses-pre/anat/sub-01_ses-pre_inplaneT2.nii.gz',\n",
       " '/user/lchambon/home/dev/fedbiomed-dev/notebooks/data/BIDS/ds006/sub-01/ses-pre/anat/sub-01_ses-pre_T1w.nii.gz',\n",
       " '/user/lchambon/home/dev/fedbiomed-dev/notebooks/data/BIDS/ds006/sub-02/ses-post/anat/sub-02_ses-post_inplaneT2.nii.gz',\n",
       " '/user/lchambon/home/dev/fedbiomed-dev/notebooks/data/BIDS/ds006/sub-02/ses-post/anat/sub-02_ses-post_T1w.nii.gz',\n",
       " '/user/lchambon/home/dev/fedbiomed-dev/notebooks/data/BIDS/ds006/sub-02/ses-pre/anat/sub-02_ses-pre_inplaneT2.nii.gz',\n",
       " '/user/lchambon/home/dev/fedbiomed-dev/notebooks/data/BIDS/ds006/sub-02/ses-pre/anat/sub-02_ses-pre_T1w.nii.gz',\n",
       " '/user/lchambon/home/dev/fedbiomed-dev/notebooks/data/BIDS/ds006/sub-03/ses-post/anat/sub-03_ses-post_inplaneT2.nii.gz',\n",
       " '/user/lchambon/home/dev/fedbiomed-dev/notebooks/data/BIDS/ds006/sub-03/ses-post/anat/sub-03_ses-post_T1w.nii.gz',\n",
       " '/user/lchambon/home/dev/fedbiomed-dev/notebooks/data/BIDS/ds006/sub-03/ses-pre/anat/sub-03_ses-pre_inplaneT2.nii.gz',\n",
       " '/user/lchambon/home/dev/fedbiomed-dev/notebooks/data/BIDS/ds006/sub-03/ses-pre/anat/sub-03_ses-pre_T1w.nii.gz',\n",
       " '/user/lchambon/home/dev/fedbiomed-dev/notebooks/data/BIDS/ds006/sub-04/ses-post/anat/sub-04_ses-post_inplaneT2.nii.gz',\n",
       " '/user/lchambon/home/dev/fedbiomed-dev/notebooks/data/BIDS/ds006/sub-04/ses-post/anat/sub-04_ses-post_T1w.nii.gz',\n",
       " '/user/lchambon/home/dev/fedbiomed-dev/notebooks/data/BIDS/ds006/sub-04/ses-pre/anat/sub-04_ses-pre_inplaneT2.nii.gz',\n",
       " '/user/lchambon/home/dev/fedbiomed-dev/notebooks/data/BIDS/ds006/sub-04/ses-pre/anat/sub-04_ses-pre_T1w.nii.gz',\n",
       " '/user/lchambon/home/dev/fedbiomed-dev/notebooks/data/BIDS/ds006/sub-05/ses-post/anat/sub-05_ses-post_inplaneT2.nii.gz',\n",
       " '/user/lchambon/home/dev/fedbiomed-dev/notebooks/data/BIDS/ds006/sub-05/ses-post/anat/sub-05_ses-post_T1w.nii.gz',\n",
       " '/user/lchambon/home/dev/fedbiomed-dev/notebooks/data/BIDS/ds006/sub-05/ses-pre/anat/sub-05_ses-pre_inplaneT2.nii.gz',\n",
       " '/user/lchambon/home/dev/fedbiomed-dev/notebooks/data/BIDS/ds006/sub-05/ses-pre/anat/sub-05_ses-pre_T1w.nii.gz',\n",
       " '/user/lchambon/home/dev/fedbiomed-dev/notebooks/data/BIDS/ds006/sub-06/ses-post/anat/sub-06_ses-post_inplaneT2.nii.gz',\n",
       " '/user/lchambon/home/dev/fedbiomed-dev/notebooks/data/BIDS/ds006/sub-06/ses-post/anat/sub-06_ses-post_T1w.nii.gz',\n",
       " '/user/lchambon/home/dev/fedbiomed-dev/notebooks/data/BIDS/ds006/sub-06/ses-pre/anat/sub-06_ses-pre_inplaneT2.nii.gz',\n",
       " '/user/lchambon/home/dev/fedbiomed-dev/notebooks/data/BIDS/ds006/sub-06/ses-pre/anat/sub-06_ses-pre_T1w.nii.gz',\n",
       " '/user/lchambon/home/dev/fedbiomed-dev/notebooks/data/BIDS/ds006/sub-07/ses-post/anat/sub-07_ses-post_inplaneT2.nii.gz',\n",
       " '/user/lchambon/home/dev/fedbiomed-dev/notebooks/data/BIDS/ds006/sub-07/ses-post/anat/sub-07_ses-post_T1w.nii.gz',\n",
       " '/user/lchambon/home/dev/fedbiomed-dev/notebooks/data/BIDS/ds006/sub-07/ses-pre/anat/sub-07_ses-pre_inplaneT2.nii.gz',\n",
       " '/user/lchambon/home/dev/fedbiomed-dev/notebooks/data/BIDS/ds006/sub-07/ses-pre/anat/sub-07_ses-pre_T1w.nii.gz',\n",
       " '/user/lchambon/home/dev/fedbiomed-dev/notebooks/data/BIDS/ds006/sub-08/ses-post/anat/sub-08_ses-post_inplaneT2.nii.gz',\n",
       " '/user/lchambon/home/dev/fedbiomed-dev/notebooks/data/BIDS/ds006/sub-08/ses-post/anat/sub-08_ses-post_T1w.nii.gz',\n",
       " '/user/lchambon/home/dev/fedbiomed-dev/notebooks/data/BIDS/ds006/sub-08/ses-pre/anat/sub-08_ses-pre_inplaneT2.nii.gz',\n",
       " '/user/lchambon/home/dev/fedbiomed-dev/notebooks/data/BIDS/ds006/sub-08/ses-pre/anat/sub-08_ses-pre_T1w.nii.gz',\n",
       " '/user/lchambon/home/dev/fedbiomed-dev/notebooks/data/BIDS/ds006/sub-09/ses-post/anat/sub-09_ses-post_inplaneT2.nii.gz',\n",
       " '/user/lchambon/home/dev/fedbiomed-dev/notebooks/data/BIDS/ds006/sub-09/ses-post/anat/sub-09_ses-post_T1w.nii.gz',\n",
       " '/user/lchambon/home/dev/fedbiomed-dev/notebooks/data/BIDS/ds006/sub-09/ses-pre/anat/sub-09_ses-pre_inplaneT2.nii.gz',\n",
       " '/user/lchambon/home/dev/fedbiomed-dev/notebooks/data/BIDS/ds006/sub-09/ses-pre/anat/sub-09_ses-pre_T1w.nii.gz',\n",
       " '/user/lchambon/home/dev/fedbiomed-dev/notebooks/data/BIDS/ds006/sub-10/ses-post/anat/sub-10_ses-post_inplaneT2.nii.gz',\n",
       " '/user/lchambon/home/dev/fedbiomed-dev/notebooks/data/BIDS/ds006/sub-10/ses-post/anat/sub-10_ses-post_T1w.nii.gz',\n",
       " '/user/lchambon/home/dev/fedbiomed-dev/notebooks/data/BIDS/ds006/sub-10/ses-pre/anat/sub-10_ses-pre_inplaneT2.nii.gz',\n",
       " '/user/lchambon/home/dev/fedbiomed-dev/notebooks/data/BIDS/ds006/sub-10/ses-pre/anat/sub-10_ses-pre_T1w.nii.gz',\n",
       " '/user/lchambon/home/dev/fedbiomed-dev/notebooks/data/BIDS/ds006/sub-11/ses-post/anat/sub-11_ses-post_inplaneT2.nii.gz',\n",
       " '/user/lchambon/home/dev/fedbiomed-dev/notebooks/data/BIDS/ds006/sub-11/ses-post/anat/sub-11_ses-post_T1w.nii.gz',\n",
       " '/user/lchambon/home/dev/fedbiomed-dev/notebooks/data/BIDS/ds006/sub-11/ses-pre/anat/sub-11_ses-pre_inplaneT2.nii.gz',\n",
       " '/user/lchambon/home/dev/fedbiomed-dev/notebooks/data/BIDS/ds006/sub-11/ses-pre/anat/sub-11_ses-pre_T1w.nii.gz',\n",
       " '/user/lchambon/home/dev/fedbiomed-dev/notebooks/data/BIDS/ds006/sub-12/ses-post/anat/sub-12_ses-post_inplaneT2.nii.gz',\n",
       " '/user/lchambon/home/dev/fedbiomed-dev/notebooks/data/BIDS/ds006/sub-12/ses-post/anat/sub-12_ses-post_T1w.nii.gz',\n",
       " '/user/lchambon/home/dev/fedbiomed-dev/notebooks/data/BIDS/ds006/sub-12/ses-pre/anat/sub-12_ses-pre_inplaneT2.nii.gz',\n",
       " '/user/lchambon/home/dev/fedbiomed-dev/notebooks/data/BIDS/ds006/sub-12/ses-pre/anat/sub-12_ses-pre_T1w.nii.gz',\n",
       " '/user/lchambon/home/dev/fedbiomed-dev/notebooks/data/BIDS/ds006/sub-13/ses-post/anat/sub-13_ses-post_inplaneT2.nii.gz',\n",
       " '/user/lchambon/home/dev/fedbiomed-dev/notebooks/data/BIDS/ds006/sub-13/ses-post/anat/sub-13_ses-post_T1w.nii.gz',\n",
       " '/user/lchambon/home/dev/fedbiomed-dev/notebooks/data/BIDS/ds006/sub-13/ses-pre/anat/sub-13_ses-pre_inplaneT2.nii.gz',\n",
       " '/user/lchambon/home/dev/fedbiomed-dev/notebooks/data/BIDS/ds006/sub-13/ses-pre/anat/sub-13_ses-pre_T1w.nii.gz',\n",
       " '/user/lchambon/home/dev/fedbiomed-dev/notebooks/data/BIDS/ds006/sub-14/ses-post/anat/sub-14_ses-post_inplaneT2.nii.gz',\n",
       " '/user/lchambon/home/dev/fedbiomed-dev/notebooks/data/BIDS/ds006/sub-14/ses-post/anat/sub-14_ses-post_T1w.nii.gz',\n",
       " '/user/lchambon/home/dev/fedbiomed-dev/notebooks/data/BIDS/ds006/sub-14/ses-pre/anat/sub-14_ses-pre_inplaneT2.nii.gz',\n",
       " '/user/lchambon/home/dev/fedbiomed-dev/notebooks/data/BIDS/ds006/sub-14/ses-pre/anat/sub-14_ses-pre_T1w.nii.gz']"
      ]
     },
     "execution_count": 65,
     "metadata": {},
     "output_type": "execute_result"
    }
   ],
   "source": [
    "# Retrieve filenames based on datatypes\n",
    "layout_ds006_original.get(datatype='anat', return_type='filename')"
   ]
  },
  {
   "cell_type": "markdown",
   "metadata": {},
   "source": [
    "Retrieve all metadata files"
   ]
  },
  {
   "cell_type": "code",
   "execution_count": 45,
   "metadata": {},
   "outputs": [
    {
     "data": {
      "text/plain": [
       "[<BIDSJSONFile filename='/user/lchambon/home/dev/fedbiomed-dev/notebooks/data/BIDS/ds006/dataset_description.json'>,\n",
       " <BIDSJSONFile filename='/user/lchambon/home/dev/fedbiomed-dev/notebooks/data/BIDS/ds006/participants.json'>,\n",
       " <BIDSJSONFile filename='/user/lchambon/home/dev/fedbiomed-dev/notebooks/data/BIDS/ds006/task-livingnonlivingdecisionwithplainormirrorreversedtext_bold.json'>]"
      ]
     },
     "execution_count": 45,
     "metadata": {},
     "output_type": "execute_result"
    }
   ],
   "source": [
    "# Get all json files\n",
    "layout_ds006_original.get(extension='json')"
   ]
  },
  {
   "cell_type": "markdown",
   "metadata": {},
   "source": [
    "We can filter files by metadata"
   ]
  },
  {
   "cell_type": "code",
   "execution_count": 48,
   "metadata": {},
   "outputs": [
    {
     "data": {
      "text/plain": [
       "[<BIDSImageFile filename='/user/lchambon/home/dev/fedbiomed-dev/notebooks/data/BIDS/ds006/sub-01/ses-post/func/sub-01_ses-post_task-livingnonlivingdecisionwithplainormirrorreversedtext_run-06_bold.nii.gz'>,\n",
       " <BIDSImageFile filename='/user/lchambon/home/dev/fedbiomed-dev/notebooks/data/BIDS/ds006/sub-01/ses-pre/func/sub-01_ses-pre_task-livingnonlivingdecisionwithplainormirrorreversedtext_run-06_bold.nii.gz'>,\n",
       " <BIDSImageFile filename='/user/lchambon/home/dev/fedbiomed-dev/notebooks/data/BIDS/ds006/sub-02/ses-post/func/sub-02_ses-post_task-livingnonlivingdecisionwithplainormirrorreversedtext_run-06_bold.nii.gz'>,\n",
       " <BIDSImageFile filename='/user/lchambon/home/dev/fedbiomed-dev/notebooks/data/BIDS/ds006/sub-02/ses-pre/func/sub-02_ses-pre_task-livingnonlivingdecisionwithplainormirrorreversedtext_run-06_bold.nii.gz'>,\n",
       " <BIDSImageFile filename='/user/lchambon/home/dev/fedbiomed-dev/notebooks/data/BIDS/ds006/sub-03/ses-post/func/sub-03_ses-post_task-livingnonlivingdecisionwithplainormirrorreversedtext_run-06_bold.nii.gz'>,\n",
       " <BIDSImageFile filename='/user/lchambon/home/dev/fedbiomed-dev/notebooks/data/BIDS/ds006/sub-03/ses-pre/func/sub-03_ses-pre_task-livingnonlivingdecisionwithplainormirrorreversedtext_run-06_bold.nii.gz'>,\n",
       " <BIDSImageFile filename='/user/lchambon/home/dev/fedbiomed-dev/notebooks/data/BIDS/ds006/sub-04/ses-post/func/sub-04_ses-post_task-livingnonlivingdecisionwithplainormirrorreversedtext_run-06_bold.nii.gz'>,\n",
       " <BIDSImageFile filename='/user/lchambon/home/dev/fedbiomed-dev/notebooks/data/BIDS/ds006/sub-04/ses-pre/func/sub-04_ses-pre_task-livingnonlivingdecisionwithplainormirrorreversedtext_run-06_bold.nii.gz'>,\n",
       " <BIDSImageFile filename='/user/lchambon/home/dev/fedbiomed-dev/notebooks/data/BIDS/ds006/sub-05/ses-post/func/sub-05_ses-post_task-livingnonlivingdecisionwithplainormirrorreversedtext_run-06_bold.nii.gz'>,\n",
       " <BIDSImageFile filename='/user/lchambon/home/dev/fedbiomed-dev/notebooks/data/BIDS/ds006/sub-05/ses-pre/func/sub-05_ses-pre_task-livingnonlivingdecisionwithplainormirrorreversedtext_run-06_bold.nii.gz'>,\n",
       " <BIDSImageFile filename='/user/lchambon/home/dev/fedbiomed-dev/notebooks/data/BIDS/ds006/sub-06/ses-post/func/sub-06_ses-post_task-livingnonlivingdecisionwithplainormirrorreversedtext_run-06_bold.nii.gz'>,\n",
       " <BIDSImageFile filename='/user/lchambon/home/dev/fedbiomed-dev/notebooks/data/BIDS/ds006/sub-06/ses-pre/func/sub-06_ses-pre_task-livingnonlivingdecisionwithplainormirrorreversedtext_run-06_bold.nii.gz'>,\n",
       " <BIDSImageFile filename='/user/lchambon/home/dev/fedbiomed-dev/notebooks/data/BIDS/ds006/sub-07/ses-post/func/sub-07_ses-post_task-livingnonlivingdecisionwithplainormirrorreversedtext_run-06_bold.nii.gz'>,\n",
       " <BIDSImageFile filename='/user/lchambon/home/dev/fedbiomed-dev/notebooks/data/BIDS/ds006/sub-07/ses-pre/func/sub-07_ses-pre_task-livingnonlivingdecisionwithplainormirrorreversedtext_run-06_bold.nii.gz'>,\n",
       " <BIDSImageFile filename='/user/lchambon/home/dev/fedbiomed-dev/notebooks/data/BIDS/ds006/sub-08/ses-post/func/sub-08_ses-post_task-livingnonlivingdecisionwithplainormirrorreversedtext_run-06_bold.nii.gz'>,\n",
       " <BIDSImageFile filename='/user/lchambon/home/dev/fedbiomed-dev/notebooks/data/BIDS/ds006/sub-08/ses-pre/func/sub-08_ses-pre_task-livingnonlivingdecisionwithplainormirrorreversedtext_run-06_bold.nii.gz'>,\n",
       " <BIDSImageFile filename='/user/lchambon/home/dev/fedbiomed-dev/notebooks/data/BIDS/ds006/sub-09/ses-post/func/sub-09_ses-post_task-livingnonlivingdecisionwithplainormirrorreversedtext_run-06_bold.nii.gz'>,\n",
       " <BIDSImageFile filename='/user/lchambon/home/dev/fedbiomed-dev/notebooks/data/BIDS/ds006/sub-09/ses-pre/func/sub-09_ses-pre_task-livingnonlivingdecisionwithplainormirrorreversedtext_run-06_bold.nii.gz'>,\n",
       " <BIDSImageFile filename='/user/lchambon/home/dev/fedbiomed-dev/notebooks/data/BIDS/ds006/sub-10/ses-post/func/sub-10_ses-post_task-livingnonlivingdecisionwithplainormirrorreversedtext_run-06_bold.nii.gz'>,\n",
       " <BIDSImageFile filename='/user/lchambon/home/dev/fedbiomed-dev/notebooks/data/BIDS/ds006/sub-10/ses-pre/func/sub-10_ses-pre_task-livingnonlivingdecisionwithplainormirrorreversedtext_run-06_bold.nii.gz'>,\n",
       " <BIDSImageFile filename='/user/lchambon/home/dev/fedbiomed-dev/notebooks/data/BIDS/ds006/sub-11/ses-post/func/sub-11_ses-post_task-livingnonlivingdecisionwithplainormirrorreversedtext_run-06_bold.nii.gz'>,\n",
       " <BIDSImageFile filename='/user/lchambon/home/dev/fedbiomed-dev/notebooks/data/BIDS/ds006/sub-11/ses-pre/func/sub-11_ses-pre_task-livingnonlivingdecisionwithplainormirrorreversedtext_run-06_bold.nii.gz'>,\n",
       " <BIDSImageFile filename='/user/lchambon/home/dev/fedbiomed-dev/notebooks/data/BIDS/ds006/sub-12/ses-post/func/sub-12_ses-post_task-livingnonlivingdecisionwithplainormirrorreversedtext_run-06_bold.nii.gz'>,\n",
       " <BIDSImageFile filename='/user/lchambon/home/dev/fedbiomed-dev/notebooks/data/BIDS/ds006/sub-12/ses-pre/func/sub-12_ses-pre_task-livingnonlivingdecisionwithplainormirrorreversedtext_run-06_bold.nii.gz'>,\n",
       " <BIDSImageFile filename='/user/lchambon/home/dev/fedbiomed-dev/notebooks/data/BIDS/ds006/sub-13/ses-post/func/sub-13_ses-post_task-livingnonlivingdecisionwithplainormirrorreversedtext_run-06_bold.nii.gz'>,\n",
       " <BIDSImageFile filename='/user/lchambon/home/dev/fedbiomed-dev/notebooks/data/BIDS/ds006/sub-13/ses-pre/func/sub-13_ses-pre_task-livingnonlivingdecisionwithplainormirrorreversedtext_run-06_bold.nii.gz'>,\n",
       " <BIDSImageFile filename='/user/lchambon/home/dev/fedbiomed-dev/notebooks/data/BIDS/ds006/sub-14/ses-post/func/sub-14_ses-post_task-livingnonlivingdecisionwithplainormirrorreversedtext_run-06_bold.nii.gz'>,\n",
       " <BIDSImageFile filename='/user/lchambon/home/dev/fedbiomed-dev/notebooks/data/BIDS/ds006/sub-14/ses-pre/func/sub-14_ses-pre_task-livingnonlivingdecisionwithplainormirrorreversedtext_run-06_bold.nii.gz'>]"
      ]
     },
     "execution_count": 48,
     "metadata": {},
     "output_type": "execute_result"
    }
   ],
   "source": [
    "# Get all files where the json key RepetitionTime is 2.0, and the run number is 6\n",
    "# It does not return the .tsv files\n",
    "layout_ds006_original.get(RepetitionTime=2.0, run='06')"
   ]
  },
  {
   "cell_type": "code",
   "execution_count": 62,
   "metadata": {},
   "outputs": [
    {
     "data": {
      "text/plain": [
       "[]"
      ]
     },
     "execution_count": 62,
     "metadata": {},
     "output_type": "execute_result"
    }
   ],
   "source": [
    "# Try to use keys from participants.json file: does not work\n",
    "layout_ds006_original.get(sex='F')"
   ]
  },
  {
   "cell_type": "markdown",
   "metadata": {},
   "source": [
    "Instead of returning files or BIDSFile Objects, we can return ids of targets"
   ]
  },
  {
   "cell_type": "code",
   "execution_count": null,
   "metadata": {},
   "outputs": [
    {
     "data": {
      "text/plain": [
       "['01',\n",
       " '02',\n",
       " '03',\n",
       " '04',\n",
       " '05',\n",
       " '06',\n",
       " '07',\n",
       " '08',\n",
       " '09',\n",
       " '10',\n",
       " '11',\n",
       " '12',\n",
       " '13',\n",
       " '14']"
      ]
     },
     "execution_count": 50,
     "metadata": {},
     "output_type": "execute_result"
    }
   ],
   "source": [
    "# Return the ids of subjects that have T1w files\n",
    "layout_ds006_original.get(return_type='id', target='subject', suffix='T1w')"
   ]
  },
  {
   "cell_type": "code",
   "execution_count": 52,
   "metadata": {},
   "outputs": [
    {
     "data": {
      "text/plain": [
       "['post', 'pre']"
      ]
     },
     "execution_count": 52,
     "metadata": {},
     "output_type": "execute_result"
    }
   ],
   "source": [
    "# Return the ids of sessions that have T1w files\n",
    "layout_ds006_original.get(return_type='id', target='session', suffix='T1w')"
   ]
  },
  {
   "cell_type": "code",
   "execution_count": null,
   "metadata": {},
   "outputs": [
    {
     "data": {
      "text/plain": [
       "[]"
      ]
     },
     "execution_count": 56,
     "metadata": {},
     "output_type": "execute_result"
    }
   ],
   "source": [
    "# Return the folders of subjects: does not work ?\n",
    "layout_ds006_original.get(return_type='dir', target='subject')"
   ]
  },
  {
   "cell_type": "markdown",
   "metadata": {},
   "source": [
    "### 2.3 - Retrieve information from BIDSFile"
   ]
  },
  {
   "cell_type": "markdown",
   "metadata": {},
   "source": [
    "Get a given BIDSFile"
   ]
  },
  {
   "cell_type": "code",
   "execution_count": 63,
   "metadata": {},
   "outputs": [
    {
     "data": {
      "text/plain": [
       "<BIDSImageFile filename='/user/lchambon/home/dev/fedbiomed-dev/notebooks/data/BIDS/ds006/sub-01/ses-post/func/sub-01_ses-post_task-livingnonlivingdecisionwithplainormirrorreversedtext_run-05_bold.nii.gz'>"
      ]
     },
     "execution_count": 63,
     "metadata": {},
     "output_type": "execute_result"
    }
   ],
   "source": [
    "# Pick the 15th file in the dataset\n",
    "bf_1 = layout_ds006_original.get()[15]\n",
    "\n",
    "# Print it\n",
    "bf_1"
   ]
  },
  {
   "cell_type": "markdown",
   "metadata": {},
   "source": [
    "Get the entities of a file"
   ]
  },
  {
   "cell_type": "code",
   "execution_count": 64,
   "metadata": {},
   "outputs": [
    {
     "data": {
      "text/plain": [
       "{'datatype': 'func',\n",
       " 'extension': '.nii.gz',\n",
       " 'run': 05,\n",
       " 'session': 'post',\n",
       " 'subject': '01',\n",
       " 'suffix': 'bold',\n",
       " 'task': 'livingnonlivingdecisionwithplainormirrorreversedtext'}"
      ]
     },
     "execution_count": 64,
     "metadata": {},
     "output_type": "execute_result"
    }
   ],
   "source": [
    "# Print all the entities associated with this file, and their values\n",
    "bf_1.get_entities()"
   ]
  },
  {
   "cell_type": "code",
   "execution_count": null,
   "metadata": {},
   "outputs": [
    {
     "data": {
      "text/plain": [
       "{'RepetitionTime': 2.0, 'TaskName': 'living-nonliving decision with plain or mirror-reversed text', 'datatype': 'func', 'extension': '.nii.gz', 'run': 05, 'session': 'post', 'subject': '01', 'suffix': 'bold', 'task': 'livingnonlivingdecisionwithplainormirrorreversedtext'}"
      ]
     },
     "execution_count": 87,
     "metadata": {},
     "output_type": "execute_result"
    }
   ],
   "source": [
    "# Print all the entities associated with this file, and their values, and the metadata associated to it also ?\n",
    "bf_1.entities"
   ]
  },
  {
   "cell_type": "code",
   "execution_count": 78,
   "metadata": {},
   "outputs": [
    {
     "ename": "ValueError",
     "evalue": "'/user/lchambon/home/dev/fedbiomed-dev/notebooks/data/BIDS/ds006/sub-01/ses-post/func/sub-01_ses-post_task-livingnonlivingdecisionwithplainormirrorreversedtext_run-05_bold.nii.gz' does not appear to be an image format NiBabel can read.",
     "output_type": "error",
     "traceback": [
      "\u001b[0;31m---------------------------------------------------------------------------\u001b[0m",
      "\u001b[0;31mImageFileError\u001b[0m                            Traceback (most recent call last)",
      "File \u001b[0;32m~/miniconda3/envs/fedbiomed-dev/lib/python3.10/site-packages/bids/layout/models.py:480\u001b[0m, in \u001b[0;36mBIDSImageFile.get_image\u001b[0;34m(self, **kwargs)\u001b[0m\n\u001b[1;32m    479\u001b[0m     \u001b[38;5;28;01mimport\u001b[39;00m \u001b[38;5;21;01mnibabel\u001b[39;00m \u001b[38;5;28;01mas\u001b[39;00m \u001b[38;5;21;01mnb\u001b[39;00m\n\u001b[0;32m--> 480\u001b[0m     \u001b[38;5;28;01mreturn\u001b[39;00m \u001b[43mnb\u001b[49m\u001b[38;5;241;43m.\u001b[39;49m\u001b[43mload\u001b[49m\u001b[43m(\u001b[49m\u001b[38;5;28;43mself\u001b[39;49m\u001b[38;5;241;43m.\u001b[39;49m\u001b[43mpath\u001b[49m\u001b[43m,\u001b[49m\u001b[43m \u001b[49m\u001b[38;5;241;43m*\u001b[39;49m\u001b[38;5;241;43m*\u001b[39;49m\u001b[43mkwargs\u001b[49m\u001b[43m)\u001b[49m\n\u001b[1;32m    481\u001b[0m \u001b[38;5;28;01mexcept\u001b[39;00m \u001b[38;5;167;01mException\u001b[39;00m \u001b[38;5;28;01mas\u001b[39;00m e:\n",
      "File \u001b[0;32m~/miniconda3/envs/fedbiomed-dev/lib/python3.10/site-packages/nibabel/loadsave.py:105\u001b[0m, in \u001b[0;36mload\u001b[0;34m(filename, **kwargs)\u001b[0m\n\u001b[1;32m    104\u001b[0m \u001b[38;5;28;01mif\u001b[39;00m stat_result\u001b[38;5;241m.\u001b[39mst_size \u001b[38;5;241m<\u001b[39m\u001b[38;5;241m=\u001b[39m \u001b[38;5;241m0\u001b[39m:\n\u001b[0;32m--> 105\u001b[0m     \u001b[38;5;28;01mraise\u001b[39;00m ImageFileError(\u001b[38;5;124mf\u001b[39m\u001b[38;5;124m\"\u001b[39m\u001b[38;5;124mEmpty file: \u001b[39m\u001b[38;5;124m'\u001b[39m\u001b[38;5;132;01m{\u001b[39;00mfilename\u001b[38;5;132;01m}\u001b[39;00m\u001b[38;5;124m'\u001b[39m\u001b[38;5;124m\"\u001b[39m)\n\u001b[1;32m    107\u001b[0m sniff \u001b[38;5;241m=\u001b[39m \u001b[38;5;28;01mNone\u001b[39;00m\n",
      "\u001b[0;31mImageFileError\u001b[0m: Empty file: '/user/lchambon/home/dev/fedbiomed-dev/notebooks/data/BIDS/ds006/sub-01/ses-post/func/sub-01_ses-post_task-livingnonlivingdecisionwithplainormirrorreversedtext_run-05_bold.nii.gz'",
      "\nThe above exception was the direct cause of the following exception:\n",
      "\u001b[0;31mValueError\u001b[0m                                Traceback (most recent call last)",
      "Cell \u001b[0;32mIn[78], line 2\u001b[0m\n\u001b[1;32m      1\u001b[0m \u001b[38;5;66;03m# Get the image\u001b[39;00m\n\u001b[0;32m----> 2\u001b[0m \u001b[43mbf_1\u001b[49m\u001b[38;5;241;43m.\u001b[39;49m\u001b[43mget_image\u001b[49m\u001b[43m(\u001b[49m\u001b[43m)\u001b[49m\n",
      "File \u001b[0;32m~/miniconda3/envs/fedbiomed-dev/lib/python3.10/site-packages/bids/layout/models.py:482\u001b[0m, in \u001b[0;36mBIDSImageFile.get_image\u001b[0;34m(self, **kwargs)\u001b[0m\n\u001b[1;32m    480\u001b[0m     \u001b[38;5;28;01mreturn\u001b[39;00m nb\u001b[38;5;241m.\u001b[39mload(\u001b[38;5;28mself\u001b[39m\u001b[38;5;241m.\u001b[39mpath, \u001b[38;5;241m*\u001b[39m\u001b[38;5;241m*\u001b[39mkwargs)\n\u001b[1;32m    481\u001b[0m \u001b[38;5;28;01mexcept\u001b[39;00m \u001b[38;5;167;01mException\u001b[39;00m \u001b[38;5;28;01mas\u001b[39;00m e:\n\u001b[0;32m--> 482\u001b[0m     \u001b[38;5;28;01mraise\u001b[39;00m \u001b[38;5;167;01mValueError\u001b[39;00m(\u001b[38;5;124m\"\u001b[39m\u001b[38;5;124m'\u001b[39m\u001b[38;5;132;01m{}\u001b[39;00m\u001b[38;5;124m'\u001b[39m\u001b[38;5;124m does not appear to be an image format \u001b[39m\u001b[38;5;124m\"\u001b[39m\n\u001b[1;32m    483\u001b[0m                      \u001b[38;5;124m\"\u001b[39m\u001b[38;5;124mNiBabel can read.\u001b[39m\u001b[38;5;124m\"\u001b[39m\u001b[38;5;241m.\u001b[39mformat(\u001b[38;5;28mself\u001b[39m\u001b[38;5;241m.\u001b[39mpath)) \u001b[38;5;28;01mfrom\u001b[39;00m \u001b[38;5;21;01me\u001b[39;00m\n",
      "\u001b[0;31mValueError\u001b[0m: '/user/lchambon/home/dev/fedbiomed-dev/notebooks/data/BIDS/ds006/sub-01/ses-post/func/sub-01_ses-post_task-livingnonlivingdecisionwithplainormirrorreversedtext_run-05_bold.nii.gz' does not appear to be an image format NiBabel can read."
     ]
    }
   ],
   "source": [
    "# Get the image\n",
    "bf_1.get_image()"
   ]
  },
  {
   "cell_type": "markdown",
   "metadata": {},
   "source": [
    "Get all metadata for this file"
   ]
  },
  {
   "cell_type": "code",
   "execution_count": 66,
   "metadata": {},
   "outputs": [
    {
     "data": {
      "text/plain": [
       "{'RepetitionTime': 2.0,\n",
       " 'TaskName': 'living-nonliving decision with plain or mirror-reversed text'}"
      ]
     },
     "execution_count": 66,
     "metadata": {},
     "output_type": "execute_result"
    }
   ],
   "source": [
    "# Print all the metadata associated with this file\n",
    "bf_1.get_metadata()"
   ]
  },
  {
   "cell_type": "markdown",
   "metadata": {},
   "source": [
    "Get all associated files"
   ]
  },
  {
   "cell_type": "code",
   "execution_count": null,
   "metadata": {},
   "outputs": [
    {
     "data": {
      "text/plain": [
       "[<BIDSJSONFile filename='/user/lchambon/home/dev/fedbiomed-dev/notebooks/data/BIDS/ds006/task-livingnonlivingdecisionwithplainormirrorreversedtext_bold.json'>]"
      ]
     },
     "execution_count": 81,
     "metadata": {},
     "output_type": "execute_result"
    }
   ],
   "source": [
    "# It does not provide other files with same name but different suffixes\n",
    "bf_1.get_associations()"
   ]
  },
  {
   "cell_type": "code",
   "execution_count": 80,
   "metadata": {},
   "outputs": [
    {
     "name": "stdout",
     "output_type": "stream",
     "text": [
      "{'extension': '.tsv', 'suffix': 'participants'}\n",
      "{'age': {'Description': 'Age of the participant', 'Units': 'years'}, 'sex': {'Description': 'Sex of the participant', 'Levels': {'M': 'Male', 'F': 'Female'}}}\n"
     ]
    }
   ],
   "source": [
    "# Retrieve the participants.tsv file, and check if participants.json is a metadata file for it\n",
    "bf_2 = layout_ds006_original.get(extension='tsv')[0]\n",
    "print(bf_2.get_entities())\n",
    "print(bf_2.get_metadata())"
   ]
  },
  {
   "cell_type": "markdown",
   "metadata": {},
   "source": [
    "### 2.4 - Retrieve all subject variables"
   ]
  },
  {
   "cell_type": "code",
   "execution_count": 85,
   "metadata": {},
   "outputs": [
    {
     "data": {
      "text/plain": [
       "[]"
      ]
     },
     "execution_count": 85,
     "metadata": {},
     "output_type": "execute_result"
    }
   ],
   "source": [
    "# Get subject variables as a dataframe and merge them back in with the layout\n",
    "subj_df = layout_ds006_original.get_collections(level='subject')\n",
    "subj_df"
   ]
  },
  {
   "cell_type": "markdown",
   "metadata": {},
   "source": [
    "## 3 - Dataset ds0006 modified\n",
    "\n",
    "Modifications:\n",
    "- remove some patients\n",
    "- 'forget' a subject in the participants.tsv\n",
    "- create a suffix 'CT'\n",
    "- create a suffix 'SEG'\n",
    "- create a datatype called 'datatypecustom' with an image with suffix 'pet'\n",
    "- create an entity called 'custom' with value 'test'"
   ]
  },
  {
   "cell_type": "markdown",
   "metadata": {},
   "source": [
    "### 3.1 - Load the BIDS dataset"
   ]
  },
  {
   "cell_type": "code",
   "execution_count": 12,
   "metadata": {},
   "outputs": [],
   "source": [
    "path_ds006_modified = os.path.join('/user/lchambon/home/dev/fedbiomed-dev', 'notebooks/data/BIDS/ds006_modified')\n",
    "layout_ds006_modified = BIDSLayout(path_ds006_modified)"
   ]
  },
  {
   "cell_type": "markdown",
   "metadata": {},
   "source": [
    "Print some information about the dataset"
   ]
  },
  {
   "cell_type": "code",
   "execution_count": 13,
   "metadata": {},
   "outputs": [
    {
     "data": {
      "text/plain": [
       "BIDS Layout: ...books/data/BIDS/ds006_modified | Subjects: 4 | Sessions: 8 | Runs: 24"
      ]
     },
     "execution_count": 13,
     "metadata": {},
     "output_type": "execute_result"
    }
   ],
   "source": [
    "layout_ds006_modified"
   ]
  },
  {
   "cell_type": "markdown",
   "metadata": {},
   "source": [
    "### 3.2 - Read information about a BIDS dataset into a layout-object"
   ]
  },
  {
   "cell_type": "markdown",
   "metadata": {},
   "source": [
    "Get all files in the layout with the get() method. By default, this returns a list with BIDSFile objects.\n",
    "Does not seem to return files that are not recognized by the BIDS format (for example, CT scans are not shown...)"
   ]
  },
  {
   "cell_type": "code",
   "execution_count": 14,
   "metadata": {},
   "outputs": [
    {
     "name": "stdout",
     "output_type": "stream",
     "text": [
      "There are 116 files in the layout.\n",
      "\n",
      "The first 10 files are:\n"
     ]
    },
    {
     "data": {
      "text/plain": [
       "[<BIDSFile filename='/user/lchambon/home/dev/fedbiomed-dev/notebooks/data/BIDS/ds006_modified/CHANGES'>,\n",
       " <BIDSJSONFile filename='/user/lchambon/home/dev/fedbiomed-dev/notebooks/data/BIDS/ds006_modified/dataset_description.json'>,\n",
       " <BIDSJSONFile filename='/user/lchambon/home/dev/fedbiomed-dev/notebooks/data/BIDS/ds006_modified/participants.json'>,\n",
       " <BIDSDataFile filename='/user/lchambon/home/dev/fedbiomed-dev/notebooks/data/BIDS/ds006_modified/participants.tsv'>,\n",
       " <BIDSFile filename='/user/lchambon/home/dev/fedbiomed-dev/notebooks/data/BIDS/ds006_modified/README'>,\n",
       " <BIDSImageFile filename='/user/lchambon/home/dev/fedbiomed-dev/notebooks/data/BIDS/ds006_modified/sub-01/ses-post/anat/sub-01_ses-post_inplaneT2.nii.gz'>,\n",
       " <BIDSImageFile filename='/user/lchambon/home/dev/fedbiomed-dev/notebooks/data/BIDS/ds006_modified/sub-01/ses-post/anat/sub-01_ses-post_T1w.nii.gz'>,\n",
       " <BIDSImageFile filename='/user/lchambon/home/dev/fedbiomed-dev/notebooks/data/BIDS/ds006_modified/sub-01/ses-post/func/sub-01_ses-post_task-livingnonlivingdecisionwithplainormirrorreversedtext_run-01_bold.nii.gz'>,\n",
       " <BIDSDataFile filename='/user/lchambon/home/dev/fedbiomed-dev/notebooks/data/BIDS/ds006_modified/sub-01/ses-post/func/sub-01_ses-post_task-livingnonlivingdecisionwithplainormirrorreversedtext_run-01_events.tsv'>,\n",
       " <BIDSImageFile filename='/user/lchambon/home/dev/fedbiomed-dev/notebooks/data/BIDS/ds006_modified/sub-01/ses-post/func/sub-01_ses-post_task-livingnonlivingdecisionwithplainormirrorreversedtext_run-02_bold.nii.gz'>]"
      ]
     },
     "execution_count": 14,
     "metadata": {},
     "output_type": "execute_result"
    }
   ],
   "source": [
    "all_files = layout_ds006_modified.get()\n",
    "print(\"There are {} files in the layout.\".format(len(all_files)))\n",
    "print(\"\\nThe first 10 files are:\")\n",
    "all_files[:10]"
   ]
  },
  {
   "cell_type": "markdown",
   "metadata": {},
   "source": [
    "We can also return file names with the get method."
   ]
  },
  {
   "cell_type": "code",
   "execution_count": 16,
   "metadata": {},
   "outputs": [
    {
     "data": {
      "text/plain": [
       "['/user/lchambon/home/dev/fedbiomed-dev/notebooks/data/BIDS/ds006_modified/CHANGES',\n",
       " '/user/lchambon/home/dev/fedbiomed-dev/notebooks/data/BIDS/ds006_modified/dataset_description.json',\n",
       " '/user/lchambon/home/dev/fedbiomed-dev/notebooks/data/BIDS/ds006_modified/participants.json',\n",
       " '/user/lchambon/home/dev/fedbiomed-dev/notebooks/data/BIDS/ds006_modified/participants.tsv',\n",
       " '/user/lchambon/home/dev/fedbiomed-dev/notebooks/data/BIDS/ds006_modified/README',\n",
       " '/user/lchambon/home/dev/fedbiomed-dev/notebooks/data/BIDS/ds006_modified/sub-01/ses-post/anat/sub-01_ses-post_inplaneT2.nii.gz',\n",
       " '/user/lchambon/home/dev/fedbiomed-dev/notebooks/data/BIDS/ds006_modified/sub-01/ses-post/anat/sub-01_ses-post_T1w.nii.gz',\n",
       " '/user/lchambon/home/dev/fedbiomed-dev/notebooks/data/BIDS/ds006_modified/sub-01/ses-post/func/sub-01_ses-post_task-livingnonlivingdecisionwithplainormirrorreversedtext_run-01_bold.nii.gz',\n",
       " '/user/lchambon/home/dev/fedbiomed-dev/notebooks/data/BIDS/ds006_modified/sub-01/ses-post/func/sub-01_ses-post_task-livingnonlivingdecisionwithplainormirrorreversedtext_run-01_events.tsv',\n",
       " '/user/lchambon/home/dev/fedbiomed-dev/notebooks/data/BIDS/ds006_modified/sub-01/ses-post/func/sub-01_ses-post_task-livingnonlivingdecisionwithplainormirrorreversedtext_run-02_bold.nii.gz']"
      ]
     },
     "execution_count": 16,
     "metadata": {},
     "output_type": "execute_result"
    }
   ],
   "source": [
    "layout_ds006_modified.get(return_type='filename')[:10]"
   ]
  },
  {
   "cell_type": "markdown",
   "metadata": {},
   "source": [
    "We can retrieve all entities from all layouts in the scope"
   ]
  },
  {
   "cell_type": "code",
   "execution_count": 17,
   "metadata": {},
   "outputs": [
    {
     "data": {
      "text/plain": [
       "{'subject': <Entity subject (pattern=[/\\\\]+sub-([a-zA-Z0-9+]+), dtype=<class 'str'>)>,\n",
       " 'session': <Entity session (pattern=[_/\\\\]+ses-([a-zA-Z0-9+]+), dtype=<class 'str'>)>,\n",
       " 'sample': <Entity sample (pattern=[_/\\\\]+sample-([a-zA-Z0-9+]+), dtype=<class 'str'>)>,\n",
       " 'task': <Entity task (pattern=[_/\\\\]+task-([a-zA-Z0-9+]+), dtype=<class 'str'>)>,\n",
       " 'tracksys': <Entity tracksys (pattern=[_/\\\\]+tracksys-([a-zA-Z0-9+]+), dtype=<class 'str'>)>,\n",
       " 'acquisition': <Entity acquisition (pattern=[_/\\\\]+acq-([a-zA-Z0-9+]+), dtype=<class 'str'>)>,\n",
       " 'nucleus': <Entity nucleus (pattern=[_/\\\\]+nuc-([a-zA-Z0-9+]+), dtype=<class 'str'>)>,\n",
       " 'volume': <Entity volume (pattern=[_/\\\\]+voi-([a-zA-Z0-9+]+), dtype=<class 'str'>)>,\n",
       " 'ceagent': <Entity ceagent (pattern=[_/\\\\]+ce-([a-zA-Z0-9+]+), dtype=<class 'str'>)>,\n",
       " 'staining': <Entity staining (pattern=[_/\\\\]+stain-([a-zA-Z0-9+]+), dtype=<class 'str'>)>,\n",
       " 'tracer': <Entity tracer (pattern=[_/\\\\]+trc-([a-zA-Z0-9+]+), dtype=<class 'str'>)>,\n",
       " 'reconstruction': <Entity reconstruction (pattern=[_/\\\\]+rec-([a-zA-Z0-9+]+), dtype=<class 'str'>)>,\n",
       " 'direction': <Entity direction (pattern=[_/\\\\]+dir-([a-zA-Z0-9+]+), dtype=<class 'str'>)>,\n",
       " 'run': <Entity run (pattern=[_/\\\\]+run-(\\d+), dtype=<class 'bids.layout.utils.PaddedInt'>)>,\n",
       " 'proc': <Entity proc (pattern=[_/\\\\]+proc-([a-zA-Z0-9+]+), dtype=<class 'str'>)>,\n",
       " 'modality': <Entity modality (pattern=[_/\\\\]+mod-([a-zA-Z0-9+]+), dtype=<class 'str'>)>,\n",
       " 'echo': <Entity echo (pattern=[_/\\\\]+echo-([0-9]+), dtype=<class 'str'>)>,\n",
       " 'flip': <Entity flip (pattern=[_/\\\\]+flip-([0-9]+), dtype=<class 'str'>)>,\n",
       " 'inv': <Entity inv (pattern=[_/\\\\]+inv-([0-9]+), dtype=<class 'str'>)>,\n",
       " 'mt': <Entity mt (pattern=[_/\\\\]+mt-(on|off), dtype=<class 'str'>)>,\n",
       " 'part': <Entity part (pattern=[_/\\\\]+part-(imag|mag|phase|real), dtype=<class 'str'>)>,\n",
       " 'recording': <Entity recording (pattern=[_/\\\\]+recording-([a-zA-Z0-9+]+), dtype=<class 'str'>)>,\n",
       " 'space': <Entity space (pattern=[_/\\\\]+space-([a-zA-Z0-9+]+), dtype=<class 'str'>)>,\n",
       " 'chunk': <Entity chunk (pattern=[_/\\\\]+chunk-([0-9]+), dtype=<class 'str'>)>,\n",
       " 'suffix': <Entity suffix (pattern=(?:^|[_/\\\\])([a-zA-Z0-9+]+)\\.[^/\\\\]+$, dtype=<class 'str'>)>,\n",
       " 'scans': <Entity scans (pattern=(.*\\_scans.tsv)$, dtype=<class 'str'>)>,\n",
       " 'fmap': <Entity fmap (pattern=(phasediff|magnitude[1-2]|phase[1-2]|fieldmap|epi)\\.nii, dtype=<class 'str'>)>,\n",
       " 'datatype': <Entity datatype (pattern=[/\\\\]+(anat|beh|dwi|eeg|fmap|func|ieeg|meg|micr|motion|mrs|nirs|perf|pet)[/\\\\]+, dtype=<class 'str'>)>,\n",
       " 'extension': <Entity extension (pattern=[^./\\\\](\\.[^/\\\\]+)$, dtype=<class 'str'>)>,\n",
       " 'age': <Entity age (pattern=None, dtype=<class 'str'>)>,\n",
       " 'sex': <Entity sex (pattern=None, dtype=<class 'str'>)>,\n",
       " 'RepetitionTime': <Entity RepetitionTime (pattern=None, dtype=<class 'str'>)>,\n",
       " 'TaskName': <Entity TaskName (pattern=None, dtype=<class 'str'>)>}"
      ]
     },
     "execution_count": 17,
     "metadata": {},
     "output_type": "execute_result"
    }
   ],
   "source": [
    "layout_ds006_modified.entities # similar to layout_ds006_original.get_entities()"
   ]
  },
  {
   "cell_type": "code",
   "execution_count": 20,
   "metadata": {},
   "outputs": [
    {
     "name": "stdout",
     "output_type": "stream",
     "text": [
      "CT files:\n"
     ]
    }
   ],
   "source": [
    "file_paths = layout_ds006_modified.get(suffix='CT', return_type='filename')\n",
    "print(\"CT files:\", *file_paths, sep='\\n')"
   ]
  },
  {
   "cell_type": "code",
   "execution_count": null,
   "metadata": {},
   "outputs": [],
   "source": []
  }
 ],
 "metadata": {
  "kernelspec": {
   "display_name": "fedbiomed-dev",
   "language": "python",
   "name": "python3"
  },
  "language_info": {
   "codemirror_mode": {
    "name": "ipython",
    "version": 3
   },
   "file_extension": ".py",
   "mimetype": "text/x-python",
   "name": "python",
   "nbconvert_exporter": "python",
   "pygments_lexer": "ipython3",
   "version": "3.10.0"
  }
 },
 "nbformat": 4,
 "nbformat_minor": 2
}
