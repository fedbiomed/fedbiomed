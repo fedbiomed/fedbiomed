{
 "cells": [
  {
   "cell_type": "markdown",
   "source": [
    "# Fedbiomed Researcher"
   ],
   "metadata": {}
  },
  {
   "cell_type": "markdown",
   "source": [
    "Use for developing (autoreloads changes made across packages)"
   ],
   "metadata": {}
  },
  {
   "cell_type": "code",
   "execution_count": 1,
   "source": [
    "%load_ext autoreload\n",
    "%autoreload 2"
   ],
   "outputs": [],
   "metadata": {}
  },
  {
   "cell_type": "markdown",
   "source": [
    "## Setting the client up\n",
    "It is necessary to previously configure a node:\n",
    "1. `./scripts/fedbiomed_run node add`\n",
    "  * Select option 2 (default) to add MNIST to the client\n",
    "  * Confirm default tags by hitting \"y\" and ENTER\n",
    "  * Pick the folder where MNIST is downloaded (this is due torch issue https://github.com/pytorch/vision/issues/3549)\n",
    "  * Data must have been added (if you get a warning saying that data must be unique is because it's been already added)\n",
    "  \n",
    "2. Check that your data has been added by executing `./scripts/fedbiomed_run node list`\n",
    "3. Run the node using `./scripts/fedbiomed_run node run`. Wait until you get `Connected with result code 0`. it means you are online."
   ],
   "metadata": {}
  },
  {
   "cell_type": "markdown",
   "source": [
    "## Create an experiment to train a model on the data found"
   ],
   "metadata": {}
  },
  {
   "cell_type": "markdown",
   "source": [
    "Declare a torch.nn MyTrainingPlan class to send for training on the node"
   ],
   "metadata": {}
  },
  {
   "cell_type": "code",
   "execution_count": 2,
   "source": [
    "from fedbiomed.researcher.environ import TMP_DIR\n",
    "import tempfile\n",
    "tmp_dir_model = tempfile.TemporaryDirectory(dir=TMP_DIR+'/')\n",
    "model_file = tmp_dir_model.name + '/class_export_mnist.py'"
   ],
   "outputs": [],
   "metadata": {}
  },
  {
   "cell_type": "markdown",
   "source": [
    "Note : write **only** the code to export in the following cell"
   ],
   "metadata": {}
  },
  {
   "cell_type": "code",
   "execution_count": 3,
   "source": [
    "%%writefile \"$model_file\"\n",
    "\n",
    "import torch\n",
    "import torch.nn as nn\n",
    "from fedbiomed.common.torchnn import TorchTrainingPlan\n",
    "from torch.utils.data import DataLoader\n",
    "from torchvision import datasets, transforms\n",
    "\n",
    "# Here we define the model to be used. \n",
    "# You can use any class name (here 'Net')\n",
    "class MyTrainingPlan(TorchTrainingPlan):\n",
    "    def __init__(self):\n",
    "        super(MyTrainingPlan, self).__init__()\n",
    "        self.conv1 = nn.Conv2d(1, 32, 3, 1)\n",
    "        self.conv2 = nn.Conv2d(32, 64, 3, 1)\n",
    "        self.dropout1 = nn.Dropout(0.25)\n",
    "        self.dropout2 = nn.Dropout(0.5)\n",
    "        self.fc1 = nn.Linear(9216, 128)\n",
    "        self.fc2 = nn.Linear(128, 10)\n",
    "        \n",
    "        # Here we define the custom dependencies that will be needed by our custom Dataloader\n",
    "        # In this case, we need the torch DataLoader classes\n",
    "        # Since we will train on MNIST, we need datasets and transform from torchvision\n",
    "        deps = [\"from torchvision import datasets, transforms\",\n",
    "               \"from torch.utils.data import DataLoader\"]\n",
    "        self.add_dependency(deps)\n",
    "\n",
    "    def forward(self, x):\n",
    "        x = self.conv1(x)\n",
    "        x = F.relu(x)\n",
    "        x = self.conv2(x)\n",
    "        x = F.relu(x)\n",
    "        x = F.max_pool2d(x, 2)\n",
    "        x = self.dropout1(x)\n",
    "        x = torch.flatten(x, 1)\n",
    "        x = self.fc1(x)\n",
    "        x = F.relu(x)\n",
    "        x = self.dropout2(x)\n",
    "        x = self.fc2(x)\n",
    "        output = F.log_softmax(x, dim=1)\n",
    "        return output\n",
    "\n",
    "    def training_data(self, batch_size = 48):\n",
    "        # Custom torch Dataloader for MNIST data\n",
    "        transform = transforms.Compose([transforms.ToTensor(),\n",
    "        transforms.Normalize((0.1307,), (0.3081,))])\n",
    "        dataset1 = datasets.MNIST(self.dataset_path, train=True, download=False, transform=transform)\n",
    "        train_kwargs = {'batch_size': batch_size, 'shuffle': True}\n",
    "        data_loader = torch.utils.data.DataLoader(dataset1, **train_kwargs)\n",
    "        return data_loader\n",
    "    \n",
    "    def training_step(self, data, target):\n",
    "        output = self.forward(data)\n",
    "        loss   = torch.nn.functional.nll_loss(output, target)\n",
    "        return loss\n"
   ],
   "outputs": [
    {
     "output_type": "stream",
     "name": "stdout",
     "text": [
      "Writing /home/scansiz/Desktop/Inria/development/fedbiomed/var/tmp/tmpjyj2njkn/class_export_mnist.py\n"
     ]
    }
   ],
   "metadata": {}
  },
  {
   "cell_type": "markdown",
   "source": [
    "This group of arguments correspond respectively:\n",
    "* `model_args`: a dictionary with the arguments related to the model (e.g. number of layers, features, etc.). This will be passed to the model class on the client side.\n",
    "* `training_args`: a dictionary containing the arguments for the training routine (e.g. batch size, learning rate, epochs, etc.). This will be passed to the routine on the client side.\n",
    "\n",
    "**NOTE:** typos and/or lack of positional (required) arguments will raise error. 🤓"
   ],
   "metadata": {}
  },
  {
   "cell_type": "code",
   "execution_count": 4,
   "source": [
    "model_args = {}\n",
    "\n",
    "training_args = {\n",
    "    'batch_size': 48, \n",
    "    'lr': 1e-3, \n",
    "    'epochs': 2, \n",
    "    'dry_run': False,  \n",
    "    'batch_maxnum': 100 # Fast pass for development : only use ( batch_maxnum * batch_size ) samples\n",
    "}"
   ],
   "outputs": [],
   "metadata": {
    "pycharm": {
     "name": "#%%\n"
    }
   }
  },
  {
   "cell_type": "markdown",
   "source": [
    "Define an experiment\n",
    "- search nodes serving data for these `tags`, optionally filter on a list of client ID with `clients`\n",
    "- run a round of local training on nodes with model defined in `model_path` + federation with `aggregator`\n",
    "- run for `rounds` rounds, applying the `client_selection_strategy` between the rounds"
   ],
   "metadata": {}
  },
  {
   "cell_type": "code",
   "execution_count": 5,
   "source": [
    "from fedbiomed.researcher.experiment import Experiment\n",
    "from fedbiomed.researcher.aggregators.fedavg import FedAverage\n",
    "\n",
    "tags =  ['#MNIST', '#dataset']\n",
    "rounds = 1\n",
    "\n",
    "exp = Experiment(tags=tags,\n",
    "                 #clients=None,\n",
    "                 model_path=model_file,\n",
    "                 model_args=model_args,\n",
    "                 model_class='MyTrainingPlan',\n",
    "                 training_args=training_args,\n",
    "                 rounds=rounds,\n",
    "                 aggregator=FedAverage(),\n",
    "                 client_selection_strategy=None,\n",
    "                 tensorboard=True\n",
    "                )"
   ],
   "outputs": [
    {
     "output_type": "stream",
     "name": "stderr",
     "text": [
      "2021-10-08 15:09:40,270 fedbiomed INFO - Messaging researcher_110678ac-6a6d-4c79-83c6-4d12b7d826f5 successfully connected to the message broker, object = <fedbiomed.common.messaging.Messaging object at 0x7f9a9a3b5d00>\n",
      "2021-10-08 15:09:40,296 fedbiomed INFO - Searching for clients with data tags: ['#MNIST', '#dataset']\n",
      "2021-10-08 15:09:40,300 fedbiomed INFO - message received:{'researcher_id': 'researcher_110678ac-6a6d-4c79-83c6-4d12b7d826f5', 'success': True, 'databases': [{'name': 'MNIST', 'data_type': 'default', 'tags': ['#MNIST', '#dataset'], 'description': 'MNIST database', 'shape': [60000, 1, 28, 28], 'dataset_id': 'dataset_62923c06-71fa-4ae8-9da8-006c15ca8282'}], 'count': 1, 'node_id': 'client_d229b7f8-bae0-451b-9be1-647f2de8b5da', 'command': 'search'}\n",
      "2021-10-08 15:09:50,676 fedbiomed INFO - Messaging NodeTrainingFeedbackClient successfully connected to the message broker, object = <fedbiomed.common.messaging.Messaging object at 0x7f9a984a9eb0>\n"
     ]
    }
   ],
   "metadata": {
    "pycharm": {
     "name": "#%%\n"
    },
    "scrolled": true
   }
  },
  {
   "cell_type": "markdown",
   "source": [
    "Start tensorboard to see loss value after every iteration during training. It is normal to see empty screen. After you run the experiment you will be able to see the changes on the dashboard. Notebook will refresh results in every 30 seconds. You can also click refresh button to see current training steps. "
   ],
   "metadata": {}
  },
  {
   "cell_type": "code",
   "execution_count": null,
   "source": [
    "from fedbiomed.researcher.environ import ROOT_DIR"
   ],
   "outputs": [],
   "metadata": {}
  },
  {
   "cell_type": "code",
   "execution_count": 6,
   "source": [
    "%load_ext tensorboard"
   ],
   "outputs": [],
   "metadata": {}
  },
  {
   "cell_type": "code",
   "execution_count": 7,
   "source": [
    "tensorboard --logdir \"$ROOT_DIR\"/runs"
   ],
   "outputs": [
    {
     "output_type": "display_data",
     "data": {
      "text/html": [
       "\n",
       "      <iframe id=\"tensorboard-frame-42e4f65b29c4f0aa\" width=\"100%\" height=\"800\" frameborder=\"0\">\n",
       "      </iframe>\n",
       "      <script>\n",
       "        (function() {\n",
       "          const frame = document.getElementById(\"tensorboard-frame-42e4f65b29c4f0aa\");\n",
       "          const url = new URL(\"/\", window.location);\n",
       "          const port = 6006;\n",
       "          if (port) {\n",
       "            url.port = port;\n",
       "          }\n",
       "          frame.src = url;\n",
       "        })();\n",
       "      </script>\n",
       "    "
      ],
      "text/plain": [
       "<IPython.core.display.HTML object>"
      ]
     },
     "metadata": {}
    }
   ],
   "metadata": {}
  },
  {
   "cell_type": "markdown",
   "source": [
    "Let's start the experiment.\n",
    "\n",
    "By default, this function doesn't stop until all the `rounds` are done for all the clients"
   ],
   "metadata": {
    "pycharm": {
     "name": "#%% md\n"
    }
   }
  },
  {
   "cell_type": "code",
   "execution_count": 8,
   "source": [
    "exp.run()"
   ],
   "outputs": [
    {
     "output_type": "stream",
     "name": "stderr",
     "text": [
      "2021-10-08 15:09:58,047 fedbiomed INFO - Sampled clients in round 0 ['client_d229b7f8-bae0-451b-9be1-647f2de8b5da']\n",
      "2021-10-08 15:09:58,048 fedbiomed INFO - Send message to client client_d229b7f8-bae0-451b-9be1-647f2de8b5da - {'researcher_id': 'researcher_110678ac-6a6d-4c79-83c6-4d12b7d826f5', 'job_id': 'a82b202c-6cc5-4bce-8f62-aa833fd546e0', 'training_args': {'batch_size': 48, 'lr': 0.001, 'epochs': 2, 'dry_run': False, 'batch_maxnum': 100}, 'model_args': {}, 'command': 'train', 'model_url': 'http://localhost:8844/media/uploads/2021/10/08/my_model_b6891062-0aaf-4336-9018-1684e5786f25.py', 'params_url': 'http://localhost:8844/media/uploads/2021/10/08/my_model_7976def8-ac77-466f-a40f-7c8ada207879.pt', 'model_class': 'MyTrainingPlan', 'training_data': {'client_d229b7f8-bae0-451b-9be1-647f2de8b5da': ['dataset_62923c06-71fa-4ae8-9da8-006c15ca8282']}}\n",
      "2021-10-08 15:09:58,048 fedbiomed DEBUG - researcher_110678ac-6a6d-4c79-83c6-4d12b7d826f5\n",
      "2021-10-08 15:09:58,216 fedbiomed INFO - Round: 0 Node: client_d229b7f8-bae0-451b-9be1-647f2de8b5da - Train Epoch: 1 [Batch 0 ]\tLoss: 2.306088\n",
      "2021-10-08 15:09:58,733 fedbiomed INFO - Round: 0 Node: client_d229b7f8-bae0-451b-9be1-647f2de8b5da - Train Epoch: 1 [Batch 10 ]\tLoss: 1.264349\n",
      "2021-10-08 15:09:59,441 fedbiomed INFO - Round: 0 Node: client_d229b7f8-bae0-451b-9be1-647f2de8b5da - Train Epoch: 1 [Batch 20 ]\tLoss: 1.021190\n",
      "2021-10-08 15:10:00,474 fedbiomed INFO - Round: 0 Node: client_d229b7f8-bae0-451b-9be1-647f2de8b5da - Train Epoch: 1 [Batch 30 ]\tLoss: 0.833573\n",
      "2021-10-08 15:10:00,990 fedbiomed INFO - Round: 0 Node: client_d229b7f8-bae0-451b-9be1-647f2de8b5da - Train Epoch: 1 [Batch 40 ]\tLoss: 0.923820\n",
      "2021-10-08 15:10:01,480 fedbiomed INFO - Round: 0 Node: client_d229b7f8-bae0-451b-9be1-647f2de8b5da - Train Epoch: 1 [Batch 50 ]\tLoss: 0.421573\n",
      "2021-10-08 15:10:02,336 fedbiomed INFO - Round: 0 Node: client_d229b7f8-bae0-451b-9be1-647f2de8b5da - Train Epoch: 1 [Batch 60 ]\tLoss: 0.362671\n",
      "2021-10-08 15:10:03,463 fedbiomed INFO - Round: 0 Node: client_d229b7f8-bae0-451b-9be1-647f2de8b5da - Train Epoch: 1 [Batch 70 ]\tLoss: 0.393555\n",
      "2021-10-08 15:10:04,434 fedbiomed INFO - Round: 0 Node: client_d229b7f8-bae0-451b-9be1-647f2de8b5da - Train Epoch: 1 [Batch 80 ]\tLoss: 0.301858\n",
      "2021-10-08 15:10:05,043 fedbiomed INFO - Round: 0 Node: client_d229b7f8-bae0-451b-9be1-647f2de8b5da - Train Epoch: 1 [Batch 90 ]\tLoss: 0.166743\n",
      "2021-10-08 15:10:05,924 fedbiomed INFO - Round: 0 Node: client_d229b7f8-bae0-451b-9be1-647f2de8b5da - Train Epoch: 2 [Batch 0 ]\tLoss: 0.149021\n",
      "2021-10-08 15:10:06,547 fedbiomed INFO - Round: 0 Node: client_d229b7f8-bae0-451b-9be1-647f2de8b5da - Train Epoch: 2 [Batch 10 ]\tLoss: 0.220427\n",
      "2021-10-08 15:10:07,528 fedbiomed INFO - Round: 0 Node: client_d229b7f8-bae0-451b-9be1-647f2de8b5da - Train Epoch: 2 [Batch 20 ]\tLoss: 0.236313\n",
      "2021-10-08 15:10:08,129 fedbiomed INFO - Round: 0 Node: client_d229b7f8-bae0-451b-9be1-647f2de8b5da - Train Epoch: 2 [Batch 30 ]\tLoss: 0.355983\n",
      "2021-10-08 15:10:09,309 fedbiomed INFO - Round: 0 Node: client_d229b7f8-bae0-451b-9be1-647f2de8b5da - Train Epoch: 2 [Batch 40 ]\tLoss: 0.219200\n",
      "2021-10-08 15:10:10,009 fedbiomed INFO - Round: 0 Node: client_d229b7f8-bae0-451b-9be1-647f2de8b5da - Train Epoch: 2 [Batch 50 ]\tLoss: 0.293514\n",
      "2021-10-08 15:10:10,699 fedbiomed INFO - Round: 0 Node: client_d229b7f8-bae0-451b-9be1-647f2de8b5da - Train Epoch: 2 [Batch 60 ]\tLoss: 0.094516\n",
      "2021-10-08 15:10:11,421 fedbiomed INFO - Round: 0 Node: client_d229b7f8-bae0-451b-9be1-647f2de8b5da - Train Epoch: 2 [Batch 70 ]\tLoss: 0.263207\n",
      "2021-10-08 15:10:12,183 fedbiomed INFO - Round: 0 Node: client_d229b7f8-bae0-451b-9be1-647f2de8b5da - Train Epoch: 2 [Batch 80 ]\tLoss: 0.174403\n",
      "2021-10-08 15:10:12,819 fedbiomed INFO - Round: 0 Node: client_d229b7f8-bae0-451b-9be1-647f2de8b5da - Train Epoch: 2 [Batch 90 ]\tLoss: 0.247794\n",
      "2021-10-08 15:10:13,926 fedbiomed INFO - message received:{'researcher_id': 'researcher_110678ac-6a6d-4c79-83c6-4d12b7d826f5', 'job_id': 'a82b202c-6cc5-4bce-8f62-aa833fd546e0', 'success': True, 'node_id': 'client_d229b7f8-bae0-451b-9be1-647f2de8b5da', 'dataset_id': 'dataset_62923c06-71fa-4ae8-9da8-006c15ca8282', 'params_url': 'http://localhost:8844/media/uploads/2021/10/08/node_params_5ce7a1d4-7d5b-4e6b-9ca4-d6edcd0fef86.pt', 'timing': {'rtime_training': 15.528954698995221, 'ptime_training': 61.218446022}, 'msg': '', 'command': 'train'}\n",
      "2021-10-08 15:10:23,081 fedbiomed INFO - Downloading model params after training on client_d229b7f8-bae0-451b-9be1-647f2de8b5da - from http://localhost:8844/media/uploads/2021/10/08/node_params_5ce7a1d4-7d5b-4e6b-9ca4-d6edcd0fef86.pt\n",
      "2021-10-08 15:10:23,143 fedbiomed INFO - Clients that successfully reply in round 0 ['client_d229b7f8-bae0-451b-9be1-647f2de8b5da']\n",
      "2021-10-08 15:10:45,572 fedbiomed INFO - message received:{'researcher_id': 'researcher_110678ac-6a6d-4c79-83c6-4d12b7d826f5', 'success': True, 'databases': [{'name': 'MNIST', 'data_type': 'default', 'tags': ['#MNIST', '#dataset'], 'description': 'MNIST database', 'shape': [60000, 1, 28, 28], 'dataset_id': 'dataset_62923c06-71fa-4ae8-9da8-006c15ca8282'}], 'count': 1, 'node_id': 'client_d229b7f8-bae0-451b-9be1-647f2de8b5da', 'command': 'search'}\n",
      "2021-10-08 15:10:58,382 fedbiomed INFO - Round: 0 Node: client_d229b7f8-bae0-451b-9be1-647f2de8b5da - Train Epoch: 1 [Batch 0 ]\tLoss: 2.288423\n",
      "2021-10-08 15:10:58,888 fedbiomed INFO - Round: 0 Node: client_d229b7f8-bae0-451b-9be1-647f2de8b5da - Train Epoch: 1 [Batch 10 ]\tLoss: 1.190506\n",
      "2021-10-08 15:10:59,600 fedbiomed INFO - Round: 0 Node: client_d229b7f8-bae0-451b-9be1-647f2de8b5da - Train Epoch: 1 [Batch 20 ]\tLoss: 0.755107\n",
      "2021-10-08 15:11:00,085 fedbiomed INFO - Round: 0 Node: client_d229b7f8-bae0-451b-9be1-647f2de8b5da - Train Epoch: 1 [Batch 30 ]\tLoss: 0.799862\n",
      "2021-10-08 15:11:00,561 fedbiomed INFO - Round: 0 Node: client_d229b7f8-bae0-451b-9be1-647f2de8b5da - Train Epoch: 1 [Batch 40 ]\tLoss: 0.600716\n",
      "2021-10-08 15:11:01,030 fedbiomed INFO - Round: 0 Node: client_d229b7f8-bae0-451b-9be1-647f2de8b5da - Train Epoch: 1 [Batch 50 ]\tLoss: 0.529872\n",
      "2021-10-08 15:11:01,533 fedbiomed INFO - Round: 0 Node: client_d229b7f8-bae0-451b-9be1-647f2de8b5da - Train Epoch: 1 [Batch 60 ]\tLoss: 0.290061\n",
      "2021-10-08 15:11:02,010 fedbiomed INFO - Round: 0 Node: client_d229b7f8-bae0-451b-9be1-647f2de8b5da - Train Epoch: 1 [Batch 70 ]\tLoss: 0.225550\n",
      "2021-10-08 15:11:02,568 fedbiomed INFO - Round: 0 Node: client_d229b7f8-bae0-451b-9be1-647f2de8b5da - Train Epoch: 1 [Batch 80 ]\tLoss: 0.337361\n",
      "2021-10-08 15:11:03,132 fedbiomed INFO - Round: 0 Node: client_d229b7f8-bae0-451b-9be1-647f2de8b5da - Train Epoch: 1 [Batch 90 ]\tLoss: 0.384333\n",
      "2021-10-08 15:11:03,892 fedbiomed INFO - message received:{'researcher_id': 'researcher_110678ac-6a6d-4c79-83c6-4d12b7d826f5', 'job_id': '74e04f45-b7f8-4ff6-a17f-9043b41b006a', 'success': True, 'node_id': 'client_d229b7f8-bae0-451b-9be1-647f2de8b5da', 'dataset_id': 'dataset_62923c06-71fa-4ae8-9da8-006c15ca8282', 'params_url': 'http://localhost:8844/media/uploads/2021/10/08/node_params_967d804e-a01b-452c-a55c-d4cbb6f5dc86.pt', 'timing': {'rtime_training': 5.455141761005507, 'ptime_training': 21.575849554}, 'msg': '', 'command': 'train'}\n",
      "2021-10-08 15:11:13,641 fedbiomed INFO - Round: 0 Node: client_d229b7f8-bae0-451b-9be1-647f2de8b5da - Train Epoch: 1 [Batch 0 ]\tLoss: 0.270512\n",
      "2021-10-08 15:11:14,264 fedbiomed INFO - Round: 0 Node: client_d229b7f8-bae0-451b-9be1-647f2de8b5da - Train Epoch: 1 [Batch 10 ]\tLoss: 0.408412\n",
      "2021-10-08 15:11:14,925 fedbiomed INFO - Round: 0 Node: client_d229b7f8-bae0-451b-9be1-647f2de8b5da - Train Epoch: 1 [Batch 20 ]\tLoss: 0.331950\n",
      "2021-10-08 15:11:15,471 fedbiomed INFO - Round: 0 Node: client_d229b7f8-bae0-451b-9be1-647f2de8b5da - Train Epoch: 1 [Batch 30 ]\tLoss: 0.161081\n",
      "2021-10-08 15:11:15,968 fedbiomed INFO - Round: 0 Node: client_d229b7f8-bae0-451b-9be1-647f2de8b5da - Train Epoch: 1 [Batch 40 ]\tLoss: 0.242156\n",
      "2021-10-08 15:11:16,480 fedbiomed INFO - Round: 0 Node: client_d229b7f8-bae0-451b-9be1-647f2de8b5da - Train Epoch: 1 [Batch 50 ]\tLoss: 0.495011\n",
      "2021-10-08 15:11:16,964 fedbiomed INFO - Round: 0 Node: client_d229b7f8-bae0-451b-9be1-647f2de8b5da - Train Epoch: 1 [Batch 60 ]\tLoss: 0.249000\n",
      "2021-10-08 15:11:17,461 fedbiomed INFO - Round: 0 Node: client_d229b7f8-bae0-451b-9be1-647f2de8b5da - Train Epoch: 1 [Batch 70 ]\tLoss: 0.205523\n"
     ]
    },
    {
     "output_type": "stream",
     "name": "stderr",
     "text": [
      "2021-10-08 15:11:17,973 fedbiomed INFO - Round: 0 Node: client_d229b7f8-bae0-451b-9be1-647f2de8b5da - Train Epoch: 1 [Batch 80 ]\tLoss: 0.196693\n",
      "2021-10-08 15:11:18,463 fedbiomed INFO - Round: 0 Node: client_d229b7f8-bae0-451b-9be1-647f2de8b5da - Train Epoch: 1 [Batch 90 ]\tLoss: 0.292109\n",
      "2021-10-08 15:11:19,129 fedbiomed INFO - message received:{'researcher_id': 'researcher_110678ac-6a6d-4c79-83c6-4d12b7d826f5', 'job_id': '74e04f45-b7f8-4ff6-a17f-9043b41b006a', 'success': True, 'node_id': 'client_d229b7f8-bae0-451b-9be1-647f2de8b5da', 'dataset_id': 'dataset_62923c06-71fa-4ae8-9da8-006c15ca8282', 'params_url': 'http://localhost:8844/media/uploads/2021/10/08/node_params_6546165a-65c0-4c84-bdda-903a3114efc8.pt', 'timing': {'rtime_training': 5.4004464729951, 'ptime_training': 21.41660302599999}, 'msg': '', 'command': 'train'}\n"
     ]
    }
   ],
   "metadata": {
    "pycharm": {
     "name": "#%%\n"
    },
    "scrolled": false
   }
  },
  {
   "cell_type": "markdown",
   "source": [
    "To display current values please click refresh button on the TensorBoard screen"
   ],
   "metadata": {}
  },
  {
   "cell_type": "markdown",
   "source": [
    "Local training results for each round and each node are available in `exp.training_replies` (index 0 to (`rounds` - 1) ).\n",
    "\n",
    "For example you can view the training results for the last round below.\n",
    "\n",
    "Different timings (in seconds) are reported for each dataset of a node participating in a round :\n",
    "- `rtime_training` real time (clock time) spent in the training function on the node\n",
    "- `ptime_training` process time (user and system CPU) spent in the training function on the node\n",
    "- `rtime_total` real time (clock time) spent in the researcher between sending the request and handling the response, at the `Job()` layer"
   ],
   "metadata": {}
  },
  {
   "cell_type": "code",
   "execution_count": null,
   "source": [
    "print(\"\\nList the training rounds : \", exp.training_replies.keys())\n",
    "\n",
    "print(\"\\nList the clients for the last training round and their timings : \")\n",
    "round_data = exp.training_replies[rounds - 1].data\n",
    "for c in range(len(round_data)):\n",
    "    print(\"\\t- {id} :\\\n",
    "    \\n\\t\\trtime_training={rtraining:.2f} seconds\\\n",
    "    \\n\\t\\tptime_training={ptraining:.2f} seconds\\\n",
    "    \\n\\t\\trtime_total={rtotal:.2f} seconds\".format(id = round_data[c]['node_id'],\n",
    "        rtraining = round_data[c]['timing']['rtime_training'],\n",
    "        ptraining = round_data[c]['timing']['ptime_training'],\n",
    "        rtotal = round_data[c]['timing']['rtime_total']))\n",
    "print('\\n')\n",
    "    \n",
    "exp.training_replies[rounds - 1].dataframe"
   ],
   "outputs": [],
   "metadata": {
    "pycharm": {
     "name": "#%%\n"
    },
    "scrolled": true
   }
  },
  {
   "cell_type": "markdown",
   "source": [
    "Federated parameters for each round are available in `exp.aggregated_params` (index 0 to (`rounds` - 1) ).\n",
    "\n",
    "For example you can view the federated parameters for the last round of the experiment :"
   ],
   "metadata": {}
  },
  {
   "cell_type": "code",
   "execution_count": null,
   "source": [
    "print(\"\\nList the training rounds : \", exp.aggregated_params.keys())\n",
    "\n",
    "print(\"\\nAccess the federated params for the last training round :\")\n",
    "print(\"\\t- params_path: \", exp.aggregated_params[rounds - 1]['params_path'])\n",
    "print(\"\\t- parameter data: \", exp.aggregated_params[rounds - 1]['params'].keys())\n"
   ],
   "outputs": [],
   "metadata": {}
  },
  {
   "cell_type": "markdown",
   "source": [
    "## Optional : searching the data"
   ],
   "metadata": {}
  },
  {
   "cell_type": "code",
   "execution_count": null,
   "source": [
    "from fedbiomed.researcher.requests import Requests\n",
    "\n",
    "r = Requests()\n",
    "data = r.search(tags)\n",
    "\n",
    "import pandas as pd\n",
    "for node_id in data.keys():\n",
    "    print('\\n','Data for ', node_id, '\\n\\n', pd.DataFrame(data[node_id]))"
   ],
   "outputs": [],
   "metadata": {}
  },
  {
   "cell_type": "markdown",
   "source": [
    "## Optional : clean file repository (do not run unless necessary)\n",
    "Clean all the files in the repo via the rest API."
   ],
   "metadata": {
    "pycharm": {
     "name": "#%% md\n"
    }
   }
  },
  {
   "cell_type": "code",
   "execution_count": null,
   "source": [
    "# import requests\n",
    "# from fedbiomed.researcher.environ import UPLOADS_URL\n",
    "\n",
    "# uploaded_models = requests.get(UPLOADS_URL).json()\n",
    "# for m in uploaded_models:\n",
    "#   requests.delete(m['url'])"
   ],
   "outputs": [],
   "metadata": {
    "pycharm": {
     "name": "#%% md\n"
    }
   }
  },
  {
   "cell_type": "markdown",
   "source": [
    "Feel free to try your own models :D"
   ],
   "metadata": {
    "pycharm": {
     "name": "#%%\n"
    }
   }
  }
 ],
 "metadata": {
  "kernelspec": {
   "display_name": "Python 3 (ipykernel)",
   "language": "python",
   "name": "python3"
  },
  "language_info": {
   "codemirror_mode": {
    "name": "ipython",
    "version": 3
   },
   "file_extension": ".py",
   "mimetype": "text/x-python",
   "name": "python",
   "nbconvert_exporter": "python",
   "pygments_lexer": "ipython3",
   "version": "3.9.7"
  }
 },
 "nbformat": 4,
 "nbformat_minor": 1
}
