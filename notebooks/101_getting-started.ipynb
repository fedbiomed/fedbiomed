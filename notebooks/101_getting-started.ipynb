{
 "cells": [
  {
   "cell_type": "markdown",
   "metadata": {},
   "source": [
    "# Fed-BioMed Researcher base example\n",
    "\n",
    "This example uses MNIST dataset. Please check `README.md` file in `notebooks` directory for the instructions to load MNIST dataset and configure nodes.\n"
   ]
  },
  {
   "cell_type": "code",
   "execution_count": 1,
   "metadata": {},
   "outputs": [
    {
     "name": "stderr",
     "output_type": "stream",
     "text": [
      "/Users/scansiz/miniforge3/envs/fbm-dev/lib/python3.10/site-packages/tqdm/auto.py:21: TqdmWarning: IProgress not found. Please update jupyter and ipywidgets. See https://ipywidgets.readthedocs.io/en/stable/user_install.html\n",
      "  from .autonotebook import tqdm as notebook_tqdm\n"
     ]
    },
    {
     "data": {
      "text/plain": [
       "'/Users/scansiz/development/fedbiomed/fbm-researcher/var/experiments'"
      ]
     },
     "execution_count": 1,
     "metadata": {},
     "output_type": "execute_result"
    }
   ],
   "source": [
    "from fedbiomed.researcher.environ import environ\n",
    "environ[\"EXPERIMENTS_DIR\"]"
   ]
  },
  {
   "cell_type": "code",
   "execution_count": null,
   "metadata": {},
   "outputs": [],
   "source": []
  },
  {
   "cell_type": "markdown",
   "metadata": {},
   "source": [
    "## Define an experiment model and parameters"
   ]
  },
  {
   "cell_type": "markdown",
   "metadata": {},
   "source": [
    "Declare a torch training plan MyTrainingPlan class to send for training on the node"
   ]
  },
  {
   "cell_type": "code",
   "execution_count": 1,
   "metadata": {},
   "outputs": [],
   "source": [
    "import torch\n",
    "import torch.nn as nn\n",
    "from fedbiomed.common.training_plans import TorchTrainingPlan\n",
    "from fedbiomed.common.data import DataManager\n",
    "from torchvision import datasets, transforms\n",
    "\n",
    "\n",
    "# Here we define the model to be used. \n",
    "# You can use any class name (here 'Net')\n",
    "class MyTrainingPlan(TorchTrainingPlan):\n",
    "    \n",
    "    # Defines and return model \n",
    "    def init_model(self, model_args):\n",
    "        return self.Net(model_args = model_args)\n",
    "    \n",
    "    # Defines and return optimizer\n",
    "    def init_optimizer(self, optimizer_args):\n",
    "        return torch.optim.Adam(self.model().parameters(), lr = optimizer_args[\"lr\"])\n",
    "    \n",
    "    # Declares and return dependencies\n",
    "    def init_dependencies(self):\n",
    "        deps = [\"from torchvision import datasets, transforms\"]\n",
    "        return deps\n",
    "    \n",
    "    class Net(nn.Module):\n",
    "        def __init__(self, model_args):\n",
    "            super().__init__()\n",
    "            self.conv1 = nn.Conv2d(1, 32, 3, 1)\n",
    "            self.conv2 = nn.Conv2d(32, 64, 3, 1)\n",
    "            self.dropout1 = nn.Dropout(0.25)\n",
    "            self.dropout2 = nn.Dropout(0.5)\n",
    "            self.fc1 = nn.Linear(9216, 128)\n",
    "            self.fc2 = nn.Linear(128, 10)\n",
    "\n",
    "        def forward(self, x):\n",
    "            x = self.conv1(x)\n",
    "            x = F.relu(x)\n",
    "            x = self.conv2(x)\n",
    "            x = F.relu(x)\n",
    "            x = F.max_pool2d(x, 2)\n",
    "            x = self.dropout1(x)\n",
    "            x = torch.flatten(x, 1)\n",
    "            x = self.fc1(x)\n",
    "            x = F.relu(x)\n",
    "            x = self.dropout2(x)\n",
    "            x = self.fc2(x)\n",
    "\n",
    "\n",
    "            output = F.log_softmax(x, dim=1)\n",
    "            return output\n",
    "\n",
    "    def training_data(self):\n",
    "        # Custom torch Dataloader for MNIST data\n",
    "        transform = transforms.Compose([transforms.ToTensor(),\n",
    "        transforms.Normalize((0.1307,), (0.3081,))])\n",
    "        dataset1 = datasets.MNIST(self.dataset_path, train=True, download=False, transform=transform)\n",
    "        train_kwargs = { 'shuffle': True}\n",
    "        return DataManager(dataset=dataset1, **train_kwargs)\n",
    "    \n",
    "    def training_step(self, data, target):\n",
    "        output = self.model().forward(data)\n",
    "        loss   = torch.nn.functional.nll_loss(output, target)\n",
    "        return loss\n"
   ]
  },
  {
   "cell_type": "markdown",
   "metadata": {},
   "source": [
    "### Model arguments and training arguments"
   ]
  },
  {
   "cell_type": "code",
   "execution_count": 2,
   "metadata": {
    "pycharm": {
     "name": "#%%\n"
    }
   },
   "outputs": [],
   "source": [
    "from fedbiomed.common.metrics import MetricTypes\n",
    "model_args = {}\n",
    "\n",
    "training_args = {\n",
    "    'loader_args': { 'batch_size': 48, }, \n",
    "    'optimizer_args': {\n",
    "        \"lr\" : 1e-3\n",
    "    },\n",
    "    #'test_ratio' : 0.25,\n",
    "    #'test_batch_size': 64,\n",
    "    #'test_metric': MetricTypes.F1_SCORE,\n",
    "    #'test_on_global_updates': True,\n",
    "    #'test_on_local_updates': True,\n",
    "    #'test_metric_args': {'average': 'marco'},\n",
    "    # 'use_gpu': True,  # automatically falls back to cpu on nodes that don't support gpu\n",
    "    'epochs': 1, \n",
    "    'dry_run': False,  \n",
    "    'batch_maxnum': 100 # Fast pass for development : only use ( batch_maxnum * batch_size ) samples\n",
    "}"
   ]
  },
  {
   "cell_type": "markdown",
   "metadata": {},
   "source": [
    "### Create and run the experiment"
   ]
  },
  {
   "cell_type": "code",
   "execution_count": 3,
   "metadata": {
    "pycharm": {
     "name": "#%%\n"
    }
   },
   "outputs": [
    {
     "data": {
      "text/plain": [
       "2024-11-08 09:45:09,288 fedbiomed INFO - Starting researcher service..."
      ]
     },
     "metadata": {},
     "output_type": "display_data"
    },
    {
     "data": {
      "text/plain": [
       "2024-11-08 09:45:09,290 fedbiomed INFO - Waiting 3s for nodes to connect..."
      ]
     },
     "metadata": {},
     "output_type": "display_data"
    },
    {
     "data": {
      "text/plain": [
       "2024-11-08 09:45:10,244 fedbiomed DEBUG - Node: NODE_933f1657-1ddc-41b3-ba75-c20aad4aef89 polling for the tasks"
      ]
     },
     "metadata": {},
     "output_type": "display_data"
    },
    {
     "data": {
      "text/plain": [
       "2024-11-08 09:45:10,422 fedbiomed DEBUG - Node: NODE_46be388b-3c9b-4ede-9608-f99c519ae60b polling for the tasks"
      ]
     },
     "metadata": {},
     "output_type": "display_data"
    },
    {
     "data": {
      "text/plain": [
       "2024-11-08 09:45:12,294 fedbiomed INFO - Updating training data. This action will update FederatedDataset, and the nodes that will participate to the experiment."
      ]
     },
     "metadata": {},
     "output_type": "display_data"
    },
    {
     "data": {
      "text/plain": [
       "2024-11-08 09:45:12,303 fedbiomed DEBUG - Node: NODE_46be388b-3c9b-4ede-9608-f99c519ae60b polling for the tasks"
      ]
     },
     "metadata": {},
     "output_type": "display_data"
    },
    {
     "data": {
      "text/plain": [
       "2024-11-08 09:45:12,304 fedbiomed DEBUG - Node: NODE_933f1657-1ddc-41b3-ba75-c20aad4aef89 polling for the tasks"
      ]
     },
     "metadata": {},
     "output_type": "display_data"
    },
    {
     "data": {
      "text/plain": [
       "2024-11-08 09:45:12,311 fedbiomed INFO - Node selected for training -> NODE_933f1657-1ddc-41b3-ba75-c20aad4aef89"
      ]
     },
     "metadata": {},
     "output_type": "display_data"
    },
    {
     "data": {
      "text/plain": [
       "2024-11-08 09:45:12,312 fedbiomed INFO - Node selected for training -> NODE_46be388b-3c9b-4ede-9608-f99c519ae60b"
      ]
     },
     "metadata": {},
     "output_type": "display_data"
    },
    {
     "name": "stdout",
     "output_type": "stream",
     "text": [
      "<function extract_symbols at 0x1050a4f70>\n"
     ]
    },
    {
     "data": {
      "text/plain": [
       "2024-11-08 09:45:12,324 fedbiomed DEBUG - Model file has been saved: /Users/scansiz/development/workdir/fbm-researcher/var/experiments/Experiment_0000/model_940e5556-5180-4433-bb06-54ca0a00c7ba.py"
      ]
     },
     "metadata": {},
     "output_type": "display_data"
    },
    {
     "name": "stderr",
     "output_type": "stream",
     "text": [
      "Secure RNG turned off. This is perfectly fine for experimentation as it allows for much faster training performance, but remember to turn it on and retrain one last time before production with ``secure_mode`` turned on.\n"
     ]
    }
   ],
   "source": [
    "from fedbiomed.researcher.federated_workflows import Experiment\n",
    "from fedbiomed.researcher.aggregators.fedavg import FedAverage\n",
    "\n",
    "tags =  ['#MNIST', '#dataset']\n",
    "rounds = 2\n",
    "\n",
    "exp = Experiment(tags=tags,\n",
    "                 model_args=model_args,\n",
    "                 training_plan_class=MyTrainingPlan,\n",
    "                 training_args=training_args,\n",
    "                 round_limit=rounds,\n",
    "                 aggregator=FedAverage(),\n",
    "                 node_selection_strategy=None,\n",
    "                save_breakpoints=True,\n",
    "                )"
   ]
  },
  {
   "cell_type": "code",
   "execution_count": 4,
   "metadata": {
    "pycharm": {
     "name": "#%%\n"
    }
   },
   "outputs": [
    {
     "data": {
      "text/plain": [
       "2024-11-08 09:45:15,502 fedbiomed INFO - Sampled nodes in round 0 ['NODE_933f1657-1ddc-41b3-ba75-c20aad4aef89', 'NODE_46be388b-3c9b-4ede-9608-f99c519ae60b']"
      ]
     },
     "metadata": {},
     "output_type": "display_data"
    },
    {
     "name": "stdout",
     "output_type": "stream",
     "text": [
      "<function extract_symbols at 0x1050a4f70>\n"
     ]
    },
    {
     "data": {
      "text/plain": [
       "2024-11-08 09:45:15,507 fedbiomed INFO - \u001b[1mSending request\u001b[0m \n",
       "\t\t\t\t\t\u001b[1m To\u001b[0m: NODE_933f1657-1ddc-41b3-ba75-c20aad4aef89 \n",
       "\t\t\t\t\t\u001b[1m Request: \u001b[0m: TRAIN\n",
       " -----------------------------------------------------------------"
      ]
     },
     "metadata": {},
     "output_type": "display_data"
    },
    {
     "data": {
      "text/plain": [
       "2024-11-08 09:45:15,509 fedbiomed INFO - \u001b[1mSending request\u001b[0m \n",
       "\t\t\t\t\t\u001b[1m To\u001b[0m: NODE_46be388b-3c9b-4ede-9608-f99c519ae60b \n",
       "\t\t\t\t\t\u001b[1m Request: \u001b[0m: TRAIN\n",
       " -----------------------------------------------------------------"
      ]
     },
     "metadata": {},
     "output_type": "display_data"
    },
    {
     "data": {
      "text/plain": [
       "2024-11-08 09:45:15,548 fedbiomed DEBUG - Node: NODE_933f1657-1ddc-41b3-ba75-c20aad4aef89 polling for the tasks"
      ]
     },
     "metadata": {},
     "output_type": "display_data"
    },
    {
     "data": {
      "text/plain": [
       "2024-11-08 09:45:15,550 fedbiomed DEBUG - Node: NODE_46be388b-3c9b-4ede-9608-f99c519ae60b polling for the tasks"
      ]
     },
     "metadata": {},
     "output_type": "display_data"
    },
    {
     "data": {
      "text/plain": [
       "2024-11-08 09:45:15,725 fedbiomed INFO - \u001b[1mTRAINING\u001b[0m \n",
       "\t\t\t\t\t NODE_ID: NODE_46be388b-3c9b-4ede-9608-f99c519ae60b \n",
       "\t\t\t\t\t Round 1 Epoch: 1 | Iteration: 1/100 (1%) | Samples: 48/4800\n",
       " \t\t\t\t\t Loss: \u001b[1m2.303103\u001b[0m \n",
       "\t\t\t\t\t ---------"
      ]
     },
     "metadata": {},
     "output_type": "display_data"
    },
    {
     "data": {
      "text/plain": [
       "2024-11-08 09:45:15,726 fedbiomed INFO - \u001b[1mTRAINING\u001b[0m \n",
       "\t\t\t\t\t NODE_ID: NODE_933f1657-1ddc-41b3-ba75-c20aad4aef89 \n",
       "\t\t\t\t\t Round 1 Epoch: 1 | Iteration: 1/100 (1%) | Samples: 48/4800\n",
       " \t\t\t\t\t Loss: \u001b[1m2.315710\u001b[0m \n",
       "\t\t\t\t\t ---------"
      ]
     },
     "metadata": {},
     "output_type": "display_data"
    },
    {
     "data": {
      "text/plain": [
       "2024-11-08 09:45:16,116 fedbiomed INFO - \u001b[1mTRAINING\u001b[0m \n",
       "\t\t\t\t\t NODE_ID: NODE_933f1657-1ddc-41b3-ba75-c20aad4aef89 \n",
       "\t\t\t\t\t Round 1 Epoch: 1 | Iteration: 10/100 (10%) | Samples: 480/4800\n",
       " \t\t\t\t\t Loss: \u001b[1m1.536834\u001b[0m \n",
       "\t\t\t\t\t ---------"
      ]
     },
     "metadata": {},
     "output_type": "display_data"
    },
    {
     "data": {
      "text/plain": [
       "2024-11-08 09:45:16,120 fedbiomed INFO - \u001b[1mTRAINING\u001b[0m \n",
       "\t\t\t\t\t NODE_ID: NODE_46be388b-3c9b-4ede-9608-f99c519ae60b \n",
       "\t\t\t\t\t Round 1 Epoch: 1 | Iteration: 10/100 (10%) | Samples: 480/4800\n",
       " \t\t\t\t\t Loss: \u001b[1m1.330327\u001b[0m \n",
       "\t\t\t\t\t ---------"
      ]
     },
     "metadata": {},
     "output_type": "display_data"
    },
    {
     "data": {
      "text/plain": [
       "2024-11-08 09:45:16,587 fedbiomed INFO - \u001b[1mTRAINING\u001b[0m \n",
       "\t\t\t\t\t NODE_ID: NODE_933f1657-1ddc-41b3-ba75-c20aad4aef89 \n",
       "\t\t\t\t\t Round 1 Epoch: 1 | Iteration: 20/100 (20%) | Samples: 960/4800\n",
       " \t\t\t\t\t Loss: \u001b[1m0.743463\u001b[0m \n",
       "\t\t\t\t\t ---------"
      ]
     },
     "metadata": {},
     "output_type": "display_data"
    },
    {
     "data": {
      "text/plain": [
       "2024-11-08 09:45:16,588 fedbiomed INFO - \u001b[1mTRAINING\u001b[0m \n",
       "\t\t\t\t\t NODE_ID: NODE_46be388b-3c9b-4ede-9608-f99c519ae60b \n",
       "\t\t\t\t\t Round 1 Epoch: 1 | Iteration: 20/100 (20%) | Samples: 960/4800\n",
       " \t\t\t\t\t Loss: \u001b[1m0.800446\u001b[0m \n",
       "\t\t\t\t\t ---------"
      ]
     },
     "metadata": {},
     "output_type": "display_data"
    },
    {
     "data": {
      "text/plain": [
       "2024-11-08 09:45:16,953 fedbiomed INFO - \u001b[1mTRAINING\u001b[0m \n",
       "\t\t\t\t\t NODE_ID: NODE_933f1657-1ddc-41b3-ba75-c20aad4aef89 \n",
       "\t\t\t\t\t Round 1 Epoch: 1 | Iteration: 30/100 (30%) | Samples: 1440/4800\n",
       " \t\t\t\t\t Loss: \u001b[1m0.739626\u001b[0m \n",
       "\t\t\t\t\t ---------"
      ]
     },
     "metadata": {},
     "output_type": "display_data"
    },
    {
     "data": {
      "text/plain": [
       "2024-11-08 09:45:16,956 fedbiomed INFO - \u001b[1mTRAINING\u001b[0m \n",
       "\t\t\t\t\t NODE_ID: NODE_46be388b-3c9b-4ede-9608-f99c519ae60b \n",
       "\t\t\t\t\t Round 1 Epoch: 1 | Iteration: 30/100 (30%) | Samples: 1440/4800\n",
       " \t\t\t\t\t Loss: \u001b[1m0.546479\u001b[0m \n",
       "\t\t\t\t\t ---------"
      ]
     },
     "metadata": {},
     "output_type": "display_data"
    },
    {
     "data": {
      "text/plain": [
       "2024-11-08 09:45:17,350 fedbiomed INFO - \u001b[1mTRAINING\u001b[0m \n",
       "\t\t\t\t\t NODE_ID: NODE_933f1657-1ddc-41b3-ba75-c20aad4aef89 \n",
       "\t\t\t\t\t Round 1 Epoch: 1 | Iteration: 40/100 (40%) | Samples: 1920/4800\n",
       " \t\t\t\t\t Loss: \u001b[1m0.679128\u001b[0m \n",
       "\t\t\t\t\t ---------"
      ]
     },
     "metadata": {},
     "output_type": "display_data"
    },
    {
     "data": {
      "text/plain": [
       "2024-11-08 09:45:17,355 fedbiomed INFO - \u001b[1mTRAINING\u001b[0m \n",
       "\t\t\t\t\t NODE_ID: NODE_46be388b-3c9b-4ede-9608-f99c519ae60b \n",
       "\t\t\t\t\t Round 1 Epoch: 1 | Iteration: 40/100 (40%) | Samples: 1920/4800\n",
       " \t\t\t\t\t Loss: \u001b[1m0.904091\u001b[0m \n",
       "\t\t\t\t\t ---------"
      ]
     },
     "metadata": {},
     "output_type": "display_data"
    },
    {
     "data": {
      "text/plain": [
       "2024-11-08 09:45:17,732 fedbiomed INFO - \u001b[1mTRAINING\u001b[0m \n",
       "\t\t\t\t\t NODE_ID: NODE_46be388b-3c9b-4ede-9608-f99c519ae60b \n",
       "\t\t\t\t\t Round 1 Epoch: 1 | Iteration: 50/100 (50%) | Samples: 2400/4800\n",
       " \t\t\t\t\t Loss: \u001b[1m0.294478\u001b[0m \n",
       "\t\t\t\t\t ---------"
      ]
     },
     "metadata": {},
     "output_type": "display_data"
    },
    {
     "data": {
      "text/plain": [
       "2024-11-08 09:45:17,738 fedbiomed INFO - \u001b[1mTRAINING\u001b[0m \n",
       "\t\t\t\t\t NODE_ID: NODE_933f1657-1ddc-41b3-ba75-c20aad4aef89 \n",
       "\t\t\t\t\t Round 1 Epoch: 1 | Iteration: 50/100 (50%) | Samples: 2400/4800\n",
       " \t\t\t\t\t Loss: \u001b[1m0.527399\u001b[0m \n",
       "\t\t\t\t\t ---------"
      ]
     },
     "metadata": {},
     "output_type": "display_data"
    },
    {
     "data": {
      "text/plain": [
       "2024-11-08 09:45:18,173 fedbiomed INFO - \u001b[1mTRAINING\u001b[0m \n",
       "\t\t\t\t\t NODE_ID: NODE_933f1657-1ddc-41b3-ba75-c20aad4aef89 \n",
       "\t\t\t\t\t Round 1 Epoch: 1 | Iteration: 60/100 (60%) | Samples: 2880/4800\n",
       " \t\t\t\t\t Loss: \u001b[1m0.454452\u001b[0m \n",
       "\t\t\t\t\t ---------"
      ]
     },
     "metadata": {},
     "output_type": "display_data"
    },
    {
     "data": {
      "text/plain": [
       "2024-11-08 09:45:18,175 fedbiomed INFO - \u001b[1mTRAINING\u001b[0m \n",
       "\t\t\t\t\t NODE_ID: NODE_46be388b-3c9b-4ede-9608-f99c519ae60b \n",
       "\t\t\t\t\t Round 1 Epoch: 1 | Iteration: 60/100 (60%) | Samples: 2880/4800\n",
       " \t\t\t\t\t Loss: \u001b[1m0.366642\u001b[0m \n",
       "\t\t\t\t\t ---------"
      ]
     },
     "metadata": {},
     "output_type": "display_data"
    },
    {
     "data": {
      "text/plain": [
       "2024-11-08 09:45:18,557 fedbiomed INFO - \u001b[1mTRAINING\u001b[0m \n",
       "\t\t\t\t\t NODE_ID: NODE_46be388b-3c9b-4ede-9608-f99c519ae60b \n",
       "\t\t\t\t\t Round 1 Epoch: 1 | Iteration: 70/100 (70%) | Samples: 3360/4800\n",
       " \t\t\t\t\t Loss: \u001b[1m0.366709\u001b[0m \n",
       "\t\t\t\t\t ---------"
      ]
     },
     "metadata": {},
     "output_type": "display_data"
    },
    {
     "data": {
      "text/plain": [
       "2024-11-08 09:45:18,559 fedbiomed INFO - \u001b[1mTRAINING\u001b[0m \n",
       "\t\t\t\t\t NODE_ID: NODE_933f1657-1ddc-41b3-ba75-c20aad4aef89 \n",
       "\t\t\t\t\t Round 1 Epoch: 1 | Iteration: 70/100 (70%) | Samples: 3360/4800\n",
       " \t\t\t\t\t Loss: \u001b[1m0.334487\u001b[0m \n",
       "\t\t\t\t\t ---------"
      ]
     },
     "metadata": {},
     "output_type": "display_data"
    },
    {
     "data": {
      "text/plain": [
       "2024-11-08 09:45:18,933 fedbiomed INFO - \u001b[1mTRAINING\u001b[0m \n",
       "\t\t\t\t\t NODE_ID: NODE_46be388b-3c9b-4ede-9608-f99c519ae60b \n",
       "\t\t\t\t\t Round 1 Epoch: 1 | Iteration: 80/100 (80%) | Samples: 3840/4800\n",
       " \t\t\t\t\t Loss: \u001b[1m0.307973\u001b[0m \n",
       "\t\t\t\t\t ---------"
      ]
     },
     "metadata": {},
     "output_type": "display_data"
    },
    {
     "data": {
      "text/plain": [
       "2024-11-08 09:45:18,936 fedbiomed INFO - \u001b[1mTRAINING\u001b[0m \n",
       "\t\t\t\t\t NODE_ID: NODE_933f1657-1ddc-41b3-ba75-c20aad4aef89 \n",
       "\t\t\t\t\t Round 1 Epoch: 1 | Iteration: 80/100 (80%) | Samples: 3840/4800\n",
       " \t\t\t\t\t Loss: \u001b[1m0.572789\u001b[0m \n",
       "\t\t\t\t\t ---------"
      ]
     },
     "metadata": {},
     "output_type": "display_data"
    },
    {
     "data": {
      "text/plain": [
       "2024-11-08 09:45:19,292 fedbiomed INFO - \u001b[1mTRAINING\u001b[0m \n",
       "\t\t\t\t\t NODE_ID: NODE_46be388b-3c9b-4ede-9608-f99c519ae60b \n",
       "\t\t\t\t\t Round 1 Epoch: 1 | Iteration: 90/100 (90%) | Samples: 4320/4800\n",
       " \t\t\t\t\t Loss: \u001b[1m0.165697\u001b[0m \n",
       "\t\t\t\t\t ---------"
      ]
     },
     "metadata": {},
     "output_type": "display_data"
    },
    {
     "data": {
      "text/plain": [
       "2024-11-08 09:45:19,297 fedbiomed INFO - \u001b[1mTRAINING\u001b[0m \n",
       "\t\t\t\t\t NODE_ID: NODE_933f1657-1ddc-41b3-ba75-c20aad4aef89 \n",
       "\t\t\t\t\t Round 1 Epoch: 1 | Iteration: 90/100 (90%) | Samples: 4320/4800\n",
       " \t\t\t\t\t Loss: \u001b[1m0.323365\u001b[0m \n",
       "\t\t\t\t\t ---------"
      ]
     },
     "metadata": {},
     "output_type": "display_data"
    },
    {
     "data": {
      "text/plain": [
       "2024-11-08 09:45:19,664 fedbiomed INFO - \u001b[1mTRAINING\u001b[0m \n",
       "\t\t\t\t\t NODE_ID: NODE_933f1657-1ddc-41b3-ba75-c20aad4aef89 \n",
       "\t\t\t\t\t Round 1 Epoch: 1 | Iteration: 100/100 (100%) | Samples: 4800/4800\n",
       " \t\t\t\t\t Loss: \u001b[1m0.264104\u001b[0m \n",
       "\t\t\t\t\t ---------"
      ]
     },
     "metadata": {},
     "output_type": "display_data"
    },
    {
     "data": {
      "text/plain": [
       "2024-11-08 09:45:19,665 fedbiomed INFO - \u001b[1mTRAINING\u001b[0m \n",
       "\t\t\t\t\t NODE_ID: NODE_46be388b-3c9b-4ede-9608-f99c519ae60b \n",
       "\t\t\t\t\t Round 1 Epoch: 1 | Iteration: 100/100 (100%) | Samples: 4800/4800\n",
       " \t\t\t\t\t Loss: \u001b[1m0.271520\u001b[0m \n",
       "\t\t\t\t\t ---------"
      ]
     },
     "metadata": {},
     "output_type": "display_data"
    },
    {
     "data": {
      "text/plain": [
       "2024-11-08 09:45:19,702 fedbiomed INFO - Nodes that successfully reply in round 0 ['NODE_933f1657-1ddc-41b3-ba75-c20aad4aef89', 'NODE_46be388b-3c9b-4ede-9608-f99c519ae60b']"
      ]
     },
     "metadata": {},
     "output_type": "display_data"
    },
    {
     "name": "stdout",
     "output_type": "stream",
     "text": [
      "<function extract_symbols at 0x1050a4f70>\n"
     ]
    },
    {
     "data": {
      "text/plain": [
       "2024-11-08 09:45:19,716 fedbiomed DEBUG - Model file has been saved: /Users/scansiz/development/workdir/fbm-researcher/var/experiments/Experiment_0000/model_14dea328-787c-4afb-8fc8-a1cb722d897c.py"
      ]
     },
     "metadata": {},
     "output_type": "display_data"
    },
    {
     "data": {
      "text/plain": [
       "2024-11-08 09:45:19,719 fedbiomed INFO - breakpoint number 0 saved at /Users/scansiz/development/workdir/fbm-researcher/var/experiments/Experiment_0000/breakpoint_0000"
      ]
     },
     "metadata": {},
     "output_type": "display_data"
    },
    {
     "data": {
      "text/plain": [
       "2024-11-08 09:45:19,720 fedbiomed INFO - Sampled nodes in round 1 ['NODE_933f1657-1ddc-41b3-ba75-c20aad4aef89', 'NODE_46be388b-3c9b-4ede-9608-f99c519ae60b']"
      ]
     },
     "metadata": {},
     "output_type": "display_data"
    },
    {
     "name": "stdout",
     "output_type": "stream",
     "text": [
      "<function extract_symbols at 0x1050a4f70>\n"
     ]
    },
    {
     "data": {
      "text/plain": [
       "2024-11-08 09:45:19,721 fedbiomed INFO - \u001b[1mSending request\u001b[0m \n",
       "\t\t\t\t\t\u001b[1m To\u001b[0m: NODE_933f1657-1ddc-41b3-ba75-c20aad4aef89 \n",
       "\t\t\t\t\t\u001b[1m Request: \u001b[0m: TRAIN\n",
       " -----------------------------------------------------------------"
      ]
     },
     "metadata": {},
     "output_type": "display_data"
    },
    {
     "data": {
      "text/plain": [
       "2024-11-08 09:45:19,721 fedbiomed INFO - \u001b[1mSending request\u001b[0m \n",
       "\t\t\t\t\t\u001b[1m To\u001b[0m: NODE_46be388b-3c9b-4ede-9608-f99c519ae60b \n",
       "\t\t\t\t\t\u001b[1m Request: \u001b[0m: TRAIN\n",
       " -----------------------------------------------------------------"
      ]
     },
     "metadata": {},
     "output_type": "display_data"
    },
    {
     "data": {
      "text/plain": [
       "2024-11-08 09:45:19,739 fedbiomed DEBUG - Node: NODE_933f1657-1ddc-41b3-ba75-c20aad4aef89 polling for the tasks"
      ]
     },
     "metadata": {},
     "output_type": "display_data"
    },
    {
     "data": {
      "text/plain": [
       "2024-11-08 09:45:19,744 fedbiomed DEBUG - Node: NODE_46be388b-3c9b-4ede-9608-f99c519ae60b polling for the tasks"
      ]
     },
     "metadata": {},
     "output_type": "display_data"
    },
    {
     "data": {
      "text/plain": [
       "2024-11-08 09:45:19,890 fedbiomed INFO - \u001b[1mTRAINING\u001b[0m \n",
       "\t\t\t\t\t NODE_ID: NODE_933f1657-1ddc-41b3-ba75-c20aad4aef89 \n",
       "\t\t\t\t\t Round 2 Epoch: 1 | Iteration: 1/100 (1%) | Samples: 48/4800\n",
       " \t\t\t\t\t Loss: \u001b[1m0.145330\u001b[0m \n",
       "\t\t\t\t\t ---------"
      ]
     },
     "metadata": {},
     "output_type": "display_data"
    },
    {
     "data": {
      "text/plain": [
       "2024-11-08 09:45:19,904 fedbiomed INFO - \u001b[1mTRAINING\u001b[0m \n",
       "\t\t\t\t\t NODE_ID: NODE_46be388b-3c9b-4ede-9608-f99c519ae60b \n",
       "\t\t\t\t\t Round 2 Epoch: 1 | Iteration: 1/100 (1%) | Samples: 48/4800\n",
       " \t\t\t\t\t Loss: \u001b[1m0.277376\u001b[0m \n",
       "\t\t\t\t\t ---------"
      ]
     },
     "metadata": {},
     "output_type": "display_data"
    },
    {
     "data": {
      "text/plain": [
       "2024-11-08 09:45:20,257 fedbiomed INFO - \u001b[1mTRAINING\u001b[0m \n",
       "\t\t\t\t\t NODE_ID: NODE_933f1657-1ddc-41b3-ba75-c20aad4aef89 \n",
       "\t\t\t\t\t Round 2 Epoch: 1 | Iteration: 10/100 (10%) | Samples: 480/4800\n",
       " \t\t\t\t\t Loss: \u001b[1m0.153346\u001b[0m \n",
       "\t\t\t\t\t ---------"
      ]
     },
     "metadata": {},
     "output_type": "display_data"
    },
    {
     "data": {
      "text/plain": [
       "2024-11-08 09:45:20,277 fedbiomed INFO - \u001b[1mTRAINING\u001b[0m \n",
       "\t\t\t\t\t NODE_ID: NODE_46be388b-3c9b-4ede-9608-f99c519ae60b \n",
       "\t\t\t\t\t Round 2 Epoch: 1 | Iteration: 10/100 (10%) | Samples: 480/4800\n",
       " \t\t\t\t\t Loss: \u001b[1m0.594119\u001b[0m \n",
       "\t\t\t\t\t ---------"
      ]
     },
     "metadata": {},
     "output_type": "display_data"
    },
    {
     "data": {
      "text/plain": [
       "2024-11-08 09:45:20,648 fedbiomed INFO - \u001b[1mTRAINING\u001b[0m \n",
       "\t\t\t\t\t NODE_ID: NODE_933f1657-1ddc-41b3-ba75-c20aad4aef89 \n",
       "\t\t\t\t\t Round 2 Epoch: 1 | Iteration: 20/100 (20%) | Samples: 960/4800\n",
       " \t\t\t\t\t Loss: \u001b[1m0.139673\u001b[0m \n",
       "\t\t\t\t\t ---------"
      ]
     },
     "metadata": {},
     "output_type": "display_data"
    },
    {
     "data": {
      "text/plain": [
       "2024-11-08 09:45:20,681 fedbiomed INFO - \u001b[1mTRAINING\u001b[0m \n",
       "\t\t\t\t\t NODE_ID: NODE_46be388b-3c9b-4ede-9608-f99c519ae60b \n",
       "\t\t\t\t\t Round 2 Epoch: 1 | Iteration: 20/100 (20%) | Samples: 960/4800\n",
       " \t\t\t\t\t Loss: \u001b[1m0.196160\u001b[0m \n",
       "\t\t\t\t\t ---------"
      ]
     },
     "metadata": {},
     "output_type": "display_data"
    },
    {
     "data": {
      "text/plain": [
       "2024-11-08 09:45:21,086 fedbiomed INFO - \u001b[1mTRAINING\u001b[0m \n",
       "\t\t\t\t\t NODE_ID: NODE_933f1657-1ddc-41b3-ba75-c20aad4aef89 \n",
       "\t\t\t\t\t Round 2 Epoch: 1 | Iteration: 30/100 (30%) | Samples: 1440/4800\n",
       " \t\t\t\t\t Loss: \u001b[1m0.410729\u001b[0m \n",
       "\t\t\t\t\t ---------"
      ]
     },
     "metadata": {},
     "output_type": "display_data"
    },
    {
     "data": {
      "text/plain": [
       "2024-11-08 09:45:21,133 fedbiomed INFO - \u001b[1mTRAINING\u001b[0m \n",
       "\t\t\t\t\t NODE_ID: NODE_46be388b-3c9b-4ede-9608-f99c519ae60b \n",
       "\t\t\t\t\t Round 2 Epoch: 1 | Iteration: 30/100 (30%) | Samples: 1440/4800\n",
       " \t\t\t\t\t Loss: \u001b[1m0.148228\u001b[0m \n",
       "\t\t\t\t\t ---------"
      ]
     },
     "metadata": {},
     "output_type": "display_data"
    },
    {
     "data": {
      "text/plain": [
       "2024-11-08 09:45:21,478 fedbiomed INFO - \u001b[1mTRAINING\u001b[0m \n",
       "\t\t\t\t\t NODE_ID: NODE_933f1657-1ddc-41b3-ba75-c20aad4aef89 \n",
       "\t\t\t\t\t Round 2 Epoch: 1 | Iteration: 40/100 (40%) | Samples: 1920/4800\n",
       " \t\t\t\t\t Loss: \u001b[1m0.278409\u001b[0m \n",
       "\t\t\t\t\t ---------"
      ]
     },
     "metadata": {},
     "output_type": "display_data"
    },
    {
     "data": {
      "text/plain": [
       "2024-11-08 09:45:21,525 fedbiomed INFO - \u001b[1mTRAINING\u001b[0m \n",
       "\t\t\t\t\t NODE_ID: NODE_46be388b-3c9b-4ede-9608-f99c519ae60b \n",
       "\t\t\t\t\t Round 2 Epoch: 1 | Iteration: 40/100 (40%) | Samples: 1920/4800\n",
       " \t\t\t\t\t Loss: \u001b[1m0.190168\u001b[0m \n",
       "\t\t\t\t\t ---------"
      ]
     },
     "metadata": {},
     "output_type": "display_data"
    },
    {
     "data": {
      "text/plain": [
       "2024-11-08 09:45:21,856 fedbiomed INFO - \u001b[1mTRAINING\u001b[0m \n",
       "\t\t\t\t\t NODE_ID: NODE_933f1657-1ddc-41b3-ba75-c20aad4aef89 \n",
       "\t\t\t\t\t Round 2 Epoch: 1 | Iteration: 50/100 (50%) | Samples: 2400/4800\n",
       " \t\t\t\t\t Loss: \u001b[1m0.193891\u001b[0m \n",
       "\t\t\t\t\t ---------"
      ]
     },
     "metadata": {},
     "output_type": "display_data"
    },
    {
     "data": {
      "text/plain": [
       "2024-11-08 09:45:21,904 fedbiomed INFO - \u001b[1mTRAINING\u001b[0m \n",
       "\t\t\t\t\t NODE_ID: NODE_46be388b-3c9b-4ede-9608-f99c519ae60b \n",
       "\t\t\t\t\t Round 2 Epoch: 1 | Iteration: 50/100 (50%) | Samples: 2400/4800\n",
       " \t\t\t\t\t Loss: \u001b[1m0.174528\u001b[0m \n",
       "\t\t\t\t\t ---------"
      ]
     },
     "metadata": {},
     "output_type": "display_data"
    },
    {
     "data": {
      "text/plain": [
       "2024-11-08 09:45:22,213 fedbiomed INFO - \u001b[1mTRAINING\u001b[0m \n",
       "\t\t\t\t\t NODE_ID: NODE_933f1657-1ddc-41b3-ba75-c20aad4aef89 \n",
       "\t\t\t\t\t Round 2 Epoch: 1 | Iteration: 60/100 (60%) | Samples: 2880/4800\n",
       " \t\t\t\t\t Loss: \u001b[1m0.384290\u001b[0m \n",
       "\t\t\t\t\t ---------"
      ]
     },
     "metadata": {},
     "output_type": "display_data"
    },
    {
     "data": {
      "text/plain": [
       "2024-11-08 09:45:22,259 fedbiomed INFO - \u001b[1mTRAINING\u001b[0m \n",
       "\t\t\t\t\t NODE_ID: NODE_46be388b-3c9b-4ede-9608-f99c519ae60b \n",
       "\t\t\t\t\t Round 2 Epoch: 1 | Iteration: 60/100 (60%) | Samples: 2880/4800\n",
       " \t\t\t\t\t Loss: \u001b[1m0.161665\u001b[0m \n",
       "\t\t\t\t\t ---------"
      ]
     },
     "metadata": {},
     "output_type": "display_data"
    },
    {
     "data": {
      "text/plain": [
       "2024-11-08 09:45:22,591 fedbiomed INFO - \u001b[1mTRAINING\u001b[0m \n",
       "\t\t\t\t\t NODE_ID: NODE_933f1657-1ddc-41b3-ba75-c20aad4aef89 \n",
       "\t\t\t\t\t Round 2 Epoch: 1 | Iteration: 70/100 (70%) | Samples: 3360/4800\n",
       " \t\t\t\t\t Loss: \u001b[1m0.108583\u001b[0m \n",
       "\t\t\t\t\t ---------"
      ]
     },
     "metadata": {},
     "output_type": "display_data"
    },
    {
     "data": {
      "text/plain": [
       "2024-11-08 09:45:22,635 fedbiomed INFO - \u001b[1mTRAINING\u001b[0m \n",
       "\t\t\t\t\t NODE_ID: NODE_46be388b-3c9b-4ede-9608-f99c519ae60b \n",
       "\t\t\t\t\t Round 2 Epoch: 1 | Iteration: 70/100 (70%) | Samples: 3360/4800\n",
       " \t\t\t\t\t Loss: \u001b[1m0.199949\u001b[0m \n",
       "\t\t\t\t\t ---------"
      ]
     },
     "metadata": {},
     "output_type": "display_data"
    },
    {
     "data": {
      "text/plain": [
       "2024-11-08 09:45:22,980 fedbiomed INFO - \u001b[1mTRAINING\u001b[0m \n",
       "\t\t\t\t\t NODE_ID: NODE_933f1657-1ddc-41b3-ba75-c20aad4aef89 \n",
       "\t\t\t\t\t Round 2 Epoch: 1 | Iteration: 80/100 (80%) | Samples: 3840/4800\n",
       " \t\t\t\t\t Loss: \u001b[1m0.088527\u001b[0m \n",
       "\t\t\t\t\t ---------"
      ]
     },
     "metadata": {},
     "output_type": "display_data"
    },
    {
     "data": {
      "text/plain": [
       "2024-11-08 09:45:23,004 fedbiomed INFO - \u001b[1mTRAINING\u001b[0m \n",
       "\t\t\t\t\t NODE_ID: NODE_46be388b-3c9b-4ede-9608-f99c519ae60b \n",
       "\t\t\t\t\t Round 2 Epoch: 1 | Iteration: 80/100 (80%) | Samples: 3840/4800\n",
       " \t\t\t\t\t Loss: \u001b[1m0.310526\u001b[0m \n",
       "\t\t\t\t\t ---------"
      ]
     },
     "metadata": {},
     "output_type": "display_data"
    },
    {
     "data": {
      "text/plain": [
       "2024-11-08 09:45:23,355 fedbiomed INFO - \u001b[1mTRAINING\u001b[0m \n",
       "\t\t\t\t\t NODE_ID: NODE_933f1657-1ddc-41b3-ba75-c20aad4aef89 \n",
       "\t\t\t\t\t Round 2 Epoch: 1 | Iteration: 90/100 (90%) | Samples: 4320/4800\n",
       " \t\t\t\t\t Loss: \u001b[1m0.123607\u001b[0m \n",
       "\t\t\t\t\t ---------"
      ]
     },
     "metadata": {},
     "output_type": "display_data"
    },
    {
     "data": {
      "text/plain": [
       "2024-11-08 09:45:23,373 fedbiomed INFO - \u001b[1mTRAINING\u001b[0m \n",
       "\t\t\t\t\t NODE_ID: NODE_46be388b-3c9b-4ede-9608-f99c519ae60b \n",
       "\t\t\t\t\t Round 2 Epoch: 1 | Iteration: 90/100 (90%) | Samples: 4320/4800\n",
       " \t\t\t\t\t Loss: \u001b[1m0.128585\u001b[0m \n",
       "\t\t\t\t\t ---------"
      ]
     },
     "metadata": {},
     "output_type": "display_data"
    },
    {
     "data": {
      "text/plain": [
       "2024-11-08 09:45:23,731 fedbiomed INFO - \u001b[1mTRAINING\u001b[0m \n",
       "\t\t\t\t\t NODE_ID: NODE_933f1657-1ddc-41b3-ba75-c20aad4aef89 \n",
       "\t\t\t\t\t Round 2 Epoch: 1 | Iteration: 100/100 (100%) | Samples: 4800/4800\n",
       " \t\t\t\t\t Loss: \u001b[1m0.236755\u001b[0m \n",
       "\t\t\t\t\t ---------"
      ]
     },
     "metadata": {},
     "output_type": "display_data"
    },
    {
     "data": {
      "text/plain": [
       "2024-11-08 09:45:23,745 fedbiomed INFO - \u001b[1mTRAINING\u001b[0m \n",
       "\t\t\t\t\t NODE_ID: NODE_46be388b-3c9b-4ede-9608-f99c519ae60b \n",
       "\t\t\t\t\t Round 2 Epoch: 1 | Iteration: 100/100 (100%) | Samples: 4800/4800\n",
       " \t\t\t\t\t Loss: \u001b[1m0.125582\u001b[0m \n",
       "\t\t\t\t\t ---------"
      ]
     },
     "metadata": {},
     "output_type": "display_data"
    },
    {
     "data": {
      "text/plain": [
       "2024-11-08 09:45:23,760 fedbiomed INFO - Nodes that successfully reply in round 1 ['NODE_933f1657-1ddc-41b3-ba75-c20aad4aef89', 'NODE_46be388b-3c9b-4ede-9608-f99c519ae60b']"
      ]
     },
     "metadata": {},
     "output_type": "display_data"
    },
    {
     "name": "stdout",
     "output_type": "stream",
     "text": [
      "<function extract_symbols at 0x1050a4f70>\n"
     ]
    },
    {
     "data": {
      "text/plain": [
       "2024-11-08 09:45:23,774 fedbiomed DEBUG - Model file has been saved: /Users/scansiz/development/workdir/fbm-researcher/var/experiments/Experiment_0000/model_94c360a5-e1d1-44ae-a589-07653aa471f5.py"
      ]
     },
     "metadata": {},
     "output_type": "display_data"
    },
    {
     "data": {
      "text/plain": [
       "2024-11-08 09:45:23,777 fedbiomed INFO - breakpoint number 1 saved at /Users/scansiz/development/workdir/fbm-researcher/var/experiments/Experiment_0000/breakpoint_0001"
      ]
     },
     "metadata": {},
     "output_type": "display_data"
    },
    {
     "data": {
      "text/plain": [
       "2"
      ]
     },
     "execution_count": 4,
     "metadata": {},
     "output_type": "execute_result"
    }
   ],
   "source": [
    "exp.run()"
   ]
  },
  {
   "cell_type": "code",
   "execution_count": 16,
   "metadata": {},
   "outputs": [
    {
     "data": {
      "text/plain": [
       "2024-11-04 17:25:10,383 fedbiomed DEBUG - found json file containing states at                breakpoint_0001.json"
      ]
     },
     "metadata": {},
     "output_type": "display_data"
    },
    {
     "name": "stdout",
     "output_type": "stream",
     "text": [
      "<function extract_symbols at 0x104f10550>\n"
     ]
    },
    {
     "data": {
      "text/plain": [
       "2024-11-04 17:25:10,393 fedbiomed DEBUG - Model file has been saved: /Users/scansiz/development/test/my-researcher/var/experiments/Experiment_0003/model_d9a490d2-46db-477c-8e10-15ca5425b3c2.py"
      ]
     },
     "metadata": {},
     "output_type": "display_data"
    },
    {
     "data": {
      "text/plain": [
       "2024-11-04 17:25:10,416 fedbiomed INFO - Experimentation reload from None successful!"
      ]
     },
     "metadata": {},
     "output_type": "display_data"
    }
   ],
   "source": [
    "loaded_exp = Experiment.load_breakpoint()"
   ]
  },
  {
   "cell_type": "code",
   "execution_count": null,
   "metadata": {},
   "outputs": [
    {
     "data": {
      "text/plain": [
       "2024-11-04 17:25:54,612 fedbiomed INFO - Sampled nodes in round 4 ['NODE_d59683b3-c090-46b8-8d84-625ec29eed8d', 'NODE_4238258b-586d-4ed7-9a7e-47c0b35dd9d6']"
      ]
     },
     "metadata": {},
     "output_type": "display_data"
    },
    {
     "name": "stdout",
     "output_type": "stream",
     "text": [
      "<function extract_symbols at 0x104f10550>\n"
     ]
    },
    {
     "data": {
      "text/plain": [
       "2024-11-04 17:25:54,617 fedbiomed INFO - \u001b[1mSending request\u001b[0m \n",
       "\t\t\t\t\t\u001b[1m To\u001b[0m: NODE_d59683b3-c090-46b8-8d84-625ec29eed8d \n",
       "\t\t\t\t\t\u001b[1m Request: \u001b[0m: TRAIN\n",
       " -----------------------------------------------------------------"
      ]
     },
     "metadata": {},
     "output_type": "display_data"
    },
    {
     "data": {
      "text/plain": [
       "2024-11-04 17:25:54,618 fedbiomed INFO - \u001b[1mSending request\u001b[0m \n",
       "\t\t\t\t\t\u001b[1m To\u001b[0m: NODE_4238258b-586d-4ed7-9a7e-47c0b35dd9d6 \n",
       "\t\t\t\t\t\u001b[1m Request: \u001b[0m: TRAIN\n",
       " -----------------------------------------------------------------"
      ]
     },
     "metadata": {},
     "output_type": "display_data"
    },
    {
     "data": {
      "text/plain": [
       "2024-11-04 17:25:54,659 fedbiomed DEBUG - Node: NODE_d59683b3-c090-46b8-8d84-625ec29eed8d polling for the tasks"
      ]
     },
     "metadata": {},
     "output_type": "display_data"
    },
    {
     "data": {
      "text/plain": [
       "2024-11-04 17:25:54,663 fedbiomed DEBUG - Node: NODE_4238258b-586d-4ed7-9a7e-47c0b35dd9d6 polling for the tasks"
      ]
     },
     "metadata": {},
     "output_type": "display_data"
    },
    {
     "data": {
      "text/plain": [
       "2024-11-04 17:25:54,723 fedbiomed INFO - \u001b[1mTRAINING\u001b[0m \n",
       "\t\t\t\t\t NODE_ID: NODE_d59683b3-c090-46b8-8d84-625ec29eed8d \n",
       "\t\t\t\t\t Round 5 Epoch: 1 | Iteration: 1/100 (1%) | Samples: 48/4800\n",
       " \t\t\t\t\t Loss: \u001b[1m0.070887\u001b[0m \n",
       "\t\t\t\t\t ---------"
      ]
     },
     "metadata": {},
     "output_type": "display_data"
    },
    {
     "data": {
      "text/plain": [
       "2024-11-04 17:25:54,733 fedbiomed INFO - \u001b[1mTRAINING\u001b[0m \n",
       "\t\t\t\t\t NODE_ID: NODE_4238258b-586d-4ed7-9a7e-47c0b35dd9d6 \n",
       "\t\t\t\t\t Round 5 Epoch: 1 | Iteration: 1/100 (1%) | Samples: 48/4800\n",
       " \t\t\t\t\t Loss: \u001b[1m0.130460\u001b[0m \n",
       "\t\t\t\t\t ---------"
      ]
     },
     "metadata": {},
     "output_type": "display_data"
    },
    {
     "data": {
      "text/plain": [
       "2024-11-04 17:25:55,064 fedbiomed INFO - \u001b[1mTRAINING\u001b[0m \n",
       "\t\t\t\t\t NODE_ID: NODE_d59683b3-c090-46b8-8d84-625ec29eed8d \n",
       "\t\t\t\t\t Round 5 Epoch: 1 | Iteration: 10/100 (10%) | Samples: 480/4800\n",
       " \t\t\t\t\t Loss: \u001b[1m0.035985\u001b[0m \n",
       "\t\t\t\t\t ---------"
      ]
     },
     "metadata": {},
     "output_type": "display_data"
    },
    {
     "data": {
      "text/plain": [
       "2024-11-04 17:25:55,072 fedbiomed INFO - \u001b[1mTRAINING\u001b[0m \n",
       "\t\t\t\t\t NODE_ID: NODE_4238258b-586d-4ed7-9a7e-47c0b35dd9d6 \n",
       "\t\t\t\t\t Round 5 Epoch: 1 | Iteration: 10/100 (10%) | Samples: 480/4800\n",
       " \t\t\t\t\t Loss: \u001b[1m0.046282\u001b[0m \n",
       "\t\t\t\t\t ---------"
      ]
     },
     "metadata": {},
     "output_type": "display_data"
    },
    {
     "data": {
      "text/plain": [
       "2024-11-04 17:25:55,461 fedbiomed INFO - \u001b[1mTRAINING\u001b[0m \n",
       "\t\t\t\t\t NODE_ID: NODE_d59683b3-c090-46b8-8d84-625ec29eed8d \n",
       "\t\t\t\t\t Round 5 Epoch: 1 | Iteration: 20/100 (20%) | Samples: 960/4800\n",
       " \t\t\t\t\t Loss: \u001b[1m0.043231\u001b[0m \n",
       "\t\t\t\t\t ---------"
      ]
     },
     "metadata": {},
     "output_type": "display_data"
    },
    {
     "data": {
      "text/plain": [
       "2024-11-04 17:25:55,462 fedbiomed INFO - \u001b[1mTRAINING\u001b[0m \n",
       "\t\t\t\t\t NODE_ID: NODE_4238258b-586d-4ed7-9a7e-47c0b35dd9d6 \n",
       "\t\t\t\t\t Round 5 Epoch: 1 | Iteration: 20/100 (20%) | Samples: 960/4800\n",
       " \t\t\t\t\t Loss: \u001b[1m0.082631\u001b[0m \n",
       "\t\t\t\t\t ---------"
      ]
     },
     "metadata": {},
     "output_type": "display_data"
    },
    {
     "data": {
      "text/plain": [
       "2024-11-04 17:25:55,855 fedbiomed INFO - \u001b[1mTRAINING\u001b[0m \n",
       "\t\t\t\t\t NODE_ID: NODE_4238258b-586d-4ed7-9a7e-47c0b35dd9d6 \n",
       "\t\t\t\t\t Round 5 Epoch: 1 | Iteration: 30/100 (30%) | Samples: 1440/4800\n",
       " \t\t\t\t\t Loss: \u001b[1m0.097936\u001b[0m \n",
       "\t\t\t\t\t ---------"
      ]
     },
     "metadata": {},
     "output_type": "display_data"
    },
    {
     "data": {
      "text/plain": [
       "2024-11-04 17:25:55,856 fedbiomed INFO - \u001b[1mTRAINING\u001b[0m \n",
       "\t\t\t\t\t NODE_ID: NODE_d59683b3-c090-46b8-8d84-625ec29eed8d \n",
       "\t\t\t\t\t Round 5 Epoch: 1 | Iteration: 30/100 (30%) | Samples: 1440/4800\n",
       " \t\t\t\t\t Loss: \u001b[1m0.176758\u001b[0m \n",
       "\t\t\t\t\t ---------"
      ]
     },
     "metadata": {},
     "output_type": "display_data"
    },
    {
     "data": {
      "text/plain": [
       "2024-11-04 17:25:56,246 fedbiomed INFO - \u001b[1mTRAINING\u001b[0m \n",
       "\t\t\t\t\t NODE_ID: NODE_d59683b3-c090-46b8-8d84-625ec29eed8d \n",
       "\t\t\t\t\t Round 5 Epoch: 1 | Iteration: 40/100 (40%) | Samples: 1920/4800\n",
       " \t\t\t\t\t Loss: \u001b[1m0.119879\u001b[0m \n",
       "\t\t\t\t\t ---------"
      ]
     },
     "metadata": {},
     "output_type": "display_data"
    },
    {
     "data": {
      "text/plain": [
       "2024-11-04 17:25:56,251 fedbiomed INFO - \u001b[1mTRAINING\u001b[0m \n",
       "\t\t\t\t\t NODE_ID: NODE_4238258b-586d-4ed7-9a7e-47c0b35dd9d6 \n",
       "\t\t\t\t\t Round 5 Epoch: 1 | Iteration: 40/100 (40%) | Samples: 1920/4800\n",
       " \t\t\t\t\t Loss: \u001b[1m0.030287\u001b[0m \n",
       "\t\t\t\t\t ---------"
      ]
     },
     "metadata": {},
     "output_type": "display_data"
    },
    {
     "data": {
      "text/plain": [
       "2024-11-04 17:25:56,606 fedbiomed INFO - \u001b[1mTRAINING\u001b[0m \n",
       "\t\t\t\t\t NODE_ID: NODE_d59683b3-c090-46b8-8d84-625ec29eed8d \n",
       "\t\t\t\t\t Round 5 Epoch: 1 | Iteration: 50/100 (50%) | Samples: 2400/4800\n",
       " \t\t\t\t\t Loss: \u001b[1m0.143194\u001b[0m \n",
       "\t\t\t\t\t ---------"
      ]
     },
     "metadata": {},
     "output_type": "display_data"
    },
    {
     "data": {
      "text/plain": [
       "2024-11-04 17:25:56,635 fedbiomed INFO - \u001b[1mTRAINING\u001b[0m \n",
       "\t\t\t\t\t NODE_ID: NODE_4238258b-586d-4ed7-9a7e-47c0b35dd9d6 \n",
       "\t\t\t\t\t Round 5 Epoch: 1 | Iteration: 50/100 (50%) | Samples: 2400/4800\n",
       " \t\t\t\t\t Loss: \u001b[1m0.137385\u001b[0m \n",
       "\t\t\t\t\t ---------"
      ]
     },
     "metadata": {},
     "output_type": "display_data"
    },
    {
     "data": {
      "text/plain": [
       "2024-11-04 17:25:56,964 fedbiomed INFO - \u001b[1mTRAINING\u001b[0m \n",
       "\t\t\t\t\t NODE_ID: NODE_d59683b3-c090-46b8-8d84-625ec29eed8d \n",
       "\t\t\t\t\t Round 5 Epoch: 1 | Iteration: 60/100 (60%) | Samples: 2880/4800\n",
       " \t\t\t\t\t Loss: \u001b[1m0.023109\u001b[0m \n",
       "\t\t\t\t\t ---------"
      ]
     },
     "metadata": {},
     "output_type": "display_data"
    },
    {
     "data": {
      "text/plain": [
       "2024-11-04 17:25:57,021 fedbiomed INFO - \u001b[1mTRAINING\u001b[0m \n",
       "\t\t\t\t\t NODE_ID: NODE_4238258b-586d-4ed7-9a7e-47c0b35dd9d6 \n",
       "\t\t\t\t\t Round 5 Epoch: 1 | Iteration: 60/100 (60%) | Samples: 2880/4800\n",
       " \t\t\t\t\t Loss: \u001b[1m0.068903\u001b[0m \n",
       "\t\t\t\t\t ---------"
      ]
     },
     "metadata": {},
     "output_type": "display_data"
    },
    {
     "data": {
      "text/plain": [
       "2024-11-04 17:25:57,357 fedbiomed INFO - \u001b[1mTRAINING\u001b[0m \n",
       "\t\t\t\t\t NODE_ID: NODE_d59683b3-c090-46b8-8d84-625ec29eed8d \n",
       "\t\t\t\t\t Round 5 Epoch: 1 | Iteration: 70/100 (70%) | Samples: 3360/4800\n",
       " \t\t\t\t\t Loss: \u001b[1m0.090915\u001b[0m \n",
       "\t\t\t\t\t ---------"
      ]
     },
     "metadata": {},
     "output_type": "display_data"
    },
    {
     "data": {
      "text/plain": [
       "2024-11-04 17:25:57,418 fedbiomed INFO - \u001b[1mTRAINING\u001b[0m \n",
       "\t\t\t\t\t NODE_ID: NODE_4238258b-586d-4ed7-9a7e-47c0b35dd9d6 \n",
       "\t\t\t\t\t Round 5 Epoch: 1 | Iteration: 70/100 (70%) | Samples: 3360/4800\n",
       " \t\t\t\t\t Loss: \u001b[1m0.131431\u001b[0m \n",
       "\t\t\t\t\t ---------"
      ]
     },
     "metadata": {},
     "output_type": "display_data"
    },
    {
     "data": {
      "text/plain": [
       "2024-11-04 17:25:57,731 fedbiomed INFO - \u001b[1mTRAINING\u001b[0m \n",
       "\t\t\t\t\t NODE_ID: NODE_d59683b3-c090-46b8-8d84-625ec29eed8d \n",
       "\t\t\t\t\t Round 5 Epoch: 1 | Iteration: 80/100 (80%) | Samples: 3840/4800\n",
       " \t\t\t\t\t Loss: \u001b[1m0.378437\u001b[0m \n",
       "\t\t\t\t\t ---------"
      ]
     },
     "metadata": {},
     "output_type": "display_data"
    },
    {
     "data": {
      "text/plain": [
       "2024-11-04 17:25:57,799 fedbiomed INFO - \u001b[1mTRAINING\u001b[0m \n",
       "\t\t\t\t\t NODE_ID: NODE_4238258b-586d-4ed7-9a7e-47c0b35dd9d6 \n",
       "\t\t\t\t\t Round 5 Epoch: 1 | Iteration: 80/100 (80%) | Samples: 3840/4800\n",
       " \t\t\t\t\t Loss: \u001b[1m0.039465\u001b[0m \n",
       "\t\t\t\t\t ---------"
      ]
     },
     "metadata": {},
     "output_type": "display_data"
    },
    {
     "data": {
      "text/plain": [
       "2024-11-04 17:25:58,119 fedbiomed INFO - \u001b[1mTRAINING\u001b[0m \n",
       "\t\t\t\t\t NODE_ID: NODE_d59683b3-c090-46b8-8d84-625ec29eed8d \n",
       "\t\t\t\t\t Round 5 Epoch: 1 | Iteration: 90/100 (90%) | Samples: 4320/4800\n",
       " \t\t\t\t\t Loss: \u001b[1m0.251992\u001b[0m \n",
       "\t\t\t\t\t ---------"
      ]
     },
     "metadata": {},
     "output_type": "display_data"
    },
    {
     "data": {
      "text/plain": [
       "2024-11-04 17:25:58,172 fedbiomed INFO - \u001b[1mTRAINING\u001b[0m \n",
       "\t\t\t\t\t NODE_ID: NODE_4238258b-586d-4ed7-9a7e-47c0b35dd9d6 \n",
       "\t\t\t\t\t Round 5 Epoch: 1 | Iteration: 90/100 (90%) | Samples: 4320/4800\n",
       " \t\t\t\t\t Loss: \u001b[1m0.124467\u001b[0m \n",
       "\t\t\t\t\t ---------"
      ]
     },
     "metadata": {},
     "output_type": "display_data"
    },
    {
     "data": {
      "text/plain": [
       "2024-11-04 17:25:58,522 fedbiomed INFO - \u001b[1mTRAINING\u001b[0m \n",
       "\t\t\t\t\t NODE_ID: NODE_d59683b3-c090-46b8-8d84-625ec29eed8d \n",
       "\t\t\t\t\t Round 5 Epoch: 1 | Iteration: 100/100 (100%) | Samples: 4800/4800\n",
       " \t\t\t\t\t Loss: \u001b[1m0.128850\u001b[0m \n",
       "\t\t\t\t\t ---------"
      ]
     },
     "metadata": {},
     "output_type": "display_data"
    },
    {
     "data": {
      "text/plain": [
       "2024-11-04 17:25:58,549 fedbiomed INFO - \u001b[1mTRAINING\u001b[0m \n",
       "\t\t\t\t\t NODE_ID: NODE_4238258b-586d-4ed7-9a7e-47c0b35dd9d6 \n",
       "\t\t\t\t\t Round 5 Epoch: 1 | Iteration: 100/100 (100%) | Samples: 4800/4800\n",
       " \t\t\t\t\t Loss: \u001b[1m0.092966\u001b[0m \n",
       "\t\t\t\t\t ---------"
      ]
     },
     "metadata": {},
     "output_type": "display_data"
    },
    {
     "data": {
      "text/plain": [
       "2024-11-04 17:25:58,564 fedbiomed INFO - Nodes that successfully reply in round 4 ['NODE_d59683b3-c090-46b8-8d84-625ec29eed8d', 'NODE_4238258b-586d-4ed7-9a7e-47c0b35dd9d6']"
      ]
     },
     "metadata": {},
     "output_type": "display_data"
    }
   ],
   "source": [
    "loaded_exp.run_once(increase=True)"
   ]
  },
  {
   "cell_type": "code",
   "execution_count": 22,
   "metadata": {},
   "outputs": [
    {
     "ename": "KeyError",
     "evalue": "'FEDBIOMED_RESEARCHER_COMPONENT_ROOT'",
     "output_type": "error",
     "traceback": [
      "\u001b[0;31m---------------------------------------------------------------------------\u001b[0m",
      "\u001b[0;31mKeyError\u001b[0m                                  Traceback (most recent call last)",
      "Cell \u001b[0;32mIn[22], line 2\u001b[0m\n\u001b[1;32m      1\u001b[0m \u001b[38;5;28;01mimport\u001b[39;00m \u001b[38;5;21;01mos\u001b[39;00m\n\u001b[0;32m----> 2\u001b[0m \u001b[43mos\u001b[49m\u001b[38;5;241;43m.\u001b[39;49m\u001b[43menviron\u001b[49m\u001b[43m[\u001b[49m\u001b[38;5;124;43m\"\u001b[39;49m\u001b[38;5;124;43mFEDBIOMED_RESEARCHER_COMPONENT_ROOT\u001b[39;49m\u001b[38;5;124;43m\"\u001b[39;49m\u001b[43m]\u001b[49m\n",
      "File \u001b[0;32m~/.pyenv/versions/3.10.15/lib/python3.10/os.py:680\u001b[0m, in \u001b[0;36m_Environ.__getitem__\u001b[0;34m(self, key)\u001b[0m\n\u001b[1;32m    677\u001b[0m     value \u001b[38;5;241m=\u001b[39m \u001b[38;5;28mself\u001b[39m\u001b[38;5;241m.\u001b[39m_data[\u001b[38;5;28mself\u001b[39m\u001b[38;5;241m.\u001b[39mencodekey(key)]\n\u001b[1;32m    678\u001b[0m \u001b[38;5;28;01mexcept\u001b[39;00m \u001b[38;5;167;01mKeyError\u001b[39;00m:\n\u001b[1;32m    679\u001b[0m     \u001b[38;5;66;03m# raise KeyError with the original key value\u001b[39;00m\n\u001b[0;32m--> 680\u001b[0m     \u001b[38;5;28;01mraise\u001b[39;00m \u001b[38;5;167;01mKeyError\u001b[39;00m(key) \u001b[38;5;28;01mfrom\u001b[39;00m \u001b[38;5;28;01mNone\u001b[39;00m\n\u001b[1;32m    681\u001b[0m \u001b[38;5;28;01mreturn\u001b[39;00m \u001b[38;5;28mself\u001b[39m\u001b[38;5;241m.\u001b[39mdecodevalue(value)\n",
      "\u001b[0;31mKeyError\u001b[0m: 'FEDBIOMED_RESEARCHER_COMPONENT_ROOT'"
     ]
    }
   ],
   "source": [
    "import os\n",
    "os.environ[\"FEDBIOMED_RESEARCHER_COMPONENT_ROOT\"]"
   ]
  },
  {
   "cell_type": "code",
   "execution_count": null,
   "metadata": {},
   "outputs": [],
   "source": [
    "exp.run_once(increase=True)"
   ]
  },
  {
   "cell_type": "markdown",
   "metadata": {},
   "source": [
    "Save trained model to file"
   ]
  },
  {
   "cell_type": "code",
   "execution_count": null,
   "metadata": {},
   "outputs": [],
   "source": [
    "exp.training_plan().export_model('./trained_model')"
   ]
  },
  {
   "cell_type": "markdown",
   "metadata": {},
   "source": [
    "#### Display results"
   ]
  },
  {
   "cell_type": "code",
   "execution_count": null,
   "metadata": {
    "pycharm": {
     "name": "#%%\n"
    }
   },
   "outputs": [],
   "source": [
    "print(\"\\nList the training rounds : \", exp.training_replies().keys())\n",
    "\n",
    "print(\"\\nList the nodes for the last training round and their timings : \")\n",
    "round_data = exp.training_replies()[rounds - 1]\n",
    "for r in round_data.values():\n",
    "    print(\"\\t- {id} :\\\n",
    "    \\n\\t\\trtime_training={rtraining:.2f} seconds\\\n",
    "    \\n\\t\\tptime_training={ptraining:.2f} seconds\\\n",
    "    \\n\\t\\trtime_total={rtotal:.2f} seconds\".format(id = r['node_id'],\n",
    "        rtraining = r['timing']['rtime_training'],\n",
    "        ptraining = r['timing']['ptime_training'],\n",
    "        rtotal = r['timing']['rtime_total']))\n",
    "print('\\n')"
   ]
  },
  {
   "cell_type": "markdown",
   "metadata": {},
   "source": [
    "Federated parameters for each round are available via `exp.aggregated_params()` (index 0 to (`rounds` - 1) ).\n",
    "\n",
    "For example you can view the federated parameters for the last round of the experiment :"
   ]
  },
  {
   "cell_type": "code",
   "execution_count": null,
   "metadata": {},
   "outputs": [],
   "source": [
    "print(\"\\nList the training rounds : \", exp.aggregated_params().keys())\n",
    "\n",
    "print(\"\\nAccess the federated params for the last training round :\")\n",
    "print(\"\\t- parameter data: \", exp.aggregated_params()[rounds - 1]['params'].keys())\n"
   ]
  }
 ],
 "metadata": {
  "kernelspec": {
   "display_name": "Python [conda env:fbm-dev] *",
   "language": "python",
   "name": "conda-env-fbm-dev-py"
  },
  "language_info": {
   "codemirror_mode": {
    "name": "ipython",
    "version": 3
   },
   "file_extension": ".py",
   "mimetype": "text/x-python",
   "name": "python",
   "nbconvert_exporter": "python",
   "pygments_lexer": "ipython3",
   "version": "3.10.0"
  }
 },
 "nbformat": 4,
 "nbformat_minor": 4
}
