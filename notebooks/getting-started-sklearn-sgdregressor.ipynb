{
 "cells": [
  {
   "cell_type": "markdown",
   "id": "64e87007",
   "metadata": {},
   "source": [
    "# Fedbiomed Researcher to train a federated scikit learn model."
   ]
  },
  {
   "cell_type": "markdown",
   "id": "92e17d2f",
   "metadata": {},
   "source": [
    "## Description of the exercise :"
   ]
  },
  {
   "cell_type": "markdown",
   "id": "fb782b14",
   "metadata": {},
   "source": [
    "Three datasets `n1.csv` , `n2.csv` and `n3.csv` will be generated randomly using a linear transformation A = [ 5 8 9 5 0 ].After this we will fit a Stochastic Gradient Regressor to approximate this transformation using Federated Learning."
   ]
  },
  {
   "cell_type": "markdown",
   "id": "f4cf562e",
   "metadata": {},
   "source": [
    "## Extending this notebook to any incremental learning scikit model:\n",
    "\n",
    "The same federated learning scheme below applies to any sklearn model supporting the method partial_fit():"
   ]
  },
  {
   "cell_type": "markdown",
   "id": "ed98bbac",
   "metadata": {},
   "source": [
    "A family of models could be naturally imported in Fed-BioMed, following the same approach. For example: \n",
    "- Naive Bayes.  \n",
    "- Logistic regression,\n",
    "- SVM/SVC (linear and non-linear), \n",
    "- perceptron, \n",
    "- KMeans, \n",
    "- incremental PCA, \n",
    "- mini batch dictionary learning, \n",
    "- latent Dirichlet annotation, "
   ]
  },
  {
   "cell_type": "markdown",
   "id": "11c0bc07",
   "metadata": {},
   "source": [
    "## Data Generation\n",
    "\n",
    "We will generate three datasets using the linear transformation A = [ 5 8 9 5 0 ]\n",
    "Then save them in a path of your choice on your machine."
   ]
  },
  {
   "cell_type": "code",
   "execution_count": null,
   "id": "b48f8c46",
   "metadata": {},
   "outputs": [],
   "source": [
    "import numpy as np"
   ]
  },
  {
   "cell_type": "code",
   "execution_count": null,
   "id": "d14ab247",
   "metadata": {},
   "outputs": [],
   "source": [
    "n_centers = 3\n",
    "n_samples, n_features = [10,20,50], 5\n",
    "testing_samples = 40\n",
    "\n",
    "### Creating a random dataset\n",
    "rng = np.random.RandomState(1)\n",
    "\n",
    "y = []\n",
    "X = []\n",
    "\n",
    "### Creating a random linear transformation\n",
    "A = np.array([5,8,9,5,0]).reshape([n_features,1])\n",
    "\n",
    "### For every center we create random X and y dataset with same generative rule (the matrix A)\n",
    "for i in range(n_centers):\n",
    "    X.append(rng.randn(n_samples[i], n_features).reshape([n_samples[i], n_features]))\n",
    "    y.append(X[i].dot(A) + rng.randn(n_samples[i]).reshape([n_samples[i],1]))\n",
    "\n",
    "### We use the same rule to generate an independent testing dataset\n",
    "X_test = rng.randn(testing_samples, n_features).reshape([testing_samples, n_features])\n",
    "y_test = X_test.dot(A) + rng.randn(testing_samples).reshape([testing_samples,1])"
   ]
  },
  {
   "cell_type": "code",
   "execution_count": null,
   "id": "e913729e",
   "metadata": {},
   "outputs": [],
   "source": [
    "A"
   ]
  },
  {
   "cell_type": "code",
   "execution_count": null,
   "id": "0cc289e5",
   "metadata": {},
   "outputs": [],
   "source": [
    "n1 = np.concatenate((X[0], y[0]), axis=1)\n",
    "np.savetxt('== Local path to node1.csv',n1,delimiter=',')"
   ]
  },
  {
   "cell_type": "code",
   "execution_count": null,
   "id": "422111cc",
   "metadata": {},
   "outputs": [],
   "source": [
    "n2 = np.concatenate((X[1], y[1]), axis=1)\n",
    "np.savetxt('== Local path to node2.csv',n2,delimiter=',')"
   ]
  },
  {
   "cell_type": "code",
   "execution_count": null,
   "id": "493a51ca",
   "metadata": {},
   "outputs": [],
   "source": [
    "n3 = np.concatenate((X[2], y[2]), axis=1)\n",
    "np.savetxt('== Local path to node3.csv',n3,delimiter=',')"
   ]
  },
  {
   "cell_type": "markdown",
   "id": "d39f160e",
   "metadata": {},
   "source": [
    "## Start the network and setting the client up\n",
    "Before running this notebook:\n",
    "1. You should start the network from fedbiomed-network, as detailed in :\n",
    "https://gitlab.inria.fr/fedbiomed/fedbiomed\n",
    "\n",
    "2. You need to configure at least 2 nodes: <br/>\n",
    "* **Node 1 :** `./scripts/fedbiomed_run node add`\n",
    "  * Select option 1 to add a csv file to the client\n",
    "  * Choose the name, tags and description of the dataset (you can write 'sk' always and it will be good)\n",
    "  * Pick the .csv file you stored the couple X[0],y[0].\n",
    "  * Check that your data has been added in node 1 by executing `./scripts/fedbiomed_run node list`\n",
    "  * Run the node using `./scripts/fedbiomed_run node start`. <br/>\n",
    "\n",
    "* **Node 2 :** Open a second terminal and run ./scripts/fedbiomed_run node add config n2.ini\n",
    "  * Select option 1 to add a csv file to the client\n",
    "  * Choose the name, tags and description of the dataset (you can write 'sk' always and it will be good)\n",
    "  * Pick the .csv file you stored the couple X[1],y[1].\n",
    "  * Check that your data has been added in node 2 by executing `./scripts/fedbiomed_run node config n2.ini list`\n",
    "  * Run the node using `./scripts/fedbiomed_run node config n2.ini start`.\n",
    "  \n",
    "* **Node 3 :** Open a third terminal and run ./scripts/fedbiomed_run node add config n3.ini\n",
    "  * Select option 1 to add a csv file to the client\n",
    "  * Choose the name, tags and description of the dataset (you can write 'sk' always and it will be good)\n",
    "  * Pick the .csv file you stored the couple X[2],y[2].\n",
    "  * Check that your data has been added in node 2 by executing `./scripts/fedbiomed_run node config n3.ini list`\n",
    "  * Run the node using `./scripts/fedbiomed_run node config n3.ini start `.\n",
    "\n",
    " Wait until you get `Connected with result code 0`. it means node is online.\n"
   ]
  },
  {
   "cell_type": "code",
   "execution_count": null,
   "id": "ade4cbea",
   "metadata": {},
   "outputs": [],
   "source": [
    "%load_ext autoreload\n",
    "%autoreload 2"
   ]
  },
  {
   "cell_type": "code",
   "execution_count": null,
   "id": "b8c80070",
   "metadata": {},
   "outputs": [],
   "source": [
    "import numpy as np\n",
    "from fedbiomed.researcher.environ import TMP_DIR\n",
    "import tempfile\n",
    "tmp_dir_model = tempfile.TemporaryDirectory(dir=TMP_DIR+'/')\n",
    "model_file = tmp_dir_model.name + '/fedbiosklearn.py'"
   ]
  },
  {
   "cell_type": "markdown",
   "id": "8e9aaa87",
   "metadata": {},
   "source": [
    "Hereafter the template of the class you should provide to Fedbiomed :\n",
    "\n",
    "**__init__** : we add here the needed sklearn libraries\n",
    "       \n",
    "**training_data** : you must return here the (X,y) that must be of the same type of \n",
    "your method partial_fit parameters. "
   ]
  },
  {
   "cell_type": "code",
   "execution_count": null,
   "id": "f10cc76c",
   "metadata": {},
   "outputs": [],
   "source": [
    "%%writefile \"$model_file\"\n",
    "\n",
    "from fedbiomed.common.fedbiosklearn import SGDSkLearnModel\n",
    "from sklearn.linear_model import SGDRegressor\n",
    "\n",
    "\n",
    "class SGDRegressorTrainingPlan(SGDSkLearnModel):\n",
    "    def __init__(self, kwargs):\n",
    "        super(SGDRegressorTrainingPlan, self).__init__(kwargs)\n",
    "        self.add_dependency([\"from sklearn.linear_model import SGDRegressor\"])\n",
    "    \n",
    "    def training_data(self):\n",
    "        NUMBER_COLS = 5\n",
    "        dataset = pd.read_csv(self.dataset_path,header=None,delimiter=',')\n",
    "        X = dataset.iloc[:,0:NUMBER_COLS].values\n",
    "        y = dataset.iloc[:,NUMBER_COLS]\n",
    "        return (X,y.values)\n",
    "    "
   ]
  },
  {
   "cell_type": "markdown",
   "id": "69cda129",
   "metadata": {},
   "source": [
    "**model_args** is a dictionary containing your model arguments, in case of SGDRegressor this will be max_iter and tol. n_features is provided to correctly initialize the SGDRegressor coef_ array.\n",
    "\n",
    "**training_args** is a dictionary with parameters related to Federated Learning. "
   ]
  },
  {
   "cell_type": "code",
   "execution_count": null,
   "id": "05aa5273",
   "metadata": {},
   "outputs": [],
   "source": [
    "model_args = { 'max_iter':1000, 'tol': 1e-3 , 'model': 'SGDRegressor' , 'n_features': 5}\n",
    "\n",
    "training_args = {\n",
    "    'epochs': 5, \n",
    "}"
   ]
  },
  {
   "cell_type": "code",
   "execution_count": null,
   "id": "4b1a1341",
   "metadata": {},
   "outputs": [],
   "source": [
    "from fedbiomed.researcher.experiment import Experiment\n",
    "from fedbiomed.researcher.aggregators.fedavg import FedAverage\n",
    "\n",
    "tags =  ['sk']\n",
    "rounds = 5\n",
    "\n",
    "# select nodes participing to this experiment\n",
    "exp = Experiment(tags=tags,\n",
    "                 #clients=None,\n",
    "                 model_path=model_file,\n",
    "                 model_args=model_args,\n",
    "                 model_class='SGDRegressorTrainingPlan',\n",
    "                 training_args=training_args,\n",
    "                 rounds=rounds,\n",
    "                 aggregator=FedAverage(),\n",
    "                 client_selection_strategy=None)"
   ]
  },
  {
   "cell_type": "code",
   "execution_count": null,
   "id": "d6ff55da",
   "metadata": {},
   "outputs": [],
   "source": [
    "# start federated training\n",
    "exp.run()"
   ]
  },
  {
   "cell_type": "markdown",
   "id": "88e2a782",
   "metadata": {},
   "source": [
    "## Lets build now a dataset test, **A** is the linear transformation that has been used to build the csv file training datasets."
   ]
  },
  {
   "cell_type": "code",
   "execution_count": null,
   "id": "35bdc3a2",
   "metadata": {},
   "outputs": [],
   "source": [
    "n_features = 5\n",
    "testing_samples = 40\n",
    "rng = np.random.RandomState(1)\n",
    "\n",
    "\n",
    "def test_data():\n",
    "    X_test = rng.randn(testing_samples, n_features).reshape([testing_samples, n_features])\n",
    "    y_test = X_test.dot(A) + rng.randn(testing_samples).reshape([testing_samples,1])\n",
    "    return X_test, y_test"
   ]
  },
  {
   "cell_type": "code",
   "execution_count": null,
   "id": "91f579d5",
   "metadata": {},
   "outputs": [],
   "source": [
    "from sklearn.linear_model import SGDRegressor"
   ]
  },
  {
   "cell_type": "code",
   "execution_count": null,
   "id": "05ca90a2",
   "metadata": {},
   "outputs": [],
   "source": [
    "X_test, y_test = test_data()"
   ]
  },
  {
   "cell_type": "markdown",
   "id": "63e6d380",
   "metadata": {},
   "source": [
    "The MSE should be decreasing at each iteration with the federated parameters.\n",
    "\n",
    "For that, we are exporting `exp.aggregated_params` containing models parameters collected at the end of each round"
   ]
  },
  {
   "cell_type": "code",
   "execution_count": null,
   "id": "6edb32ed",
   "metadata": {},
   "outputs": [],
   "source": [
    "testing_error = []\n",
    "\n",
    "for i in range(rounds):\n",
    "    fed_model = SGDRegressor(max_iter=1000, tol=1e-3)\n",
    "    fed_model.coef_ = exp.aggregated_params[i]['params']['coef_'].copy()\n",
    "    fed_model.intercept_ = exp.aggregated_params[i]['params']['intercept_'].copy()  \n",
    "    mse = np.mean((fed_model.predict(X_test).ravel() - y_test.ravel())**2)\n",
    "    print('MSE ', mse)\n",
    "    testing_error.append(mse)"
   ]
  },
  {
   "cell_type": "code",
   "execution_count": null,
   "id": "ddd8cf9e",
   "metadata": {},
   "outputs": [],
   "source": []
  }
 ],
 "metadata": {
  "kernelspec": {
   "display_name": "Python 3 (ipykernel)",
   "language": "python",
   "name": "python3"
  },
  "language_info": {
   "codemirror_mode": {
    "name": "ipython",
    "version": 3
   },
   "file_extension": ".py",
   "mimetype": "text/x-python",
   "name": "python",
   "nbconvert_exporter": "python",
   "pygments_lexer": "ipython3",
   "version": "3.9.7"
  }
 },
 "nbformat": 4,
 "nbformat_minor": 5
}
