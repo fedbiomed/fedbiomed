{
 "cells": [
  {
   "cell_type": "markdown",
   "id": "64e87007",
   "metadata": {},
   "source": [
    "# Fedbiomed Researcher to train a federated scikit learn model."
   ]
  },
  {
   "cell_type": "markdown",
   "id": "92e17d2f",
   "metadata": {},
   "source": [
    "## Purpose of the exercise :"
   ]
  },
  {
   "cell_type": "markdown",
   "id": "fb782b14",
   "metadata": {},
   "source": [
    "Three datasets n1.csv , n2.csv and n3.csv has been generated randomly using a linear transformation A = [ 5 8 9 5 0 ].\n",
    "We will fit a Stochastic Gradient Regressor to approximate this transformation using Federated Learning."
   ]
  },
  {
   "cell_type": "markdown",
   "id": "f4cf562e",
   "metadata": {},
   "source": [
    "## Extending this notebook to any incremental learning scikit model:\n",
    "\n",
    "The same federated learning scheme below applies to any sklearn model supporting the method partial_fit():"
   ]
  },
  {
   "cell_type": "markdown",
   "id": "ed98bbac",
   "metadata": {},
   "source": [
    "A family of models could be naturally imported in Fed-BioMed, following the same approach. For example: \n",
    "- Naive Bayes.  \n",
    "- Logistic regression,\n",
    "- SVC (linear and non-linear), \n",
    "- perceptron, \n",
    "- KMeans, \n",
    "- incremental PCA, \n",
    "- mini batch dictionary learning, \n",
    "- latent Dirichlet annotation, "
   ]
  },
  {
   "cell_type": "markdown",
   "id": "d39f160e",
   "metadata": {},
   "source": [
    "## Start the network and setting the client up\n",
    "Before running this notebook:\n",
    "1. You should start the network from fedbiomed-network, as detailed in :\n",
    "https://gitlab.inria.fr/fedbiomed/fedbiomed\n",
    "2. Download n1.csv, n2.csv and n3.csv to some place in your computer from https://gitlab.inria.fr/fedbiomed/fedbiomed/-/tree/develop/notebooks/data\n",
    "3. You need to configure at least 2 nodes: <br/>\n",
    "* **Node 1 :** `./scripts/fedbiomed_run node add`\n",
    "  * Select option 1 to add a csv file to the client\n",
    "  * Choose the name, tags and description of the dataset (you can write 'sk' always and it will be good)\n",
    "  * Pick the .csv file n1.csv .\n",
    "  * Check that your data has been added in node 1 by executing `./scripts/fedbiomed_run node list`\n",
    "  * Run the node using `./scripts/fedbiomed_run node start`. <br/>\n",
    "\n",
    "* **Node 2 :** Open a second terminal and run ./scripts/fedbiomed_run node add config n2.ini\n",
    "  * Select option 1 to add a csv file to the client\n",
    "  * Choose the name, tags and description of the dataset (you can write 'sk' always and it will be good)\n",
    "  * Pick the .csv file n2.csv .\n",
    "  * Check that your data has been added in node 2 by executing `./scripts/fedbiomed_run node list config n2.ini`\n",
    "  * Run the node using `./scripts/fedbiomed_run node start config n2.ini`.\n",
    "  \n",
    "* **Node 3 :** Open a second terminal and run ./scripts/fedbiomed_run node add config n3.ini\n",
    "  * Select option 1 to add a csv file to the client\n",
    "  * Choose the name, tags and description of the dataset (you can write 'sk' always and it will be good)\n",
    "  * Pick the .csv file n3.csv .\n",
    "  * Check that your data has been added in node 2 by executing `./scripts/fedbiomed_run node list config n3.ini`\n",
    "  * Run the node using `./scripts/fedbiomed_run node start config n3.ini`.\n",
    "\n",
    " Wait until you get `Connected with result code 0`. it means you are online.\n"
   ]
  },
  {
   "cell_type": "code",
   "execution_count": 1,
   "id": "ade4cbea",
   "metadata": {},
   "outputs": [],
   "source": [
    "%load_ext autoreload\n",
    "%autoreload 2"
   ]
  },
  {
   "cell_type": "code",
   "execution_count": 2,
   "id": "b8c80070",
   "metadata": {},
   "outputs": [],
   "source": [
    "import numpy as np\n",
    "from fedbiomed.researcher.environ import environ\n",
    "import tempfile\n",
    "tmp_dir_model = tempfile.TemporaryDirectory(dir=environ['TMP_DIR']+'/')\n",
    "model_file = tmp_dir_model.name + '/fedbiosklearn.py'"
   ]
  },
  {
   "cell_type": "markdown",
   "id": "8e9aaa87",
   "metadata": {},
   "source": [
    "Hereafter the template of the class you should provide to Fedbiomed :\n",
    "\n",
    "**after_training_params** : a dictionnary containing the model parameters. \n",
    "In SGDRegressor case we will have coef and intercept. For kmeans that will be cluster_center and labels.\n",
    "       \n",
    "**training_step** : the most part of the time, it will be the method partial_fit, \n",
    "of a scikit incremental learning model. You can uncomment the prints in order to check the evolution of training.\n",
    "       \n",
    "**training_data** : you must return here the (X,y) that must be of the same type of \n",
    "your method partial_fit parameters. To simplify we dont use batch_size here, but the code should work if you want to train on a specific batch of the dataset. \n",
    "\n",
    "You can uncomment the prints in order to check the evolution of training."
   ]
  },
  {
   "cell_type": "code",
   "execution_count": 3,
   "id": "f10cc76c",
   "metadata": {},
   "outputs": [
    {
     "name": "stdout",
     "output_type": "stream",
     "text": [
      "Writing /Users/mlorenzi/works/temp/fedbiomed/var/tmp/tmp_0f777hp/fedbiosklearn.py\n"
     ]
    }
   ],
   "source": [
    "%%writefile \"$model_file\"\n",
    "\n",
    "from fedbiomed.common.fedbiosklearn import SGDSkLearnModel\n",
    "from sklearn.linear_model import SGDRegressor\n",
    "from sklearn.linear_model import SGDClassifier\n",
    "import numpy as np\n",
    "\n",
    "class SKlearnTrainingPlan(SGDSkLearnModel):\n",
    "    def __init__(self, kwargs):\n",
    "        super(SKlearnTrainingPlan,self).__init__(kwargs)\n",
    "        self.set_model('SGDRegressor')\n",
    "        self.set_init_params({'coef_': np.zeros(4), 'intercept_' : [0.]})\n",
    "    \n",
    "    def training_data(self,batch_size=None):\n",
    "        NUMBER_COLS = 4\n",
    "        dataset = pd.read_csv(self.dataset_path,header=None,delimiter=',')\n",
    "        if batch_size == None:\n",
    "            X = dataset.iloc[:,0:NUMBER_COLS].values\n",
    "            y = dataset.iloc[:,NUMBER_COLS]\n",
    "        else:\n",
    "            X = dataset.iloc[0:batch_size,0:NUMBER_COLS].values\n",
    "            y = dataset.iloc[0:batch_size,NUMBER_COLS]\n",
    "        return (X,y.values)\n",
    "    "
   ]
  },
  {
   "cell_type": "markdown",
   "id": "69cda129",
   "metadata": {},
   "source": [
    "**model_args** is a dictionnary containing your model arguments, in case of SGDRegressor this will be max_iter and tol.\n",
    "\n",
    "**training_args** is a dictionnary with parameters , related to Federated Learning. "
   ]
  },
  {
   "cell_type": "code",
   "execution_count": 4,
   "id": "05aa5273",
   "metadata": {},
   "outputs": [],
   "source": [
    "model_args = { 'max_iter':1000, 'tol': 1e-3 , 'number_columns': 5 }\n",
    "\n",
    "training_args = {\n",
    "    'batch_size': None, \n",
    "    'lr': 1e-3, \n",
    "    'epochs': 5, \n",
    "    'dry_run': False,  \n",
    "    'batch_maxnum': 0\n",
    "}"
   ]
  },
  {
   "cell_type": "code",
   "execution_count": 5,
   "id": "4b1a1341",
   "metadata": {},
   "outputs": [
    {
     "name": "stdout",
     "output_type": "stream",
     "text": [
      "Messaging researcher_7ff5cf8a-41a4-4366-a48d-8ece2d9ab87a connected with result code 0\n",
      "Searching for clients with data tags: ['sk'] ...\n",
      "2021-08-25 14:26:19.368479 [ RESEARCHER ] message received. {'researcher_id': 'researcher_7ff5cf8a-41a4-4366-a48d-8ece2d9ab87a', 'success': True, 'databases': [{'name': 'sk', 'data_type': 'csv', 'tags': ['sk'], 'description': 'sk', 'shape': [49, 4], 'dataset_id': 'dataset_27db49ad-7f53-4235-bc16-c7bcd9090b9a'}], 'count': 1, 'node_id': 'client_947499f1-4f72-4dfa-b578-aeedf9cbf843', 'command': 'search'}\n",
      "2021-08-25 14:26:19.369748 [ RESEARCHER ] message received. {'researcher_id': 'researcher_7ff5cf8a-41a4-4366-a48d-8ece2d9ab87a', 'success': True, 'databases': [{'name': 'sk', 'data_type': 'csv', 'tags': ['sk'], 'description': 'sk', 'shape': [49, 4], 'dataset_id': 'dataset_24109b6b-3840-402d-819a-438ecb71c064'}], 'count': 1, 'node_id': 'client_8f83bb09-bd26-4d33-9621-6a4a17ec12da', 'command': 'search'}\n"
     ]
    }
   ],
   "source": [
    "from fedbiomed.researcher.experiment import Experiment\n",
    "from fedbiomed.researcher.aggregators.fedavg import FedAverage\n",
    "\n",
    "tags =  ['sk']\n",
    "rounds = 5\n",
    "\n",
    "exp = Experiment(tags=tags,\n",
    "                 #clients=None,\n",
    "                 model_path=model_file,\n",
    "                 model_args=model_args,\n",
    "                 model_class='SKlearnTrainingPlan',\n",
    "                 training_args=training_args,\n",
    "                 rounds=rounds,\n",
    "                 aggregator=FedAverage(),\n",
    "                 client_selection_strategy=None)"
   ]
  },
  {
   "cell_type": "code",
   "execution_count": 6,
   "id": "d6ff55da",
   "metadata": {},
   "outputs": [
    {
     "name": "stdout",
     "output_type": "stream",
     "text": [
      "Sampled clients in round  0   ['client_947499f1-4f72-4dfa-b578-aeedf9cbf843', 'client_8f83bb09-bd26-4d33-9621-6a4a17ec12da']\n",
      "[ RESEARCHER ] Send message to client  client_947499f1-4f72-4dfa-b578-aeedf9cbf843 {'researcher_id': 'researcher_7ff5cf8a-41a4-4366-a48d-8ece2d9ab87a', 'job_id': '80cc0f32-4643-4bfd-89db-c57112ddb7b5', 'training_args': {'batch_size': None, 'lr': 0.001, 'epochs': 5, 'dry_run': False, 'batch_maxnum': 0}, 'model_args': {'max_iter': 1000, 'tol': 0.001, 'number_columns': 5}, 'command': 'train', 'model_url': 'http://localhost:8844/media/uploads/2021/08/25/my_model_7115c271-0892-47a8-877c-5dd01e86ba64.py', 'params_url': 'http://localhost:8844/media/uploads/2021/08/25/my_model_59d659a7-e0ce-4519-8772-2ec5c46cdef8.pt', 'model_class': 'SKlearnTrainingPlan', 'training_data': {'client_947499f1-4f72-4dfa-b578-aeedf9cbf843': ['dataset_27db49ad-7f53-4235-bc16-c7bcd9090b9a']}}\n",
      "researcher_7ff5cf8a-41a4-4366-a48d-8ece2d9ab87a\n",
      "[ RESEARCHER ] Send message to client  client_8f83bb09-bd26-4d33-9621-6a4a17ec12da {'researcher_id': 'researcher_7ff5cf8a-41a4-4366-a48d-8ece2d9ab87a', 'job_id': '80cc0f32-4643-4bfd-89db-c57112ddb7b5', 'training_args': {'batch_size': None, 'lr': 0.001, 'epochs': 5, 'dry_run': False, 'batch_maxnum': 0}, 'model_args': {'max_iter': 1000, 'tol': 0.001, 'number_columns': 5}, 'command': 'train', 'model_url': 'http://localhost:8844/media/uploads/2021/08/25/my_model_7115c271-0892-47a8-877c-5dd01e86ba64.py', 'params_url': 'http://localhost:8844/media/uploads/2021/08/25/my_model_59d659a7-e0ce-4519-8772-2ec5c46cdef8.pt', 'model_class': 'SKlearnTrainingPlan', 'training_data': {'client_8f83bb09-bd26-4d33-9621-6a4a17ec12da': ['dataset_24109b6b-3840-402d-819a-438ecb71c064']}}\n",
      "researcher_7ff5cf8a-41a4-4366-a48d-8ece2d9ab87a\n",
      "2021-08-25 14:26:30.191479 [ RESEARCHER ] message received. {'researcher_id': 'researcher_7ff5cf8a-41a4-4366-a48d-8ece2d9ab87a', 'job_id': '80cc0f32-4643-4bfd-89db-c57112ddb7b5', 'success': True, 'node_id': 'client_947499f1-4f72-4dfa-b578-aeedf9cbf843', 'dataset_id': 'dataset_27db49ad-7f53-4235-bc16-c7bcd9090b9a', 'params_url': 'http://localhost:8844/media/uploads/2021/08/25/node_params_ccfabb4d-9b3e-4b25-849c-ffbbe41101af.pt', 'timing': {'rtime_training': 0.0030532900000252994, 'ptime_training': 0.003054000000000112}, 'msg': '', 'command': 'train'}\n",
      "2021-08-25 14:26:30.221669 [ RESEARCHER ] message received. {'researcher_id': 'researcher_7ff5cf8a-41a4-4366-a48d-8ece2d9ab87a', 'job_id': '80cc0f32-4643-4bfd-89db-c57112ddb7b5', 'success': True, 'node_id': 'client_8f83bb09-bd26-4d33-9621-6a4a17ec12da', 'dataset_id': 'dataset_24109b6b-3840-402d-819a-438ecb71c064', 'params_url': 'http://localhost:8844/media/uploads/2021/08/25/node_params_83f022fd-2502-4454-a46b-086839950a62.pt', 'timing': {'rtime_training': 0.0030963509999537564, 'ptime_training': 0.0030929999999997904}, 'msg': '', 'command': 'train'}\n",
      "Downloading model params after training on  client_947499f1-4f72-4dfa-b578-aeedf9cbf843 \n",
      "\t- from http://localhost:8844/media/uploads/2021/08/25/node_params_ccfabb4d-9b3e-4b25-849c-ffbbe41101af.pt\n",
      "Downloading model params after training on  client_8f83bb09-bd26-4d33-9621-6a4a17ec12da \n",
      "\t- from http://localhost:8844/media/uploads/2021/08/25/node_params_83f022fd-2502-4454-a46b-086839950a62.pt\n",
      "Clients that successfully reply in round  0   ['client_947499f1-4f72-4dfa-b578-aeedf9cbf843', 'client_8f83bb09-bd26-4d33-9621-6a4a17ec12da']\n",
      "Sampled clients in round  1   ['client_947499f1-4f72-4dfa-b578-aeedf9cbf843', 'client_8f83bb09-bd26-4d33-9621-6a4a17ec12da']\n",
      "[ RESEARCHER ] Send message to client  client_947499f1-4f72-4dfa-b578-aeedf9cbf843 {'researcher_id': 'researcher_7ff5cf8a-41a4-4366-a48d-8ece2d9ab87a', 'job_id': '80cc0f32-4643-4bfd-89db-c57112ddb7b5', 'training_args': {'batch_size': None, 'lr': 0.001, 'epochs': 5, 'dry_run': False, 'batch_maxnum': 0}, 'model_args': {'max_iter': 1000, 'tol': 0.001, 'number_columns': 5}, 'command': 'train', 'model_url': 'http://localhost:8844/media/uploads/2021/08/25/my_model_7115c271-0892-47a8-877c-5dd01e86ba64.py', 'params_url': 'http://localhost:8844/media/uploads/2021/08/25/researcher_params_20a69a55-2063-45f9-b7f8-d72cace85161.pt', 'model_class': 'SKlearnTrainingPlan', 'training_data': {'client_947499f1-4f72-4dfa-b578-aeedf9cbf843': ['dataset_27db49ad-7f53-4235-bc16-c7bcd9090b9a']}}\n",
      "researcher_7ff5cf8a-41a4-4366-a48d-8ece2d9ab87a\n",
      "[ RESEARCHER ] Send message to client  client_8f83bb09-bd26-4d33-9621-6a4a17ec12da {'researcher_id': 'researcher_7ff5cf8a-41a4-4366-a48d-8ece2d9ab87a', 'job_id': '80cc0f32-4643-4bfd-89db-c57112ddb7b5', 'training_args': {'batch_size': None, 'lr': 0.001, 'epochs': 5, 'dry_run': False, 'batch_maxnum': 0}, 'model_args': {'max_iter': 1000, 'tol': 0.001, 'number_columns': 5}, 'command': 'train', 'model_url': 'http://localhost:8844/media/uploads/2021/08/25/my_model_7115c271-0892-47a8-877c-5dd01e86ba64.py', 'params_url': 'http://localhost:8844/media/uploads/2021/08/25/researcher_params_20a69a55-2063-45f9-b7f8-d72cace85161.pt', 'model_class': 'SKlearnTrainingPlan', 'training_data': {'client_8f83bb09-bd26-4d33-9621-6a4a17ec12da': ['dataset_24109b6b-3840-402d-819a-438ecb71c064']}}\n",
      "researcher_7ff5cf8a-41a4-4366-a48d-8ece2d9ab87a\n",
      "2021-08-25 14:26:40.294023 [ RESEARCHER ] message received. {'researcher_id': 'researcher_7ff5cf8a-41a4-4366-a48d-8ece2d9ab87a', 'job_id': '80cc0f32-4643-4bfd-89db-c57112ddb7b5', 'success': True, 'node_id': 'client_8f83bb09-bd26-4d33-9621-6a4a17ec12da', 'dataset_id': 'dataset_24109b6b-3840-402d-819a-438ecb71c064', 'params_url': 'http://localhost:8844/media/uploads/2021/08/25/node_params_86c0b786-753b-4d6b-9e76-b12c08dca394.pt', 'timing': {'rtime_training': 0.003438590000030217, 'ptime_training': 0.0033919999999998396}, 'msg': '', 'command': 'train'}\n",
      "2021-08-25 14:26:40.329233 [ RESEARCHER ] message received. {'researcher_id': 'researcher_7ff5cf8a-41a4-4366-a48d-8ece2d9ab87a', 'job_id': '80cc0f32-4643-4bfd-89db-c57112ddb7b5', 'success': True, 'node_id': 'client_947499f1-4f72-4dfa-b578-aeedf9cbf843', 'dataset_id': 'dataset_27db49ad-7f53-4235-bc16-c7bcd9090b9a', 'params_url': 'http://localhost:8844/media/uploads/2021/08/25/node_params_b19bc66f-37b5-4647-8b59-88fa12669bd9.pt', 'timing': {'rtime_training': 0.003306200999986686, 'ptime_training': 0.0033009999999999984}, 'msg': '', 'command': 'train'}\n",
      "Downloading model params after training on  client_8f83bb09-bd26-4d33-9621-6a4a17ec12da \n",
      "\t- from http://localhost:8844/media/uploads/2021/08/25/node_params_86c0b786-753b-4d6b-9e76-b12c08dca394.pt\n",
      "Downloading model params after training on  client_947499f1-4f72-4dfa-b578-aeedf9cbf843 \n",
      "\t- from http://localhost:8844/media/uploads/2021/08/25/node_params_b19bc66f-37b5-4647-8b59-88fa12669bd9.pt\n",
      "Clients that successfully reply in round  1   ['client_8f83bb09-bd26-4d33-9621-6a4a17ec12da', 'client_947499f1-4f72-4dfa-b578-aeedf9cbf843']\n",
      "Sampled clients in round  2   ['client_947499f1-4f72-4dfa-b578-aeedf9cbf843', 'client_8f83bb09-bd26-4d33-9621-6a4a17ec12da']\n",
      "[ RESEARCHER ] Send message to client  client_947499f1-4f72-4dfa-b578-aeedf9cbf843 {'researcher_id': 'researcher_7ff5cf8a-41a4-4366-a48d-8ece2d9ab87a', 'job_id': '80cc0f32-4643-4bfd-89db-c57112ddb7b5', 'training_args': {'batch_size': None, 'lr': 0.001, 'epochs': 5, 'dry_run': False, 'batch_maxnum': 0}, 'model_args': {'max_iter': 1000, 'tol': 0.001, 'number_columns': 5}, 'command': 'train', 'model_url': 'http://localhost:8844/media/uploads/2021/08/25/my_model_7115c271-0892-47a8-877c-5dd01e86ba64.py', 'params_url': 'http://localhost:8844/media/uploads/2021/08/25/researcher_params_3624cc9a-6eb2-46f9-b77d-59b6e76c5ced.pt', 'model_class': 'SKlearnTrainingPlan', 'training_data': {'client_947499f1-4f72-4dfa-b578-aeedf9cbf843': ['dataset_27db49ad-7f53-4235-bc16-c7bcd9090b9a']}}\n",
      "researcher_7ff5cf8a-41a4-4366-a48d-8ece2d9ab87a\n",
      "[ RESEARCHER ] Send message to client  client_8f83bb09-bd26-4d33-9621-6a4a17ec12da {'researcher_id': 'researcher_7ff5cf8a-41a4-4366-a48d-8ece2d9ab87a', 'job_id': '80cc0f32-4643-4bfd-89db-c57112ddb7b5', 'training_args': {'batch_size': None, 'lr': 0.001, 'epochs': 5, 'dry_run': False, 'batch_maxnum': 0}, 'model_args': {'max_iter': 1000, 'tol': 0.001, 'number_columns': 5}, 'command': 'train', 'model_url': 'http://localhost:8844/media/uploads/2021/08/25/my_model_7115c271-0892-47a8-877c-5dd01e86ba64.py', 'params_url': 'http://localhost:8844/media/uploads/2021/08/25/researcher_params_3624cc9a-6eb2-46f9-b77d-59b6e76c5ced.pt', 'model_class': 'SKlearnTrainingPlan', 'training_data': {'client_8f83bb09-bd26-4d33-9621-6a4a17ec12da': ['dataset_24109b6b-3840-402d-819a-438ecb71c064']}}\n",
      "researcher_7ff5cf8a-41a4-4366-a48d-8ece2d9ab87a\n",
      "2021-08-25 14:26:50.356635 [ RESEARCHER ] message received. {'researcher_id': 'researcher_7ff5cf8a-41a4-4366-a48d-8ece2d9ab87a', 'job_id': '80cc0f32-4643-4bfd-89db-c57112ddb7b5', 'success': True, 'node_id': 'client_8f83bb09-bd26-4d33-9621-6a4a17ec12da', 'dataset_id': 'dataset_24109b6b-3840-402d-819a-438ecb71c064', 'params_url': 'http://localhost:8844/media/uploads/2021/08/25/node_params_278a2b50-0a59-4709-bc8c-4c9c16a9133e.pt', 'timing': {'rtime_training': 0.0035852770000133205, 'ptime_training': 0.0035850000000001714}, 'msg': '', 'command': 'train'}\n",
      "2021-08-25 14:26:50.384543 [ RESEARCHER ] message received. {'researcher_id': 'researcher_7ff5cf8a-41a4-4366-a48d-8ece2d9ab87a', 'job_id': '80cc0f32-4643-4bfd-89db-c57112ddb7b5', 'success': True, 'node_id': 'client_947499f1-4f72-4dfa-b578-aeedf9cbf843', 'dataset_id': 'dataset_27db49ad-7f53-4235-bc16-c7bcd9090b9a', 'params_url': 'http://localhost:8844/media/uploads/2021/08/25/node_params_82da8c97-b8ea-4f90-9455-8f5e9445b0c9.pt', 'timing': {'rtime_training': 0.0029781189999766866, 'ptime_training': 0.002978000000000147}, 'msg': '', 'command': 'train'}\n"
     ]
    },
    {
     "name": "stdout",
     "output_type": "stream",
     "text": [
      "Downloading model params after training on  client_8f83bb09-bd26-4d33-9621-6a4a17ec12da \n",
      "\t- from http://localhost:8844/media/uploads/2021/08/25/node_params_278a2b50-0a59-4709-bc8c-4c9c16a9133e.pt\n",
      "Downloading model params after training on  client_947499f1-4f72-4dfa-b578-aeedf9cbf843 \n",
      "\t- from http://localhost:8844/media/uploads/2021/08/25/node_params_82da8c97-b8ea-4f90-9455-8f5e9445b0c9.pt\n",
      "Clients that successfully reply in round  2   ['client_8f83bb09-bd26-4d33-9621-6a4a17ec12da', 'client_947499f1-4f72-4dfa-b578-aeedf9cbf843']\n",
      "Sampled clients in round  3   ['client_947499f1-4f72-4dfa-b578-aeedf9cbf843', 'client_8f83bb09-bd26-4d33-9621-6a4a17ec12da']\n",
      "[ RESEARCHER ] Send message to client  client_947499f1-4f72-4dfa-b578-aeedf9cbf843 {'researcher_id': 'researcher_7ff5cf8a-41a4-4366-a48d-8ece2d9ab87a', 'job_id': '80cc0f32-4643-4bfd-89db-c57112ddb7b5', 'training_args': {'batch_size': None, 'lr': 0.001, 'epochs': 5, 'dry_run': False, 'batch_maxnum': 0}, 'model_args': {'max_iter': 1000, 'tol': 0.001, 'number_columns': 5}, 'command': 'train', 'model_url': 'http://localhost:8844/media/uploads/2021/08/25/my_model_7115c271-0892-47a8-877c-5dd01e86ba64.py', 'params_url': 'http://localhost:8844/media/uploads/2021/08/25/researcher_params_95008a7b-dff9-484a-8160-97a2477d2076.pt', 'model_class': 'SKlearnTrainingPlan', 'training_data': {'client_947499f1-4f72-4dfa-b578-aeedf9cbf843': ['dataset_27db49ad-7f53-4235-bc16-c7bcd9090b9a']}}\n",
      "researcher_7ff5cf8a-41a4-4366-a48d-8ece2d9ab87a\n",
      "[ RESEARCHER ] Send message to client  client_8f83bb09-bd26-4d33-9621-6a4a17ec12da {'researcher_id': 'researcher_7ff5cf8a-41a4-4366-a48d-8ece2d9ab87a', 'job_id': '80cc0f32-4643-4bfd-89db-c57112ddb7b5', 'training_args': {'batch_size': None, 'lr': 0.001, 'epochs': 5, 'dry_run': False, 'batch_maxnum': 0}, 'model_args': {'max_iter': 1000, 'tol': 0.001, 'number_columns': 5}, 'command': 'train', 'model_url': 'http://localhost:8844/media/uploads/2021/08/25/my_model_7115c271-0892-47a8-877c-5dd01e86ba64.py', 'params_url': 'http://localhost:8844/media/uploads/2021/08/25/researcher_params_95008a7b-dff9-484a-8160-97a2477d2076.pt', 'model_class': 'SKlearnTrainingPlan', 'training_data': {'client_8f83bb09-bd26-4d33-9621-6a4a17ec12da': ['dataset_24109b6b-3840-402d-819a-438ecb71c064']}}\n",
      "researcher_7ff5cf8a-41a4-4366-a48d-8ece2d9ab87a\n",
      "2021-08-25 14:27:00.450454 [ RESEARCHER ] message received. {'researcher_id': 'researcher_7ff5cf8a-41a4-4366-a48d-8ece2d9ab87a', 'job_id': '80cc0f32-4643-4bfd-89db-c57112ddb7b5', 'success': True, 'node_id': 'client_947499f1-4f72-4dfa-b578-aeedf9cbf843', 'dataset_id': 'dataset_27db49ad-7f53-4235-bc16-c7bcd9090b9a', 'params_url': 'http://localhost:8844/media/uploads/2021/08/25/node_params_ee57f55c-762d-4d4f-974e-beaa4266019b.pt', 'timing': {'rtime_training': 0.0041463240000894075, 'ptime_training': 0.004094000000000264}, 'msg': '', 'command': 'train'}\n",
      "2021-08-25 14:27:00.478562 [ RESEARCHER ] message received. {'researcher_id': 'researcher_7ff5cf8a-41a4-4366-a48d-8ece2d9ab87a', 'job_id': '80cc0f32-4643-4bfd-89db-c57112ddb7b5', 'success': True, 'node_id': 'client_8f83bb09-bd26-4d33-9621-6a4a17ec12da', 'dataset_id': 'dataset_24109b6b-3840-402d-819a-438ecb71c064', 'params_url': 'http://localhost:8844/media/uploads/2021/08/25/node_params_0e9b4d10-afe3-4c46-8e71-1618b0d29e00.pt', 'timing': {'rtime_training': 0.0032529430000067805, 'ptime_training': 0.0032329999999998194}, 'msg': '', 'command': 'train'}\n",
      "Downloading model params after training on  client_947499f1-4f72-4dfa-b578-aeedf9cbf843 \n",
      "\t- from http://localhost:8844/media/uploads/2021/08/25/node_params_ee57f55c-762d-4d4f-974e-beaa4266019b.pt\n",
      "Downloading model params after training on  client_8f83bb09-bd26-4d33-9621-6a4a17ec12da \n",
      "\t- from http://localhost:8844/media/uploads/2021/08/25/node_params_0e9b4d10-afe3-4c46-8e71-1618b0d29e00.pt\n",
      "Clients that successfully reply in round  3   ['client_947499f1-4f72-4dfa-b578-aeedf9cbf843', 'client_8f83bb09-bd26-4d33-9621-6a4a17ec12da']\n",
      "Sampled clients in round  4   ['client_947499f1-4f72-4dfa-b578-aeedf9cbf843', 'client_8f83bb09-bd26-4d33-9621-6a4a17ec12da']\n",
      "[ RESEARCHER ] Send message to client  client_947499f1-4f72-4dfa-b578-aeedf9cbf843 {'researcher_id': 'researcher_7ff5cf8a-41a4-4366-a48d-8ece2d9ab87a', 'job_id': '80cc0f32-4643-4bfd-89db-c57112ddb7b5', 'training_args': {'batch_size': None, 'lr': 0.001, 'epochs': 5, 'dry_run': False, 'batch_maxnum': 0}, 'model_args': {'max_iter': 1000, 'tol': 0.001, 'number_columns': 5}, 'command': 'train', 'model_url': 'http://localhost:8844/media/uploads/2021/08/25/my_model_7115c271-0892-47a8-877c-5dd01e86ba64.py', 'params_url': 'http://localhost:8844/media/uploads/2021/08/25/researcher_params_89309d4e-ede9-4b1b-bf11-85f808bd63be.pt', 'model_class': 'SKlearnTrainingPlan', 'training_data': {'client_947499f1-4f72-4dfa-b578-aeedf9cbf843': ['dataset_27db49ad-7f53-4235-bc16-c7bcd9090b9a']}}\n",
      "researcher_7ff5cf8a-41a4-4366-a48d-8ece2d9ab87a\n",
      "[ RESEARCHER ] Send message to client  client_8f83bb09-bd26-4d33-9621-6a4a17ec12da {'researcher_id': 'researcher_7ff5cf8a-41a4-4366-a48d-8ece2d9ab87a', 'job_id': '80cc0f32-4643-4bfd-89db-c57112ddb7b5', 'training_args': {'batch_size': None, 'lr': 0.001, 'epochs': 5, 'dry_run': False, 'batch_maxnum': 0}, 'model_args': {'max_iter': 1000, 'tol': 0.001, 'number_columns': 5}, 'command': 'train', 'model_url': 'http://localhost:8844/media/uploads/2021/08/25/my_model_7115c271-0892-47a8-877c-5dd01e86ba64.py', 'params_url': 'http://localhost:8844/media/uploads/2021/08/25/researcher_params_89309d4e-ede9-4b1b-bf11-85f808bd63be.pt', 'model_class': 'SKlearnTrainingPlan', 'training_data': {'client_8f83bb09-bd26-4d33-9621-6a4a17ec12da': ['dataset_24109b6b-3840-402d-819a-438ecb71c064']}}\n",
      "researcher_7ff5cf8a-41a4-4366-a48d-8ece2d9ab87a\n",
      "2021-08-25 14:27:10.542640 [ RESEARCHER ] message received. {'researcher_id': 'researcher_7ff5cf8a-41a4-4366-a48d-8ece2d9ab87a', 'job_id': '80cc0f32-4643-4bfd-89db-c57112ddb7b5', 'success': True, 'node_id': 'client_947499f1-4f72-4dfa-b578-aeedf9cbf843', 'dataset_id': 'dataset_27db49ad-7f53-4235-bc16-c7bcd9090b9a', 'params_url': 'http://localhost:8844/media/uploads/2021/08/25/node_params_c3f26895-8043-4c17-95fd-6ad48bf6d1c1.pt', 'timing': {'rtime_training': 0.003154207000079623, 'ptime_training': 0.003155000000000019}, 'msg': '', 'command': 'train'}\n",
      "2021-08-25 14:27:10.571142 [ RESEARCHER ] message received. {'researcher_id': 'researcher_7ff5cf8a-41a4-4366-a48d-8ece2d9ab87a', 'job_id': '80cc0f32-4643-4bfd-89db-c57112ddb7b5', 'success': True, 'node_id': 'client_8f83bb09-bd26-4d33-9621-6a4a17ec12da', 'dataset_id': 'dataset_24109b6b-3840-402d-819a-438ecb71c064', 'params_url': 'http://localhost:8844/media/uploads/2021/08/25/node_params_f910e27a-4ce3-472c-ad99-7f25cf3c5a55.pt', 'timing': {'rtime_training': 0.003088209999987157, 'ptime_training': 0.00308699999999984}, 'msg': '', 'command': 'train'}\n",
      "Downloading model params after training on  client_947499f1-4f72-4dfa-b578-aeedf9cbf843 \n",
      "\t- from http://localhost:8844/media/uploads/2021/08/25/node_params_c3f26895-8043-4c17-95fd-6ad48bf6d1c1.pt\n",
      "Downloading model params after training on  client_8f83bb09-bd26-4d33-9621-6a4a17ec12da \n",
      "\t- from http://localhost:8844/media/uploads/2021/08/25/node_params_f910e27a-4ce3-472c-ad99-7f25cf3c5a55.pt\n",
      "Clients that successfully reply in round  4   ['client_947499f1-4f72-4dfa-b578-aeedf9cbf843', 'client_8f83bb09-bd26-4d33-9621-6a4a17ec12da']\n"
     ]
    }
   ],
   "source": [
    "exp.run()"
   ]
  },
  {
   "cell_type": "markdown",
   "id": "88e2a782",
   "metadata": {},
   "source": [
    "## Lets build now a dataset test, **A** is the linear transformation that has been used to build the csv file datasets."
   ]
  },
  {
   "cell_type": "code",
   "execution_count": null,
   "id": "35bdc3a2",
   "metadata": {},
   "outputs": [],
   "source": [
    "n_features = 5\n",
    "testing_samples = 40\n",
    "rng = np.random.RandomState(1)\n",
    "A = np.array([[5],\n",
    "       [8],\n",
    "       [9],\n",
    "       [5],\n",
    "       [0]])\n",
    "\n",
    "def test_data():\n",
    "    X_test = rng.randn(testing_samples, n_features).reshape([testing_samples, n_features])\n",
    "    y_test = X_test.dot(A) + rng.randn(testing_samples).reshape([testing_samples,1])\n",
    "    return X_test, y_test"
   ]
  },
  {
   "cell_type": "code",
   "execution_count": null,
   "id": "91f579d5",
   "metadata": {},
   "outputs": [],
   "source": [
    "from sklearn.linear_model import SGDRegressor"
   ]
  },
  {
   "cell_type": "code",
   "execution_count": null,
   "id": "05ca90a2",
   "metadata": {},
   "outputs": [],
   "source": [
    "X_test, y_test = test_data()"
   ]
  },
  {
   "cell_type": "markdown",
   "id": "63e6d380",
   "metadata": {},
   "source": [
    "The MSE should be decreasing at each iteration with the federated parameters."
   ]
  },
  {
   "cell_type": "code",
   "execution_count": null,
   "id": "6edb32ed",
   "metadata": {},
   "outputs": [],
   "source": [
    "testing_error = []\n",
    "\n",
    "for i in range(rounds):\n",
    "    fed_model = SGDRegressor(max_iter=1000, tol=1e-3)\n",
    "    fed_model.coef_ = exp._aggregated_params[i]['params']['coef_'].copy()\n",
    "    fed_model.intercept_ = exp._aggregated_params[i]['params']['intercept_'].copy()  \n",
    "    mse = np.mean((fed_model.predict(X_test).ravel() - y_test.ravel())**2)\n",
    "    print('MSE ', mse)\n",
    "    testing_error.append(mse)"
   ]
  },
  {
   "cell_type": "code",
   "execution_count": null,
   "id": "ddd8cf9e",
   "metadata": {},
   "outputs": [],
   "source": []
  },
  {
   "cell_type": "code",
   "execution_count": null,
   "id": "1d41fc6d",
   "metadata": {},
   "outputs": [],
   "source": []
  }
 ],
 "metadata": {
  "kernelspec": {
   "display_name": "Python 3",
   "language": "python",
   "name": "python3"
  },
  "language_info": {
   "codemirror_mode": {
    "name": "ipython",
    "version": 3
   },
   "file_extension": ".py",
   "mimetype": "text/x-python",
   "name": "python",
   "nbconvert_exporter": "python",
   "pygments_lexer": "ipython3",
   "version": "3.9.5"
  }
 },
 "nbformat": 4,
 "nbformat_minor": 5
}
